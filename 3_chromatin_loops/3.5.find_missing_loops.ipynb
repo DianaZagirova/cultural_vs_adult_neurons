{
 "cells": [
  {
   "cell_type": "code",
   "execution_count": 27,
   "id": "373071b3-718d-4cd5-be41-0bdf0e6f8d91",
   "metadata": {},
   "outputs": [],
   "source": [
    "import pandas as pd\n",
    "from tqdm import tqdm\n",
    "import os\n",
    "import json\n",
    "import seaborn as sns\n",
    "import cooler\n",
    "import bioframe\n",
    "import cooltools\n",
    "from os import listdir\n",
    "from os.path import isfile, join, basename\n",
    "from io import StringIO\n",
    "import json\n",
    "import warnings\n",
    "import math \n",
    "import numpy as np\n",
    "import matplotlib.pyplot as plt\n",
    "\n",
    "warnings.simplefilter(action='ignore')"
   ]
  },
  {
   "cell_type": "code",
   "execution_count": 2,
   "id": "8b1c6920-4621-45ad-95cb-e7140299c7a0",
   "metadata": {},
   "outputs": [
    {
     "data": {
      "text/plain": [
       "True"
      ]
     },
     "execution_count": 2,
     "metadata": {},
     "output_type": "execute_result"
    }
   ],
   "source": [
    "from dotenv import load_dotenv\n",
    "assert os.environ['CONDA_DEFAULT_ENV'] == \"cultures_hic\"\n",
    "load_dotenv()"
   ]
  },
  {
   "cell_type": "markdown",
   "id": "625206ee-fe84-43ba-924a-82c322204195",
   "metadata": {},
   "source": [
    "# 1. Preprare needed files"
   ]
  },
  {
   "cell_type": "code",
   "execution_count": 7,
   "id": "d7984d44-6aa4-4e27-9d3a-0726c0ca3cb3",
   "metadata": {},
   "outputs": [],
   "source": [
    "def get_hg38_arms():\n",
    "    hg38_chromsizes = bioframe.fetch_chromsizes('hg38')\n",
    "    hg38_cens = bioframe.fetch_centromeres('hg38')\n",
    "    hg38_arms = bioframe.make_chromarms(hg38_chromsizes, hg38_cens)\n",
    "    return hg38_arms[hg38_arms.chrom!='chrM'].reset_index(drop=True)\n",
    "\n",
    "\n",
    "def get_source2map(merged_bedpe_clf_2_filtered, maps2loops):\n",
    "    source2map = {}\n",
    "    for k in merged_bedpe_clf_2_filtered.source.unique():\n",
    "        name = k.split(\"_sampled_dots_final_\")[0]\n",
    "        map = [k for k,i in maps2loops.items() if name in i]\n",
    "        assert len(map) == 1\n",
    "        source2map[k] = map[0].split('/')[-1]\n",
    "    return source2map\n",
    "    "
   ]
  },
  {
   "cell_type": "code",
   "execution_count": 9,
   "id": "02140072-0968-41cd-8673-53c0e0584431",
   "metadata": {},
   "outputs": [],
   "source": [
    "path_to_maps = os.getenv('PATH_TO_MAPS')\n",
    "path_to_maps_expected = os.getenv('PATH_TO_EXPECTED_MAPS')\n",
    "path_to_loops_clusters_data = \"./loops_data/loops_clusters_data\""
   ]
  },
  {
   "cell_type": "code",
   "execution_count": 6,
   "id": "6571b89f-d439-4631-ad86-574f4291c060",
   "metadata": {},
   "outputs": [],
   "source": [
    "name_appender = \"\"\n",
    "save_name = \"loops_clustering_post_mortem_vs_iPSC_derived\"\n",
    "path_to_loops_clusters_data = \"./loops_data/loops_clusters_data\"\n",
    "merged_all_clusters = pd.read_pickle(f\"{path_to_loops_clusters_data}/{save_name}_calculated_clusters_all{name_appender}.pickle\")\n",
    "hg38_arms = get_hg38_arms() "
   ]
  },
  {
   "cell_type": "code",
   "execution_count": 8,
   "id": "69879c9d-4248-4c68-a6b9-ec086ac645e4",
   "metadata": {},
   "outputs": [],
   "source": [
    "maps2loops = json.load(open('./loops_data/maps2loops_mapping.json'))\n",
    "source2map = get_source2map(merged_all_clusters, maps2loops)\n",
    "sources = merged_all_clusters.source.unique()"
   ]
  },
  {
   "cell_type": "code",
   "execution_count": 10,
   "id": "b74283f5-bf28-4972-8723-11ff296b36f8",
   "metadata": {
    "collapsed": true,
    "jupyter": {
     "outputs_hidden": true
    }
   },
   "outputs": [
    {
     "name": "stdout",
     "output_type": "stream",
     "text": [
      "Tian2023_NeuNplus_sampled_dots_final_12000000maxloci_0.13fdr_15000res_small_NaN5_final_sorted_with_intensity_removed_duplicates_noHeader.bed Tian2023_NeuNplus.EN_IN.29_42_58_years.2000_cells.sampled_exact.mcool\n",
      "Zaghi2023_iPSC_NeuNplus_sampled_dots_final_12000000maxloci_0.13fdr_15000res_small_NaN5_final_sorted_with_intensity_removed_duplicates_noHeader.bed Zaghi2023_iPSC_NeuNplus.sampled_exact.mcool\n",
      "Wu2021_iPSC_NeuNplus_sampled_dots_final_12000000maxloci_0.13fdr_15000res_small_NaN5_final_sorted_with_intensity_removed_duplicates_noHeader.bed Wu2021_iPSC_NeuNplus.sampled_exact.mcool\n",
      "Rahman2023_iPSC_NeuNplus_CRISPRi_Scrambled_A_DpnII-HinfI_sampled_dots_final_12000000maxloci_0.13fdr_15000res_small_NaN5_final_sorted_with_intensity_removed_duplicates_noHeader.bed Rahman2023_iPSC_NeuNplus_CRISPRi_Scrambled_A_DpnII-HinfI.sampled_exact.mcool\n",
      "Rajarajan_iPSC_NeuNplus_sampled_dots_final_12000000maxloci_0.13fdr_15000res_small_NaN5_final_sorted_with_intensity_removed_duplicates_noHeader.bed Rajarajan_iPSC_NeuNplus.sampled_exact.mcool\n",
      "Pletenev2024_NeuNplus_sampled_dots_final_12000000maxloci_0.13fdr_15000res_small_NaN5_final_sorted_with_intensity_removed_duplicates_noHeader.bed Pletenev2024_NeuNplus.sampled_exact.mcool\n",
      "Heffel_adult_sampled_dots_final_12000000maxloci_0.13fdr_15000res_small_NaN5_final_sorted_with_intensity_removed_duplicates_noHeader.bed Heffel_adult.3056_cells.5kb.drop_diag.5kb.sampled_exact.mcool\n",
      "Rahman2023_NeuNplus_sampled_dots_final_12000000maxloci_0.13fdr_15000res_small_NaN5_final_sorted_with_intensity_removed_duplicates_noHeader.bed Rahman2023_NeuNplus.sampled_exact.mcool\n",
      "Our_data_iPSC_NeuNplus_sampled_dots_final_12000000maxloci_0.13fdr_15000res_small_NaN5_final_sorted_with_intensity_removed_duplicates_noHeader.bed Our_data_iPSC_NeuNplus.drop_diag.5kb.mcool.sampled_exact.mcool\n",
      "Ballerino2022_iPSC_NeuNplus_sampled_dots_final_12000000maxloci_0.13fdr_15000res_small_NaN5_final_sorted_with_intensity_removed_duplicates_noHeader.bed Ballerino2022_iPSC_NeuNplus.sampled_exact.mcool\n",
      "Li2022_iPSC_NeuNplus_sampled_dots_final_12000000maxloci_0.13fdr_15000res_small_NaN5_final_sorted_with_intensity_removed_duplicates_noHeader.bed Li2022_iPSC_NeuNplus.sampled_exact.mcool\n",
      "Hu2021_NeuNplus_sampled_dots_final_12000000maxloci_0.13fdr_15000res_small_NaN5_final_sorted_with_intensity_removed_duplicates_noHeader.bed Hu2021_NeuNplus.sampled_exact.mcool\n"
     ]
    }
   ],
   "source": [
    "maps_stored = {}\n",
    "for source in sources:\n",
    "    maps_stored[source] = {}\n",
    "    map_name = source2map[source]\n",
    "    print(source, map_name)\n",
    "    clr = cooler.Cooler(f'{path_to_maps}/{source2map[source]}::/resolutions/{15000}')\n",
    "    maps_stored[source]['clr'] = clr\n",
    "    reduced_maps2loops = source2map[source].split('.mcool', 0)[0]\n",
    "    maps_stored[source]['expected'] = pd.read_pickle(f'{path_to_maps_expected}/{reduced_maps2loops}_perChrArm.pickle')\n",
    "    "
   ]
  },
  {
   "cell_type": "markdown",
   "id": "9b0c0cae-bdb1-4148-9d7d-efc0c5f8c4c3",
   "metadata": {},
   "source": [
    "# 2. Identify params"
   ]
  },
  {
   "cell_type": "code",
   "execution_count": 17,
   "id": "1cb69fff-8381-414d-b79d-f1d00cbbe842",
   "metadata": {},
   "outputs": [],
   "source": [
    "def get_internal_and_not_internal(merged_all_clusters_source, source):\n",
    "    \"\"\"\n",
    "    Processes the merged clusters source data to separate internal and cluster-based calculations.\n",
    "\n",
    "    Parameters:\n",
    "    - merged_all_clusters_source (pd.DataFrame): DataFrame containing cluster source data.\n",
    "    - source (str): Identifier for the data source.\n",
    "\n",
    "    Returns:\n",
    "    Tuple[pd.DataFrame, pd.DataFrame]: A tuple containing DataFrames for internal calculations and cluster calculations.\n",
    "    \"\"\"\n",
    "    merged_all_clusters_source = merged_all_clusters_source[\n",
    "        ['chrom1', 'start1', 'end1', 'chrom2', 'start2', 'end2', 'calculation', 'cluster', 'source']\n",
    "    ].sort_values(['chrom1', 'start1', 'end1'])\n",
    "\n",
    "    cluster_df = merged_all_clusters_source[merged_all_clusters_source['calculation'] == \"from_cluster\"].copy()\n",
    "    \n",
    "    resolution_diff = set(cluster_df['end1'] - cluster_df['start1'])\n",
    "    if resolution_diff == {45000}:\n",
    "        adjustment_value = 15000\n",
    "        cluster_df['start1'] += adjustment_value\n",
    "        cluster_df['end1'] -= adjustment_value\n",
    "        cluster_df['start2'] += adjustment_value\n",
    "        cluster_df['end2'] -= adjustment_value\n",
    "    elif resolution_diff == {15000}:\n",
    "        print('All resolutions set to 15kb')\n",
    "    else:\n",
    "        raise ValueError('Not valid resolution')\n",
    "\n",
    "    internal_df = merged_all_clusters_source[merged_all_clusters_source['calculation'] != \"from_cluster\"]\n",
    "    \n",
    "    return internal_df, cluster_df\n",
    "\n",
    "def create_matrix_calculated(source, merged_all_clusters_cluster):\n",
    "    \"\"\"\n",
    "    Creates a matrix from the calculated pileup stack for a given source and cluster data.\n",
    "\n",
    "    Parameters:\n",
    "    - source (str): Identifier for the data source.\n",
    "    - merged_all_clusters_cluster (pd.DataFrame): DataFrame containing cluster data.\n",
    "\n",
    "    Returns:\n",
    "    Tuple[np.ndarray, np.ndarray]: A tuple containing the stack and the mean matrix.\n",
    "    \"\"\"\n",
    "    flank_size = 3 * 15_000  \n",
    "    stack = cooltools.pileup(\n",
    "        maps_stored[source]['clr'],\n",
    "        merged_all_clusters_cluster,\n",
    "        view_df=hg38_arms,\n",
    "        expected_df=maps_stored[source]['expected'],\n",
    "        flank=flank_size\n",
    "    )\n",
    "    \n",
    "    mean_matrix = np.nanmean(stack, axis=0)\n",
    "    return stack, mean_matrix"
   ]
  },
  {
   "cell_type": "code",
   "execution_count": 18,
   "id": "450c132b-4c58-432a-b570-8f598f475544",
   "metadata": {},
   "outputs": [],
   "source": [
    "def create_matrix_calculated_test_large_flank(source, merged_all_clusters_cluster, flank=10*15_000):    \n",
    "    stack = cooltools.pileup(maps_stored[source]['clr'], \n",
    "                             merged_all_clusters_cluster, \n",
    "                             view_df=hg38_arms, \n",
    "                             expected_df=maps_stored[source]['expected'], \n",
    "                             flank=flank)\n",
    "    \n",
    "    mtx = np.nanmean(stack, axis=0)\n",
    "    return mtx, stack\n",
    "\n",
    "def plot_loop(mtx_from_cluster, resolution = 15_000):    \n",
    "    flank=3*resolution\n",
    "    plt.imshow(\n",
    "        np.log2(mtx_from_cluster),\n",
    "        cmap='coolwarm')\n",
    "    \n",
    "    plt.colorbar(label = 'log2 mean obs/exp')\n",
    "    ticks_pixels = np.linspace(0, flank*2//resolution,5)\n",
    "    ticks_kbp = ((ticks_pixels-ticks_pixels[-1]/2)*resolution//1000).astype(int)\n",
    "    plt.xticks(ticks_pixels, ticks_kbp)\n",
    "    plt.yticks(ticks_pixels, ticks_kbp)\n",
    "    plt.xlabel('relative position, kbp')\n",
    "    plt.ylabel('relative position, kbp')    \n",
    "    plt.show()\n",
    "\n",
    "def get_ratio_3to3(stack_from_internal):\n",
    "    loops_ratios_internal = []\n",
    "    mean_central_all = []\n",
    "    for loop in stack_from_internal:\n",
    "        central_3x3 = loop[2:5, 2:5]\n",
    "        mean_central = np.mean(central_3x3)\n",
    "        arr_copy = loop.copy()\n",
    "        arr_copy[2:5, 2:5] = np.nan\n",
    "        mean_others = np.nanmean(arr_copy)\n",
    "        loops_ratios_internal.append(mean_central / mean_others)\n",
    "        mean_central_all.append(mean_central)\n",
    "    return loops_ratios_internal, mean_central_all"
   ]
  },
  {
   "cell_type": "code",
   "execution_count": 19,
   "id": "c0ababcc-7eb5-43b2-9971-1c0aa914fe1a",
   "metadata": {},
   "outputs": [
    {
     "name": "stdout",
     "output_type": "stream",
     "text": [
      "Tian2023_NeuNplus_sampled_dots_final_12000000maxloci_0.13fdr_15000res_small_NaN5_final_sorted_with_intensity_removed_duplicates_noHeader.bed\n",
      "All resolutions set to 15kb\n"
     ]
    }
   ],
   "source": [
    "source = merged_all_clusters.source.unique()[0]\n",
    "print(source)\n",
    "merged_all_clusters_source = merged_all_clusters[merged_all_clusters.source == source]\n",
    "merged_all_clusters_internal, merged_all_clusters_cluster = get_internal_and_not_internal(merged_all_clusters_source, source)"
   ]
  },
  {
   "cell_type": "code",
   "execution_count": 22,
   "id": "72194907-cc70-4bd8-ba41-41971fac2e30",
   "metadata": {},
   "outputs": [],
   "source": [
    "test_mtx_from_cluster, test_stack_cluster = create_matrix_calculated_test_large_flank(source, merged_all_clusters_cluster)\n",
    "test_mtx_from_internal, test_stack_internal = create_matrix_calculated_test_large_flank(source, merged_all_clusters_internal)"
   ]
  },
  {
   "cell_type": "code",
   "execution_count": 23,
   "id": "62116f2e-71a6-4424-8b7f-aa95fb06f1af",
   "metadata": {},
   "outputs": [],
   "source": [
    "new_df = merged_all_clusters_internal.copy()\n",
    "for chrom in new_df['chrom1'].unique().copy():\n",
    "    max_end1 = new_df[new_df['chrom1'] == chrom]['end1'].max()\n",
    "    max_end2 = new_df[new_df['chrom1'] == chrom]['end2'].max()\n",
    "    max_end = min(max_end1, max_end2)\n",
    "    \n",
    "    chrom_df = new_df[new_df['chrom1'] == chrom]\n",
    "    chrom_df['start1'] = np.random.randint(0, max_end - 15000, size=len(chrom_df)).copy()\n",
    "    chrom_df['start2'] = chrom_df['start1'] + np.random.randint(0, chrom_df['start2'].max() - chrom_df['start1'], size=len(chrom_df)).copy()\n",
    "    \n",
    "    chrom_df['end1'] = chrom_df['start1'] + 15000\n",
    "    chrom_df['end2'] = chrom_df['start2'] + 15000\n",
    "\n",
    "    chrom_df['end1'] = chrom_df['end1'].where(chrom_df['end1'] <= max_end1, max_end1).copy()\n",
    "    chrom_df['end2'] = chrom_df['end2'].where(chrom_df['end2'] <= max_end2, max_end2).copy()\n",
    "    \n",
    "    new_df.update(chrom_df)\n",
    "new_df.start1 = new_df.start1.astype(int)\n",
    "new_df.end1 = new_df.end1.astype(int)\n",
    "new_df.start2 = new_df.start2.astype(int)\n",
    "new_df.end2 = new_df.end2.astype(int)"
   ]
  },
  {
   "cell_type": "code",
   "execution_count": 25,
   "id": "67002923-a3ee-4ebb-9c5c-949cdee8e885",
   "metadata": {},
   "outputs": [],
   "source": [
    "stack_from_internal_permutated, mtx_from_internal_permutated = create_matrix_calculated(source, new_df)\n",
    "stack_from_cluster, mtx_from_cluster = create_matrix_calculated(source, merged_all_clusters_cluster)\n",
    "stack_from_internal, mtx_from_internal = create_matrix_calculated(source, merged_all_clusters_internal)\n"
   ]
  },
  {
   "cell_type": "code",
   "execution_count": 28,
   "id": "eb8b5878-03d7-41cf-96f9-b4d81d5b7e78",
   "metadata": {},
   "outputs": [
    {
     "data": {
      "image/png": "[encoded data removed]",
      "text/plain": [
       "<Figure size 640x480 with 2 Axes>"
      ]
     },
     "metadata": {},
     "output_type": "display_data"
    },
    {
     "data": {
      "image/png": "[encoded data removed]",
      "text/plain": [
       "<Figure size 640x480 with 2 Axes>"
      ]
     },
     "metadata": {},
     "output_type": "display_data"
    }
   ],
   "source": [
    "plot_loop(test_mtx_from_cluster)\n",
    "plot_loop(test_mtx_from_internal)"
   ]
  },
  {
   "cell_type": "code",
   "execution_count": 29,
   "id": "0526b8fb-57cf-4bb4-bee6-cb195774aabc",
   "metadata": {},
   "outputs": [],
   "source": [
    "loops_ratios_internal,mean_central_all =  get_ratio_3to3(stack_from_internal)\n",
    "loops_ratios_internal = [v for v in loops_ratios_internal if not math.isnan(v) and not math.isinf(v)]\n",
    "\n",
    "loops_ratios_cluster,mean_central_all =  get_ratio_3to3(stack_from_cluster)\n",
    "loops_ratios_cluster = [i for i in loops_ratios_cluster if not np.isnan(i)]\n",
    "\n",
    "loops_ratios_internal_perm, mean_central_all_perm =  get_ratio_3to3(stack_from_internal_permutated)\n",
    "loops_ratios_internal_perm = [v for v in loops_ratios_internal_perm if not math.isnan(v) and not math.isinf(v)]\n"
   ]
  },
  {
   "cell_type": "markdown",
   "id": "460fb88a-e5ea-4acf-b9dc-6accdbb3c5b0",
   "metadata": {},
   "source": [
    "# 3. Implement calculation"
   ]
  },
  {
   "cell_type": "code",
   "execution_count": 32,
   "id": "cc5b4b01-9bbc-4333-a0b6-1f2d8c4ad2bf",
   "metadata": {},
   "outputs": [],
   "source": [
    "def process_clusters(merged_all_clusters, save_name):\n",
    "    \"\"\"\n",
    "    Processes clusters from the merged data, calculates loop ratios,\n",
    "    and saves the results to a pickle file.\n",
    "\n",
    "    Args:\n",
    "        merged_all_clusters (pd.DataFrame): DataFrame containing the cluster data.\n",
    "        save_name (str): Base name for the output file.\n",
    "    \"\"\"\n",
    "    merged_all_clusters_concat_all = pd.DataFrame()\n",
    "    lower_values, lower_values_central = [], []\n",
    "\n",
    "    for source in tqdm(merged_all_clusters['source'].unique(), desc=\"Processing Sources\"):\n",
    "        print(f\"Processing source: {source}\")\n",
    "        \n",
    "        merged_all_clusters_source = merged_all_clusters[merged_all_clusters['source'] == source]\n",
    "\n",
    "        # Get internal and non-internal clusters\n",
    "        merged_all_clusters_internal, merged_all_clusters_cluster = get_internal_and_not_internal(merged_all_clusters_source, source)\n",
    "\n",
    "        stack_from_cluster, mtx_from_cluster = create_matrix_calculated(source, merged_all_clusters_cluster)\n",
    "        stack_from_internal, mtx_from_internal = create_matrix_calculated(source, merged_all_clusters_internal)\n",
    "\n",
    "        # Calculate loop ratios and means\n",
    "        loops_ratios_internal, mean_central_internal = get_ratio_3to3(stack_from_internal)\n",
    "        loops_ratios_cluster, mean_central_cluster = get_ratio_3to3(stack_from_cluster)\n",
    "\n",
    "        assert merged_all_clusters_internal['cluster'].nunique() == len(loops_ratios_internal) == len(stack_from_internal)\n",
    "        assert merged_all_clusters_cluster['cluster'].nunique() == len(loops_ratios_cluster) == len(stack_from_cluster)\n",
    "\n",
    "        # Calculate lower quantile values\n",
    "        loops_ratios_internal_for_calculation = [v for v in loops_ratios_internal if not math.isnan(v) and not math.isinf(v)]\n",
    "        lower_value = np.quantile(loops_ratios_internal_for_calculation, 0.1)\n",
    "        lower_values.append(lower_value)\n",
    "\n",
    "        mean_central_cluster_for_calculation = [v for v in mean_central_cluster if not math.isnan(v) and not math.isinf(v)]\n",
    "        lower_value_central = np.quantile(mean_central_cluster_for_calculation, 0.1)\n",
    "        lower_values_central.append(lower_value_central)\n",
    "\n",
    "        merged_all_clusters_internal['loop_ratio'] = loops_ratios_internal\n",
    "        merged_all_clusters_cluster['loop_ratio'] = loops_ratios_cluster\n",
    "        merged_all_clusters_internal['mean_central'] = mean_central_internal\n",
    "        merged_all_clusters_cluster['mean_central'] = mean_central_cluster\n",
    "\n",
    "        # Concatenate internal and cluster data\n",
    "        merged_all_clusters_concat = pd.concat([merged_all_clusters_internal, merged_all_clusters_cluster])\n",
    "        \n",
    "        assert merged_all_clusters_concat['cluster'].nunique() == merged_all_clusters_source['cluster'].nunique()\n",
    "        assert merged_all_clusters_concat.shape[0] == merged_all_clusters_source.shape[0]\n",
    "\n",
    "        merged_all_clusters_concat['is_loop_loop_ratio'] = merged_all_clusters_concat['loop_ratio'].apply(\n",
    "            lambda x: not pd.isna(x) and x > lower_value\n",
    "        )\n",
    "        merged_all_clusters_concat['is_loop_loop_central'] = merged_all_clusters_concat['mean_central'].apply(\n",
    "            lambda x: not pd.isna(x) and x > lower_value_central\n",
    "        )\n",
    "\n",
    "        merged_all_clusters_concat_all = pd.concat([merged_all_clusters_concat_all, merged_all_clusters_concat], ignore_index=True)\n",
    "\n",
    "    assert merged_all_clusters.shape[0] == merged_all_clusters_concat_all.shape[0]\n",
    "    output_path = f\"{path_to_loops_clusters_data}/{save_name}_calculated_clusters_all_withLoopNotation_withCentral.pickle\"\n",
    "    merged_all_clusters_concat_all.to_pickle(output_path)\n",
    "    print(f\"Data saved to {output_path}\")"
   ]
  },
  {
   "cell_type": "code",
   "execution_count": 33,
   "id": "bf697db5-ebe3-48e1-bca4-b19aa3960af5",
   "metadata": {},
   "outputs": [
    {
     "name": "stderr",
     "output_type": "stream",
     "text": [
      "Processing Sources:   0%|                                                                                                                         | 0/12 [00:00<?, ?it/s]"
     ]
    },
    {
     "name": "stdout",
     "output_type": "stream",
     "text": [
      "Processing source: Tian2023_NeuNplus_sampled_dots_final_12000000maxloci_0.13fdr_15000res_small_NaN5_final_sorted_with_intensity_removed_duplicates_noHeader.bed\n",
      "All resolutions set to 15kb\n"
     ]
    },
    {
     "name": "stderr",
     "output_type": "stream",
     "text": [
      "Processing Sources:   8%|█████████▍                                                                                                       | 1/12 [01:26<15:56, 86.93s/it]"
     ]
    },
    {
     "name": "stdout",
     "output_type": "stream",
     "text": [
      "Processing source: Zaghi2023_iPSC_NeuNplus_sampled_dots_final_12000000maxloci_0.13fdr_15000res_small_NaN5_final_sorted_with_intensity_removed_duplicates_noHeader.bed\n",
      "All resolutions set to 15kb\n"
     ]
    },
    {
     "name": "stderr",
     "output_type": "stream",
     "text": [
      "Processing Sources:  17%|██████████████████▊                                                                                              | 2/12 [02:40<13:08, 78.81s/it]"
     ]
    },
    {
     "name": "stdout",
     "output_type": "stream",
     "text": [
      "Processing source: Wu2021_iPSC_NeuNplus_sampled_dots_final_12000000maxloci_0.13fdr_15000res_small_NaN5_final_sorted_with_intensity_removed_duplicates_noHeader.bed\n",
      "All resolutions set to 15kb\n"
     ]
    },
    {
     "name": "stderr",
     "output_type": "stream",
     "text": [
      "Processing Sources:  25%|████████████████████████████▎                                                                                    | 3/12 [04:12<12:46, 85.20s/it]"
     ]
    },
    {
     "name": "stdout",
     "output_type": "stream",
     "text": [
      "Processing source: Rahman2023_iPSC_NeuNplus_CRISPRi_Scrambled_A_DpnII-HinfI_sampled_dots_final_12000000maxloci_0.13fdr_15000res_small_NaN5_final_sorted_with_intensity_removed_duplicates_noHeader.bed\n",
      "All resolutions set to 15kb\n"
     ]
    },
    {
     "name": "stderr",
     "output_type": "stream",
     "text": [
      "Processing Sources:  33%|█████████████████████████████████████▋                                                                           | 4/12 [05:41<11:31, 86.45s/it]"
     ]
    },
    {
     "name": "stdout",
     "output_type": "stream",
     "text": [
      "Processing source: Rajarajan_iPSC_NeuNplus_sampled_dots_final_12000000maxloci_0.13fdr_15000res_small_NaN5_final_sorted_with_intensity_removed_duplicates_noHeader.bed\n",
      "All resolutions set to 15kb\n"
     ]
    },
    {
     "name": "stderr",
     "output_type": "stream",
     "text": [
      "Processing Sources:  42%|███████████████████████████████████████████████                                                                  | 5/12 [07:12<10:16, 88.06s/it]"
     ]
    },
    {
     "name": "stdout",
     "output_type": "stream",
     "text": [
      "Processing source: Pletenev2024_NeuNplus_sampled_dots_final_12000000maxloci_0.13fdr_15000res_small_NaN5_final_sorted_with_intensity_removed_duplicates_noHeader.bed\n",
      "All resolutions set to 15kb\n"
     ]
    },
    {
     "name": "stderr",
     "output_type": "stream",
     "text": [
      "Processing Sources:  50%|████████████████████████████████████████████████████████▌                                                        | 6/12 [08:43<08:54, 89.15s/it]"
     ]
    },
    {
     "name": "stdout",
     "output_type": "stream",
     "text": [
      "Processing source: Heffel_adult_sampled_dots_final_12000000maxloci_0.13fdr_15000res_small_NaN5_final_sorted_with_intensity_removed_duplicates_noHeader.bed\n",
      "All resolutions set to 15kb\n"
     ]
    },
    {
     "name": "stderr",
     "output_type": "stream",
     "text": [
      "Processing Sources:  58%|█████████████████████████████████████████████████████████████████▉                                               | 7/12 [10:00<07:06, 85.23s/it]"
     ]
    },
    {
     "name": "stdout",
     "output_type": "stream",
     "text": [
      "Processing source: Rahman2023_NeuNplus_sampled_dots_final_12000000maxloci_0.13fdr_15000res_small_NaN5_final_sorted_with_intensity_removed_duplicates_noHeader.bed\n",
      "All resolutions set to 15kb\n"
     ]
    },
    {
     "name": "stderr",
     "output_type": "stream",
     "text": [
      "Processing Sources:  67%|███████████████████████████████████████████████████████████████████████████▎                                     | 8/12 [11:33<05:50, 87.57s/it]"
     ]
    },
    {
     "name": "stdout",
     "output_type": "stream",
     "text": [
      "Processing source: Our_data_iPSC_NeuNplus_sampled_dots_final_12000000maxloci_0.13fdr_15000res_small_NaN5_final_sorted_with_intensity_removed_duplicates_noHeader.bed\n",
      "All resolutions set to 15kb\n"
     ]
    },
    {
     "name": "stderr",
     "output_type": "stream",
     "text": [
      "Processing Sources:  75%|████████████████████████████████████████████████████████████████████████████████████▊                            | 9/12 [12:53<04:15, 85.30s/it]"
     ]
    },
    {
     "name": "stdout",
     "output_type": "stream",
     "text": [
      "Processing source: Ballerino2022_iPSC_NeuNplus_sampled_dots_final_12000000maxloci_0.13fdr_15000res_small_NaN5_final_sorted_with_intensity_removed_duplicates_noHeader.bed\n",
      "All resolutions set to 15kb\n"
     ]
    },
    {
     "name": "stderr",
     "output_type": "stream",
     "text": [
      "Processing Sources:  83%|█████████████████████████████████████████████████████████████████████████████████████████████▎                  | 10/12 [14:08<02:44, 82.05s/it]"
     ]
    },
    {
     "name": "stdout",
     "output_type": "stream",
     "text": [
      "Processing source: Li2022_iPSC_NeuNplus_sampled_dots_final_12000000maxloci_0.13fdr_15000res_small_NaN5_final_sorted_with_intensity_removed_duplicates_noHeader.bed\n",
      "All resolutions set to 15kb\n"
     ]
    },
    {
     "name": "stderr",
     "output_type": "stream",
     "text": [
      "Processing Sources:  92%|██████████████████████████████████████████████████████████████████████████████████████████████████████▋         | 11/12 [15:38<01:24, 84.57s/it]"
     ]
    },
    {
     "name": "stdout",
     "output_type": "stream",
     "text": [
      "Processing source: Hu2021_NeuNplus_sampled_dots_final_12000000maxloci_0.13fdr_15000res_small_NaN5_final_sorted_with_intensity_removed_duplicates_noHeader.bed\n",
      "All resolutions set to 15kb\n"
     ]
    },
    {
     "name": "stderr",
     "output_type": "stream",
     "text": [
      "Processing Sources: 100%|████████████████████████████████████████████████████████████████████████████████████████████████████████████████| 12/12 [17:02<00:00, 85.18s/it]"
     ]
    },
    {
     "name": "stdout",
     "output_type": "stream",
     "text": [
      "Data saved to ./loops_data/loops_clusters_data/loops_clustering_post_mortem_vs_iPSC_derived_calculated_clusters_all_withLoopNotation_withCentral.pickle\n"
     ]
    },
    {
     "name": "stderr",
     "output_type": "stream",
     "text": [
      "\n"
     ]
    }
   ],
   "source": [
    "save_name = 'loops_clustering_post_mortem_vs_iPSC_derived'\n",
    "process_clusters(merged_all_clusters, save_name)"
   ]
  },
  {
   "cell_type": "code",
   "execution_count": null,
   "id": "f8cec2cf-1799-432c-ab77-a3b76ef34df9",
   "metadata": {},
   "outputs": [],
   "source": []
  }
 ],
 "metadata": {
  "kernelspec": {
   "display_name": "Python 3 (ipykernel)",
   "language": "python",
   "name": "python3"
  },
  "language_info": {
   "codemirror_mode": {
    "name": "ipython",
    "version": 3
   },
   "file_extension": ".py",
   "mimetype": "text/x-python",
   "name": "python",
   "nbconvert_exporter": "python",
   "pygments_lexer": "ipython3",
   "version": "3.9.12"
  }
 },
 "nbformat": 4,
 "nbformat_minor": 5
}
