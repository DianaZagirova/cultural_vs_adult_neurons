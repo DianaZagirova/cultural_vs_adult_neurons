{
 "cells": [
  {
   "cell_type": "code",
   "execution_count": 1,
   "id": "9ffbaec9-fae2-4c95-8ee3-29c18309a17a",
   "metadata": {},
   "outputs": [],
   "source": [
    "import pandas as pd\n",
    "from scipy.spatial.distance import pdist, squareform\n",
    "from scipy.cluster.hierarchy import fclusterdata\n",
    "from scipy.spatial.distance import pdist, squareform\n",
    "import numpy as np\n",
    "from sklearn.cluster import DBSCAN\n",
    "from os import listdir\n",
    "from tqdm import tqdm\n",
    "import matplotlib.pyplot as plt\n",
    "from intervaltree import Interval, IntervalTree\n",
    "from collections import Counter\n",
    "from itertools import chain\n",
    "from tqdm import tqdm\n",
    "import os\n",
    "import glob\n",
    "import json\n",
    "import time\n",
    "import seaborn as sns\n",
    "import cooler\n",
    "import bioframe\n",
    "import cooltools\n",
    "from cooltools.lib.numutils import fill_diag\n",
    "from statsmodels.stats.multitest import multipletests\n",
    "from os import listdir\n",
    "from os.path import isfile, join, basename\n",
    "from io import StringIO\n",
    "import pickle\n",
    "from concurrent.futures import ProcessPoolExecutor, as_completed, ThreadPoolExecutor\n",
    "import warnings\n",
    "warnings.simplefilter(action='ignore', category=FutureWarning)\n",
    "\n",
    "### visualization on PCA\n",
    "from sklearn.preprocessing import StandardScaler\n",
    "from sklearn.decomposition import PCA\n",
    "import plotly.express as px\n",
    "from adjustText import adjust_text"
   ]
  },
  {
   "cell_type": "code",
   "execution_count": 2,
   "id": "22e640a6-d882-4747-9bae-d8ddbb51c83e",
   "metadata": {},
   "outputs": [
    {
     "data": {
      "text/plain": [
       "True"
      ]
     },
     "execution_count": 2,
     "metadata": {},
     "output_type": "execute_result"
    }
   ],
   "source": [
    "from dotenv import load_dotenv\n",
    "assert os.environ['CONDA_DEFAULT_ENV'] == \"cultures_hic\"\n",
    "load_dotenv()"
   ]
  },
  {
   "cell_type": "code",
   "execution_count": 3,
   "id": "862b4155-1675-4000-86f0-ee16a70fb0b4",
   "metadata": {},
   "outputs": [],
   "source": [
    "path_to_maps = os.getenv('PATH_TO_MAPS')"
   ]
  },
  {
   "cell_type": "markdown",
   "id": "9b50918b-3844-43a7-8e2e-624ed39ce535",
   "metadata": {},
   "source": [
    "## 1. Select files with loops layouts"
   ]
  },
  {
   "cell_type": "code",
   "execution_count": 4,
   "id": "a57a214d-56b5-4b2f-82f3-0f54e8f5732a",
   "metadata": {},
   "outputs": [],
   "source": [
    "def read_bedpe(file_path, no_header=False):\n",
    "    \"\"\"\n",
    "    The function reads BEDPE file and retains the standard fields\n",
    "    \"\"\"\n",
    "    columns = ['chr1', 'start1', 'end1', 'chr2', 'start2', 'end2']\n",
    "    if no_header:\n",
    "        df = pd.read_csv(file_path, sep='\\t', header=None)\n",
    "    else:\n",
    "        df = pd.read_csv(file_path, sep='\\t')\n",
    "    df['source'] = basename(file_path)\n",
    "    return df\n",
    "\n",
    "def process_chromosome(chrom, group, res, cluster_factor, dist_method, min_pts):\n",
    "    coords = group.iloc[:, [1, 4]].values.astype(int)\n",
    "    dist_matrix = squareform(pdist(coords, metric=dist_method))\n",
    "    clustering = DBSCAN(eps=int(res * cluster_factor), min_samples=min_pts, metric='precomputed').fit(dist_matrix)\n",
    "    group['cluster'] = clustering.labels_\n",
    "    return chrom, group\n",
    "    \n",
    "def merge_bedpe_parallel(bedpe_files, res=15000, cluster_factor=2.5, select_col='intensity_mean', dist_method='cityblock', min_pts=1, merge=False, no_header=False, ready_merged=False):\n",
    "    \"\"\"\n",
    "    The function identifies the clusters from BEDPE layout separated by 'cluster_factor' bins (counted from start1 A to start1 B)\n",
    "    \"\"\"\n",
    "    if not ready_merged:\n",
    "        with ProcessPoolExecutor(max_workers=10) as executor:\n",
    "            futures = [executor.submit(read_bedpe, file_path, no_header) for file_path in bedpe_files]\n",
    "            bedpe = pd.concat([future.result() for future in as_completed(futures)], ignore_index=True)\n",
    "    else:\n",
    "        bedpe = bedpe_files    \n",
    "    if not (bedpe.iloc[:, 0] == bedpe.iloc[:, 3]).all(): # Confirm that all comparisons are intrachromosomal\n",
    "        raise ValueError(\"All interactions must be intrachromosomal\")\n",
    "    chr_bedpe = {k: v for k, v in bedpe.groupby(bedpe.iloc[:, 0])}\n",
    "    \n",
    "    with ProcessPoolExecutor(max_workers=10) as executor:\n",
    "        futures = [executor.submit(process_chromosome, chrom, group, res, cluster_factor, dist_method, min_pts) for chrom, group in chr_bedpe.items()]\n",
    "        chr_bedpe = {chrom: group for chrom, group in [future.result() for future in as_completed(futures)]}\n",
    "\n",
    "    if merge:        \n",
    "        selected_bedpe = []\n",
    "        for chrom, group in chr_bedpe.items():\n",
    "            for cluster_id, cluster_group in group.groupby('cluster'):\n",
    "                if cluster_id == -1:  # Noise points\n",
    "                    selected_bedpe.append(cluster_group)\n",
    "                else:\n",
    "                    strongest_interaction = cluster_group[select_col].idxmax()\n",
    "                    selected_bedpe.append(cluster_group.loc[[strongest_interaction]])    \n",
    "        merged_bedpe = pd.concat(selected_bedpe, ignore_index=True)        \n",
    "        merged_bedpe = merged_bedpe.sort_values(by=['chr1', 'start1'])\n",
    "    else:\n",
    "        for chrom in chr_bedpe:\n",
    "            chr_bedpe[chrom]['cluster'] = [chrom + \"_\" + str(i) for i in chr_bedpe[chrom]['cluster']]\n",
    "        merged_bedpe = pd.concat(chr_bedpe.values(), ignore_index=True)\n",
    "    return bedpe, merged_bedpe\n",
    "\n"
   ]
  },
  {
   "cell_type": "code",
   "execution_count": 5,
   "id": "1e2cbd70-a523-4f0b-a81f-30cc5e8474ec",
   "metadata": {},
   "outputs": [],
   "source": [
    "def merge_bedpe(bedpe_files, res=15000, cluster_factor = 2.5, select_col='intensity_mean', dist_method='cityblock', min_pts=1, merge=False, no_header = False, ready_merged=False):\n",
    "    \"\"\"\n",
    "    The function identifies the clusters from BEDPE layout separated by 'cluster_factor' bins (counted from start1 A to start1 B)\n",
    "    \n",
    "    \"\"\"\n",
    "    \n",
    "    bedpe = []\n",
    "    columns = ['chr1', 'start1', 'end1', 'chr2', 'start2', 'end2']\n",
    "    if not ready_merged:\n",
    "        for file_path in bedpe_files:\n",
    "            if no_header:\n",
    "                df = pd.read_csv(file_path, sep='\\t', header = None)\n",
    "            else:\n",
    "                df = pd.read_csv(file_path, sep='\\t')\n",
    "            df['source'] = basename(file_path)\n",
    "            bedpe.append(df)\n",
    "       \n",
    "        bedpe = pd.concat(bedpe, ignore_index=True)\n",
    "    else:\n",
    "        bedpe = bedpe_files\n",
    "    # Confirm that all comparisons are intrachromosomal\n",
    "    if not (bedpe.iloc[:, 0] == bedpe.iloc[:, 3]).all():\n",
    "        raise ValueError(\"All interactions must be intrachromosomal\")\n",
    "    \n",
    "    # Split by chromosome\n",
    "    chr_bedpe = {k: v for k, v in bedpe.groupby(bedpe.iloc[:, 0])}\n",
    "    \n",
    "    # Calculate distance and cluster for each chromosome\n",
    "    for chrom in tqdm(chr_bedpe):\n",
    "        coords = chr_bedpe[chrom].iloc[:, [1, 4]].values.astype(int)\n",
    "        dist_matrix = squareform(pdist(coords, metric=dist_method))\n",
    "        clustering = DBSCAN(eps=int(res*cluster_factor), min_samples=min_pts, metric='precomputed').fit(dist_matrix)\n",
    "        chr_bedpe[chrom]['cluster'] = clustering.labels_        \n",
    "        \n",
    "    if merge:        \n",
    "        # Split by groups within each chromosome and select the strongest interaction\n",
    "        selected_bedpe = []\n",
    "        for chrom, group in chr_bedpe.items():\n",
    "            for cluster_id, cluster_group in group.groupby('cluster'):\n",
    "                if cluster_id == -1:  # Noise points\n",
    "                    selected_bedpe.append(cluster_group)\n",
    "                else:                    \n",
    "                    strongest_interaction = cluster_group[['intensity_mean']].idxmax().values[0]\n",
    "                    cluster_group = cluster_group[cluster_group.index==strongest_interaction]\n",
    "                    selected_bedpe.append(cluster_group)         \n",
    "        # Combine into a single DataFrame\n",
    "        merged_bedpe = pd.concat(selected_bedpe, ignore_index=True)        \n",
    "        # Sort result by start position\n",
    "        merged_bedpe = merged_bedpe.sort_values(by=[0, 1])\n",
    "    else:\n",
    "        for chrom in chr_bedpe:\n",
    "            chr_bedpe[chrom]['cluster'] = [chrom+\"_\"+str(i) for i in chr_bedpe[chrom]['cluster']]\n",
    "        merged_bedpe = pd.concat(chr_bedpe.values(), ignore_index=True)\n",
    "    return bedpe, merged_bedpe\n"
   ]
  },
  {
   "cell_type": "code",
   "execution_count": 8,
   "id": "72acad27-bfd7-4b6d-b58f-84c09462daff",
   "metadata": {},
   "outputs": [],
   "source": [
    "path_to_maps = os.getenv('PATH_TO_MAPS')\n",
    "path_to_maps_expected = os.getenv('PATH_TO_EXPECTED_MAPS')\n",
    "path_to_loops_clusters_data = \"./loops_data/loops_clusters_data\"\n",
    "path_to_loops_clusters_temp_data = \"./loops_data/loops_clusters_data/loops_clusters_temp_data\"\n",
    "path_to_loops_intensities = \"./loops_data/loops_intensities/\"\n",
    "pattern = '13fdr_15000res_small_NaN5_final_sorted_with_intensity'\n",
    "files = [f for f in listdir(path_to_loops_intensities) if pattern in f ]\n",
    "number_of_files = 23\n",
    "files.sort()\n",
    "assert len(files) == number_of_files"
   ]
  },
  {
   "cell_type": "markdown",
   "id": "efe77942-2d8e-4727-a58e-7be12dbbe9fd",
   "metadata": {},
   "source": [
    "## 2. Check if individual clusterings is needed"
   ]
  },
  {
   "cell_type": "code",
   "execution_count": 9,
   "id": "0e0e7baf-bf2b-417b-b6c9-01d24df21911",
   "metadata": {},
   "outputs": [
    {
     "data": {
      "text/plain": [
       "389492"
      ]
     },
     "execution_count": 9,
     "metadata": {},
     "output_type": "execute_result"
    }
   ],
   "source": [
    "bedpe_files = [path_to_loops_intensities+bedpe_file for bedpe_file in files]\n",
    "assert len(bedpe_files) == number_of_files\n",
    "sum_contacts = 0\n",
    "columns = ['chr1', 'start1', 'end1', 'chr2', 'start2', 'end2']\n",
    "for file_path in bedpe_files:\n",
    "    df = pd.read_csv(file_path, sep='\\t')\n",
    "    sum_contacts += df.num.nunique()\n",
    "sum_contacts"
   ]
  },
  {
   "cell_type": "code",
   "execution_count": 10,
   "id": "03973340-e65d-494c-baa3-a762192f1e42",
   "metadata": {
    "collapsed": true,
    "jupyter": {
     "outputs_hidden": true
    }
   },
   "outputs": [
    {
     "name": "stdout",
     "output_type": "stream",
     "text": [
      "./loops_data/loops_intensities/Ballerino2022_NES_5kb_sampled_dots_final_12000000maxloci_0.13fdr_15000res_small_NaN5_final_sorted_with_intensity.bed\n"
     ]
    },
    {
     "name": "stderr",
     "output_type": "stream",
     "text": [
      "100%|████████████████████████████████████████████████████████████████████████████████████████████████████████████████████████████████████| 23/23 [00:00<00:00, 37.65it/s]\n"
     ]
    },
    {
     "name": "stdout",
     "output_type": "stream",
     "text": [
      "3\n",
      "____________________\n",
      "./loops_data/loops_intensities/Ballerino2022_NPC_5kb_sampled_dots_final_12000000maxloci_0.13fdr_15000res_small_NaN5_final_sorted_with_intensity.bed\n"
     ]
    },
    {
     "name": "stderr",
     "output_type": "stream",
     "text": [
      "100%|████████████████████████████████████████████████████████████████████████████████████████████████████████████████████████████████████| 23/23 [00:00<00:00, 26.36it/s]\n"
     ]
    },
    {
     "name": "stdout",
     "output_type": "stream",
     "text": [
      "3\n",
      "____________________\n",
      "./loops_data/loops_intensities/Ballerino2022_iPSC_NeuNplus_sampled_dots_final_12000000maxloci_0.13fdr_15000res_small_NaN5_final_sorted_with_intensity.bed\n"
     ]
    },
    {
     "name": "stderr",
     "output_type": "stream",
     "text": [
      "100%|████████████████████████████████████████████████████████████████████████████████████████████████████████████████████████████████████| 23/23 [00:00<00:00, 36.05it/s]\n"
     ]
    },
    {
     "name": "stdout",
     "output_type": "stream",
     "text": [
      "2\n",
      "____________________\n",
      "./loops_data/loops_intensities/Heffel_2T_sampled_dots_final_12000000maxloci_0.13fdr_15000res_small_NaN5_final_sorted_with_intensity.bed\n"
     ]
    },
    {
     "name": "stderr",
     "output_type": "stream",
     "text": [
      "100%|████████████████████████████████████████████████████████████████████████████████████████████████████████████████████████████████████| 23/23 [00:00<00:00, 33.33it/s]\n"
     ]
    },
    {
     "name": "stdout",
     "output_type": "stream",
     "text": [
      "2\n",
      "____________________\n",
      "./loops_data/loops_intensities/Heffel_3T_sampled_dots_final_12000000maxloci_0.13fdr_15000res_small_NaN5_final_sorted_with_intensity.bed\n"
     ]
    },
    {
     "name": "stderr",
     "output_type": "stream",
     "text": [
      "100%|████████████████████████████████████████████████████████████████████████████████████████████████████████████████████████████████████| 23/23 [00:00<00:00, 59.03it/s]\n"
     ]
    },
    {
     "name": "stdout",
     "output_type": "stream",
     "text": [
      "2\n",
      "____________________\n",
      "./loops_data/loops_intensities/Heffel_adult_sampled_dots_final_12000000maxloci_0.13fdr_15000res_small_NaN5_final_sorted_with_intensity.bed\n"
     ]
    },
    {
     "name": "stderr",
     "output_type": "stream",
     "text": [
      "100%|████████████████████████████████████████████████████████████████████████████████████████████████████████████████████████████████████| 23/23 [00:00<00:00, 32.74it/s]\n"
     ]
    },
    {
     "name": "stdout",
     "output_type": "stream",
     "text": [
      "2\n",
      "____________________\n",
      "./loops_data/loops_intensities/Heffel_infant_sampled_dots_final_12000000maxloci_0.13fdr_15000res_small_NaN5_final_sorted_with_intensity.bed\n"
     ]
    },
    {
     "name": "stderr",
     "output_type": "stream",
     "text": [
      "100%|████████████████████████████████████████████████████████████████████████████████████████████████████████████████████████████████████| 23/23 [00:00<00:00, 24.07it/s]\n"
     ]
    },
    {
     "name": "stdout",
     "output_type": "stream",
     "text": [
      "3\n",
      "____________________\n",
      "./loops_data/loops_intensities/Hu2021_NeuNplus_sampled_dots_final_12000000maxloci_0.13fdr_15000res_small_NaN5_final_sorted_with_intensity.bed\n"
     ]
    },
    {
     "name": "stderr",
     "output_type": "stream",
     "text": [
      "100%|████████████████████████████████████████████████████████████████████████████████████████████████████████████████████████████████████| 23/23 [00:00<00:00, 74.33it/s]\n"
     ]
    },
    {
     "name": "stdout",
     "output_type": "stream",
     "text": [
      "2\n",
      "____________________\n",
      "./loops_data/loops_intensities/Li2022_iPSC_NeuNplus_sampled_dots_final_12000000maxloci_0.13fdr_15000res_small_NaN5_final_sorted_with_intensity.bed\n"
     ]
    },
    {
     "name": "stderr",
     "output_type": "stream",
     "text": [
      "100%|████████████████████████████████████████████████████████████████████████████████████████████████████████████████████████████████████| 23/23 [00:00<00:00, 99.54it/s]\n"
     ]
    },
    {
     "name": "stdout",
     "output_type": "stream",
     "text": [
      "2\n",
      "____________________\n",
      "./loops_data/loops_intensities/Lu2020_iPSC_5kb_sampled_dots_final_12000000maxloci_0.13fdr_15000res_small_NaN5_final_sorted_with_intensity.bed\n"
     ]
    },
    {
     "name": "stderr",
     "output_type": "stream",
     "text": [
      "100%|███████████████████████████████████████████████████████████████████████████████████████████████████████████████████████████████████| 23/23 [00:00<00:00, 222.43it/s]\n"
     ]
    },
    {
     "name": "stdout",
     "output_type": "stream",
     "text": [
      "2\n",
      "____________________\n",
      "./loops_data/loops_intensities/Lu2020_iPSC_NeuNplus_sampled_dots_final_12000000maxloci_0.13fdr_15000res_small_NaN5_final_sorted_with_intensity.bed\n"
     ]
    },
    {
     "name": "stderr",
     "output_type": "stream",
     "text": [
      "100%|████████████████████████████████████████████████████████████████████████████████████████████████████████████████████████████████████| 23/23 [00:01<00:00, 18.77it/s]\n"
     ]
    },
    {
     "name": "stdout",
     "output_type": "stream",
     "text": [
      "2\n",
      "____________________\n",
      "./loops_data/loops_intensities/Our_data_iPSC_NeuNplus_sampled_dots_final_12000000maxloci_0.13fdr_15000res_small_NaN5_final_sorted_with_intensity.bed\n"
     ]
    },
    {
     "name": "stderr",
     "output_type": "stream",
     "text": [
      "100%|███████████████████████████████████████████████████████████████████████████████████████████████████████████████████████████████████| 23/23 [00:00<00:00, 105.59it/s]\n"
     ]
    },
    {
     "name": "stdout",
     "output_type": "stream",
     "text": [
      "2\n",
      "____________________\n",
      "./loops_data/loops_intensities/Pletenev2024_NeuNplus_sampled_dots_final_12000000maxloci_0.13fdr_15000res_small_NaN5_final_sorted_with_intensity.bed\n"
     ]
    },
    {
     "name": "stderr",
     "output_type": "stream",
     "text": [
      "100%|████████████████████████████████████████████████████████████████████████████████████████████████████████████████████████████████████| 23/23 [00:00<00:00, 66.46it/s]\n"
     ]
    },
    {
     "name": "stdout",
     "output_type": "stream",
     "text": [
      "2\n",
      "____________________\n",
      "./loops_data/loops_intensities/Rahman2023_FetalBrain_sampled_dots_final_12000000maxloci_0.13fdr_15000res_small_NaN5_final_sorted_with_intensity.bed\n"
     ]
    },
    {
     "name": "stderr",
     "output_type": "stream",
     "text": [
      "100%|███████████████████████████████████████████████████████████████████████████████████████████████████████████████████████████████████| 23/23 [00:00<00:00, 217.07it/s]\n"
     ]
    },
    {
     "name": "stdout",
     "output_type": "stream",
     "text": [
      "2\n",
      "____________________\n",
      "./loops_data/loops_intensities/Rahman2023_NeuNplus_sampled_dots_final_12000000maxloci_0.13fdr_15000res_small_NaN5_final_sorted_with_intensity.bed\n"
     ]
    },
    {
     "name": "stderr",
     "output_type": "stream",
     "text": [
      "100%|███████████████████████████████████████████████████████████████████████████████████████████████████████████████████████████████████| 23/23 [00:00<00:00, 161.28it/s]\n"
     ]
    },
    {
     "name": "stdout",
     "output_type": "stream",
     "text": [
      "2\n",
      "____________________\n",
      "./loops_data/loops_intensities/Rahman2023_iPSC_NeuNplus_CRISPRi_Scrambled_A_DpnII-HinfI_sampled_dots_final_12000000maxloci_0.13fdr_15000res_small_NaN5_final_sorted_with_intensity.bed\n"
     ]
    },
    {
     "name": "stderr",
     "output_type": "stream",
     "text": [
      "100%|████████████████████████████████████████████████████████████████████████████████████████████████████████████████████████████████████| 23/23 [00:00<00:00, 31.19it/s]\n"
     ]
    },
    {
     "name": "stdout",
     "output_type": "stream",
     "text": [
      "3\n",
      "____________________\n",
      "./loops_data/loops_intensities/Rajarajan_NPC_5kb_sampled_dots_final_12000000maxloci_0.13fdr_15000res_small_NaN5_final_sorted_with_intensity.bed\n"
     ]
    },
    {
     "name": "stderr",
     "output_type": "stream",
     "text": [
      "100%|████████████████████████████████████████████████████████████████████████████████████████████████████████████████████████████████████| 23/23 [00:00<00:00, 39.13it/s]\n"
     ]
    },
    {
     "name": "stdout",
     "output_type": "stream",
     "text": [
      "2\n",
      "____________________\n",
      "./loops_data/loops_intensities/Rajarajan_iPSC_Glia_5kb_sampled_dots_final_12000000maxloci_0.13fdr_15000res_small_NaN5_final_sorted_with_intensity.bed\n"
     ]
    },
    {
     "name": "stderr",
     "output_type": "stream",
     "text": [
      "100%|████████████████████████████████████████████████████████████████████████████████████████████████████████████████████████████████████| 23/23 [00:00<00:00, 36.46it/s]\n"
     ]
    },
    {
     "name": "stdout",
     "output_type": "stream",
     "text": [
      "2\n",
      "____________________\n",
      "./loops_data/loops_intensities/Rajarajan_iPSC_NeuNplus_sampled_dots_final_12000000maxloci_0.13fdr_15000res_small_NaN5_final_sorted_with_intensity.bed\n"
     ]
    },
    {
     "name": "stderr",
     "output_type": "stream",
     "text": [
      "100%|████████████████████████████████████████████████████████████████████████████████████████████████████████████████████████████████████| 23/23 [00:00<00:00, 48.90it/s]\n"
     ]
    },
    {
     "name": "stdout",
     "output_type": "stream",
     "text": [
      "2\n",
      "____________________\n",
      "./loops_data/loops_intensities/Tian2023_NeuNplus_sampled_dots_final_12000000maxloci_0.13fdr_15000res_small_NaN5_final_sorted_with_intensity.bed\n"
     ]
    },
    {
     "name": "stderr",
     "output_type": "stream",
     "text": [
      "100%|████████████████████████████████████████████████████████████████████████████████████████████████████████████████████████████████████| 23/23 [00:02<00:00,  9.51it/s]\n"
     ]
    },
    {
     "name": "stdout",
     "output_type": "stream",
     "text": [
      "3\n",
      "____________________\n",
      "./loops_data/loops_intensities/Wu2021_iPSC_NeuNplus_sampled_dots_final_12000000maxloci_0.13fdr_15000res_small_NaN5_final_sorted_with_intensity.bed\n"
     ]
    },
    {
     "name": "stderr",
     "output_type": "stream",
     "text": [
      "100%|████████████████████████████████████████████████████████████████████████████████████████████████████████████████████████████████████| 23/23 [00:00<00:00, 32.75it/s]\n"
     ]
    },
    {
     "name": "stdout",
     "output_type": "stream",
     "text": [
      "3\n",
      "____________________\n",
      "./loops_data/loops_intensities/Zaghi2023_NPC_5kb_sampled_dots_final_12000000maxloci_0.13fdr_15000res_small_NaN5_final_sorted_with_intensity.bed\n"
     ]
    },
    {
     "name": "stderr",
     "output_type": "stream",
     "text": [
      "100%|████████████████████████████████████████████████████████████████████████████████████████████████████████████████████████████████████| 23/23 [00:00<00:00, 32.20it/s]\n"
     ]
    },
    {
     "name": "stdout",
     "output_type": "stream",
     "text": [
      "3\n",
      "____________________\n",
      "./loops_data/loops_intensities/Zaghi2023_iPSC_NeuNplus_sampled_dots_final_12000000maxloci_0.13fdr_15000res_small_NaN5_final_sorted_with_intensity.bed\n"
     ]
    },
    {
     "name": "stderr",
     "output_type": "stream",
     "text": [
      "100%|████████████████████████████████████████████████████████████████████████████████████████████████████████████████████████████████████| 23/23 [00:01<00:00, 21.34it/s]\n"
     ]
    },
    {
     "name": "stdout",
     "output_type": "stream",
     "text": [
      "3\n",
      "____________________\n"
     ]
    }
   ],
   "source": [
    "## Check how many dots are within one cluster for each individual file \n",
    "for df in bedpe_files:\n",
    "    print(df)\n",
    "    bedpe_test, merged_bedpe_test = merge_bedpe([df], res=15000, cluster_factor = 1.5, dist_method='cityblock', min_pts=1, merge=False)\n",
    "    print(merged_bedpe_test.groupby('cluster').size().sort_values().max())\n",
    "    print(\"_\"*20)"
   ]
  },
  {
   "cell_type": "code",
   "execution_count": 11,
   "id": "c0df2bd5-0158-4ed8-88c5-de2cc4c2d48b",
   "metadata": {},
   "outputs": [
    {
     "name": "stderr",
     "output_type": "stream",
     "text": [
      "  0%|                                                                                                                                             | 0/23 [00:00<?, ?it/s]"
     ]
    },
    {
     "name": "stdout",
     "output_type": "stream",
     "text": [
      "./loops_data/loops_intensities/Ballerino2022_NES_5kb_sampled_dots_final_12000000maxloci_0.13fdr_15000res_small_NaN5_final_sorted_with_intensity.bed\n"
     ]
    },
    {
     "name": "stderr",
     "output_type": "stream",
     "text": [
      "\n",
      "  0%|                                                                                                                                             | 0/23 [00:00<?, ?it/s]\u001b[A\n",
      " 17%|███████████████████████▏                                                                                                             | 4/23 [00:00<00:00, 35.04it/s]\u001b[A\n",
      " 52%|████████████████████████████████████████████████████████████████████▊                                                               | 12/23 [00:00<00:00, 51.74it/s]\u001b[A\n",
      " 78%|███████████████████████████████████████████████████████████████████████████████████████████████████████▎                            | 18/23 [00:00<00:00, 45.87it/s]\u001b[A\n",
      "100%|████████████████████████████████████████████████████████████████████████████████████████████████████████████████████████████████████| 23/23 [00:00<00:00, 45.43it/s]\u001b[A\n"
     ]
    },
    {
     "name": "stdout",
     "output_type": "stream",
     "text": [
      "489\n"
     ]
    },
    {
     "name": "stderr",
     "output_type": "stream",
     "text": [
      "  4%|█████▊                                                                                                                               | 1/23 [00:02<00:54,  2.50s/it]"
     ]
    },
    {
     "name": "stdout",
     "output_type": "stream",
     "text": [
      "./loops_data/loops_intensities/Ballerino2022_NPC_5kb_sampled_dots_final_12000000maxloci_0.13fdr_15000res_small_NaN5_final_sorted_with_intensity.bed\n"
     ]
    },
    {
     "name": "stderr",
     "output_type": "stream",
     "text": [
      "\n",
      "  0%|                                                                                                                                             | 0/23 [00:00<?, ?it/s]\u001b[A\n",
      "  9%|███████████▌                                                                                                                         | 2/23 [00:00<00:01, 14.93it/s]\u001b[A\n",
      " 26%|██████████████████████████████████▋                                                                                                  | 6/23 [00:00<00:00, 27.47it/s]\u001b[A\n",
      " 52%|████████████████████████████████████████████████████████████████████▊                                                               | 12/23 [00:00<00:00, 29.16it/s]\u001b[A\n",
      " 70%|███████████████████████████████████████████████████████████████████████████████████████████▊                                        | 16/23 [00:00<00:00, 29.71it/s]\u001b[A\n",
      "100%|████████████████████████████████████████████████████████████████████████████████████████████████████████████████████████████████████| 23/23 [00:00<00:00, 26.09it/s]\u001b[A\n"
     ]
    },
    {
     "name": "stdout",
     "output_type": "stream",
     "text": [
      "679\n"
     ]
    },
    {
     "name": "stderr",
     "output_type": "stream",
     "text": [
      "  9%|███████████▌                                                                                                                         | 2/23 [00:06<01:09,  3.31s/it]"
     ]
    },
    {
     "name": "stdout",
     "output_type": "stream",
     "text": [
      "./loops_data/loops_intensities/Ballerino2022_iPSC_NeuNplus_sampled_dots_final_12000000maxloci_0.13fdr_15000res_small_NaN5_final_sorted_with_intensity.bed\n"
     ]
    },
    {
     "name": "stderr",
     "output_type": "stream",
     "text": [
      "\n",
      "  0%|                                                                                                                                             | 0/23 [00:00<?, ?it/s]\u001b[A\n",
      "  9%|███████████▌                                                                                                                         | 2/23 [00:00<00:01, 17.84it/s]\u001b[A\n",
      " 39%|████████████████████████████████████████████████████                                                                                 | 9/23 [00:00<00:00, 45.52it/s]\u001b[A\n",
      " 61%|████████████████████████████████████████████████████████████████████████████████▎                                                   | 14/23 [00:00<00:00, 41.32it/s]\u001b[A\n",
      "100%|████████████████████████████████████████████████████████████████████████████████████████████████████████████████████████████████████| 23/23 [00:00<00:00, 34.82it/s]\u001b[A\n"
     ]
    },
    {
     "name": "stdout",
     "output_type": "stream",
     "text": [
      "552\n"
     ]
    },
    {
     "name": "stderr",
     "output_type": "stream",
     "text": [
      " 13%|█████████████████▎                                                                                                                   | 3/23 [00:09<01:00,  3.01s/it]"
     ]
    },
    {
     "name": "stdout",
     "output_type": "stream",
     "text": [
      "./loops_data/loops_intensities/Heffel_2T_sampled_dots_final_12000000maxloci_0.13fdr_15000res_small_NaN5_final_sorted_with_intensity.bed\n"
     ]
    },
    {
     "name": "stderr",
     "output_type": "stream",
     "text": [
      "\n",
      "  0%|                                                                                                                                             | 0/23 [00:00<?, ?it/s]\u001b[A\n",
      "  9%|███████████▌                                                                                                                         | 2/23 [00:00<00:01, 17.19it/s]\u001b[A\n",
      " 35%|██████████████████████████████████████████████▎                                                                                      | 8/23 [00:00<00:00, 40.39it/s]\u001b[A\n",
      " 57%|██████████████████████████████████████████████████████████████████████████▌                                                         | 13/23 [00:00<00:00, 37.36it/s]\u001b[A\n",
      " 74%|█████████████████████████████████████████████████████████████████████████████████████████████████▌                                  | 17/23 [00:00<00:00, 34.92it/s]\u001b[A\n",
      "100%|████████████████████████████████████████████████████████████████████████████████████████████████████████████████████████████████████| 23/23 [00:00<00:00, 34.07it/s]\u001b[A\n"
     ]
    },
    {
     "name": "stdout",
     "output_type": "stream",
     "text": [
      "269\n"
     ]
    },
    {
     "name": "stderr",
     "output_type": "stream",
     "text": [
      " 17%|███████████████████████▏                                                                                                             | 4/23 [00:10<00:47,  2.49s/it]"
     ]
    },
    {
     "name": "stdout",
     "output_type": "stream",
     "text": [
      "./loops_data/loops_intensities/Heffel_3T_sampled_dots_final_12000000maxloci_0.13fdr_15000res_small_NaN5_final_sorted_with_intensity.bed\n"
     ]
    },
    {
     "name": "stderr",
     "output_type": "stream",
     "text": [
      "\n",
      "  0%|                                                                                                                                             | 0/23 [00:00<?, ?it/s]\u001b[A\n",
      " 22%|████████████████████████████▉                                                                                                        | 5/23 [00:00<00:00, 46.62it/s]\u001b[A\n",
      " 52%|████████████████████████████████████████████████████████████████████▊                                                               | 12/23 [00:00<00:00, 59.34it/s]\u001b[A\n",
      "100%|████████████████████████████████████████████████████████████████████████████████████████████████████████████████████████████████████| 23/23 [00:00<00:00, 59.11it/s]\u001b[A\n"
     ]
    },
    {
     "name": "stdout",
     "output_type": "stream",
     "text": [
      "107\n"
     ]
    },
    {
     "name": "stderr",
     "output_type": "stream",
     "text": [
      " 22%|████████████████████████████▉                                                                                                        | 5/23 [00:11<00:35,  1.98s/it]"
     ]
    },
    {
     "name": "stdout",
     "output_type": "stream",
     "text": [
      "./loops_data/loops_intensities/Heffel_adult_sampled_dots_final_12000000maxloci_0.13fdr_15000res_small_NaN5_final_sorted_with_intensity.bed\n"
     ]
    },
    {
     "name": "stderr",
     "output_type": "stream",
     "text": [
      "\n",
      "  0%|                                                                                                                                             | 0/23 [00:00<?, ?it/s]\u001b[A\n",
      "  9%|███████████▌                                                                                                                         | 2/23 [00:00<00:01, 19.26it/s]\u001b[A\n",
      " 30%|████████████████████████████████████████▍                                                                                            | 7/23 [00:00<00:00, 36.43it/s]\u001b[A\n",
      " 52%|████████████████████████████████████████████████████████████████████▊                                                               | 12/23 [00:00<00:00, 34.18it/s]\u001b[A\n",
      " 70%|███████████████████████████████████████████████████████████████████████████████████████████▊                                        | 16/23 [00:00<00:00, 35.08it/s]\u001b[A\n",
      "100%|████████████████████████████████████████████████████████████████████████████████████████████████████████████████████████████████████| 23/23 [00:00<00:00, 31.91it/s]\u001b[A\n"
     ]
    },
    {
     "name": "stdout",
     "output_type": "stream",
     "text": [
      "356\n"
     ]
    },
    {
     "name": "stderr",
     "output_type": "stream",
     "text": [
      " 26%|██████████████████████████████████▋                                                                                                  | 6/23 [00:14<00:36,  2.13s/it]"
     ]
    },
    {
     "name": "stdout",
     "output_type": "stream",
     "text": [
      "./loops_data/loops_intensities/Heffel_infant_sampled_dots_final_12000000maxloci_0.13fdr_15000res_small_NaN5_final_sorted_with_intensity.bed\n"
     ]
    },
    {
     "name": "stderr",
     "output_type": "stream",
     "text": [
      "\n",
      "  0%|                                                                                                                                             | 0/23 [00:00<?, ?it/s]\u001b[A\n",
      "  4%|█████▊                                                                                                                               | 1/23 [00:00<00:02,  9.20it/s]\u001b[A\n",
      " 17%|███████████████████████▏                                                                                                             | 4/23 [00:00<00:00, 20.54it/s]\u001b[A\n",
      " 52%|████████████████████████████████████████████████████████████████████▊                                                               | 12/23 [00:00<00:00, 28.31it/s]\u001b[A\n",
      " 70%|███████████████████████████████████████████████████████████████████████████████████████████▊                                        | 16/23 [00:00<00:00, 29.22it/s]\u001b[A\n",
      " 83%|█████████████████████████████████████████████████████████████████████████████████████████████████████████████                       | 19/23 [00:00<00:00, 22.60it/s]\u001b[A\n",
      "100%|████████████████████████████████████████████████████████████████████████████████████████████████████████████████████████████████████| 23/23 [00:00<00:00, 24.15it/s]\u001b[A\n"
     ]
    },
    {
     "name": "stdout",
     "output_type": "stream",
     "text": [
      "279\n"
     ]
    },
    {
     "name": "stderr",
     "output_type": "stream",
     "text": [
      " 30%|████████████████████████████████████████▍                                                                                            | 7/23 [00:16<00:36,  2.29s/it]"
     ]
    },
    {
     "name": "stdout",
     "output_type": "stream",
     "text": [
      "./loops_data/loops_intensities/Hu2021_NeuNplus_sampled_dots_final_12000000maxloci_0.13fdr_15000res_small_NaN5_final_sorted_with_intensity.bed\n"
     ]
    },
    {
     "name": "stderr",
     "output_type": "stream",
     "text": [
      "\n",
      "  0%|                                                                                                                                             | 0/23 [00:00<?, ?it/s]\u001b[A\n",
      " 26%|██████████████████████████████████▋                                                                                                  | 6/23 [00:00<00:00, 58.28it/s]\u001b[A\n",
      "100%|████████████████████████████████████████████████████████████████████████████████████████████████████████████████████████████████████| 23/23 [00:00<00:00, 75.20it/s]\u001b[A\n"
     ]
    },
    {
     "name": "stdout",
     "output_type": "stream",
     "text": [
      "149\n"
     ]
    },
    {
     "name": "stderr",
     "output_type": "stream",
     "text": [
      " 35%|██████████████████████████████████████████████▎                                                                                      | 8/23 [00:17<00:28,  1.87s/it]"
     ]
    },
    {
     "name": "stdout",
     "output_type": "stream",
     "text": [
      "./loops_data/loops_intensities/Li2022_iPSC_NeuNplus_sampled_dots_final_12000000maxloci_0.13fdr_15000res_small_NaN5_final_sorted_with_intensity.bed\n"
     ]
    },
    {
     "name": "stderr",
     "output_type": "stream",
     "text": [
      "\n",
      "  0%|                                                                                                                                             | 0/23 [00:00<?, ?it/s]\u001b[A\n",
      " 52%|████████████████████████████████████████████████████████████████████▎                                                              | 12/23 [00:00<00:00, 100.50it/s]\u001b[A\n",
      "100%|███████████████████████████████████████████████████████████████████████████████████████████████████████████████████████████████████| 23/23 [00:00<00:00, 100.20it/s]\u001b[A\n"
     ]
    },
    {
     "name": "stdout",
     "output_type": "stream",
     "text": [
      "129\n"
     ]
    },
    {
     "name": "stderr",
     "output_type": "stream",
     "text": [
      " 39%|████████████████████████████████████████████████████                                                                                 | 9/23 [00:18<00:21,  1.54s/it]"
     ]
    },
    {
     "name": "stdout",
     "output_type": "stream",
     "text": [
      "./loops_data/loops_intensities/Lu2020_iPSC_5kb_sampled_dots_final_12000000maxloci_0.13fdr_15000res_small_NaN5_final_sorted_with_intensity.bed\n"
     ]
    },
    {
     "name": "stderr",
     "output_type": "stream",
     "text": [
      "\n",
      "100%|███████████████████████████████████████████████████████████████████████████████████████████████████████████████████████████████████| 23/23 [00:00<00:00, 236.37it/s]\u001b[A\n",
      " 43%|█████████████████████████████████████████████████████████▍                                                                          | 10/23 [00:18<00:15,  1.17s/it]"
     ]
    },
    {
     "name": "stdout",
     "output_type": "stream",
     "text": [
      "51\n",
      "./loops_data/loops_intensities/Lu2020_iPSC_NeuNplus_sampled_dots_final_12000000maxloci_0.13fdr_15000res_small_NaN5_final_sorted_with_intensity.bed\n"
     ]
    },
    {
     "name": "stderr",
     "output_type": "stream",
     "text": [
      "\n",
      "  0%|                                                                                                                                             | 0/23 [00:00<?, ?it/s]\u001b[A\n",
      "  4%|█████▊                                                                                                                               | 1/23 [00:00<00:03,  6.12it/s]\u001b[A\n",
      " 13%|█████████████████▎                                                                                                                   | 3/23 [00:00<00:01, 10.93it/s]\u001b[A\n",
      " 26%|██████████████████████████████████▋                                                                                                  | 6/23 [00:00<00:00, 17.63it/s]\u001b[A\n",
      " 48%|███████████████████████████████████████████████████████████████▏                                                                    | 11/23 [00:00<00:00, 25.48it/s]\u001b[A\n",
      " 61%|████████████████████████████████████████████████████████████████████████████████▎                                                   | 14/23 [00:00<00:00, 20.71it/s]\u001b[A\n",
      " 74%|█████████████████████████████████████████████████████████████████████████████████████████████████▌                                  | 17/23 [00:00<00:00, 18.62it/s]\u001b[A\n",
      " 83%|█████████████████████████████████████████████████████████████████████████████████████████████████████████████                       | 19/23 [00:01<00:00, 16.82it/s]\u001b[A\n",
      "100%|████████████████████████████████████████████████████████████████████████████████████████████████████████████████████████████████████| 23/23 [00:01<00:00, 18.36it/s]\u001b[A\n"
     ]
    },
    {
     "name": "stdout",
     "output_type": "stream",
     "text": [
      "313\n"
     ]
    },
    {
     "name": "stderr",
     "output_type": "stream",
     "text": [
      " 48%|███████████████████████████████████████████████████████████████▏                                                                    | 11/23 [00:22<00:21,  1.82s/it]"
     ]
    },
    {
     "name": "stdout",
     "output_type": "stream",
     "text": [
      "./loops_data/loops_intensities/Our_data_iPSC_NeuNplus_sampled_dots_final_12000000maxloci_0.13fdr_15000res_small_NaN5_final_sorted_with_intensity.bed\n"
     ]
    },
    {
     "name": "stderr",
     "output_type": "stream",
     "text": [
      "\n",
      "  0%|                                                                                                                                             | 0/23 [00:00<?, ?it/s]\u001b[A\n",
      " 52%|████████████████████████████████████████████████████████████████████▎                                                              | 12/23 [00:00<00:00, 102.13it/s]\u001b[A\n",
      "100%|████████████████████████████████████████████████████████████████████████████████████████████████████████████████████████████████████| 23/23 [00:00<00:00, 99.89it/s]\u001b[A\n"
     ]
    },
    {
     "name": "stdout",
     "output_type": "stream",
     "text": [
      "119\n"
     ]
    },
    {
     "name": "stderr",
     "output_type": "stream",
     "text": [
      " 52%|████████████████████████████████████████████████████████████████████▊                                                               | 12/23 [00:23<00:16,  1.50s/it]"
     ]
    },
    {
     "name": "stdout",
     "output_type": "stream",
     "text": [
      "./loops_data/loops_intensities/Pletenev2024_NeuNplus_sampled_dots_final_12000000maxloci_0.13fdr_15000res_small_NaN5_final_sorted_with_intensity.bed\n"
     ]
    },
    {
     "name": "stderr",
     "output_type": "stream",
     "text": [
      "\n",
      "  0%|                                                                                                                                             | 0/23 [00:00<?, ?it/s]\u001b[A\n",
      " 17%|███████████████████████▏                                                                                                             | 4/23 [00:00<00:00, 32.79it/s]\u001b[A\n",
      " 57%|██████████████████████████████████████████████████████████████████████████▌                                                         | 13/23 [00:00<00:00, 62.82it/s]\u001b[A\n",
      "100%|████████████████████████████████████████████████████████████████████████████████████████████████████████████████████████████████████| 23/23 [00:00<00:00, 61.16it/s]\u001b[A\n"
     ]
    },
    {
     "name": "stdout",
     "output_type": "stream",
     "text": [
      "241\n"
     ]
    },
    {
     "name": "stderr",
     "output_type": "stream",
     "text": [
      " 57%|██████████████████████████████████████████████████████████████████████████▌                                                         | 13/23 [00:24<00:14,  1.46s/it]"
     ]
    },
    {
     "name": "stdout",
     "output_type": "stream",
     "text": [
      "./loops_data/loops_intensities/Rahman2023_FetalBrain_sampled_dots_final_12000000maxloci_0.13fdr_15000res_small_NaN5_final_sorted_with_intensity.bed\n"
     ]
    },
    {
     "name": "stderr",
     "output_type": "stream",
     "text": [
      "\n",
      "  0%|                                                                                                                                             | 0/23 [00:00<?, ?it/s]\u001b[A\n",
      "100%|███████████████████████████████████████████████████████████████████████████████████████████████████████████████████████████████████| 23/23 [00:00<00:00, 222.17it/s]\u001b[A\n",
      " 61%|████████████████████████████████████████████████████████████████████████████████▎                                                   | 14/23 [00:24<00:10,  1.12s/it]"
     ]
    },
    {
     "name": "stdout",
     "output_type": "stream",
     "text": [
      "41\n",
      "./loops_data/loops_intensities/Rahman2023_NeuNplus_sampled_dots_final_12000000maxloci_0.13fdr_15000res_small_NaN5_final_sorted_with_intensity.bed\n"
     ]
    },
    {
     "name": "stderr",
     "output_type": "stream",
     "text": [
      "\n",
      "  0%|                                                                                                                                             | 0/23 [00:00<?, ?it/s]\u001b[A\n",
      "100%|███████████████████████████████████████████████████████████████████████████████████████████████████████████████████████████████████| 23/23 [00:00<00:00, 162.26it/s]\u001b[A\n",
      " 65%|██████████████████████████████████████████████████████████████████████████████████████                                              | 15/23 [00:25<00:07,  1.10it/s]"
     ]
    },
    {
     "name": "stdout",
     "output_type": "stream",
     "text": [
      "59\n",
      "./loops_data/loops_intensities/Rahman2023_iPSC_NeuNplus_CRISPRi_Scrambled_A_DpnII-HinfI_sampled_dots_final_12000000maxloci_0.13fdr_15000res_small_NaN5_final_sorted_with_intensity.bed\n"
     ]
    },
    {
     "name": "stderr",
     "output_type": "stream",
     "text": [
      "\n",
      "  0%|                                                                                                                                             | 0/23 [00:00<?, ?it/s]\u001b[A\n",
      "  9%|███████████▌                                                                                                                         | 2/23 [00:00<00:01, 14.50it/s]\u001b[A\n",
      " 30%|████████████████████████████████████████▍                                                                                            | 7/23 [00:00<00:00, 31.08it/s]\u001b[A\n",
      " 52%|████████████████████████████████████████████████████████████████████▊                                                               | 12/23 [00:00<00:00, 30.18it/s]\u001b[A\n",
      " 70%|███████████████████████████████████████████████████████████████████████████████████████████▊                                        | 16/23 [00:00<00:00, 31.02it/s]\u001b[A\n",
      "100%|████████████████████████████████████████████████████████████████████████████████████████████████████████████████████████████████████| 23/23 [00:00<00:00, 27.52it/s]\u001b[A\n"
     ]
    },
    {
     "name": "stdout",
     "output_type": "stream",
     "text": [
      "533\n"
     ]
    },
    {
     "name": "stderr",
     "output_type": "stream",
     "text": [
      " 70%|███████████████████████████████████████████████████████████████████████████████████████████▊                                        | 16/23 [00:28<00:11,  1.60s/it]"
     ]
    },
    {
     "name": "stdout",
     "output_type": "stream",
     "text": [
      "./loops_data/loops_intensities/Rajarajan_NPC_5kb_sampled_dots_final_12000000maxloci_0.13fdr_15000res_small_NaN5_final_sorted_with_intensity.bed\n"
     ]
    },
    {
     "name": "stderr",
     "output_type": "stream",
     "text": [
      "\n",
      "  0%|                                                                                                                                             | 0/23 [00:00<?, ?it/s]\u001b[A\n",
      " 13%|█████████████████▎                                                                                                                   | 3/23 [00:00<00:00, 25.27it/s]\u001b[A\n",
      " 52%|████████████████████████████████████████████████████████████████████▊                                                               | 12/23 [00:00<00:00, 44.89it/s]\u001b[A\n",
      " 74%|█████████████████████████████████████████████████████████████████████████████████████████████████▌                                  | 17/23 [00:00<00:00, 43.33it/s]\u001b[A\n",
      "100%|████████████████████████████████████████████████████████████████████████████████████████████████████████████████████████████████████| 23/23 [00:00<00:00, 39.70it/s]\u001b[A\n"
     ]
    },
    {
     "name": "stdout",
     "output_type": "stream",
     "text": [
      "405\n"
     ]
    },
    {
     "name": "stderr",
     "output_type": "stream",
     "text": [
      " 74%|█████████████████████████████████████████████████████████████████████████████████████████████████▌                                  | 17/23 [00:30<00:10,  1.80s/it]"
     ]
    },
    {
     "name": "stdout",
     "output_type": "stream",
     "text": [
      "./loops_data/loops_intensities/Rajarajan_iPSC_Glia_5kb_sampled_dots_final_12000000maxloci_0.13fdr_15000res_small_NaN5_final_sorted_with_intensity.bed\n"
     ]
    },
    {
     "name": "stderr",
     "output_type": "stream",
     "text": [
      "\n",
      "  0%|                                                                                                                                             | 0/23 [00:00<?, ?it/s]\u001b[A\n",
      " 13%|█████████████████▎                                                                                                                   | 3/23 [00:00<00:00, 27.99it/s]\u001b[A\n",
      " 52%|████████████████████████████████████████████████████████████████████▊                                                               | 12/23 [00:00<00:00, 47.40it/s]\u001b[A\n",
      " 74%|█████████████████████████████████████████████████████████████████████████████████████████████████▌                                  | 17/23 [00:00<00:00, 41.91it/s]\u001b[A\n",
      "100%|████████████████████████████████████████████████████████████████████████████████████████████████████████████████████████████████████| 23/23 [00:00<00:00, 41.48it/s]\u001b[A\n"
     ]
    },
    {
     "name": "stdout",
     "output_type": "stream",
     "text": [
      "411\n"
     ]
    },
    {
     "name": "stderr",
     "output_type": "stream",
     "text": [
      " 78%|███████████████████████████████████████████████████████████████████████████████████████████████████████▎                            | 18/23 [00:32<00:09,  1.93s/it]"
     ]
    },
    {
     "name": "stdout",
     "output_type": "stream",
     "text": [
      "./loops_data/loops_intensities/Rajarajan_iPSC_NeuNplus_sampled_dots_final_12000000maxloci_0.13fdr_15000res_small_NaN5_final_sorted_with_intensity.bed\n"
     ]
    },
    {
     "name": "stderr",
     "output_type": "stream",
     "text": [
      "\n",
      "  0%|                                                                                                                                             | 0/23 [00:00<?, ?it/s]\u001b[A\n",
      " 17%|███████████████████████▏                                                                                                             | 4/23 [00:00<00:00, 37.42it/s]\u001b[A\n",
      " 52%|████████████████████████████████████████████████████████████████████▊                                                               | 12/23 [00:00<00:00, 53.17it/s]\u001b[A\n",
      "100%|████████████████████████████████████████████████████████████████████████████████████████████████████████████████████████████████████| 23/23 [00:00<00:00, 54.30it/s]\u001b[A\n",
      " 83%|█████████████████████████████████████████████████████████████████████████████████████████████████████████████                       | 19/23 [00:34<00:07,  1.76s/it]"
     ]
    },
    {
     "name": "stdout",
     "output_type": "stream",
     "text": [
      "367\n",
      "./loops_data/loops_intensities/Tian2023_NeuNplus_sampled_dots_final_12000000maxloci_0.13fdr_15000res_small_NaN5_final_sorted_with_intensity.bed\n"
     ]
    },
    {
     "name": "stderr",
     "output_type": "stream",
     "text": [
      "\n",
      "  0%|                                                                                                                                             | 0/23 [00:00<?, ?it/s]\u001b[A\n",
      "  4%|█████▊                                                                                                                               | 1/23 [00:00<00:06,  3.25it/s]\u001b[A\n",
      "  9%|███████████▌                                                                                                                         | 2/23 [00:00<00:04,  4.70it/s]\u001b[A\n",
      " 13%|█████████████████▎                                                                                                                   | 3/23 [00:00<00:03,  6.16it/s]\u001b[A\n",
      " 22%|████████████████████████████▉                                                                                                        | 5/23 [00:00<00:02,  8.95it/s]\u001b[A\n",
      " 35%|██████████████████████████████████████████████▎                                                                                      | 8/23 [00:00<00:01, 14.43it/s]\u001b[A\n",
      " 52%|████████████████████████████████████████████████████████████████████▊                                                               | 12/23 [00:01<00:00, 11.62it/s]\u001b[A\n",
      " 70%|███████████████████████████████████████████████████████████████████████████████████████████▊                                        | 16/23 [00:01<00:00, 12.39it/s]\u001b[A\n",
      " 78%|███████████████████████████████████████████████████████████████████████████████████████████████████████▎                            | 18/23 [00:01<00:00,  8.81it/s]\u001b[A\n",
      " 87%|██████████████████████████████████████████████████████████████████████████████████████████████████████████████████▊                 | 20/23 [00:02<00:00,  8.23it/s]\u001b[A\n",
      "100%|████████████████████████████████████████████████████████████████████████████████████████████████████████████████████████████████████| 23/23 [00:02<00:00,  9.38it/s]\u001b[A\n"
     ]
    },
    {
     "name": "stdout",
     "output_type": "stream",
     "text": [
      "330\n"
     ]
    },
    {
     "name": "stderr",
     "output_type": "stream",
     "text": [
      " 87%|██████████████████████████████████████████████████████████████████████████████████████████████████████████████████▊                 | 20/23 [00:38<00:07,  2.56s/it]"
     ]
    },
    {
     "name": "stdout",
     "output_type": "stream",
     "text": [
      "./loops_data/loops_intensities/Wu2021_iPSC_NeuNplus_sampled_dots_final_12000000maxloci_0.13fdr_15000res_small_NaN5_final_sorted_with_intensity.bed\n"
     ]
    },
    {
     "name": "stderr",
     "output_type": "stream",
     "text": [
      "\n",
      "  0%|                                                                                                                                             | 0/23 [00:00<?, ?it/s]\u001b[A\n",
      "  9%|███████████▌                                                                                                                         | 2/23 [00:00<00:01, 16.30it/s]\u001b[A\n",
      " 30%|████████████████████████████████████████▍                                                                                            | 7/23 [00:00<00:00, 31.87it/s]\u001b[A\n",
      " 52%|████████████████████████████████████████████████████████████████████▊                                                               | 12/23 [00:00<00:00, 30.22it/s]\u001b[A\n",
      " 70%|███████████████████████████████████████████████████████████████████████████████████████████▊                                        | 16/23 [00:00<00:00, 31.45it/s]\u001b[A\n",
      "100%|████████████████████████████████████████████████████████████████████████████████████████████████████████████████████████████████████| 23/23 [00:00<00:00, 30.02it/s]\u001b[A\n"
     ]
    },
    {
     "name": "stdout",
     "output_type": "stream",
     "text": [
      "615\n"
     ]
    },
    {
     "name": "stderr",
     "output_type": "stream",
     "text": [
      " 91%|████████████████████████████████████████████████████████████████████████████████████████████████████████████████████████▌           | 21/23 [00:41<00:05,  2.52s/it]"
     ]
    },
    {
     "name": "stdout",
     "output_type": "stream",
     "text": [
      "./loops_data/loops_intensities/Zaghi2023_NPC_5kb_sampled_dots_final_12000000maxloci_0.13fdr_15000res_small_NaN5_final_sorted_with_intensity.bed\n"
     ]
    },
    {
     "name": "stderr",
     "output_type": "stream",
     "text": [
      "\n",
      "  0%|                                                                                                                                             | 0/23 [00:00<?, ?it/s]\u001b[A\n",
      " 13%|█████████████████▎                                                                                                                   | 3/23 [00:00<00:00, 27.36it/s]\u001b[A\n",
      " 52%|████████████████████████████████████████████████████████████████████▊                                                               | 12/23 [00:00<00:00, 39.96it/s]\u001b[A\n",
      " 70%|███████████████████████████████████████████████████████████████████████████████████████████▊                                        | 16/23 [00:00<00:00, 39.28it/s]\u001b[A\n",
      "100%|████████████████████████████████████████████████████████████████████████████████████████████████████████████████████████████████████| 23/23 [00:00<00:00, 33.66it/s]\u001b[A\n"
     ]
    },
    {
     "name": "stdout",
     "output_type": "stream",
     "text": [
      "560\n"
     ]
    },
    {
     "name": "stderr",
     "output_type": "stream",
     "text": [
      " 96%|██████████████████████████████████████████████████████████████████████████████████████████████████████████████████████████████▎     | 22/23 [00:43<00:02,  2.53s/it]"
     ]
    },
    {
     "name": "stdout",
     "output_type": "stream",
     "text": [
      "./loops_data/loops_intensities/Zaghi2023_iPSC_NeuNplus_sampled_dots_final_12000000maxloci_0.13fdr_15000res_small_NaN5_final_sorted_with_intensity.bed\n"
     ]
    },
    {
     "name": "stderr",
     "output_type": "stream",
     "text": [
      "\n",
      "  0%|                                                                                                                                             | 0/23 [00:00<?, ?it/s]\u001b[A\n",
      "  4%|█████▊                                                                                                                               | 1/23 [00:00<00:02,  7.85it/s]\u001b[A\n",
      " 17%|███████████████████████▏                                                                                                             | 4/23 [00:00<00:01, 16.36it/s]\u001b[A\n",
      " 48%|███████████████████████████████████████████████████████████████▏                                                                    | 11/23 [00:00<00:00, 36.64it/s]\u001b[A\n",
      " 65%|██████████████████████████████████████████████████████████████████████████████████████                                              | 15/23 [00:00<00:00, 27.31it/s]\u001b[A\n",
      " 83%|█████████████████████████████████████████████████████████████████████████████████████████████████████████████                       | 19/23 [00:00<00:00, 18.31it/s]\u001b[A\n",
      "100%|████████████████████████████████████████████████████████████████████████████████████████████████████████████████████████████████████| 23/23 [00:01<00:00, 21.65it/s]\u001b[A\n"
     ]
    },
    {
     "name": "stdout",
     "output_type": "stream",
     "text": [
      "766\n"
     ]
    },
    {
     "name": "stderr",
     "output_type": "stream",
     "text": [
      "100%|████████████████████████████████████████████████████████████████████████████████████████████████████████████████████████████████████| 23/23 [00:46<00:00,  2.04s/it]\n"
     ]
    }
   ],
   "source": [
    "## Drop multiple dots within one cluster to retain one the most intense\n",
    "path_to_save = './loops_data/loops_files_processed/'\n",
    "index_to_drop_all = []\n",
    "merged_bedpe_test_all = {}\n",
    "for df in tqdm(bedpe_files):\n",
    "    print(df)\n",
    "    bedpe_test, merged_bedpe_test = merge_bedpe([df], res=15000, cluster_factor = 2.5, dist_method='cityblock', min_pts=1, merge=False)\n",
    "    df_clusters = merged_bedpe_test.groupby('cluster').size().to_frame()\n",
    "    cluster_with_several_dots = df_clusters[df_clusters[0] >1].index.tolist()\n",
    "    index_to_drop_df = []\n",
    "    if cluster_with_several_dots:\n",
    "        for cluster in cluster_with_several_dots:\n",
    "            index_to_drop = merged_bedpe_test[merged_bedpe_test.cluster == cluster].sort_values('intensity_mean', ascending=False).index[1:]\n",
    "            index_to_drop_df.append(list(index_to_drop))\n",
    "    print(len(index_to_drop_df))\n",
    "    assert len(cluster_with_several_dots) <= len(index_to_drop_df)\n",
    "    index_to_drop_df = [x for xs in index_to_drop_df for x in xs]\n",
    "    name = df.split('/')[-1].split('.bed')[0]+\"_removed_duplicates_noHeader.bed\"\n",
    "    merged_bedpe_test = merged_bedpe_test.drop(index_to_drop_df).reset_index(drop=True)\n",
    "    merged_bedpe_test_all[name] = merged_bedpe_test\n",
    "    merged_bedpe_test.to_csv(f'{path_to_save}/{name}', header = None, sep = '\\t', index=False)"
   ]
  },
  {
   "cell_type": "code",
   "execution_count": 12,
   "id": "1bce1e41-ba11-4ffc-8cf1-6753b8942c9a",
   "metadata": {},
   "outputs": [],
   "source": [
    "###check merging results\n",
    "path = './loops_data/loops_files_processed/'\n",
    "pattern = '_removed_duplicates'\n",
    "not_pattern = '.bedped'\n",
    "files = [f for f in listdir(path) if pattern in f and not_pattern not in f]\n",
    "pattern = \"_noHeader\"\n",
    "files = [f for f in listdir(path) if pattern in f and not_pattern not in f]\n",
    "files.sort()\n",
    "\n",
    "bedpe_files_merged = [path+bedpe_file for bedpe_file in files]\n",
    "assert len(bedpe_files_merged) == 23"
   ]
  },
  {
   "cell_type": "code",
   "execution_count": 13,
   "id": "beb3a3a7-042e-412d-bf1c-10c6bbb4ac26",
   "metadata": {},
   "outputs": [
    {
     "name": "stdout",
     "output_type": "stream",
     "text": [
      "./loops_data/loops_files_processed/Ballerino2022_NES_5kb_sampled_dots_final_12000000maxloci_0.13fdr_15000res_small_NaN5_final_sorted_with_intensity_removed_duplicates_noHeader.bed\n"
     ]
    },
    {
     "name": "stderr",
     "output_type": "stream",
     "text": [
      "100%|████████████████████████████████████████████████████████████████████████████████████████████████████████████████████████████████████| 23/23 [00:00<00:00, 45.15it/s]\n"
     ]
    },
    {
     "name": "stdout",
     "output_type": "stream",
     "text": [
      "1\n",
      "____________________\n",
      "./loops_data/loops_files_processed/Ballerino2022_NPC_5kb_sampled_dots_final_12000000maxloci_0.13fdr_15000res_small_NaN5_final_sorted_with_intensity_removed_duplicates_noHeader.bed\n"
     ]
    },
    {
     "name": "stderr",
     "output_type": "stream",
     "text": [
      "100%|████████████████████████████████████████████████████████████████████████████████████████████████████████████████████████████████████| 23/23 [00:00<00:00, 31.62it/s]\n"
     ]
    },
    {
     "name": "stdout",
     "output_type": "stream",
     "text": [
      "1\n",
      "____________________\n",
      "./loops_data/loops_files_processed/Ballerino2022_iPSC_NeuNplus_sampled_dots_final_12000000maxloci_0.13fdr_15000res_small_NaN5_final_sorted_with_intensity_removed_duplicates_noHeader.bed\n"
     ]
    },
    {
     "name": "stderr",
     "output_type": "stream",
     "text": [
      "100%|████████████████████████████████████████████████████████████████████████████████████████████████████████████████████████████████████| 23/23 [00:00<00:00, 37.40it/s]\n"
     ]
    },
    {
     "name": "stdout",
     "output_type": "stream",
     "text": [
      "1\n",
      "____________________\n",
      "./loops_data/loops_files_processed/Heffel_2T_sampled_dots_final_12000000maxloci_0.13fdr_15000res_small_NaN5_final_sorted_with_intensity_removed_duplicates_noHeader.bed\n"
     ]
    },
    {
     "name": "stderr",
     "output_type": "stream",
     "text": [
      "100%|████████████████████████████████████████████████████████████████████████████████████████████████████████████████████████████████████| 23/23 [00:00<00:00, 36.22it/s]\n"
     ]
    },
    {
     "name": "stdout",
     "output_type": "stream",
     "text": [
      "1\n",
      "____________________\n",
      "./loops_data/loops_files_processed/Heffel_3T_sampled_dots_final_12000000maxloci_0.13fdr_15000res_small_NaN5_final_sorted_with_intensity_removed_duplicates_noHeader.bed\n"
     ]
    },
    {
     "name": "stderr",
     "output_type": "stream",
     "text": [
      "100%|████████████████████████████████████████████████████████████████████████████████████████████████████████████████████████████████████| 23/23 [00:00<00:00, 66.40it/s]\n"
     ]
    },
    {
     "name": "stdout",
     "output_type": "stream",
     "text": [
      "1\n",
      "____________________\n",
      "./loops_data/loops_files_processed/Heffel_adult_sampled_dots_final_12000000maxloci_0.13fdr_15000res_small_NaN5_final_sorted_with_intensity_removed_duplicates_noHeader.bed\n"
     ]
    },
    {
     "name": "stderr",
     "output_type": "stream",
     "text": [
      "100%|████████████████████████████████████████████████████████████████████████████████████████████████████████████████████████████████████| 23/23 [00:00<00:00, 33.21it/s]\n"
     ]
    },
    {
     "name": "stdout",
     "output_type": "stream",
     "text": [
      "1\n",
      "____________________\n",
      "./loops_data/loops_files_processed/Heffel_infant_sampled_dots_final_12000000maxloci_0.13fdr_15000res_small_NaN5_final_sorted_with_intensity_removed_duplicates_noHeader.bed\n"
     ]
    },
    {
     "name": "stderr",
     "output_type": "stream",
     "text": [
      "100%|████████████████████████████████████████████████████████████████████████████████████████████████████████████████████████████████████| 23/23 [00:00<00:00, 27.54it/s]\n"
     ]
    },
    {
     "name": "stdout",
     "output_type": "stream",
     "text": [
      "1\n",
      "____________________\n",
      "./loops_data/loops_files_processed/Hu2021_NeuNplus_sampled_dots_final_12000000maxloci_0.13fdr_15000res_small_NaN5_final_sorted_with_intensity_removed_duplicates_noHeader.bed\n"
     ]
    },
    {
     "name": "stderr",
     "output_type": "stream",
     "text": [
      "100%|████████████████████████████████████████████████████████████████████████████████████████████████████████████████████████████████████| 23/23 [00:00<00:00, 85.12it/s]\n"
     ]
    },
    {
     "name": "stdout",
     "output_type": "stream",
     "text": [
      "1\n",
      "____________________\n",
      "./loops_data/loops_files_processed/Li2022_iPSC_NeuNplus_sampled_dots_final_12000000maxloci_0.13fdr_15000res_small_NaN5_final_sorted_with_intensity_removed_duplicates_noHeader.bed\n"
     ]
    },
    {
     "name": "stderr",
     "output_type": "stream",
     "text": [
      "100%|████████████████████████████████████████████████████████████████████████████████████████████████████████████████████████████████████| 23/23 [00:00<00:00, 97.59it/s]\n"
     ]
    },
    {
     "name": "stdout",
     "output_type": "stream",
     "text": [
      "1\n",
      "____________________\n",
      "./loops_data/loops_files_processed/Lu2020_iPSC_5kb_sampled_dots_final_12000000maxloci_0.13fdr_15000res_small_NaN5_final_sorted_with_intensity_removed_duplicates_noHeader.bed\n"
     ]
    },
    {
     "name": "stderr",
     "output_type": "stream",
     "text": [
      "100%|███████████████████████████████████████████████████████████████████████████████████████████████████████████████████████████████████| 23/23 [00:00<00:00, 251.51it/s]\n"
     ]
    },
    {
     "name": "stdout",
     "output_type": "stream",
     "text": [
      "1\n",
      "____________________\n",
      "./loops_data/loops_files_processed/Lu2020_iPSC_NeuNplus_sampled_dots_final_12000000maxloci_0.13fdr_15000res_small_NaN5_final_sorted_with_intensity_removed_duplicates_noHeader.bed\n"
     ]
    },
    {
     "name": "stderr",
     "output_type": "stream",
     "text": [
      "100%|████████████████████████████████████████████████████████████████████████████████████████████████████████████████████████████████████| 23/23 [00:01<00:00, 19.15it/s]\n"
     ]
    },
    {
     "name": "stdout",
     "output_type": "stream",
     "text": [
      "1\n",
      "____________________\n",
      "./loops_data/loops_files_processed/Our_data_iPSC_NeuNplus_sampled_dots_final_12000000maxloci_0.13fdr_15000res_small_NaN5_final_sorted_with_intensity_removed_duplicates_noHeader.bed\n"
     ]
    },
    {
     "name": "stderr",
     "output_type": "stream",
     "text": [
      "100%|███████████████████████████████████████████████████████████████████████████████████████████████████████████████████████████████████| 23/23 [00:00<00:00, 111.95it/s]\n"
     ]
    },
    {
     "name": "stdout",
     "output_type": "stream",
     "text": [
      "1\n",
      "____________________\n",
      "./loops_data/loops_files_processed/Pletenev2024_NeuNplus_sampled_dots_final_12000000maxloci_0.13fdr_15000res_small_NaN5_final_sorted_with_intensity_removed_duplicates_noHeader.bed\n"
     ]
    },
    {
     "name": "stderr",
     "output_type": "stream",
     "text": [
      "100%|████████████████████████████████████████████████████████████████████████████████████████████████████████████████████████████████████| 23/23 [00:00<00:00, 70.70it/s]\n"
     ]
    },
    {
     "name": "stdout",
     "output_type": "stream",
     "text": [
      "1\n",
      "____________________\n",
      "./loops_data/loops_files_processed/Rahman2023_FetalBrain_sampled_dots_final_12000000maxloci_0.13fdr_15000res_small_NaN5_final_sorted_with_intensity_removed_duplicates_noHeader.bed\n"
     ]
    },
    {
     "name": "stderr",
     "output_type": "stream",
     "text": [
      "100%|███████████████████████████████████████████████████████████████████████████████████████████████████████████████████████████████████| 23/23 [00:00<00:00, 239.00it/s]"
     ]
    },
    {
     "name": "stdout",
     "output_type": "stream",
     "text": [
      "1\n"
     ]
    },
    {
     "name": "stderr",
     "output_type": "stream",
     "text": [
      "\n"
     ]
    },
    {
     "name": "stdout",
     "output_type": "stream",
     "text": [
      "____________________\n",
      "./loops_data/loops_files_processed/Rahman2023_NeuNplus_sampled_dots_final_12000000maxloci_0.13fdr_15000res_small_NaN5_final_sorted_with_intensity_removed_duplicates_noHeader.bed\n"
     ]
    },
    {
     "name": "stderr",
     "output_type": "stream",
     "text": [
      "100%|███████████████████████████████████████████████████████████████████████████████████████████████████████████████████████████████████| 23/23 [00:00<00:00, 167.13it/s]\n"
     ]
    },
    {
     "name": "stdout",
     "output_type": "stream",
     "text": [
      "1\n",
      "____________________\n",
      "./loops_data/loops_files_processed/Rahman2023_iPSC_NeuNplus_CRISPRi_Scrambled_A_DpnII-HinfI_sampled_dots_final_12000000maxloci_0.13fdr_15000res_small_NaN5_final_sorted_with_intensity_removed_duplicates_noHeader.bed\n"
     ]
    },
    {
     "name": "stderr",
     "output_type": "stream",
     "text": [
      "100%|████████████████████████████████████████████████████████████████████████████████████████████████████████████████████████████████████| 23/23 [00:00<00:00, 31.08it/s]\n"
     ]
    },
    {
     "name": "stdout",
     "output_type": "stream",
     "text": [
      "1\n",
      "____________________\n",
      "./loops_data/loops_files_processed/Rajarajan_NPC_5kb_sampled_dots_final_12000000maxloci_0.13fdr_15000res_small_NaN5_final_sorted_with_intensity_removed_duplicates_noHeader.bed\n"
     ]
    },
    {
     "name": "stderr",
     "output_type": "stream",
     "text": [
      "100%|████████████████████████████████████████████████████████████████████████████████████████████████████████████████████████████████████| 23/23 [00:00<00:00, 45.86it/s]\n"
     ]
    },
    {
     "name": "stdout",
     "output_type": "stream",
     "text": [
      "1\n",
      "____________________\n",
      "./loops_data/loops_files_processed/Rajarajan_iPSC_Glia_5kb_sampled_dots_final_12000000maxloci_0.13fdr_15000res_small_NaN5_final_sorted_with_intensity_removed_duplicates_noHeader.bed\n"
     ]
    },
    {
     "name": "stderr",
     "output_type": "stream",
     "text": [
      "100%|████████████████████████████████████████████████████████████████████████████████████████████████████████████████████████████████████| 23/23 [00:00<00:00, 41.36it/s]\n"
     ]
    },
    {
     "name": "stdout",
     "output_type": "stream",
     "text": [
      "1\n",
      "____________________\n",
      "./loops_data/loops_files_processed/Rajarajan_iPSC_NeuNplus_sampled_dots_final_12000000maxloci_0.13fdr_15000res_small_NaN5_final_sorted_with_intensity_removed_duplicates_noHeader.bed\n"
     ]
    },
    {
     "name": "stderr",
     "output_type": "stream",
     "text": [
      "100%|████████████████████████████████████████████████████████████████████████████████████████████████████████████████████████████████████| 23/23 [00:00<00:00, 51.15it/s]\n"
     ]
    },
    {
     "name": "stdout",
     "output_type": "stream",
     "text": [
      "1\n",
      "____________________\n",
      "./loops_data/loops_files_processed/Tian2023_NeuNplus_sampled_dots_final_12000000maxloci_0.13fdr_15000res_small_NaN5_final_sorted_with_intensity_removed_duplicates_noHeader.bed\n"
     ]
    },
    {
     "name": "stderr",
     "output_type": "stream",
     "text": [
      "100%|████████████████████████████████████████████████████████████████████████████████████████████████████████████████████████████████████| 23/23 [00:02<00:00,  9.48it/s]\n"
     ]
    },
    {
     "name": "stdout",
     "output_type": "stream",
     "text": [
      "1\n",
      "____________________\n",
      "./loops_data/loops_files_processed/Wu2021_iPSC_NeuNplus_sampled_dots_final_12000000maxloci_0.13fdr_15000res_small_NaN5_final_sorted_with_intensity_removed_duplicates_noHeader.bed\n"
     ]
    },
    {
     "name": "stderr",
     "output_type": "stream",
     "text": [
      "100%|████████████████████████████████████████████████████████████████████████████████████████████████████████████████████████████████████| 23/23 [00:00<00:00, 30.72it/s]\n"
     ]
    },
    {
     "name": "stdout",
     "output_type": "stream",
     "text": [
      "1\n",
      "____________________\n",
      "./loops_data/loops_files_processed/Zaghi2023_NPC_5kb_sampled_dots_final_12000000maxloci_0.13fdr_15000res_small_NaN5_final_sorted_with_intensity_removed_duplicates_noHeader.bed\n"
     ]
    },
    {
     "name": "stderr",
     "output_type": "stream",
     "text": [
      "100%|████████████████████████████████████████████████████████████████████████████████████████████████████████████████████████████████████| 23/23 [00:00<00:00, 34.27it/s]\n"
     ]
    },
    {
     "name": "stdout",
     "output_type": "stream",
     "text": [
      "1\n",
      "____________________\n",
      "./loops_data/loops_files_processed/Zaghi2023_iPSC_NeuNplus_sampled_dots_final_12000000maxloci_0.13fdr_15000res_small_NaN5_final_sorted_with_intensity_removed_duplicates_noHeader.bed\n"
     ]
    },
    {
     "name": "stderr",
     "output_type": "stream",
     "text": [
      "100%|████████████████████████████████████████████████████████████████████████████████████████████████████████████████████████████████████| 23/23 [00:01<00:00, 21.69it/s]"
     ]
    },
    {
     "name": "stdout",
     "output_type": "stream",
     "text": [
      "1\n",
      "____________________\n"
     ]
    },
    {
     "name": "stderr",
     "output_type": "stream",
     "text": [
      "\n"
     ]
    }
   ],
   "source": [
    "checker = []\n",
    "for df in bedpe_files_merged:\n",
    "    print(df)\n",
    "    bedpe_test, merged_bedpe_test = merge_bedpe([df], res=15000, cluster_factor = 2.5, dist_method='cityblock', min_pts=1, merge=False)\n",
    "    print(merged_bedpe_test.groupby('cluster').size().sort_values().max())\n",
    "    checker.append(merged_bedpe_test.groupby('cluster').size().sort_values().max())\n",
    "    print(\"_\"*20)\n",
    "assert set(checker) == set([1])"
   ]
  },
  {
   "cell_type": "markdown",
   "id": "889225b8-0f23-4558-bb8d-01ad49121e65",
   "metadata": {},
   "source": [
    "## 3. Perform clustering"
   ]
  },
  {
   "cell_type": "code",
   "execution_count": 14,
   "id": "c640b596-11e8-42d9-ac87-3bf26b056944",
   "metadata": {},
   "outputs": [],
   "source": [
    "def get_hg38_arms():\n",
    "    \"\"\"\n",
    "    The function gets sizes of chromosomes arms by HG38 genome build\n",
    "    \n",
    "    \"\"\"\n",
    "    \n",
    "    hg38_chromsizes = bioframe.fetch_chromsizes('hg38')\n",
    "    hg38_cens = bioframe.fetch_centromeres('hg38')\n",
    "    hg38_arms = bioframe.make_chromarms(hg38_chromsizes, hg38_cens)\n",
    "    return hg38_arms[hg38_arms.chrom!='chrM'].reset_index(drop=True)   \n",
    "    \n",
    "def check_merge_effects(merged_bedpe_clf_2_5):\n",
    "    \"\"\"\n",
    "    The function prints the charasterictics of the identified clusters\n",
    "    \n",
    "    \"\"\"\n",
    "    \n",
    "    #1\n",
    "    description = \"The number of dots in one Cluster from one Source\"\n",
    "    df_check = merged_bedpe_clf_2_5.groupby(['cluster', 'source']).size().to_frame().reset_index()\n",
    "    print(description, df_check.groupby(0).size().to_frame())\n",
    "    print(\"__\"*14)\n",
    "    \n",
    "    #2\n",
    "    description = \"The MAX number of dots in all Cluster - \"\n",
    "    print(description, merged_bedpe_clf_2_5.groupby(['cluster']).size().max())\n",
    "    print(\"__\"*14)\n",
    "    \n",
    "    #3\n",
    "    description = \"The number of Clusters by the dots from different Sources \"\n",
    "    df_check[\"diff_sources\"] = 1\n",
    "    print(description, df_check.groupby(['cluster', \"diff_sources\"]).size().to_frame().groupby(0).size())\n",
    "    print(\"__\"*14)\n",
    "\n",
    "    #4\n",
    "    description = \"The number of Clusters with the specific size\"\n",
    "    print(description, merged_bedpe_clf_2_5.groupby(['cluster']).size().to_frame().reset_index().groupby(0).size())\n",
    "\n",
    "def get_cluster_borders(df, bin_size=15000):\n",
    "    # Calculate min and max in a vectorized way\n",
    "    min_start1 = df['start1'].min()\n",
    "    max_end1 = df['end1'].max()\n",
    "    min_start2 = df['start2'].min()\n",
    "    max_end2 = df['end2'].max()\n",
    "    \n",
    "    # Define borders\n",
    "    cluster_borders = {\n",
    "        'chrom1': df['chrom1'].iloc[0],\n",
    "        'start1': min_start1,\n",
    "        'end1': max_end1,\n",
    "        'start2': min_start2,\n",
    "        'end2': max_end2,\n",
    "        'chrom2': df['chrom2'].iloc[0]\n",
    "    }\n",
    "    \n",
    "    # Calculate number of bins\n",
    "    num_bins_left = (max_end1 - min_start1) // bin_size\n",
    "    num_bins_right = (max_end2 - min_start2) // bin_size\n",
    "    total_bins = num_bins_left * num_bins_right\n",
    "    \n",
    "    # Extend clusters\n",
    "    extension = extend_clusters(total_bins, bin_size)\n",
    "    extended_borders = {\n",
    "        'chrom1': cluster_borders['chrom1'],\n",
    "        'start1': min_start1 - extension,\n",
    "        'end1': max_end1 + extension,\n",
    "        'chrom2': cluster_borders['chrom2'],\n",
    "        'start2': min_start2 - extension,\n",
    "        'end2': max_end2 + extension\n",
    "    }\n",
    "    \n",
    "    # Recalculate initnumber of bins with extended borders\n",
    "    num_bins_left_extended = (extended_borders['end1'] - extended_borders['start1']) // bin_size\n",
    "    num_bins_right_extended = (extended_borders['end2'] - extended_borders['start2']) // bin_size\n",
    "    total_bins_extended = num_bins_left_extended * num_bins_right_extended\n",
    "    \n",
    "    return cluster_borders, total_bins, extended_borders, total_bins_extended\n",
    "\n",
    "def extend_clusters(total_bins, bin_size=15000):\n",
    "    if total_bins <= 2:\n",
    "        return 2 * bin_size\n",
    "    elif 3 <= total_bins <= 12:\n",
    "        return bin_size\n",
    "    else:\n",
    "        return 0"
   ]
  },
  {
   "cell_type": "code",
   "execution_count": 36,
   "id": "288eb474-a96a-4841-befa-4cfae8585e70",
   "metadata": {},
   "outputs": [],
   "source": [
    "### Obtain initial clusters\n",
    "def get_merged_bedpe_with_filtering(bedpe_files_merged, file_to_filter, add_ipcs_rahman, selected_groups = ['iPSC-derived', 'Post-mortem'],make_parallel = False, cluster_factor = 2, remove_ipsc_glia=False):\n",
    "    \"\"\"\n",
    "    Get merged BEDPE files from filtered list of files with loops\n",
    "    \"\"\"\n",
    "    print('1. Getting merged bedpe') \n",
    "    \n",
    "    bedpe_files_merged_filtered = [i for i in bedpe_files_merged if all(e not in i for e in file_to_filter)]\n",
    "    if any(\"Lu\" in i for i in file_to_filter):\n",
    "        checker = {i:k for i,k in samples2groups.items() if \"Lu\" not in i}\n",
    "    else:\n",
    "        checker = samples2groups.copy()\n",
    "    if remove_ipsc_glia:\n",
    "        checker = {i:k for i,k in checker.items() if \"Glia\" not in i}\n",
    "        print(checker)\n",
    "    # print (f\"These are bedpe - {bedpe_files_merged_filtered}\")\n",
    "    print (len(bedpe_files_merged_filtered), len([i for k,i in checker.items() if i in selected_groups])   )\n",
    "    assert len(bedpe_files_merged_filtered) == len([i for k,i in checker.items() if i in selected_groups])    \n",
    "        \n",
    "    if add_ipcs_rahman:\n",
    "        bedpe_files_merged_filtered+=[f'./loops_data/loops_files_processed/Rahman2023_iPSC_NeuNplus_CRISPRi_Scrambled_A_DpnII-HinfI_sampled_dots_final_12000000maxloci_0.13fdr_15000res_small_NaN5_final_sorted_with_intensity_removed_duplicates_noHeader.bed']\n",
    "    if make_parallel:\n",
    "        bedpe_clf_2, merged_bedpe_clf_2 = merge_bedpe_parallel(bedpe_files_merged_filtered, cluster_factor = cluster_factor, no_header=True)\n",
    "    else:\n",
    "        bedpe_clf_2, merged_bedpe_clf_2 = merge_bedpe(bedpe_files_merged_filtered, cluster_factor = cluster_factor, no_header=True)\n",
    "    merged_bedpe_clf_2 = merged_bedpe_clf_2.rename(columns = {0:\"chrom1\",1:\"start1\", 2:\"end1\",3:\"chrom2\", 4:\"start2\", 5:\"end2\", 6:\"num\", 7:\"kernel\",8:\"intensity_all\",9:\"intensity_mean\"})\n",
    "    assert merged_bedpe_clf_2['source'].nunique() == len(bedpe_files_merged) - len(file_to_filter)\n",
    "    assert set([i.split('/')[-1] for i in merged_bedpe_clf_2['source'].unique()]) == set([i.split('/')[-1] for i in bedpe_files_merged_filtered])\n",
    "    return merged_bedpe_clf_2\n",
    "\n",
    "def get_final_cluster_area_from_initial_clusters(merged_bedpe_clf_2):\n",
    "    print('2. Getting final cluster area from initial clusters')\n",
    "    cluster_to_area = {}\n",
    "    for cluster, group in tqdm(merged_bedpe_clf_2.groupby('cluster')):\n",
    "        unique_loops = group.iloc[:, :6].drop_duplicates()\n",
    "        cluster_borders, total_bins, extended_borders, total_bins_extended = get_cluster_borders(unique_loops)\n",
    "        cluster_to_area[cluster] = [cluster_borders, total_bins, extended_borders, total_bins_extended]\n",
    "    assert len(cluster_to_area) == merged_bedpe_clf_2.groupby('cluster').size().to_frame().shape[0]\n",
    "    return cluster_to_area\n",
    "\n",
    "def give_cluster_stats(cluster_to_area):\n",
    "    total_bins_extended_all, total_bins_all = [], []\n",
    "    for cluster in cluster_to_area.keys():\n",
    "        total_bins_extended_all.append(cluster_to_area[cluster][3])\n",
    "        total_bins_all.append(cluster_to_area[cluster][1])\n",
    "    print(\"Bins number (min / max): \",min(total_bins_all), max(total_bins_all))\n",
    "    print(\"Extended bins number (min / max): \",min(total_bins_extended_all), max(total_bins_extended_all))\n",
    "    print(f\"Median size - {np.median(total_bins_extended_all)}\")\n",
    "\n",
    "    "
   ]
  },
  {
   "cell_type": "code",
   "execution_count": 16,
   "id": "24893067-58e1-47a1-a711-995810ffddbc",
   "metadata": {},
   "outputs": [],
   "source": [
    "### Adjust for extended clusters\n",
    "def get_extended_coordinates(cluster_to_area):    \n",
    "    cluster_to_area_only_extended = {i:k[2] for i,k in cluster_to_area.items()}\n",
    "    cluster_to_area_df = pd.DataFrame(cluster_to_area_only_extended).T\n",
    "    cluster_to_area_df = cluster_to_area_df.reset_index()\n",
    "    cluster_to_area_df.rename(columns = {'index':'cluster_init'}, inplace=True)\n",
    "    cluster_to_area_df = cluster_to_area_df[['chrom1', 'start1', 'end1', 'chrom2', 'start2', 'end2', 'cluster_init']]\n",
    "    return cluster_to_area_df\n",
    "\n",
    "def build_interval_trees(df):\n",
    "    trees = {chrom: IntervalTree() for chrom in pd.concat([df['chrom1'], df['chrom2']]).unique()}\n",
    "    for _, row in df.iterrows():\n",
    "        trees[row['chrom1']].add(Interval(row['start1'], row['end1'] + 1, row['cluster_init']))\n",
    "        trees[row['chrom2']].add(Interval(row['start2'], row['end2'] + 1, row['cluster_init']))\n",
    "    return trees\n",
    "    \n",
    "def get_bedpe_clusters(df):\n",
    "    print('3. Perform clustering of the extended cluster area')\n",
    "    trees = build_interval_trees(df)\n",
    "    novel_clusters = {}    \n",
    "    # Check for intersections\n",
    "    for _, row in df.iterrows():\n",
    "        for chrom, start, end in [(row['chrom1'], row['start1'], row['end1']), (row['chrom2'], row['start2'], row['end2'])]:\n",
    "            tree = trees[chrom]\n",
    "            intersects = tree[start:end + 1]\n",
    "            for intersect in intersects:\n",
    "                if intersect.data != row['cluster_init']:\n",
    "                    # Check if the other end also intersects\n",
    "                    other_chrom = row['chrom2'] if chrom == row['chrom1'] else row['chrom1']\n",
    "                    other_start = row['start2'] if start == row['start1'] else row['start1']\n",
    "                    other_end = row['end2'] if end == row['end1'] else row['end1']\n",
    "                    other_tree = trees[other_chrom]\n",
    "                    other_intersects = other_tree[other_start:other_end + 1]\n",
    "                    if any(other_intersect.data == intersect.data for other_intersect in other_intersects):\n",
    "                        # If the initial cluster is not already in a novel cluster, create a new one\n",
    "                        if row['cluster_init'] not in novel_clusters:\n",
    "                            novel_clusters[row['cluster_init']] = [row['cluster_init'], intersect.data]\n",
    "                        # If the initial cluster is already in a novel cluster, add the intersecting cluster to it\n",
    "                        elif intersect.data not in novel_clusters[row['cluster_init']]:\n",
    "                            novel_clusters[row['cluster_init']].append(intersect.data)\n",
    "    \n",
    "    # If an initial cluster is not in a novel cluster, make it its own novel cluster\n",
    "    for cluster in df['cluster_init']:\n",
    "        if cluster not in novel_clusters:\n",
    "            novel_clusters[cluster] = [cluster]\n",
    "    return novel_clusters\n",
    "\n",
    "\n",
    "def save_novel_clusters(novel_clusters, reduced_filtering, save_name):\n",
    "    if reduced_filtering:\n",
    "        name_appender = '_reduceFiltering'\n",
    "    else:\n",
    "        name_appender =''\n",
    "    save_path_novel_clusters = f'{path_to_loops_clusters_data}/{save_name}_novel_clusters{name_appender}.pickle'\n",
    "    with open(save_path_novel_clusters, 'wb') as f:\n",
    "        pickle.dump(novel_clusters, f)"
   ]
  },
  {
   "cell_type": "code",
   "execution_count": 17,
   "id": "22dd8495-4ee3-4e4d-a470-edca672931c7",
   "metadata": {},
   "outputs": [],
   "source": [
    "### Cluster filtering\n",
    "\n",
    "def filter_clusters_by_number(group, mean_intensities, cutoff_by_number= 2):\n",
    "    if group['source'].nunique() <=cutoff_by_number:\n",
    "        return group.name   \n",
    "            \n",
    "def filter_clusters_by_number_by_intensity(group, mean_intensities, cutoff_by_number_by_intensity):\n",
    "    \"\"\"\n",
    "    Filter clusters where only N (cutoff_by_number_by_intensity) source and the mean intensities of 50% included in it loops are lower than 25% for each source    \n",
    "    \"\"\"\n",
    "    cnt=0\n",
    "    if group['source'].nunique() <=cutoff_by_number_by_intensity:\n",
    "        for source in group['source'].unique():\n",
    "            df = group[group['source'] == source]            \n",
    "            if (df['intensity_mean'] <= mean_intensities[source]).all():\n",
    "                cnt+=1            \n",
    "        if cnt>=int(round(cutoff_by_number_by_intensity*0.5)):\n",
    "            return group.name\n",
    "\n",
    "def filter_clusters_3(group, mean_intensities):\n",
    "    cnt=0\n",
    "    if group['source'].nunique() ==3:\n",
    "        for source in group['source'].unique():\n",
    "            df = group[group['source'] == source]            \n",
    "            if (df['intensity_mean'] <= mean_intensities[source]).all():\n",
    "                cnt+=1            \n",
    "        if cnt>=1:\n",
    "            return group.name\n",
    "\n",
    "def filter_clusters_by_number_by_intensity_by_group(group, mean_intensities, group_source_counts, cutoff_by_number_by_intensity_by_group):\n",
    "    cnt = 0\n",
    "    required_unique_sources = int(round(group_source_counts.get(group.name[1], 3) *cutoff_by_number_by_intensity_by_group))\n",
    "    if group['source'].nunique() <= required_unique_sources:\n",
    "        for source in group['source'].unique():\n",
    "            df = group[group['source'] == source]\n",
    "            if (df['intensity_mean'] <= mean_intensities[source]).all():\n",
    "                cnt += 1\n",
    "        if cnt >= int(round(required_unique_sources*0.5)):\n",
    "            return group.name\n",
    "\n",
    "\n",
    "def create_mean_intensities(merged_bedpe_clf_2, cutoff=0.25):\n",
    "    mean_intensities = {}\n",
    "    for source in merged_bedpe_clf_2.source.unique():\n",
    "        df = merged_bedpe_clf_2[merged_bedpe_clf_2.source == source]\n",
    "        intensity_mean_list = df.intensity_mean.tolist()\n",
    "        mean_intensities[source] = np.nanquantile(intensity_mean_list,cutoff)\n",
    "    return mean_intensities\n",
    "\n",
    "def filter_Lu_samples(merged_bedpe_clf_2):\n",
    "    \"\"\"\n",
    "    Filter clusters where Lu is the only one source\n",
    "    \"\"\"\n",
    "    cluster_sources = merged_bedpe_clf_2.groupby('cluster')['source'].agg(list)    \n",
    "    specified_source = [i for i in merged_bedpe_clf_2.source.unique() if \"Lu\" in i]\n",
    "    cluster_drop1 = cluster_sources[cluster_sources.apply(lambda x: x == specified_source)].index.tolist()    \n",
    "    return cluster_drop1\n",
    "\n",
    "def filter_clusters_by_number_in_group(merged_bedpe_clf_2, cutoff_by_number_by_group):\n",
    "    groupped_by_cluster_group = merged_bedpe_clf_2[['cluster', 'group', 'source']].drop_duplicates().groupby(['cluster', 'group']).size().to_frame().reset_index()\n",
    "    return groupped_by_cluster_group.groupby('cluster').filter(lambda x: all(x[0] <= cutoff_by_number_by_group)).cluster.unique().tolist()\n",
    "     \n",
    "def technical_filters(merged_bedpe_clf_2):\n",
    "    return list(set([i for i in merged_bedpe_clf_2.cluster if  \"_-1\" in i]))\n",
    "    \n",
    "def filter_clusters_all(merged_bedpe_clf_2, cluster_to_area, save_name, name_appender, reduced_filtering=True, cutoff_by_number=1, cutoff_by_number_by_group=1, cutoff_by_number_by_intensity=3, cutoff_by_number_by_intensity_by_group=0.35):  \n",
    "    print('4. Perform clusters filtering')\n",
    "    mean_intensities = create_mean_intensities(merged_bedpe_clf_2, cutoff=0.25)\n",
    "    group_source_counts = dict(Counter(samples2groups.values()))\n",
    "    merged_bedpe_clf_2['group'] = merged_bedpe_clf_2['source'].map(loops2groups)\n",
    "    print('4.1 Get filters')\n",
    "\n",
    "    cluster_drop0 = technical_filters(merged_bedpe_clf_2)\n",
    "    print(f\"Filter 0: technical filter - {len(cluster_drop0)}\")\n",
    "    \n",
    "    cluster_drop1 = filter_Lu_samples(merged_bedpe_clf_2)\n",
    "    print(f\"Filter 1: no Lu - {len(cluster_drop1)}\")\n",
    "    \n",
    "    cluster_drop2 = merged_bedpe_clf_2.groupby('cluster').apply(filter_clusters_by_number, mean_intensities, cutoff_by_number=cutoff_by_number).dropna().values.tolist()\n",
    "    print(f\"Filter 2:  {cutoff_by_number} samples by cluster - \", len(cluster_drop2))\n",
    "    \n",
    "    cluster_drop3 = filter_clusters_by_number_in_group(merged_bedpe_clf_2, cutoff_by_number_by_group=cutoff_by_number_by_group)\n",
    "    print(f\"Filter 3: {cutoff_by_number_by_group} samples by cluster and group - \", len(cluster_drop3))\n",
    "    \n",
    "    all_cluster_drop = list(set(cluster_drop0+cluster_drop1+cluster_drop2+cluster_drop3))\n",
    "    \n",
    "    if not reduced_filtering:  \n",
    "        cluster_drop4 = merged_bedpe_clf_2.groupby('cluster').apply(filter_clusters_by_number_by_intensity, mean_intensities, cutoff_by_number_by_intensity=cutoff_by_number_by_intensity).dropna().values.tolist()\n",
    "        print(f\"Filter 4*: {cutoff_by_number_by_intensity} samples by cluster and intensity - {len(cluster_drop4)}\")   \n",
    "\n",
    "\n",
    "        result = merged_bedpe_clf_2.groupby(['cluster', 'group']).apply(filter_clusters_by_number_by_intensity_by_group, mean_intensities, group_source_counts, cutoff_by_number_by_intensity_by_group=cutoff_by_number_by_intensity_by_group).dropna().tolist()\n",
    "        cluster_drop5 = pd.DataFrame(result, columns=['cluster', 'group']).groupby('cluster').size().reset_index(name='count').query('count > 1').cluster.dropna().unique().tolist()\n",
    "        print(f\"Filter 5*: {cutoff_by_number_by_intensity_by_group} samples by cluster / intensity / group - {len(cluster_drop5)}\") \n",
    "        \n",
    "        all_cluster_drop = list(set(cluster_drop0+cluster_drop1+cluster_drop2+cluster_drop3+cluster_drop4+cluster_drop5))\n",
    "    \n",
    "    print(\"In total filter - \", len(all_cluster_drop))\n",
    "    \n",
    "    merged_bedpe_clf_2_filtered = merged_bedpe_clf_2[~merged_bedpe_clf_2.cluster.isin(all_cluster_drop)]\n",
    "    print(f\"Initial number of clusters - {merged_bedpe_clf_2.cluster.nunique()}\")\n",
    "    print(f\"Final number of clusters - {merged_bedpe_clf_2_filtered.cluster.nunique()}\")\n",
    "    cluster_to_area_filtered = {key: value for key, value in cluster_to_area.items() if key not in all_cluster_drop}\n",
    "\n",
    "    print('4.2 Saving files')\n",
    "    \n",
    "    merged_bedpe_clf_2_filtered.to_pickle(f'{path_to_loops_clusters_temp_data}/{save_name}_merged_bedpe_clf_2_filtered{name_appender}.pickle') #save\n",
    "    pd.DataFrame(cluster_to_area_filtered).to_pickle(f'{path_to_loops_clusters_temp_data}/{save_name}_cluster_to_area_filtered{name_appender}.pickle') #save\n",
    "    \n",
    "\n",
    "    return merged_bedpe_clf_2_filtered, cluster_to_area_filtered\n"
   ]
  },
  {
   "cell_type": "code",
   "execution_count": 18,
   "id": "2eed97c8-a014-4274-b0ae-0f19847d5d93",
   "metadata": {},
   "outputs": [],
   "source": [
    "##Get missing clusters layout for each map\n",
    "def get_source2map(merged_bedpe_clf_2_filtered, maps2loops):\n",
    "    source2map = {}\n",
    "    for k in merged_bedpe_clf_2_filtered.source.unique():\n",
    "        name = k.split(\"_sampled_dots_final_\")[0]\n",
    "        map = [k for k,i in maps2loops.items() if name in i]\n",
    "        assert len(map) == 1\n",
    "        source2map[k] = map[0].split('/')[-1]\n",
    "    return source2map\n",
    "        \n",
    "def get_individual_clusters_for_each_map(merged_bedpe_clf_2_filtered, cluster_to_area_filtered, save_name):\n",
    "    print('5. Get all clusters layout (original + from identified clusters) for each map')\n",
    "    \n",
    "    all_clusters = {}\n",
    "    hg38_arms = get_hg38_arms()\n",
    "    maps_loaded = load_maps(merged_bedpe_clf_2_filtered)\n",
    "    missing_clusters = get_missed_clusters(merged_bedpe_clf_2_filtered)\n",
    "    \n",
    "    for source in merged_bedpe_clf_2_filtered.source.unique():\n",
    "        print(source.split('_sampled_dots_final_12000000maxloci_')[0])\n",
    "        area3_to_3_final = calculate_all_clusters(source, maps_loaded, missing_clusters, merged_bedpe_clf_2_filtered, cluster_to_area_filtered, hg38_arms, save_name)\n",
    "        all_clusters[source] = area3_to_3_final\n",
    "        save_name_temp = save_name \n",
    "        if \"CRISPRi_Scrambled_A_DpnII-HinfI\" in source and \"Rahman\" in source:\n",
    "            save_name_temp = \"Rahman_iPSC_NeuNplus\"\n",
    "        area3_to_3_final.to_pickle(f'{path_to_loops_clusters_temp_data}/{save_name_temp}_{source}_temp_area3_to_3_final_reduceFiltering.pickle')\n",
    "    \n",
    "    merged_all_clusters = pd.DataFrame()\n",
    "    for source in merged_bedpe_clf_2_filtered.source.unique():\n",
    "        merged_all_clusters = pd.concat([all_clusters[source],merged_all_clusters]).reset_index(drop=True)\n",
    "    assert merged_all_clusters.groupby('cluster').size().unique()[0] == merged_bedpe_clf_2_filtered.source.nunique()\n",
    "    return merged_all_clusters\n",
    "\n",
    "def load_maps(merged_bedpe_clf_2, directly=False):\n",
    "    hg38_arms = get_hg38_arms()\n",
    "    maps2loops = json.load(open('./loops_data/maps2loops_mapping.json'))\n",
    "    source2map = get_source2map(merged_bedpe_clf_2, maps2loops)    \n",
    "    maps_for_samples_loaded = {}\n",
    "    if directly:\n",
    "        sources = [i.split(\"/\")[-1] for i in merged_bedpe_clf_2]\n",
    "    else:\n",
    "        sources = merged_bedpe_clf_2.source.unique()\n",
    "    for source in tqdm(sources):\n",
    "        maps_for_samples_loaded[source] = {}   \n",
    "        clr = cooler.Cooler(f'{path_to_maps}/{source2map[source]}::/resolutions/{15000}')\n",
    "        maps_for_samples_loaded[source]['cool'] = clr\n",
    "        reduced_maps2loops = source2map[source].split('.mcool', 0)[0]\n",
    "        try:\n",
    "            maps_for_samples_loaded[source]['expected_per_chr'] = pd.read_pickle(f'{path_to_maps_expected}/{reduced_maps2loops}_perChr.pickle')\n",
    "        except:\n",
    "            print(f\"Calculating expected for {source}\")\n",
    "            get_expected(source, source2map, hg38_arms)\n",
    "            maps_for_samples_loaded[source]['expected_per_chr'] = pd.read_pickle(f'{path_to_maps_expected}/{reduced_maps2loops}_perChr.pickle')        \n",
    "\n",
    "\n",
    "        try:  \n",
    "            maps_for_samples_loaded[source]['expected_per_chr_arm'] = pd.read_pickle(f'{path_to_maps_expected}/{reduced_maps2loops}_perChrArm.pickle')\n",
    "\n",
    "        except:\n",
    "            print(f\"Calculating expected for {source}\")\n",
    "            get_expected(source, source2map, hg38_arms, per_arm=True)\n",
    "            maps_for_samples_loaded[source]['expected_per_chr_arm'] = pd.read_pickle(f'{path_to_maps_expected}/{reduced_maps2loops}_perChrArm.pickle')\n",
    "\n",
    "   \n",
    "    return maps_for_samples_loaded\n",
    "\n",
    "\n",
    "def get_expected(source, source2map, hg38_arms, per_arm=False, nproc=17):  \n",
    "    print(source, source2map[source])\n",
    "    clr = cooler.Cooler(f'{path_to_maps}/{source2map[source]}::/resolutions/{15000}')\n",
    "    reduced_maps2loops = source2map[source].split('.mcool', 0)[0]\n",
    "    if per_arm:\n",
    "        expected_per_chr = cooltools.expected_cis(clr, view_df=hg38_arms, nproc=16)\n",
    "        expected_per_chr.to_pickle(f'{path_to_maps_expected}/{reduced_maps2loops}_perChrArm.pickle')\n",
    "\n",
    "    else:\n",
    "        expected_per_chr = cooltools.expected_cis(clr, nproc=nproc)    \n",
    "        expected_per_chr.to_pickle(f'{path_to_maps_expected}/{reduced_maps2loops}_perChr.pickle')\n"
   ]
  },
  {
   "cell_type": "code",
   "execution_count": 46,
   "id": "006138da-baa5-4122-85c3-3771e8cb140c",
   "metadata": {},
   "outputs": [],
   "source": [
    "def get_missed_clusters(merged_bedpe_clf_2_filtered):\n",
    "    print('5.1. Get missing clusters layout for each map')\n",
    "    \"\"\"\n",
    "    Identify which clusters are not present in the orignial loop layout for each map\n",
    "    \"\"\"\n",
    "    all_clusters = set(merged_bedpe_clf_2_filtered.cluster.unique())\n",
    "    \n",
    "    missing_clusters = {}\n",
    "    for source in merged_bedpe_clf_2_filtered.source.unique():\n",
    "        df = merged_bedpe_clf_2_filtered[merged_bedpe_clf_2_filtered.source == source]\n",
    "        present_clusters = set(df['cluster'].unique().tolist())\n",
    "        missing_clusters[source] = all_clusters - present_clusters\n",
    "    \n",
    "    for source, clusters in missing_clusters.items():\n",
    "        print(f\"Missing clusters for {source.split('_sampled_dots_final_12000000maxloci_')[0]}: {len(clusters)}\")\n",
    "    return missing_clusters\n",
    "\n",
    "def calculate_all_clusters(source, maps_loaded, missing_clusters, merged_bedpe_clf_2_filtered, cluster_to_area_filtered, hg38_arms, save_name):    \n",
    "    area3_to_3_all = calculate_loops_from_clusters(source, maps_loaded, missing_clusters, cluster_to_area_filtered, hg38_arms)\n",
    "    area3_to_3_all_not_missing = calculate_loops_from_internal(source, merged_bedpe_clf_2_filtered, missing_clusters)\n",
    "    \n",
    "    area3_to_3_final = pd.concat([area3_to_3_all, area3_to_3_all_not_missing]).reset_index(drop=True)\n",
    "    assert area3_to_3_final.cluster.nunique() == merged_bedpe_clf_2_filtered.cluster.nunique()\n",
    "    assert area3_to_3_final.shape[0] == area3_to_3_final.cluster.nunique()\n",
    "    name = source.split(\"_sampled_dots_final_12000000maxloci_0.13fdr\")[0]\n",
    "    if \"CRISPRi_Scrambled_A_DpnII\" in name:\n",
    "        name = 'Rahman2023_iPSC_NeuNplus'\n",
    "   \n",
    "    area3_to_3_final.to_pickle(f\"{path_to_loops_clusters_data}/calculated_clusters_{save_name}_{name}.pickle\")\n",
    "    return area3_to_3_final\n",
    "\n",
    "\n",
    "def calculate_loops_from_clusters(source, maps_loaded, missing_clusters, cluster_to_area_filtered, hg38_arms):\n",
    "    print('5.2. Get missing loops from clusters')\n",
    "    maps_collection = maps_loaded[source]\n",
    "    clr = maps_collection['cool']\n",
    "    expected = maps_collection['expected_per_chr_arm']\n",
    "    \n",
    "    cluster_to_fill, cluster_to_fill_one_bin, mimic = create_arrays(missing_clusters, cluster_to_area_filtered, source)\n",
    "    stack = get_pileup(clr, expected, mimic, cluster_to_fill_one_bin,  hg38_arms)\n",
    "    area3_to_3_all = caulculate_full_array(cluster_to_fill, cluster_to_area_filtered, stack, source)\n",
    "    assert area3_to_3_all.shape[0] == len(missing_clusters[source])\n",
    "    return area3_to_3_all\n",
    "\n",
    "def create_arrays(missing_clusters, cluster_to_area_filtered, source):\n",
    "    print('5.2.1 Create an array')\n",
    "    cluster_to_fill = missing_clusters[source]\n",
    "    cluster_to_fill_one_bin = {i : make_one_bin(cluster_to_area_filtered, cluster) for i, cluster in enumerate(cluster_to_fill)}\n",
    "    assert len(cluster_to_fill_one_bin) == len(cluster_to_fill)\n",
    "\n",
    "    mimic = pd.DataFrame(cluster_to_fill_one_bin).T\n",
    "    mimic = mimic.astype({'start1': int, 'end1': int, 'start2': int, 'end2': int})\n",
    "    return cluster_to_fill, cluster_to_fill_one_bin, mimic\n",
    "\n",
    "def make_one_bin(cluster_to_area_filtered, cluster):\n",
    "    \"\"\"\n",
    "    The the upper right corner of missing clusters\n",
    "    \"\"\"\n",
    "    mimic = cluster_to_area_filtered[cluster][2].copy()\n",
    "    mimic[\"end1\"] = mimic[\"start1\"]+15000\n",
    "    mimic[\"end2\"] = mimic[\"start2\"]+15000\n",
    "    return mimic\n",
    "\n",
    "    \n",
    "def get_pileup(clr, expected, mimic, cluster_to_fill_one_bin,hg38_arms):\n",
    "    \"\"\"\n",
    "    Get values on the contacts in missing clusters\n",
    "    \"\"\"\n",
    "    print('5.2.2 Getting a pileup')\n",
    "    stack = cooltools.pileup(clr, \n",
    "                         mimic,\n",
    "                         hg38_arms,                                 \n",
    "                         expected_df=expected, \n",
    "                         flank=210000,\n",
    "                         nproc=17)\n",
    "\n",
    "    stack[:, :, np.all(stack == 0, axis=(0,1))] = np.nan\n",
    "    assert len(cluster_to_fill_one_bin) == stack.shape[0]\n",
    "    stack = [select_lower_right_including_center(i) for i in stack]\n",
    "    for i in stack:\n",
    "        assert i.shape == (15, 15)\n",
    "    return stack\n",
    "\n",
    "def select_lower_right_including_center(arr):\n",
    "    if arr.ndim != 2 or arr.shape[0] != arr.shape[1]:\n",
    "        raise ValueError(\"The array must be square (same number of rows and columns).\")    \n",
    "    n = arr.shape[0]\n",
    "    center_index = n // 2\n",
    "    lower_right_subarray = arr[center_index:, center_index:] # Select the subarray from the center to the bottom-right corner\n",
    "    return lower_right_subarray\n",
    "    \n",
    "def caulculate_full_array(cluster_to_fill, cluster_to_area_filtered, stack, source, bin_size=15000):\n",
    "    \"\"\"\n",
    "    Get contacts data in the whole cluster area\n",
    "    \"\"\"\n",
    "    print('5.2.3 Get contacts data in the whole cluster area')\n",
    "    area3_to_3_all = pd.DataFrame()\n",
    "    for i in tqdm(range(len(cluster_to_fill))):\n",
    "        cluster = list(cluster_to_fill)[i]\n",
    "        area_info = cluster_to_area_filtered[cluster][2]\n",
    "        height = (area_info[\"end1\"] - area_info[\"start1\"]) // bin_size\n",
    "        width = (area_info[\"end2\"] - area_info[\"start2\"]) // bin_size\n",
    "        first_element = stack[i]\n",
    "        rectangle = first_element[:height, :width]\n",
    "        position, intensity_mean, intensity_all, status = find_max_mean_subarray(rectangle)\n",
    "        area3_to_3 = create_3_to_3_bins(cluster_to_area_filtered[cluster][2], position, bin_size)\n",
    "        area3_to_3['source'] = source\n",
    "        if status !=\"failed\":\n",
    "            area3_to_3['intensity_all'] = [intensity_all.tolist()]\n",
    "            area3_to_3['intensity_mean'] = intensity_mean\n",
    "        else:\n",
    "            area3_to_3['intensity_all'] = [np.empty(0)]\n",
    "            area3_to_3['intensity_mean'] = None\n",
    "        area3_to_3['cluster'] = cluster\n",
    "        area3_to_3['calculation'] = 'from_cluster'\n",
    "        \n",
    "        area3_to_3_all = pd.concat([area3_to_3_all, area3_to_3]).reset_index(drop=True)\n",
    "    return area3_to_3_all   \n",
    "\n",
    "def create_3_to_3_bins(cluster_selected_area, position, bin_size = 15000):\n",
    "    area3_to_3 = {}\n",
    "    area3_to_3 = cluster_selected_area.copy()\n",
    "    area3_to_3['start1'] = area3_to_3['start1']+bin_size*position[0]\n",
    "    area3_to_3['end1'] = area3_to_3['start1']+bin_size*3\n",
    "    area3_to_3['start2'] = area3_to_3['start2']+bin_size*position[1]\n",
    "    area3_to_3['end2'] = area3_to_3['start2']+bin_size*3\n",
    "\n",
    "    ### return to 15 kb resolution \n",
    "    area3_to_3['start1'] = area3_to_3['start1'] + bin_size\n",
    "    area3_to_3['end1'] = area3_to_3['end1'] - bin_size\n",
    "    area3_to_3['start2'] = area3_to_3['start2'] + bin_size\n",
    "    area3_to_3['end2'] = area3_to_3['end2'] -bin_size\n",
    "    \n",
    "    return pd.DataFrame([area3_to_3])\n",
    "    \n",
    "## Get intensity in cluster\n",
    "def find_max_mean_subarray(arr):\n",
    "    status = 'success'        \n",
    "    if arr.shape[0] < 3 or arr.shape[1] < 3:   # Check if the array is at least 3x3     \n",
    "        return (0,0), 0, np.empty(0), 'failed'  \n",
    "    \n",
    "    max_mean = -np.inf # Initialize variables to keep track of the maximum mean and its position\n",
    "    best_position = (0, 0)\n",
    "    best_subarray = None  # Initialize variable to store the best subarray\n",
    "    rows, cols = arr.shape # Get the dimensions of the array   \n",
    "    \n",
    "    for i in range(rows - 2): # Loop over all possible positions for the top-left corner of a 3x3 subarray\n",
    "        for j in range(cols - 2):            \n",
    "            subarray = arr[i:i+3, j:j+3] # Extract the 3x3 subarray            \n",
    "            try: # Calculate the mean of the subarray\n",
    "                if subarray.size >0:\n",
    "                    with warnings.catch_warnings():\n",
    "                        warnings.simplefilter(\"ignore\", category=RuntimeWarning)\n",
    "                        current_mean = np.nanmean(subarray)\n",
    "            except:\n",
    "                current_mean = None            \n",
    "            if pd.isna(current_mean): # Update the maximum mean and position if the current mean is greater\n",
    "                continue            \n",
    "            if current_mean > max_mean:\n",
    "                max_mean = current_mean\n",
    "                best_position = (i, j)\n",
    "                best_subarray = subarray  # Update the best subarray                \n",
    "    if pd.isna(current_mean):\n",
    "        status = 'failed'\n",
    "    return best_position, max_mean, best_subarray, status \n"
   ]
  },
  {
   "cell_type": "code",
   "execution_count": 47,
   "id": "cf84dd8e-718d-4156-9ac8-dfd461befb7f",
   "metadata": {},
   "outputs": [],
   "source": [
    "def calculate_loops_from_internal(source, merged_bedpe_clf_2_filtered, missing_clusters):\n",
    "    print('5.3. Get original loops for clusters')\n",
    "    all_clusters = set(merged_bedpe_clf_2_filtered['cluster'].unique())\n",
    "    not_missing = all_clusters - missing_clusters[source]\n",
    "    sources_merged_bedpe_clf_2_filtered = merged_bedpe_clf_2_filtered[merged_bedpe_clf_2_filtered['source'] == source]\n",
    "    sources_merged_bedpe_clf_2_filtered = sources_merged_bedpe_clf_2_filtered[sources_merged_bedpe_clf_2_filtered['cluster'].isin(not_missing)]\n",
    "    sources_merged_bedpe_clf_2_filtered = sources_merged_bedpe_clf_2_filtered.sort_values(['cluster', 'intensity_mean'], ascending=[True, False])\n",
    "    top_rows = sources_merged_bedpe_clf_2_filtered.groupby('cluster').head(1)\n",
    "    top_rows = top_rows[['chrom1', 'start1', 'end1', 'chrom2', 'start2', 'end2', 'source', 'intensity_all', 'intensity_mean', 'cluster']]\n",
    "    top_rows['calculation'] = 'internal'\n",
    "    area3_to_3_all_not_missing = top_rows.reset_index(drop=True)    \n",
    "    assert area3_to_3_all_not_missing.shape[0] == len(not_missing)\n",
    "    return area3_to_3_all_not_missing"
   ]
  },
  {
   "cell_type": "code",
   "execution_count": 48,
   "id": "0d76943d-be59-43f7-b5b8-c1c097b6e0cd",
   "metadata": {},
   "outputs": [],
   "source": [
    "### Apply final filter\n",
    "def filter_final_clusters(merged_all_clusters, novel_clusters, save_name, name_appender):\n",
    "    print('6. Get final cluster layout')\n",
    "    mean_intensity = merged_all_clusters.groupby('cluster')['intensity_mean'].mean()\n",
    "    filter_cluster = []\n",
    "    for key in tqdm(novel_clusters.keys()):\n",
    "        if len(novel_clusters[key]) > 1:\n",
    "            to_cluster = novel_clusters[key]\n",
    "            # Filter the clusters that are present in the DataFrame\n",
    "            to_cluster = [cluster for cluster in to_cluster if cluster in mean_intensity.index]\n",
    "            if to_cluster:\n",
    "                # Get the mean intensities of the clusters\n",
    "                intensities = mean_intensity.loc[to_cluster]\n",
    "                # Sort the clusters by intensity and exclude the first one\n",
    "                filter_cluster_one = intensities.sort_values(ascending=False).index[1:].tolist()\n",
    "                filter_cluster.append(filter_cluster_one)\n",
    "    filter_cluster = list(set([ x for xs in filter_cluster for x in xs ]))\n",
    "    merged_all_clusters_filtered = merged_all_clusters[~merged_all_clusters.cluster.isin(filter_cluster)]\n",
    "    merged_all_clusters.to_pickle(f\"{path_to_loops_clusters_data}/{save_name}_calculated_clusters_all{name_appender}.pickle\")\n",
    "        \n",
    "    return merged_all_clusters_filtered \n"
   ]
  },
  {
   "cell_type": "code",
   "execution_count": 49,
   "id": "ae989342-a60b-4c79-bdac-6c47b1d8f2b7",
   "metadata": {},
   "outputs": [],
   "source": [
    "### Loops post-processing\n",
    "def get_median_values(merged_all_clusters):\n",
    "    list_nanmedian = []\n",
    "    for i in merged_all_clusters.intensity_all:\n",
    "        if isinstance(i, str):\n",
    "            data_str = i.replace('[', '').replace(']', '').replace(\"0.\", '0.00000')\n",
    "            string_i = StringIO(data_str)\n",
    "            loaded_string_i = np.loadtxt(string_i)\n",
    "            list_nanmedian.append(np.nanmedian(loaded_string_i))   \n",
    "        else:\n",
    "            list_nanmedian.append( np.nanmedian(i) )\n",
    "    return list_nanmedian"
   ]
  },
  {
   "cell_type": "code",
   "execution_count": 50,
   "id": "29022bee-5d75-4aef-b656-4294266818fe",
   "metadata": {},
   "outputs": [],
   "source": [
    "### Visualize\n",
    "def abline(slope, intercept):\n",
    "    axes = plt.gca()\n",
    "    x_vals = np.array(axes.get_xlim())\n",
    "    y_vals = intercept + slope * x_vals\n",
    "    plt.plot(x_vals, y_vals, '--')\n",
    "    \n",
    "def plot_pca(pca, components_df, compontents, save_name=None, min_y=-300, max_y=500, min_x=-300, max_x=500):\n",
    "    sns.set_style(\"white\")\n",
    "    plt.figure(figsize=(6,6)) \n",
    "    my_pal = {\n",
    "        'Fetal neurons': '#a85858',\n",
    "        'Fetal ES-derived neurons': '#8c5857',\n",
    "        'Fetal NPC': '#d4adab',\n",
    "        'Fetal stem-like cells': '#967978',\n",
    "        'iPSC-derived neurons': '#469433',\n",
    "        'Stem-like cells': 'dimgrey',\n",
    "        'Post-mortem neurons': '#034e91',\n",
    "        'Post-mortem non-neurons': '#a87963',\n",
    "        'iPSC-derived glia': '#d18c5a',\n",
    "        \"Primary neurons\": \"#77658c\",\n",
    "        'ES-derived neurons': '#53734c'\n",
    "    }\n",
    "    sns.scatterplot(data=components_df, s=120, x=compontents[0], y=compontents[1], \n",
    "                    hue=\"group\",\n",
    "                    palette = my_pal)\n",
    "    abline(0, 0)    \n",
    "    plt.axvline(0, 0,300, ls = '--', c = \"lightgrey\")\n",
    "    plt.axhline(0, 0,300, ls = '--', c = \"lightgrey\")\n",
    "    plt.ylim(min_y,max_y)\n",
    "    plt.xlim(min_x,max_x)\n",
    "    plt.legend(frameon=True, loc='best')\n",
    "    PCA_order = {\"PC1\":0, \"PC2\":1, \"PC3\":2}\n",
    "    plt.xlabel(f\"{compontents[0]} {round(pca.explained_variance_ratio_[PCA_order[compontents[0]]].round(3)*100,1)}%\")\n",
    "    plt.ylabel(f\"{compontents[1]} {round(pca.explained_variance_ratio_[PCA_order[compontents[1]]].round(3)*100,1)}%\")\n",
    "    \n",
    "    texts = [plt.text(components_df[compontents[0]][line], components_df[compontents[1]][line], components_df[\"sample_simple\"][line], horizontalalignment='left',\n",
    "                  size='small', color='black')\n",
    "             for line in range(0,components_df.shape[0])]\n",
    "    adjust_text(texts, arrowprops=dict(arrowstyle=\"-\", color='k', lw=0.4))\n",
    "    if save_name:\n",
    "        plt.savefig(f'./tads_visualizations/{save_name}_pca_loops_figure.pdf', dpi=600, bbox_inches='tight', format='pdf')\n",
    "    plt.show()  \n",
    "\n",
    "def make_pca_on_df(df_res_final, save_name ):\n",
    "    prep_df = df_res_final.T.reset_index().fillna(0)\n",
    "    X = prep_df[prep_df.columns.tolist()[1:]]\n",
    "    scaler = StandardScaler()\n",
    "    X_train_scaled = scaler.fit_transform(X)\n",
    "    pca = PCA(n_components=6)\n",
    "    components = pca.fit_transform(X_train_scaled)\n",
    "    \n",
    "    components_df = pd.DataFrame(components, columns = [\"PC1\",\"PC2\",\"PC3\",\"PC4\",\"PC5\",\"PC6\"])\n",
    "    components_df[\"sample\"] =df_res_final.T.reset_index()[\"source\"].tolist()\n",
    "    df_columns = df_res_final.columns.tolist()\n",
    "    group = []\n",
    "    for i in df_columns:\n",
    "        if 'NPC' in i:\n",
    "            group.append('Stem-like cells')\n",
    "        elif \"Glia\" in i and \"iPSC\" in i:\n",
    "            group.append(\"iPSC-derived glia\")\n",
    "        elif 'iPSC' in i and \"NeuNplus\" in i:\n",
    "            group.append('iPSC-derived neurons')\n",
    "        elif 'iPSC' in i and not \"NeuNplus\" in i:\n",
    "            group.append('Stem-like cells')\n",
    "        elif 'NES' in i and not \"NeuNplus\" in i:\n",
    "            group.append('Stem-like cells')\n",
    "        elif 'Fetal' in i:\n",
    "            group.append('Fetal neurons')        \n",
    "        elif 'Heffel' in i:\n",
    "            if \"adult\" in i:\n",
    "                group.append('Post-mortem neurons')\n",
    "            else:\n",
    "                group.append('Fetal neurons')\n",
    "        elif \"NN\" in i or \"minus\" in i:\n",
    "            group.append('Post-mortem non-neurons')\n",
    "        else:\n",
    "            group.append('Post-mortem neurons')\n",
    "    assert len(group) == len(df_columns) \n",
    "    components_df['group'] = group\n",
    "    \n",
    "    sample_simple = []\n",
    "    for i in components_df[\"sample\"]:\n",
    "        if 'Rahman' in i:\n",
    "            if \"iPSC\" in i or \"Rahman2023_FetalBrain\" in i:\n",
    "                sample_simple.append('_'.join(i.split('_')[:2]))\n",
    "            else:\n",
    "                sample_simple.append(i.split('_')[0])\n",
    "        elif 'Heffel' in i:\n",
    "            sample_simple.append('_'.join(i.split('_')[:4]))\n",
    "        elif 'Tian' in i and (\"EN\" in i or \"IN\" in i):\n",
    "            if \"Tian2023_NeuNplus_EN_IN\" in i:\n",
    "                sample_simple.append('_'.join(i.split('_')[:4]))\n",
    "            else:\n",
    "                sample_simple.append('_'.join(i.split('_')[:3]))\n",
    "        elif 'Zaghi2023' in i or \"Ballerino\" in i or \"Lu2020_iPSC_5kb_\" in i:\n",
    "            sample_simple.append('_'.join(i.split('_')[:2]))        \n",
    "        elif 'Rajarajan' in i:\n",
    "            if \"Glia\" in i:\n",
    "                sample_simple.append('_'.join(i.split('_')[:3]))\n",
    "            else:\n",
    "                sample_simple.append('_'.join(i.split('_')[:2]))\n",
    "        elif \"years\" in i:\n",
    "            sample_simple.append(i.split('_29')[0])\n",
    "        else:\n",
    "            sample_simple.append(i.split('_')[0])\n",
    "    components_df['sample_simple'] =sample_simple\n",
    "    if save_name:\n",
    "        if type(save_name) == str:\n",
    "            components_df.to_csv(f'./loops_pca_data/{save_name}_pca_loops_data.tsv', index=False, sep='\\t')\n",
    "    \n",
    "    return components_df, pca\n",
    "\n",
    "def make_data_for_pca_from_clusters(merged_all_clusters, save_name, value_for_pca = \"intensity_mean\" ):\n",
    "    merged_all_clusters_pivot = merged_all_clusters.pivot(index='cluster', columns='source', values=value_for_pca).dropna()\n",
    "    assert len(set(list(merged_all_clusters_pivot.index))) == len((list(merged_all_clusters_pivot.index)))\n",
    "    components_df, pca = make_pca_on_df(merged_all_clusters_pivot, save_name )\n",
    "    components_df['sample_simple']+\"_\"+components_df[\"group\"]\n",
    "\n",
    "    data_for_pca = merged_all_clusters_pivot.T\n",
    "    data_for_pca['source'] = (components_df['sample_simple']+\"_\"+components_df[\"group\"].tolist()).tolist()\n",
    "    data_for_pca = data_for_pca[[data_for_pca.columns.tolist()[-1]]+data_for_pca.columns.tolist()[:-1]]\n",
    "    data_for_pca = data_for_pca.reset_index(drop=True)\n",
    "    data_for_pca.index.name = None\n",
    "    return components_df, pca, data_for_pca\n",
    "\n",
    "def plot_all(merged_all_clusters, save_name):\n",
    "    print(\"1. Plot based on mean intensities\")\n",
    "    components_df_median, pca_median, data_for_pca_median = make_data_for_pca_from_clusters(merged_all_clusters, value_for_pca = \"intensity_median\", save_name= save_name+\"clusters_median\")\n",
    "    data_for_pca_median.to_csv(f'./loops_pca_data/{save_name}_clusters_median.tsv', index=False, sep='\\t')\n",
    "    for pca_sel in [['PC1','PC2'], ['PC1','PC3'],['PC2','PC3']]:\n",
    "        plot_pca(pca_median, components_df_median, pca_sel,  min_y=-150, max_y=300, min_x=-200, max_x=300, save_name=None)\n",
    "        \n",
    "    print(\"2. Plot based on median intensities\")\n",
    "    components_df_mean, pca_mean, data_for_pca_mean = make_data_for_pca_from_clusters(merged_all_clusters, value_for_pca = \"intensity_mean\", save_name= save_name+\"clusters_mean\")\n",
    "    data_for_pca_mean.to_csv(f'./loops_pca_data/{save_name}_clusters_mean.tsv', index=False, sep='\\t')\n",
    "    for pca_sel in [['PC1','PC2'], ['PC1','PC3'],['PC2','PC3']]:\n",
    "        plot_pca(pca_mean, components_df_mean, pca_sel,  min_y=-150, max_y=300, min_x=-200, max_x=300, save_name=None)"
   ]
  },
  {
   "cell_type": "markdown",
   "id": "b95539be-b80a-4f17-ab93-329a479cd474",
   "metadata": {},
   "source": [
    "## 4. Define common settings"
   ]
  },
  {
   "cell_type": "code",
   "execution_count": 25,
   "id": "f5a79d48-e557-4118-a6ee-e3642cd1d3e9",
   "metadata": {},
   "outputs": [],
   "source": [
    "path_to_mapping = os.getenv('PATH_TO_MAIN_MAPS_MAPPING')\n",
    "path = './loops_data/loops_files_processed/'\n",
    "pattern = '_removed_duplicates'\n",
    "not_pattern = '.bedped'\n",
    "\n",
    "pattern = \"_noHeader\"\n",
    "name_appender=''\n",
    "bedpe_files_merged = [path+f for f in listdir(path) if pattern in f and not_pattern not in f]\n",
    "bedpe_files_merged.sort()\n",
    "assert len(bedpe_files_merged) == number_of_files"
   ]
  },
  {
   "cell_type": "code",
   "execution_count": 26,
   "id": "e9c21d7b-6f26-40f6-b49f-a5066f51e5c0",
   "metadata": {},
   "outputs": [],
   "source": [
    "loops2groups = {}\n",
    "for i in bedpe_files_merged:\n",
    "    if any(part in i for part in [ \"NES\",\"NPC\",\"Glia\"]):\n",
    "        loops2groups[i.split('/')[-1]] = 'Stem-like cells'\n",
    "    elif \"iPSC_NeuNplus\" in i or \"culture_iPSC\" in i:\n",
    "        loops2groups[i.split('/')[-1]] = 'iPSC-derived neurons'\n",
    "    elif \"iPSC\" in i and \"NeuNplus\" not in i:\n",
    "        loops2groups[i.split('/')[-1]] = 'Stem-like cells'\n",
    "    elif \"_adult\" in i:\n",
    "        loops2groups[i.split('/')[-1]] = 'Post-mortem neurons'\n",
    "    elif \"Heffel\" in i or \"Fetal\" in i:\n",
    "       loops2groups[i.split('/')[-1]]= 'Fetal neurons'\n",
    "    else:\n",
    "        loops2groups[i.split('/')[-1]]= 'Post-mortem neurons'\n"
   ]
  },
  {
   "cell_type": "code",
   "execution_count": 29,
   "id": "97aff7bd-9a57-45ee-8e40-7df280a5d724",
   "metadata": {},
   "outputs": [],
   "source": [
    "maps2loops = json.load(open('./loops_data/maps2loops_mapping.json'))\n",
    "samples = ['Ballerino2022_NES', 'Ballerino2022_NPC', 'Ballerino2022_iPSC_NeuNplus',\n",
    "       'Heffel_2T', 'Heffel_3T', 'Heffel_adult', 'Heffel_infant',\n",
    "       'Hu2021_NeuNplus', 'Li2022_iPSC_NeuNplus', 'Lu2020_iPSC',\n",
    "       'Lu2020_iPSC_NeuNplus', 'Pletenev2024_NeuNplus',           \n",
    "       'Rajarajan_iPSC_NeuNplus', 'Rahman2023_FetalBrain',\n",
    "       'Rahman2023_NeuNplus', 'Rahman2023_iPSC_NeuNplus', 'Rajarajan_NPC_5kb',\n",
    "       'Rajarajan_iPSC_Glia', 'Tian2023_NeuNplus', 'Wu2021_iPSC_NeuNplus',\n",
    "       'Zaghi2023_NPC_5kb', 'Zaghi2023_iPSC_NeuNplus',\n",
    "       'Our_data_iPSC_NeuNplus']\n",
    "\n",
    "groups = ['Stem-like cells', 'Stem-like cells', 'iPSC-derived neurons', \n",
    "           'Fetal neurons', 'Fetal neurons', 'Post-mortem neurons', 'Fetal neurons',\n",
    "          'Post-mortem neurons', 'iPSC-derived neurons', 'Stem-like cells', \n",
    "          'iPSC-derived neurons','Post-mortem neurons',           \n",
    "          'iPSC-derived neurons',  'Fetal neurons', \n",
    "          'Post-mortem neurons',  'iPSC-derived neurons', 'Stem-like cells', \n",
    "          'Stem-like cells',  'Post-mortem neurons',  'iPSC-derived neurons', \n",
    "          'Stem-like cells', 'iPSC-derived neurons', \n",
    "          'iPSC-derived neurons']\n",
    "assert len(groups) == len(samples) \n",
    "samples2groups = {i:k for i,k in zip(samples, groups)}\n",
    "samples2groups_noLu = {i:k for i,k in zip(samples, groups) if \"Lu\" not in i}"
   ]
  },
  {
   "cell_type": "code",
   "execution_count": 30,
   "id": "c76e9b87-c0c7-4193-8e38-ead37fb521f5",
   "metadata": {},
   "outputs": [
    {
     "data": {
      "text/plain": [
       "{'Stem-like cells': 6,\n",
       " 'iPSC-derived neurons': 8,\n",
       " 'Fetal neurons': 4,\n",
       " 'Post-mortem neurons': 5}"
      ]
     },
     "execution_count": 30,
     "metadata": {},
     "output_type": "execute_result"
    }
   ],
   "source": [
    "group_source_counts = dict(Counter(samples2groups.values()))\n",
    "group_source_counts"
   ]
  },
  {
   "cell_type": "code",
   "execution_count": 51,
   "id": "87166c9b-150a-4014-85bc-3cbbd8a2705b",
   "metadata": {},
   "outputs": [],
   "source": [
    "def get_filtered_files(bedpe_files_merged, loops2groups, selected_groups):    \n",
    "    file_to_filter = [i for i,k in loops2groups.items() if k not in selected_groups]\n",
    "    reduced_filtering = False\n",
    "    add_ipcs_rahman = False\n",
    "    assert sum([k for i,k in group_source_counts.items() if i in selected_groups]) == len(bedpe_files_merged) - len(file_to_filter)\n",
    "    if 'iPSC-derived neurons' in selected_groups:\n",
    "        file_to_filter +=['Lu2020_iPSC_NeuNplus_sampled_dots_final_12000000maxloci_0.13fdr_15000res_small_NaN5_final_sorted_with_intensity_removed_duplicates_noHeader.bed']\n",
    "    if 'Stem-like cells' in selected_groups:\n",
    "        file_to_filter +=['Lu2020_iPSC_5kb_sampled_dots_final_12000000maxloci_0.13fdr_15000res_small_NaN5_final_sorted_with_intensity_removed_duplicates_noHeader.bed']\n",
    "    \n",
    "    assert len([i for i in file_to_filter if \"Lu\" in i ]) == 2\n",
    "    return file_to_filter\n",
    "\n",
    "def read_pickle_back(path):\n",
    "    with open(path, 'rb') as handle:\n",
    "        unserialized_data = pickle.load(handle)\n",
    "    return unserialized_data\n",
    "    \n",
    "def fullstack_cluster_calculation(bedpe_files_merged, file_to_filter, save_name, add_ipcs_rahman,  selected_groups = ['iPSC-derived neurons', 'Post-mortem neurons'],make_parallel = False, reduced_filtering=True, known_files_num = False, remove_ipsc_glia=False):\n",
    "    assert len(bedpe_files_merged) == number_of_files\n",
    "    merged_bedpe_clf_2 = get_merged_bedpe_with_filtering(bedpe_files_merged, file_to_filter, add_ipcs_rahman=add_ipcs_rahman, selected_groups = selected_groups,make_parallel = make_parallel, remove_ipsc_glia=remove_ipsc_glia)\n",
    "    if type(known_files_num) == int :\n",
    "        assert merged_bedpe_clf_2.source.nunique() == known_files_num    \n",
    "        \n",
    "    cluster_to_area = get_final_cluster_area_from_initial_clusters(merged_bedpe_clf_2) # get cluster area from merged BEDPE\n",
    "    save_cluster_to_area(cluster_to_area, save_name)\n",
    "    give_cluster_stats(cluster_to_area) # get statistics on clusters\n",
    "    cluster_to_area_df = get_extended_coordinates(cluster_to_area) # get extended cluster area from cluster_to_area dictionary\n",
    "    save_cluster_to_area_df(cluster_to_area_df, save_name)    \n",
    "    novel_clusters = get_bedpe_clusters(cluster_to_area_df) # calculate novel clusters from extended clusters    \n",
    "    save_novel_clusters(novel_clusters, reduced_filtering, save_name) # save clusters \n",
    "    merged_bedpe_clf_2_filtered, cluster_to_area_filtered = filter_clusters_all(merged_bedpe_clf_2, cluster_to_area, save_name, name_appender, reduced_filtering) # filter clusters\n",
    "    merged_all_clusters = get_individual_clusters_for_each_map(merged_bedpe_clf_2_filtered, cluster_to_area_filtered, save_name)\n",
    "    merged_all_clusters = filter_final_clusters(merged_all_clusters, novel_clusters, save_name, name_appender)\n",
    "    merged_all_clusters = pd.read_pickle(f\"{path_to_loops_clusters_data}/{save_name}_calculated_clusters_all{name_appender}.pickle\")\n",
    "    \n",
    "    try:         \n",
    "        list_nanmedian = get_median_values(merged_all_clusters)\n",
    "        merged_all_clusters['intensity_median'] = list_nanmedian    \n",
    "        merged_all_clusters.to_pickle(f\"{path_to_loops_clusters_data}/{save_name}_calculated_clusters_all{name_appender}.pickle\")\n",
    "        median_status = \"median_calculated\"\n",
    "    except:\n",
    "        print('Median calculation was not successful')\n",
    "        median_status = \"median_error\"  \n",
    "        \n",
    "    if median_status == \"median_error\":\n",
    "        list_nanmedian = get_median_values(merged_all_clusters)\n",
    "        merged_all_clusters['intensity_median'] = list_nanmedian    \n",
    "        merged_all_clusters.to_pickle(f\"{path_to_loops_clusters_data}/{save_name}_calculated_clusters_all{name_appender}.pickle\")\n",
    "    \n",
    "    plot_all(merged_all_clusters, save_name)\n",
    "    return merged_all_clusters"
   ]
  },
  {
   "cell_type": "markdown",
   "id": "71f5f66c-1de2-4919-84e1-f64c8eaa218a",
   "metadata": {},
   "source": [
    "#### Functions for saving"
   ]
  },
  {
   "cell_type": "code",
   "execution_count": 52,
   "id": "4ab5835e-fe5c-466d-b785-28d62c30f540",
   "metadata": {},
   "outputs": [],
   "source": [
    "def save_cluster_to_area(cluster_to_area, save_name):\n",
    "    flattened_data = []\n",
    "    for key, value in cluster_to_area.items():\n",
    "        for i in range(0, len(value), 2):\n",
    "            record = value[i]\n",
    "            record['key'] = key\n",
    "            record['value'] = value[i+1]\n",
    "            flattened_data.append(record)\n",
    "    \n",
    "    df = pd.DataFrame(flattened_data)\n",
    "    df.to_excel(f'{path_to_loops_clusters_data}/cluster_to_area_{save_name}_back.xlsx', index=False)\n",
    "\n",
    "def load_back_cluster_to_area(save_name):\n",
    "    df = pd.read_excel(f'{path_to_loops_clusters_data}/cluster_to_area_{save_name}_back.xlsx')\n",
    "    cluster_to_area = {}\n",
    "    for _, row in df.iterrows():\n",
    "        key = row['key']\n",
    "        if key not in cluster_to_area:\n",
    "            cluster_to_area[key] = []    \n",
    "        row['start1'] = int(row['start1'])\n",
    "        row['end1'] = int(row['end1'])\n",
    "        row['start2'] = int(row['start2'])\n",
    "        row['end2'] = int(row['end2'])\n",
    "        row['value'] = int(row['value'])\n",
    "        \n",
    "        value = row['value']\n",
    "        row = row.drop(['key', 'value']).to_dict()\n",
    "        \n",
    "        cluster_to_area[key].append(row)\n",
    "        cluster_to_area[key].append(value)\n",
    "    return cluster_to_area\n",
    "\n",
    "def save_cluster_to_area_df(cluster_to_area_df, save_name):\n",
    "    cluster_to_area_df.to_excel(f'{path_to_loops_clusters_data}/cluster_to_area_df_{save_name}_back.xlsx', index=False) \n",
    "\n",
    "def load_back_cluster_to_area_df(save_name):\n",
    "    return pd.read_excel(f'{path_to_loops_clusters_data}/cluster_to_area_df_{save_name}_back.xlsx') \n",
    "\n",
    "\n",
    "def load_back_novel_clusters(save_name):\n",
    "    save_path_novel_clusters = f'{path_to_loops_clusters_data}/{save_name}_novel_clusters{name_appender}.pickle'\n",
    "    with open(save_path_novel_clusters, 'rb') as f:\n",
    "        novel_clusters = pickle.load(f)\n",
    "    return novel_clusters"
   ]
  },
  {
   "cell_type": "markdown",
   "id": "8d041a65-ac5b-4f3d-8293-6bac5abdd947",
   "metadata": {},
   "source": [
    "### 2.1. Perform clustering - Post_mortem neurons vs iPSC-derived neurons"
   ]
  },
  {
   "cell_type": "code",
   "execution_count": 44,
   "id": "d251da5b-3c34-493c-b368-c54b16f79443",
   "metadata": {},
   "outputs": [],
   "source": [
    "save_name = \"loops_clustering_post_mortem_vs_iPSC_derived\"\n",
    "selected_groups=['iPSC-derived neurons', 'Post-mortem neurons']\n",
    "file_to_filter = [i for i,k in loops2groups.items() if k not in selected_groups]\n",
    "reduced_filtering = False\n",
    "add_ipcs_rahman = False\n",
    "file_to_filter = get_filtered_files(bedpe_files_merged, loops2groups, selected_groups)\n"
   ]
  },
  {
   "cell_type": "code",
   "execution_count": 54,
   "id": "e265cdc9-91a3-424f-8e30-0a7b61e27aba",
   "metadata": {
    "collapsed": true,
    "jupyter": {
     "outputs_hidden": true
    }
   },
   "outputs": [
    {
     "name": "stdout",
     "output_type": "stream",
     "text": [
      "1. Getting merged bedpe\n",
      "12 12\n",
      "2. Getting final cluster area from initial clusters\n"
     ]
    },
    {
     "name": "stderr",
     "output_type": "stream",
     "text": [
      "100%|█████████████████████████████████████████████████████████████████████████████████████████████████████████████████████████████| 79494/79494 [03:19<00:00, 398.55it/s]\n"
     ]
    },
    {
     "name": "stdout",
     "output_type": "stream",
     "text": [
      "Bins number (min / max):  1 110\n",
      "Extended bins number (min / max):  14 110\n",
      "Median size - 25.0\n",
      "3. Perform clustering of the extended cluster area\n",
      "4. Perform clusters filtering\n",
      "4.1 Get filters\n",
      "Filter 0: technical filter - 0\n",
      "Filter 1: no Lu - 0\n",
      "Filter 2:  1 samples by cluster -  51611\n",
      "Filter 3: 1 samples by cluster and group -  54088\n",
      "Filter 4*: 3 samples by cluster and intensity - 3458\n",
      "Filter 5*: 0.35 samples by cluster / intensity / group - 524\n",
      "In total filter -  57259\n",
      "Initial number of clusters - 79494\n",
      "Final number of clusters - 22235\n",
      "4.2 Saving files\n",
      "5. Get all clusters layout (original + from identified clusters) for each map\n"
     ]
    },
    {
     "name": "stderr",
     "output_type": "stream",
     "text": [
      "  0%|                                                                                                                                             | 0/12 [00:00<?, ?it/s]"
     ]
    },
    {
     "name": "stdout",
     "output_type": "stream",
     "text": [
      "Calculating expected for Hu2021_NeuNplus_sampled_dots_final_12000000maxloci_0.13fdr_15000res_small_NaN5_final_sorted_with_intensity_removed_duplicates_noHeader.bed\n",
      "Hu2021_NeuNplus_sampled_dots_final_12000000maxloci_0.13fdr_15000res_small_NaN5_final_sorted_with_intensity_removed_duplicates_noHeader.bed Hu2021_NeuNplus.sampled_exact.mcool\n"
     ]
    },
    {
     "name": "stderr",
     "output_type": "stream",
     "text": [
      "  8%|███████████                                                                                                                          | 1/12 [00:25<04:44, 25.90s/it]"
     ]
    },
    {
     "name": "stdout",
     "output_type": "stream",
     "text": [
      "Calculating expected for Li2022_iPSC_NeuNplus_sampled_dots_final_12000000maxloci_0.13fdr_15000res_small_NaN5_final_sorted_with_intensity_removed_duplicates_noHeader.bed\n",
      "Li2022_iPSC_NeuNplus_sampled_dots_final_12000000maxloci_0.13fdr_15000res_small_NaN5_final_sorted_with_intensity_removed_duplicates_noHeader.bed Li2022_iPSC_NeuNplus.sampled_exact.mcool\n"
     ]
    },
    {
     "name": "stderr",
     "output_type": "stream",
     "text": [
      " 17%|██████████████████████▏                                                                                                              | 2/12 [00:48<03:59, 23.93s/it]"
     ]
    },
    {
     "name": "stdout",
     "output_type": "stream",
     "text": [
      "Calculating expected for Ballerino2022_iPSC_NeuNplus_sampled_dots_final_12000000maxloci_0.13fdr_15000res_small_NaN5_final_sorted_with_intensity_removed_duplicates_noHeader.bed\n",
      "Ballerino2022_iPSC_NeuNplus_sampled_dots_final_12000000maxloci_0.13fdr_15000res_small_NaN5_final_sorted_with_intensity_removed_duplicates_noHeader.bed Ballerino2022_iPSC_NeuNplus.sampled_exact.mcool\n"
     ]
    },
    {
     "name": "stderr",
     "output_type": "stream",
     "text": [
      " 25%|█████████████████████████████████▎                                                                                                   | 3/12 [01:04<03:04, 20.47s/it]"
     ]
    },
    {
     "name": "stdout",
     "output_type": "stream",
     "text": [
      "Calculating expected for Our_data_iPSC_NeuNplus_sampled_dots_final_12000000maxloci_0.13fdr_15000res_small_NaN5_final_sorted_with_intensity_removed_duplicates_noHeader.bed\n",
      "Our_data_iPSC_NeuNplus_sampled_dots_final_12000000maxloci_0.13fdr_15000res_small_NaN5_final_sorted_with_intensity_removed_duplicates_noHeader.bed Our_data_iPSC_NeuNplus.drop_diag.5kb.mcool.sampled_exact.mcool\n"
     ]
    },
    {
     "name": "stderr",
     "output_type": "stream",
     "text": [
      " 33%|████████████████████████████████████████████▎                                                                                        | 4/12 [01:26<02:46, 20.84s/it]"
     ]
    },
    {
     "name": "stdout",
     "output_type": "stream",
     "text": [
      "Calculating expected for Rahman2023_NeuNplus_sampled_dots_final_12000000maxloci_0.13fdr_15000res_small_NaN5_final_sorted_with_intensity_removed_duplicates_noHeader.bed\n",
      "Rahman2023_NeuNplus_sampled_dots_final_12000000maxloci_0.13fdr_15000res_small_NaN5_final_sorted_with_intensity_removed_duplicates_noHeader.bed Rahman2023_NeuNplus.sampled_exact.mcool\n"
     ]
    },
    {
     "name": "stderr",
     "output_type": "stream",
     "text": [
      " 42%|███████████████████████████████████████████████████████▍                                                                             | 5/12 [01:50<02:35, 22.19s/it]"
     ]
    },
    {
     "name": "stdout",
     "output_type": "stream",
     "text": [
      "Calculating expected for Heffel_adult_sampled_dots_final_12000000maxloci_0.13fdr_15000res_small_NaN5_final_sorted_with_intensity_removed_duplicates_noHeader.bed\n",
      "Heffel_adult_sampled_dots_final_12000000maxloci_0.13fdr_15000res_small_NaN5_final_sorted_with_intensity_removed_duplicates_noHeader.bed Heffel_adult.3056_cells.5kb.drop_diag.5kb.sampled_exact.mcool\n"
     ]
    },
    {
     "name": "stderr",
     "output_type": "stream",
     "text": [
      " 50%|██████████████████████████████████████████████████████████████████▌                                                                  | 6/12 [02:13<02:14, 22.35s/it]"
     ]
    },
    {
     "name": "stdout",
     "output_type": "stream",
     "text": [
      "Calculating expected for Pletenev2024_NeuNplus_sampled_dots_final_12000000maxloci_0.13fdr_15000res_small_NaN5_final_sorted_with_intensity_removed_duplicates_noHeader.bed\n",
      "Pletenev2024_NeuNplus_sampled_dots_final_12000000maxloci_0.13fdr_15000res_small_NaN5_final_sorted_with_intensity_removed_duplicates_noHeader.bed Pletenev2024_NeuNplus.sampled_exact.mcool\n"
     ]
    },
    {
     "name": "stderr",
     "output_type": "stream",
     "text": [
      " 58%|█████████████████████████████████████████████████████████████████████████████▌                                                       | 7/12 [02:38<01:55, 23.14s/it]"
     ]
    },
    {
     "name": "stdout",
     "output_type": "stream",
     "text": [
      "Calculating expected for Rajarajan_iPSC_NeuNplus_sampled_dots_final_12000000maxloci_0.13fdr_15000res_small_NaN5_final_sorted_with_intensity_removed_duplicates_noHeader.bed\n",
      "Rajarajan_iPSC_NeuNplus_sampled_dots_final_12000000maxloci_0.13fdr_15000res_small_NaN5_final_sorted_with_intensity_removed_duplicates_noHeader.bed Rajarajan_iPSC_NeuNplus.sampled_exact.mcool\n"
     ]
    },
    {
     "name": "stderr",
     "output_type": "stream",
     "text": [
      " 67%|████████████████████████████████████████████████████████████████████████████████████████▋                                            | 8/12 [03:01<01:32, 23.23s/it]"
     ]
    },
    {
     "name": "stdout",
     "output_type": "stream",
     "text": [
      "Calculating expected for Rahman2023_iPSC_NeuNplus_CRISPRi_Scrambled_A_DpnII-HinfI_sampled_dots_final_12000000maxloci_0.13fdr_15000res_small_NaN5_final_sorted_with_intensity_removed_duplicates_noHeader.bed\n",
      "Rahman2023_iPSC_NeuNplus_CRISPRi_Scrambled_A_DpnII-HinfI_sampled_dots_final_12000000maxloci_0.13fdr_15000res_small_NaN5_final_sorted_with_intensity_removed_duplicates_noHeader.bed Rahman2023_iPSC_NeuNplus_CRISPRi_Scrambled_A_DpnII-HinfI.sampled_exact.mcool\n"
     ]
    },
    {
     "name": "stderr",
     "output_type": "stream",
     "text": [
      " 75%|███████████████████████████████████████████████████████████████████████████████████████████████████▊                                 | 9/12 [03:26<01:11, 23.75s/it]"
     ]
    },
    {
     "name": "stdout",
     "output_type": "stream",
     "text": [
      "Calculating expected for Wu2021_iPSC_NeuNplus_sampled_dots_final_12000000maxloci_0.13fdr_15000res_small_NaN5_final_sorted_with_intensity_removed_duplicates_noHeader.bed\n",
      "Wu2021_iPSC_NeuNplus_sampled_dots_final_12000000maxloci_0.13fdr_15000res_small_NaN5_final_sorted_with_intensity_removed_duplicates_noHeader.bed Wu2021_iPSC_NeuNplus.sampled_exact.mcool\n"
     ]
    },
    {
     "name": "stderr",
     "output_type": "stream",
     "text": [
      " 83%|██████████████████████████████████████████████████████████████████████████████████████████████████████████████                      | 10/12 [03:53<00:49, 24.79s/it]"
     ]
    },
    {
     "name": "stdout",
     "output_type": "stream",
     "text": [
      "Calculating expected for Zaghi2023_iPSC_NeuNplus_sampled_dots_final_12000000maxloci_0.13fdr_15000res_small_NaN5_final_sorted_with_intensity_removed_duplicates_noHeader.bed\n",
      "Zaghi2023_iPSC_NeuNplus_sampled_dots_final_12000000maxloci_0.13fdr_15000res_small_NaN5_final_sorted_with_intensity_removed_duplicates_noHeader.bed Zaghi2023_iPSC_NeuNplus.sampled_exact.mcool\n"
     ]
    },
    {
     "name": "stderr",
     "output_type": "stream",
     "text": [
      " 92%|█████████████████████████████████████████████████████████████████████████████████████████████████████████████████████████           | 11/12 [04:10<00:22, 22.44s/it]"
     ]
    },
    {
     "name": "stdout",
     "output_type": "stream",
     "text": [
      "Calculating expected for Tian2023_NeuNplus_sampled_dots_final_12000000maxloci_0.13fdr_15000res_small_NaN5_final_sorted_with_intensity_removed_duplicates_noHeader.bed\n",
      "Tian2023_NeuNplus_sampled_dots_final_12000000maxloci_0.13fdr_15000res_small_NaN5_final_sorted_with_intensity_removed_duplicates_noHeader.bed Tian2023_NeuNplus.EN_IN.29_42_58_years.2000_cells.sampled_exact.mcool\n"
     ]
    },
    {
     "name": "stderr",
     "output_type": "stream",
     "text": [
      "100%|████████████████████████████████████████████████████████████████████████████████████████████████████████████████████████████████████| 12/12 [04:31<00:00, 22.66s/it]\n"
     ]
    },
    {
     "name": "stdout",
     "output_type": "stream",
     "text": [
      "5.1. Get missing clusters layout for each map\n",
      "Missing clusters for Hu2021_NeuNplus: 13970\n",
      "Missing clusters for Li2022_iPSC_NeuNplus: 13958\n",
      "Missing clusters for Ballerino2022_iPSC_NeuNplus: 8475\n",
      "Missing clusters for Our_data_iPSC_NeuNplus: 14915\n",
      "Missing clusters for Rahman2023_NeuNplus: 16387\n",
      "Missing clusters for Heffel_adult: 10687\n",
      "Missing clusters for Pletenev2024_NeuNplus: 12034\n",
      "Missing clusters for Rajarajan_iPSC_NeuNplus: 10164\n",
      "Missing clusters for Rahman2023_iPSC_NeuNplus_CRISPRi_Scrambled_A_DpnII-HinfI: 8226\n",
      "Missing clusters for Wu2021_iPSC_NeuNplus: 8965\n",
      "Missing clusters for Zaghi2023_iPSC_NeuNplus: 6923\n",
      "Missing clusters for Tian2023_NeuNplus: 9875\n",
      "Hu2021_NeuNplus\n",
      "5.2. Get missing loops from clusters\n",
      "5.2.1 Create an array\n",
      "5.2.2 Getting a pileup\n",
      "5.2.3 Get contacts data in the whole cluster area\n"
     ]
    },
    {
     "name": "stderr",
     "output_type": "stream",
     "text": [
      "100%|█████████████████████████████████████████████████████████████████████████████████████████████████████████████████████████████| 13970/13970 [01:41<00:00, 138.14it/s]\n"
     ]
    },
    {
     "name": "stdout",
     "output_type": "stream",
     "text": [
      "5.3. Get original loops for clusters\n",
      "Li2022_iPSC_NeuNplus\n",
      "5.2. Get missing loops from clusters\n",
      "5.2.1 Create an array\n",
      "5.2.2 Getting a pileup\n",
      "5.2.3 Get contacts data in the whole cluster area\n"
     ]
    },
    {
     "name": "stderr",
     "output_type": "stream",
     "text": [
      "100%|█████████████████████████████████████████████████████████████████████████████████████████████████████████████████████████████| 13958/13958 [01:28<00:00, 157.82it/s]\n"
     ]
    },
    {
     "name": "stdout",
     "output_type": "stream",
     "text": [
      "5.3. Get original loops for clusters\n",
      "Ballerino2022_iPSC_NeuNplus\n",
      "5.2. Get missing loops from clusters\n",
      "5.2.1 Create an array\n",
      "5.2.2 Getting a pileup\n",
      "5.2.3 Get contacts data in the whole cluster area\n"
     ]
    },
    {
     "name": "stderr",
     "output_type": "stream",
     "text": [
      "100%|███████████████████████████████████████████████████████████████████████████████████████████████████████████████████████████████| 8475/8475 [00:40<00:00, 211.09it/s]\n"
     ]
    },
    {
     "name": "stdout",
     "output_type": "stream",
     "text": [
      "5.3. Get original loops for clusters\n",
      "Our_data_iPSC_NeuNplus\n",
      "5.2. Get missing loops from clusters\n",
      "5.2.1 Create an array\n",
      "5.2.2 Getting a pileup\n",
      "5.2.3 Get contacts data in the whole cluster area\n"
     ]
    },
    {
     "name": "stderr",
     "output_type": "stream",
     "text": [
      "100%|█████████████████████████████████████████████████████████████████████████████████████████████████████████████████████████████| 14915/14915 [02:11<00:00, 113.82it/s]\n"
     ]
    },
    {
     "name": "stdout",
     "output_type": "stream",
     "text": [
      "5.3. Get original loops for clusters\n",
      "Rahman2023_NeuNplus\n",
      "5.2. Get missing loops from clusters\n",
      "5.2.1 Create an array\n",
      "5.2.2 Getting a pileup\n",
      "5.2.3 Get contacts data in the whole cluster area\n"
     ]
    },
    {
     "name": "stderr",
     "output_type": "stream",
     "text": [
      "100%|██████████████████████████████████████████████████████████████████████████████████████████████████████████████████████████████| 16387/16387 [02:50<00:00, 96.29it/s]\n"
     ]
    },
    {
     "name": "stdout",
     "output_type": "stream",
     "text": [
      "5.3. Get original loops for clusters\n",
      "Heffel_adult\n",
      "5.2. Get missing loops from clusters\n",
      "5.2.1 Create an array\n",
      "5.2.2 Getting a pileup\n",
      "5.2.3 Get contacts data in the whole cluster area\n"
     ]
    },
    {
     "name": "stderr",
     "output_type": "stream",
     "text": [
      "100%|█████████████████████████████████████████████████████████████████████████████████████████████████████████████████████████████| 10687/10687 [01:33<00:00, 114.85it/s]\n"
     ]
    },
    {
     "name": "stdout",
     "output_type": "stream",
     "text": [
      "5.3. Get original loops for clusters\n",
      "Pletenev2024_NeuNplus\n",
      "5.2. Get missing loops from clusters\n",
      "5.2.1 Create an array\n",
      "5.2.2 Getting a pileup\n",
      "5.2.3 Get contacts data in the whole cluster area\n"
     ]
    },
    {
     "name": "stderr",
     "output_type": "stream",
     "text": [
      "100%|█████████████████████████████████████████████████████████████████████████████████████████████████████████████████████████████| 12034/12034 [01:48<00:00, 111.22it/s]\n"
     ]
    },
    {
     "name": "stdout",
     "output_type": "stream",
     "text": [
      "5.3. Get original loops for clusters\n",
      "Rajarajan_iPSC_NeuNplus\n",
      "5.2. Get missing loops from clusters\n",
      "5.2.1 Create an array\n",
      "5.2.2 Getting a pileup\n",
      "5.2.3 Get contacts data in the whole cluster area\n"
     ]
    },
    {
     "name": "stderr",
     "output_type": "stream",
     "text": [
      "100%|█████████████████████████████████████████████████████████████████████████████████████████████████████████████████████████████| 10164/10164 [01:27<00:00, 116.18it/s]\n"
     ]
    },
    {
     "name": "stdout",
     "output_type": "stream",
     "text": [
      "5.3. Get original loops for clusters\n",
      "Rahman2023_iPSC_NeuNplus_CRISPRi_Scrambled_A_DpnII-HinfI\n",
      "5.2. Get missing loops from clusters\n",
      "5.2.1 Create an array\n",
      "5.2.2 Getting a pileup\n",
      "5.2.3 Get contacts data in the whole cluster area\n"
     ]
    },
    {
     "name": "stderr",
     "output_type": "stream",
     "text": [
      "100%|███████████████████████████████████████████████████████████████████████████████████████████████████████████████████████████████| 8226/8226 [00:57<00:00, 142.34it/s]\n"
     ]
    },
    {
     "name": "stdout",
     "output_type": "stream",
     "text": [
      "5.3. Get original loops for clusters\n",
      "Wu2021_iPSC_NeuNplus\n",
      "5.2. Get missing loops from clusters\n",
      "5.2.1 Create an array\n",
      "5.2.2 Getting a pileup\n",
      "5.2.3 Get contacts data in the whole cluster area\n"
     ]
    },
    {
     "name": "stderr",
     "output_type": "stream",
     "text": [
      "100%|███████████████████████████████████████████████████████████████████████████████████████████████████████████████████████████████| 8965/8965 [01:09<00:00, 128.97it/s]\n"
     ]
    },
    {
     "name": "stdout",
     "output_type": "stream",
     "text": [
      "5.3. Get original loops for clusters\n",
      "Zaghi2023_iPSC_NeuNplus\n",
      "5.2. Get missing loops from clusters\n",
      "5.2.1 Create an array\n",
      "5.2.2 Getting a pileup\n",
      "5.2.3 Get contacts data in the whole cluster area\n"
     ]
    },
    {
     "name": "stderr",
     "output_type": "stream",
     "text": [
      "100%|███████████████████████████████████████████████████████████████████████████████████████████████████████████████████████████████| 6923/6923 [00:48<00:00, 144.22it/s]\n"
     ]
    },
    {
     "name": "stdout",
     "output_type": "stream",
     "text": [
      "5.3. Get original loops for clusters\n",
      "Tian2023_NeuNplus\n",
      "5.2. Get missing loops from clusters\n",
      "5.2.1 Create an array\n",
      "5.2.2 Getting a pileup\n",
      "5.2.3 Get contacts data in the whole cluster area\n"
     ]
    },
    {
     "name": "stderr",
     "output_type": "stream",
     "text": [
      "100%|███████████████████████████████████████████████████████████████████████████████████████████████████████████████████████████████| 9875/9875 [01:21<00:00, 121.47it/s]\n"
     ]
    },
    {
     "name": "stdout",
     "output_type": "stream",
     "text": [
      "5.3. Get original loops for clusters\n",
      "6. Get final cluster layout\n"
     ]
    },
    {
     "name": "stderr",
     "output_type": "stream",
     "text": [
      "100%|████████████████████████████████████████████████████████████████████████████████████████████████████████████████████████████| 79494/79494 [00:21<00:00, 3730.69it/s]\n",
      "/opt/anaconda/lib/python3.9/site-packages/numpy/lib/nanfunctions.py:1215: RuntimeWarning: Mean of empty slice\n",
      "  return np.nanmean(a, axis, out=out, keepdims=keepdims)\n",
      "/opt/anaconda/lib/python3.9/site-packages/numpy/lib/nanfunctions.py:1217: RuntimeWarning: All-NaN slice encountered\n",
      "  r, k = function_base._ureduce(a, func=_nanmedian, axis=axis, out=out,\n"
     ]
    },
    {
     "name": "stdout",
     "output_type": "stream",
     "text": [
      "1. Plot based on mean intensities\n"
     ]
    },
    {
     "name": "stderr",
     "output_type": "stream",
     "text": [
      "WARNING:root:Looks like you are using an old matplotlib version.\n",
      "               In some cases adjust_text might fail, if possible update\n",
      "               matplotlib to version >=3.5.0\n"
     ]
    },
    {
     "data": {
      "image/png": "[encoded data removed]",
      "text/plain": [
       "<Figure size 600x600 with 1 Axes>"
      ]
     },
     "metadata": {},
     "output_type": "display_data"
    },
    {
     "name": "stderr",
     "output_type": "stream",
     "text": [
      "WARNING:root:Looks like you are using an old matplotlib version.\n",
      "               In some cases adjust_text might fail, if possible update\n",
      "               matplotlib to version >=3.5.0\n"
     ]
    },
    {
     "data": {
      "image/png": "[encoded data removed]",
      "text/plain": [
       "<Figure size 600x600 with 1 Axes>"
      ]
     },
     "metadata": {},
     "output_type": "display_data"
    },
    {
     "name": "stderr",
     "output_type": "stream",
     "text": [
      "WARNING:root:Looks like you are using an old matplotlib version.\n",
      "               In some cases adjust_text might fail, if possible update\n",
      "               matplotlib to version >=3.5.0\n"
     ]
    },
    {
     "data": {
      "image/png": "[encoded data removed]",
      "text/plain": [
       "<Figure size 600x600 with 1 Axes>"
      ]
     },
     "metadata": {},
     "output_type": "display_data"
    },
    {
     "name": "stdout",
     "output_type": "stream",
     "text": [
      "2. Plot based on median intensities\n"
     ]
    },
    {
     "name": "stderr",
     "output_type": "stream",
     "text": [
      "WARNING:root:Looks like you are using an old matplotlib version.\n",
      "               In some cases adjust_text might fail, if possible update\n",
      "               matplotlib to version >=3.5.0\n"
     ]
    },
    {
     "data": {
      "image/png": "[encoded data removed]",
      "text/plain": [
       "<Figure size 600x600 with 1 Axes>"
      ]
     },
     "metadata": {},
     "output_type": "display_data"
    },
    {
     "name": "stderr",
     "output_type": "stream",
     "text": [
      "WARNING:root:Looks like you are using an old matplotlib version.\n",
      "               In some cases adjust_text might fail, if possible update\n",
      "               matplotlib to version >=3.5.0\n"
     ]
    },
    {
     "data": {
      "image/png": "[encoded data removed]",
      "text/plain": [
       "<Figure size 600x600 with 1 Axes>"
      ]
     },
     "metadata": {},
     "output_type": "display_data"
    },
    {
     "name": "stderr",
     "output_type": "stream",
     "text": [
      "WARNING:root:Looks like you are using an old matplotlib version.\n",
      "               In some cases adjust_text might fail, if possible update\n",
      "               matplotlib to version >=3.5.0\n"
     ]
    },
    {
     "data": {
      "image/png": "[encoded data removed]",
      "text/plain": [
       "<Figure size 600x600 with 1 Axes>"
      ]
     },
     "metadata": {},
     "output_type": "display_data"
    }
   ],
   "source": [
    "merged_all_clusters_pm_cultures = fullstack_cluster_calculation(bedpe_files_merged, file_to_filter, save_name, add_ipcs_rahman,  selected_groups = ['Post-mortem neurons', 'iPSC-derived neurons'],make_parallel = True, reduced_filtering=False, known_files_num = False)\n"
   ]
  }
 ],
 "metadata": {
  "kernelspec": {
   "display_name": "Python 3 (ipykernel)",
   "language": "python",
   "name": "python3"
  },
  "language_info": {
   "codemirror_mode": {
    "name": "ipython",
    "version": 3
   },
   "file_extension": ".py",
   "mimetype": "text/x-python",
   "name": "python",
   "nbconvert_exporter": "python",
   "pygments_lexer": "ipython3",
   "version": "3.9.12"
  }
 },
 "nbformat": 4,
 "nbformat_minor": 5
}
