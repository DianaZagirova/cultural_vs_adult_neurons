{
 "cells": [
  {
   "cell_type": "code",
   "execution_count": 132,
   "id": "aa4ffe39-27a7-43e2-b1de-a59521854e8a",
   "metadata": {},
   "outputs": [],
   "source": [
    "import pandas as pd\n",
    "import numpy as np\n",
    "from os import listdir\n",
    "from tqdm import tqdm\n",
    "import matplotlib.pyplot as plt\n",
    "from pybedtools import BedTool as pbt\n",
    "import bioframe as bf\n",
    "from typing import Set, Dict, Any\n",
    "from collections import Counter\n",
    "from itertools import chain\n",
    "from tqdm import tqdm\n",
    "import os\n",
    "import re\n",
    "import json\n",
    "import time\n",
    "import seaborn as sns\n",
    "from typing import Union\n",
    "import cooler\n",
    "import bioframe\n",
    "import cooltools\n",
    "from os import listdir\n",
    "from os.path import isfile, join, basename\n",
    "from io import StringIO\n",
    "import pickle\n",
    "import warnings\n",
    "from statsmodels.stats.multitest import fdrcorrection\n",
    "from scipy.stats import mannwhitneyu\n",
    "from scipy.stats import ttest_ind\n",
    "\n",
    "import gseapy as gp\n",
    "from gseapy import barplot, dotplot\n",
    "import math\n",
    "warnings.simplefilter(action='ignore', category=FutureWarning)\n",
    "\n",
    "### visualization on PCA\n",
    "from sklearn.preprocessing import StandardScaler\n",
    "from sklearn.decomposition import PCA\n",
    "import plotly.express as px\n",
    "from adjustText import adjust_text"
   ]
  },
  {
   "cell_type": "code",
   "execution_count": 133,
   "id": "fa28855a-1101-44b8-8729-bec8c3ce3fa9",
   "metadata": {},
   "outputs": [
    {
     "data": {
      "text/plain": [
       "True"
      ]
     },
     "execution_count": 133,
     "metadata": {},
     "output_type": "execute_result"
    }
   ],
   "source": [
    "from dotenv import load_dotenv\n",
    "assert os.environ['CONDA_DEFAULT_ENV'] == \"cultures_hic\"\n",
    "load_dotenv()"
   ]
  },
  {
   "cell_type": "code",
   "execution_count": 3,
   "id": "e20a6ca4-86c6-4f15-aff4-c844cc677900",
   "metadata": {},
   "outputs": [],
   "source": [
    "import matplotlib as mpl\n",
    "\n",
    "mpl.rcParams['font.family'] = 'Helvetica'\n",
    "mpl.rc('lines', linewidth=0.4)\n",
    "mpl.rc('font', family='Helvetica', size=8)\n",
    "mpl.rc('axes', labelsize=8, titlesize=8, linewidth=0.4)\n",
    "mpl.rc('legend', fontsize=8)\n",
    "mpl.rc('xtick', labelsize=6)\n",
    "mpl.rc('xtick.major', width=0.4, size=2)\n",
    "mpl.rc('xtick.minor', width=0.4, size=1)\n",
    "mpl.rc('ytick', labelsize=6)\n",
    "mpl.rc('ytick.major', width=0.4, size=2)\n",
    "mpl.rc('ytick.minor', width=0.4, size=1)"
   ]
  },
  {
   "cell_type": "code",
   "execution_count": 134,
   "id": "307f06d1-7478-463b-aa8d-37c5be4a1bef",
   "metadata": {},
   "outputs": [],
   "source": [
    "path_to_mapping = os.getenv('PATH_TO_MAIN_MAPS_MAPPING')\n",
    "path_to_chromatin_annotation = os.getenv('PATH_TO_CHROMATIN_ANNOTATION')\n",
    "path_to_gene_coordinates = os.getenv('GENE_COORDINATES')\n",
    "chrom_size_path = os.getenv('CHROM_SIZE_PATH')\n",
    "path_to_gene_expression = os.getenv('GENE_EXPRESSION')\n",
    "path_to_gene_expression_by_brain_region =  os.getenv('GENE_EXPRESSION_BY_BRAIN_REGION')\n",
    "path_to_loops_clusters_data = \"./loops_data/loops_clusters_data\""
   ]
  },
  {
   "cell_type": "markdown",
   "id": "db0685b8-448d-40af-92b3-f9995902474d",
   "metadata": {},
   "source": [
    "# 0. Update mapping"
   ]
  },
  {
   "cell_type": "code",
   "execution_count": 5,
   "id": "83ac8a19-37dd-4405-a86a-3766a95c17cb",
   "metadata": {},
   "outputs": [],
   "source": [
    "mapping = pd.read_feather(f'{path_to_mapping}/main_files_mapping.feather')\n",
    "\n",
    "short_name_for_plot = {'Ballerino2022_NES_5kb_sampled_dots_final_12000000maxloci_0.13fdr_15000res_small_NaN5_final_sorted_with_intensity_removed_duplicates_noHeader.bed': 'NES Ballerino',\n",
    " 'Ballerino2022_NPC_5kb_sampled_dots_final_12000000maxloci_0.13fdr_15000res_small_NaN5_final_sorted_with_intensity_removed_duplicates_noHeader.bed': 'NPC Ballerino',\n",
    " 'Ballerino2022_iPSC_NeuNplus_sampled_dots_final_12000000maxloci_0.13fdr_15000res_small_NaN5_final_sorted_with_intensity_removed_duplicates_noHeader.bed': 'Ballerino',\n",
    " 'Heffel_2T_sampled_dots_final_12000000maxloci_0.13fdr_15000res_small_NaN5_final_sorted_with_intensity_removed_duplicates_noHeader.bed': 'Heffel (2T)',\n",
    " 'Heffel_3T_sampled_dots_final_12000000maxloci_0.13fdr_15000res_small_NaN5_final_sorted_with_intensity_removed_duplicates_noHeader.bed': 'Heffel (3T)',\n",
    " 'Heffel_adult_sampled_dots_final_12000000maxloci_0.13fdr_15000res_small_NaN5_final_sorted_with_intensity_removed_duplicates_noHeader.bed': 'Heffel',\n",
    " 'Heffel_infant_sampled_dots_final_12000000maxloci_0.13fdr_15000res_small_NaN5_final_sorted_with_intensity_removed_duplicates_noHeader.bed': 'Heffel (infant)',\n",
    " 'Hu2021_NeuNplus_sampled_dots_final_12000000maxloci_0.13fdr_15000res_small_NaN5_final_sorted_with_intensity_removed_duplicates_noHeader.bed': 'Hu',\n",
    " 'Our_data_iPSC_NeuNplus_sampled_dots_final_12000000maxloci_0.13fdr_15000res_small_NaN5_final_sorted_with_intensity_removed_duplicates_noHeader.bed': 'Our data\\n(iPSC-derived\\nneurons)',\n",
    " 'Li2022_iPSC_NeuNplus_sampled_dots_final_12000000maxloci_0.13fdr_15000res_small_NaN5_final_sorted_with_intensity_removed_duplicates_noHeader.bed': 'Li',\n",
    " 'Pletenev2024_NeuNplus_sampled_dots_final_12000000maxloci_0.13fdr_15000res_small_NaN5_final_sorted_with_intensity_removed_duplicates_noHeader.bed': 'Our data\\n(Post-mortem\\nneurons)',\n",
    " 'Rajarajan_iPSC_NeuNplus_sampled_dots_final_12000000maxloci_0.13fdr_15000res_small_NaN5_final_sorted_with_intensity_removed_duplicates_noHeader.bed': 'Rajarajan',\n",
    " 'Rahman2023_FetalBrain_sampled_dots_final_12000000maxloci_0.13fdr_15000res_small_NaN5_final_sorted_with_intensity_removed_duplicates_noHeader.bed': 'Rahman\\n(Fetal\\nneurons)',\n",
    " 'Rahman2023_NeuNplus_sampled_dots_final_12000000maxloci_0.13fdr_15000res_small_NaN5_final_sorted_with_intensity_removed_duplicates_noHeader.bed': 'Rahman\\n(Post-mortem\\nneurons)',\n",
    " 'Rahman2023_iPSC_NeuNplus_CRISPRi_Scrambled_A_DpnII-HinfI_sampled_dots_final_12000000maxloci_0.13fdr_15000res_small_NaN5_final_sorted_with_intensity_removed_duplicates_noHeader.bed': 'Rahman\\n(iPSC-derived\\nneurons)',\n",
    " 'Rajarajan_NPC_5kb_sampled_dots_final_12000000maxloci_0.13fdr_15000res_small_NaN5_final_sorted_with_intensity_removed_duplicates_noHeader.bed': 'NPC Rajarajan',\n",
    " 'Tian2023_NeuNplus_sampled_dots_final_12000000maxloci_0.13fdr_15000res_small_NaN5_final_sorted_with_intensity_removed_duplicates_noHeader.bed': 'Tian',\n",
    " 'Wu2021_iPSC_NeuNplus_sampled_dots_final_12000000maxloci_0.13fdr_15000res_small_NaN5_final_sorted_with_intensity_removed_duplicates_noHeader.bed': 'Wu',\n",
    " 'Zaghi2023_NPC_5kb_sampled_dots_final_12000000maxloci_0.13fdr_15000res_small_NaN5_final_sorted_with_intensity_removed_duplicates_noHeader.bed': 'NPC Zaghi',\n",
    " 'Zaghi2023_iPSC_NeuNplus_sampled_dots_final_12000000maxloci_0.13fdr_15000res_small_NaN5_final_sorted_with_intensity_removed_duplicates_noHeader.bed': 'Zaghi'}"
   ]
  },
  {
   "cell_type": "code",
   "execution_count": 6,
   "id": "46accafd-d970-4dbc-9f42-161e0ab1fe23",
   "metadata": {},
   "outputs": [],
   "source": [
    "LIST1 = list(short_name_for_plot.keys())\n",
    "LIST2 = mapping.sample_map.tolist()\n",
    "\n",
    "samples_list1 = {}\n",
    "for fname in LIST1:\n",
    "    sample = fname.split('_sampled_')[0]\n",
    "    samples_list1[sample] = fname\n",
    "\n",
    "samples_list2 = {}\n",
    "for fname in LIST2:\n",
    "    sample = fname.split('.drop_diag.5kb')[0].split('.sampled_exact.mcool')[0].split('.3056_')[0].split('.EN_IN.29')[0]\n",
    "    samples_list2[sample] = fname\n",
    "\n",
    "mapping2 = {}\n",
    "for sample in samples_list1:\n",
    "    if sample in samples_list2:\n",
    "        fname1 = samples_list1[sample]\n",
    "        fname2 = samples_list2[sample]\n",
    "        mapping2[fname2] = fname1\n",
    "    else:\n",
    "        print(f\"Sample {sample} not found in LIST2\")"
   ]
  },
  {
   "cell_type": "code",
   "execution_count": 7,
   "id": "f178ba7c-2d72-4529-9fa0-9b6c420072da",
   "metadata": {},
   "outputs": [],
   "source": [
    "mapping['loop_file'] = mapping.sample_map.map(mapping2)\n",
    "mapping['short_name_for_plot'] = mapping.loop_file.map(short_name_for_plot)\n",
    "mapping.to_pickle('./loops_data/mapping_with_loops.pickle')"
   ]
  },
  {
   "cell_type": "markdown",
   "id": "a819da4e-de47-4707-aaae-c356e81e123a",
   "metadata": {},
   "source": [
    "# 1. Load files"
   ]
  },
  {
   "cell_type": "code",
   "execution_count": 8,
   "id": "555a23d0-9cf8-46d0-835a-79a352f1ba35",
   "metadata": {},
   "outputs": [],
   "source": [
    "name_appender = \"\"\n",
    "save_name = \"loops_clustering_post_mortem_vs_iPSC_derived\"\n",
    "path_to_loops_clusters_data = \"./loops_data/loops_clusters_data\"\n",
    "merged_all_clusters = pd.read_pickle(f\"{path_to_loops_clusters_data}/{save_name}_calculated_clusters_all{name_appender}.pickle\")"
   ]
  },
  {
   "cell_type": "code",
   "execution_count": 16,
   "id": "3f5b2e96-44f6-407a-b78c-81892716c1d4",
   "metadata": {},
   "outputs": [
    {
     "name": "stderr",
     "output_type": "stream",
     "text": [
      "/tmp/ipykernel_398285/1084263119.py:3: SettingWithCopyWarning: \n",
      "A value is trying to be set on a copy of a slice from a DataFrame.\n",
      "Try using .loc[row_indexer,col_indexer] = value instead\n",
      "\n",
      "See the caveats in the documentation: https://pandas.pydata.org/pandas-docs/stable/user_guide/indexing.html#returning-a-view-versus-a-copy\n",
      "  clusters_only_loops['is_loop'] = True\n"
     ]
    }
   ],
   "source": [
    "clusters_is_loop= pd.read_pickle(f\"{path_to_loops_clusters_data}/{save_name}_calculated_clusters_all_withLoopNotation_withCentral.pickle\")\n",
    "clusters_only_loops = clusters_is_loop.loc[~(clusters_is_loop.intensity_median.isna()) & (clusters_is_loop.is_loop_loop_ratio == True) & (clusters_is_loop.is_loop_loop_central == True)]\n",
    "clusters_only_loops['is_loop'] = True"
   ]
  },
  {
   "cell_type": "code",
   "execution_count": 17,
   "id": "68ea6861-8fd5-42e9-971e-732b74f7b23d",
   "metadata": {},
   "outputs": [],
   "source": [
    "merged_all_clusters = merged_all_clusters.merge(clusters_only_loops[['source', 'cluster','is_loop']].drop_duplicates(), on = [\"source\", 'cluster'], how= \"left\")\n",
    "merged_all_clusters.is_loop = merged_all_clusters.is_loop.fillna(False)"
   ]
  },
  {
   "cell_type": "code",
   "execution_count": 18,
   "id": "5570ff25-08f3-4f4a-8411-e140964fd4db",
   "metadata": {},
   "outputs": [
    {
     "data": {
      "text/plain": [
       "array(['Tian', 'Zaghi', 'Wu', 'Rahman\\n(iPSC-derived\\nneurons)',\n",
       "       'Rajarajan', 'Our data\\n(Post-mortem\\nneurons)', 'Heffel',\n",
       "       'Rahman\\n(Post-mortem\\nneurons)',\n",
       "       'Our data\\n(iPSC-derived\\nneurons)', 'Ballerino', 'Li', 'Hu'],\n",
       "      dtype=object)"
      ]
     },
     "execution_count": 18,
     "metadata": {},
     "output_type": "execute_result"
    }
   ],
   "source": [
    "merged_all_clusters['short_name']  =merged_all_clusters.source.map(dict(mapping[['loop_file', 'sample_init']].values))\n",
    "merged_all_clusters['short_name_for_plot'] = merged_all_clusters.source.map(dict(mapping[['loop_file', 'short_name_for_plot']].values))\n",
    "merged_all_clusters['short_name_for_plot'].unique()"
   ]
  },
  {
   "cell_type": "code",
   "execution_count": 19,
   "id": "31f4d4f1-6b6b-4f27-8416-874490fa60ea",
   "metadata": {},
   "outputs": [],
   "source": [
    "merged_all_clusters_stats_trueLoops = merged_all_clusters[merged_all_clusters.is_loop == True]"
   ]
  },
  {
   "cell_type": "markdown",
   "id": "b71723c8-537b-41b0-b9d3-bdb74c05e271",
   "metadata": {},
   "source": [
    "# 2. Prepare connection with other data types"
   ]
  },
  {
   "cell_type": "code",
   "execution_count": 20,
   "id": "87d8cc29-bc6a-4694-a306-405b06985009",
   "metadata": {},
   "outputs": [],
   "source": [
    "def bedpe_to_bed(df: pd.DataFrame, ann_col: str = 'loop_num', slop: Union[int, bool] = False) -> pd.DataFrame:\n",
    "    \"\"\"\n",
    "    Extract unique BED regions from a BEDPE dataframe. Index is ignored.\n",
    "\n",
    "    Parameters:\n",
    "    - df (pd.DataFrame): Input DataFrame containing BEDPE data with columns \n",
    "      'chrom1', 'start1', 'end1', 'chrom2', 'start2', 'end2', and the annotation column.\n",
    "    - ann_col (str): Column name for annotations, default is 'loop_num'.\n",
    "    - slop (int or bool): Amount to extend the start and end positions. If False, no extension is applied.\n",
    "\n",
    "    Returns:\n",
    "    - pd.DataFrame: DataFrame containing unique BED regions.\n",
    "    \"\"\"\n",
    "    required_columns = {'chrom1', 'start1', 'end1', 'chrom2', 'start2', 'end2', ann_col}\n",
    "    if not required_columns.issubset(df.columns):\n",
    "        raise ValueError(f\"Input DataFrame must contain the columns: {required_columns}\")\n",
    "\n",
    "    if not isinstance(slop, (int, bool)):\n",
    "        raise TypeError(\"Slop must be an integer or a boolean.\")\n",
    "\n",
    "    df_region1 = df[['chrom1', 'start1', 'end1', ann_col]].copy()\n",
    "    df_region1['anchor'] = 'left_anchor'\n",
    "    df_region2 = df[['chrom2', 'start2', 'end2', ann_col]].copy()\n",
    "    df_region2['anchor'] = 'right_anchor'\n",
    "\n",
    "    df_region1.columns = df_region1.columns.str.replace('1', '')\n",
    "    df_region2.columns = df_region2.columns.str.replace('2', '')\n",
    "\n",
    "    df_bed = pd.concat([df_region1, df_region2], ignore_index=True).drop_duplicates(ignore_index=True)\n",
    "\n",
    "    if slop:\n",
    "        df_bed['start'] = (df_bed['start'] - slop).clip(lower=0).astype(int)  # Ensure non-negative start\n",
    "        df_bed['end'] = (df_bed['end'] + slop).astype(int)\n",
    "\n",
    "    return df_bed\n"
   ]
  },
  {
   "cell_type": "markdown",
   "id": "e91c2946-5d16-4bd2-9f8a-345c6caa7999",
   "metadata": {},
   "source": [
    "## 2.1 Gene annotation"
   ]
  },
  {
   "cell_type": "code",
   "execution_count": 21,
   "id": "5ff64e0d-bf15-4362-b72d-dcf570a1bec0",
   "metadata": {},
   "outputs": [],
   "source": [
    "### Gene annotation\n",
    "chromatin_annotation = pd.read_pickle(f'{path_to_chromatin_annotation}/chromatin_annotation.feather')\n",
    "promoters = chromatin_annotation[chromatin_annotation.type == \"promoters\"].reset_index(drop=True)\n",
    "genes = chromatin_annotation[chromatin_annotation.type == \"gene\"].reset_index(drop=True)\n",
    "\n",
    "def intersection_with_gene_annotation(merged_all_clusters, genes):\n",
    "    clusters_allStats_bed = bedpe_to_bed(merged_all_clusters, ann_col ='cluster', slop=15000*1)\n",
    "    genes_in_clusters = bf.overlap(genes, clusters_allStats_bed, how='left', suffixes=('','_anno'))\n",
    "    genes_in_clusters = genes_in_clusters[['gene_name', 'gene_type','cluster_anno']].rename(columns = {'cluster_anno':'cluster'})\n",
    "    genes_in_clusters.drop_duplicates(inplace=True)\n",
    "    merged_all_clusters = merged_all_clusters.merge(genes_in_clusters, how='left', on = 'cluster')\n",
    "    merged_all_clusters.rename(columns = {'gene_name':'gene_name_anno', 'gene_type':'gene_type_anno'}, inplace=True)\n",
    "    return merged_all_clusters\n",
    "    "
   ]
  },
  {
   "cell_type": "markdown",
   "id": "0dc3545e-8ec6-4a8c-a467-5ae69a7bcb46",
   "metadata": {},
   "source": [
    "## 2.2. Intersection with H3K27me3"
   ]
  },
  {
   "cell_type": "code",
   "execution_count": 22,
   "id": "e8c08c71-542d-4c5d-ba8d-d9b11c5fa9a8",
   "metadata": {},
   "outputs": [],
   "source": [
    "\n",
    "def bedpe_to_bed_multiple_cols(df, ann_cols = ['num'], slope=0):\n",
    "    \"\"\"\n",
    "    Extract unique bed regions from bedpe dataframe. Index is ignored.\n",
    "    \"\"\"\n",
    "    df_reg1 = df[['chrom1', 'start1', 'end1'] + ann_cols].copy()\n",
    "    df_reg1['anchor'] = 'left_anh'\n",
    "    df_reg2 = df[['chrom2', 'start2', 'end2']+ann_cols ].copy()\n",
    "    df_reg2['anchor'] = 'right_anh'\n",
    "    df_reg1.columns = df_reg1.columns.str.rstrip('1')\n",
    "    df_reg2.columns = df_reg2.columns.str.rstrip('2')\n",
    "\n",
    "    df_bed = pd.concat([df_reg1, df_reg2], ignore_index=True)\\\n",
    "               .drop_duplicates(ignore_index=True)  \n",
    "    df_bed.start = df_bed.start-slope\n",
    "    df_bed.end = df_bed.end+slope\n",
    "    return df_bed \n",
    "\n",
    "def get_overlap_with_h3k27me3(df1, h3k27me3_encode, column_new_name, factor_slop = 0):\n",
    "    \n",
    "    df1 = df1.drop_duplicates()\n",
    "    df1.start =df1.start - 15000 *factor_slop\n",
    "    df1.end =df1.end + 15000  *factor_slop\n",
    "    df1.start = df1.start.astype(int)\n",
    "    df1.end = df1.end.astype(int)\n",
    "\n",
    "    df1_h3k27me3_encode = bf.overlap(df1, h3k27me3_encode, how='left', suffixes=('','_anno'))\n",
    "    df1_h3k27me3_encode[f'{column_new_name}_temp']  = df1_h3k27me3_encode['start_anno'].apply(lambda x: True if isinstance(x, int) else False)\n",
    "    anchor_status_all, anchor_status_general = get_peak_status(df1_h3k27me3_encode, f'{column_new_name}_temp')\n",
    "    df1_h3k27me3_encode[f'{column_new_name}_anchor'] = df1_h3k27me3_encode['cluster'].map(anchor_status_all)\n",
    "    df1_h3k27me3_encode[column_new_name] = df1_h3k27me3_encode['cluster'].map(anchor_status_general)\n",
    "    df1_h3k27me3_encode.drop(columns = f'{column_new_name}_temp', inplace=True)    \n",
    "    \n",
    "    df1_h3k27me3_encode.start =df1_h3k27me3_encode.start + 15000 *factor_slop\n",
    "    df1_h3k27me3_encode.end =df1_h3k27me3_encode.end - 15000  *factor_slop\n",
    "    df1_h3k27me3_encode.start = df1_h3k27me3_encode.start.astype(int)\n",
    "    df1_h3k27me3_encode.end = df1_h3k27me3_encode.end.astype(int)\n",
    "    assert df1.cluster.nunique() == df1_h3k27me3_encode.cluster.nunique()\n",
    "    return df1_h3k27me3_encode \n",
    "\n",
    "\n",
    "def get_peak_status(up_postmortem_mu_h3k27me3, column_new_name):\n",
    "    anchor_status_all = {}\n",
    "    anchor_status_general = {}\n",
    "    grouped = up_postmortem_mu_h3k27me3.groupby(['cluster', 'anchor'])[column_new_name].sum().unstack(fill_value=0)\n",
    "    print('Getting peak status...')\n",
    "\n",
    "    for cluster, row in tqdm(grouped.iterrows()):\n",
    "        left_anh = row.get('left_anh', 0)\n",
    "        right_anh = row.get('right_anh', 0)\n",
    "\n",
    "        if right_anh > 0 and left_anh > 0:\n",
    "            anchor_status_all[cluster] = 'both'\n",
    "            anchor_status_general[cluster] = True\n",
    "        elif right_anh > 0 or left_anh > 0:\n",
    "            anchor_status_all[cluster] = 'one_anh'\n",
    "            anchor_status_general[cluster] = True\n",
    "        else:\n",
    "            anchor_status_all[cluster] = 'none'\n",
    "            anchor_status_general[cluster] = False\n",
    "\n",
    "    assert len(anchor_status_all) == up_postmortem_mu_h3k27me3['cluster'].nunique()\n",
    "    assert len(anchor_status_general) == up_postmortem_mu_h3k27me3['cluster'].nunique()\n",
    "    print('Done')\n",
    "    return anchor_status_all, anchor_status_general\n"
   ]
  },
  {
   "cell_type": "code",
   "execution_count": 23,
   "id": "87ee3aa0-57c5-4ae5-85b2-c99e4dbe392f",
   "metadata": {},
   "outputs": [],
   "source": [
    "def intersection_with_h3k27me3(merged_all_clusters, h3k27me3_encode, h3k27me3_post_mortem):\n",
    "    \n",
    "    merged_all_clusters_bed = bedpe_to_bed_multiple_cols(merged_all_clusters, ann_cols =['cluster'], slope=0)\n",
    "    merged_all_clusters_stats_h3k27me3_encode = get_overlap_with_h3k27me3(merged_all_clusters_bed, h3k27me3_encode, 'has_h3k27me3_peak_encode', factor_slop = 1.5)\n",
    "    merged_all_clusters_stats_h3k27me3_kz = get_overlap_with_h3k27me3(merged_all_clusters_bed, h3k27me3_post_mortem, 'has_h3k27me3_peak_kozlenkov', factor_slop = 1.5)\n",
    "    assert merged_all_clusters_stats_h3k27me3_encode.cluster.nunique() == merged_all_clusters.cluster.nunique()\n",
    "    assert merged_all_clusters_stats_h3k27me3_kz.cluster.nunique() == merged_all_clusters.cluster.nunique()\n",
    "\n",
    "    init_cluster_number = merged_all_clusters.cluster.nunique()\n",
    "    assert  'has_h3k27me3_peak_encode' in merged_all_clusters_stats_h3k27me3_encode.columns.tolist()\n",
    "    assert  'has_h3k27me3_peak_kozlenkov' in merged_all_clusters_stats_h3k27me3_kz.columns.tolist()\n",
    "\n",
    "    \n",
    "    merged_all_clusters = merged_all_clusters.merge(merged_all_clusters_stats_h3k27me3_encode[['cluster', 'has_h3k27me3_peak_encode_anchor', 'has_h3k27me3_peak_encode']].drop_duplicates(), on = ['cluster'], how='left')\n",
    "    merged_all_clusters = merged_all_clusters.merge(merged_all_clusters_stats_h3k27me3_kz[['cluster', 'has_h3k27me3_peak_kozlenkov_anchor', 'has_h3k27me3_peak_kozlenkov']].drop_duplicates(), on = ['cluster'], how='left')\n",
    "    assert  'has_h3k27me3_peak_encode' in merged_all_clusters.columns.tolist()\n",
    "    assert  'has_h3k27me3_peak_kozlenkov' in merged_all_clusters.columns.tolist()\n",
    "\n",
    "    assert  merged_all_clusters.cluster.nunique() == init_cluster_number\n",
    "\n",
    "    merged_all_clusters['h3k27me3_peak_status_kozlenkov'] = merged_all_clusters.has_h3k27me3_peak_kozlenkov.apply(lambda x: \"has h3k27me3 peak\" if x  else 'do not have h3k27me3 peak')\n",
    "    merged_all_clusters['h3k27me3_peak_status_encode'] = merged_all_clusters.has_h3k27me3_peak_encode.apply(lambda x: \"has h3k27me3 peak\" if x  else 'do not have h3k27me3 peak')\n",
    "    return merged_all_clusters\n"
   ]
  },
  {
   "cell_type": "code",
   "execution_count": 24,
   "id": "4b54d54f-db4d-47fd-9240-62c14d60cdcf",
   "metadata": {},
   "outputs": [
    {
     "name": "stdout",
     "output_type": "stream",
     "text": [
      "(15290, 10) (15594, 3)\n"
     ]
    }
   ],
   "source": [
    "path_to_cultural_h3k27me3 = os.getenv('PATH_TO_CULTURAL_H3K27ME3')\n",
    "path_to_postmortal_h3k27me3 = os.getenv('PATH_TO_POSTMORTAL_H3K27ME3')\n",
    "### H3K27me3\n",
    "### ENCODE h3k27me3 source for iPSC-derived\n",
    "\n",
    "h3k27me3_encode = pd.read_csv(f'{path_to_cultural_h3k27me3}/ChIP-seq.H3K27me3.neurons.peaks.ENCFF104DEP.bed', sep = '\\t', header = None)\n",
    "h3k27me3_encode = h3k27me3_encode[h3k27me3_encode[8]>= 2]\n",
    "h3k27me3_encode.columns = ['chrom', 'start', 'end',  'score', 'score1', 'score2', 'score3', 'score4', 'score5', 'score6']\n",
    "h3k27me3_encode.shape\n",
    "\n",
    "### Kozlenkov h3k27me3 source for post-mortem\n",
    "h3k27me3_post_mortem = pd.read_csv(f'{path_to_postmortal_h3k27me3}/kozlenkov2018_merged_h3k27me3.bed',sep=\"\\t\" ,header=None)\n",
    "h3k27me3_post_mortem.columns = ['chrom', 'start', 'end']\n",
    "print(h3k27me3_encode.shape, h3k27me3_post_mortem.shape)"
   ]
  },
  {
   "cell_type": "markdown",
   "id": "c0a5a88a-7694-465a-ae00-c4aeb1f9156b",
   "metadata": {},
   "source": [
    "## 2.3 TFs"
   ]
  },
  {
   "cell_type": "code",
   "execution_count": 25,
   "id": "6953ff3b-7152-44e0-b39a-9e1a5591c548",
   "metadata": {},
   "outputs": [
    {
     "data": {
      "text/plain": [
       "1639"
      ]
     },
     "execution_count": 25,
     "metadata": {},
     "output_type": "execute_result"
    }
   ],
   "source": [
    "path_to_tfs = os.getenv('PATH_TO_TFS')\n",
    "tfs = pd.read_csv(f\"{path_to_tfs}/DatabaseExtract_v_1.01.csv\")\n",
    "tfs = tfs[tfs['Is TF?']==\"Yes\"]\n",
    "tfs = set(tfs['HGNC symbol'].tolist())\n",
    "len(tfs)"
   ]
  },
  {
   "cell_type": "code",
   "execution_count": 26,
   "id": "465bfca0-f1a9-4ee7-84ac-f736e11099e2",
   "metadata": {},
   "outputs": [],
   "source": [
    "def intersection_with_human_tfs(merged_all_clusters, tfs):\n",
    "    cluster_to_tfs = {}\n",
    "    df_grouped = merged_all_clusters.groupby(\"cluster\")\n",
    "    for cluster, group in tqdm(df_grouped):\n",
    "        if tfs.intersection(group.gene_name_anno):\n",
    "            cluster_to_tfs[cluster] = True\n",
    "        else:\n",
    "             cluster_to_tfs[cluster] = False        \n",
    "    merged_all_clusters['tf_in_cluster'] = merged_all_clusters.cluster.map(cluster_to_tfs)\n",
    "    merged_all_clusters['tf_in_cluster_status'] = merged_all_clusters.tf_in_cluster.apply(lambda x: \"contains TF\" if x else \"no TFs\")\n",
    "    return merged_all_clusters\n"
   ]
  },
  {
   "cell_type": "markdown",
   "id": "dc11fd4f-0c1e-497e-ae29-e5d2986eb77e",
   "metadata": {},
   "source": [
    "## 2.4. Intersection with polycomb dots"
   ]
  },
  {
   "cell_type": "code",
   "execution_count": 27,
   "id": "4516cd15-04c3-418f-9bd8-656182f0efc5",
   "metadata": {},
   "outputs": [],
   "source": [
    "def bedpe_to_bed(df, ann_col ='loop_num', slop=False):\n",
    "    \"\"\"\n",
    "    Extract unique bed regions from bedpe dataframe. Index is ignored.\n",
    "    \"\"\"\n",
    "    df_reg1 = df[['chrom1', 'start1', 'end1', ann_col]].copy()\n",
    "    df_reg1['anchor'] = 'left_anh'\n",
    "    df_reg2 = df[['chrom2', 'start2', 'end2', ann_col]].copy()\n",
    "    df_reg2['anchor'] = 'right_anh'\n",
    "    df_reg1.columns = df_reg1.columns.str.rstrip('1')\n",
    "    df_reg2.columns = df_reg2.columns.str.rstrip('2')\n",
    "\n",
    "    df_bed = pd.concat([df_reg1, df_reg2], ignore_index=True)\\\n",
    "               .drop_duplicates(ignore_index=True)    \n",
    "    if slop:\n",
    "        df_bed.start = df_bed.start - slop\n",
    "        df_bed.start = df_bed.start.astype(int)\n",
    "        df_bed.end = df_bed.end + slop\n",
    "        df_bed.end = df_bed.end.astype(int)\n",
    "\n",
    "    return df_bed \n",
    "\n",
    "\n",
    "def intersection_with_polycomb_dots(merged_all_clusters_stats_trueLoops, pair_sites_bed):    \n",
    "    merged_all_clusters_stats_trueLoops_bed = bedpe_to_bed(merged_all_clusters_stats_trueLoops, ann_col ='cluster', slop=15000*1)\n",
    "    polycombDots_in_clusters = bf.overlap(merged_all_clusters_stats_trueLoops_bed, pair_sites_bed, how='left', suffixes=('','_polycombDots'))\n",
    "    \n",
    "    groupped_pol = polycombDots_in_clusters[[\"cluster\", 'chrom_polycombDots']].groupby(\"cluster\")\n",
    "    updated = {}\n",
    "    for row in groupped_pol:\n",
    "        all_status = row[1].chrom_polycombDots.tolist()\n",
    "        if any(e != None for e in  all_status):\n",
    "            updated[row[0]] = True\n",
    "        else:\n",
    "            updated[row[0]] = False\n",
    "    polycombDots_in_clusters_status, _ = get_peak_polycomb_dots_status(polycombDots_in_clusters)\n",
    "\n",
    "    \n",
    "    merged_all_clusters_stats_trueLoops['has_polycombDot_anchor'] = merged_all_clusters_stats_trueLoops.cluster.map(updated)\n",
    "    merged_all_clusters_stats_trueLoops['has_polycombDot_anchor_status_detailed'] = merged_all_clusters_stats_trueLoops.cluster.map(polycombDots_in_clusters_status)\n",
    "    \n",
    "    return merged_all_clusters_stats_trueLoops, polycombDots_in_clusters\n",
    "\n",
    "\n",
    "def get_peak_polycomb_dots_status(polycombDots_in_clusters):\n",
    "    anchor_status_all = {}\n",
    "    anchor_status_general = {}\n",
    "    grouped = polycombDots_in_clusters.groupby(['cluster', 'anchor'])[\"chrom_polycombDots\"].sum().unstack(fill_value=0)\n",
    "    print('Getting peak status...')\n",
    "\n",
    "    for cluster, row in tqdm(grouped.iterrows()):\n",
    "        left_anh = row.get('left_anh', 0)\n",
    "        right_anh = row.get('right_anh', 0)\n",
    "        if isinstance(right_anh , str) and isinstance(left_anh , str):\n",
    "            anchor_status_all[cluster] = 'both'\n",
    "            anchor_status_general[cluster] = True\n",
    "        elif isinstance(right_anh , str) or isinstance(left_anh , str):\n",
    "            anchor_status_all[cluster] = 'one_anh'\n",
    "            anchor_status_general[cluster] = True\n",
    "        else:\n",
    "            anchor_status_all[cluster] = 'none'\n",
    "            anchor_status_general[cluster] = False\n",
    "\n",
    "    assert len(anchor_status_all) == polycombDots_in_clusters['cluster'].nunique()\n",
    "    assert len(anchor_status_general) == polycombDots_in_clusters['cluster'].nunique()\n",
    "    print('Done')\n",
    "    return anchor_status_all, anchor_status_general\n",
    "    \n"
   ]
  },
  {
   "cell_type": "code",
   "execution_count": 28,
   "id": "907d39dc-cdae-4176-a2a7-b10309f60fff",
   "metadata": {},
   "outputs": [],
   "source": [
    "path_to_polycomb_dots = os.getenv('PATH_TO_POLYCOMB_DOTS')\n",
    "path_to_up_genes_cultures_vs_postmortem = os.getenv('PATH_TO_UP_GENES_CULTURES_VS_POSTMORTEM')\n",
    "path_to_down_genes_cultures_vs_postmortem = os.getenv('PATH_TO_DOWN_GENES_CULTURES_VS_POSTMORTEM')\n",
    "pair_sites = pd.read_csv(f\"{path_to_polycomb_dots}/pair_sites_polycomb_dot_anchors.csv\")\n",
    "pair_sites['num'] = [i for i in range(pair_sites.shape[0])]\n",
    "pair_sites_bed = bedpe_to_bed(pair_sites, ann_col ='num', slop=0)"
   ]
  },
  {
   "cell_type": "markdown",
   "id": "e4baa39f-ff8f-49fb-9454-7e6813094f28",
   "metadata": {},
   "source": [
    "## 2.5. Intersection with DEG"
   ]
  },
  {
   "cell_type": "code",
   "execution_count": 29,
   "id": "29c03a08-8a25-46b3-ac9e-247109722fb0",
   "metadata": {},
   "outputs": [],
   "source": [
    "def intersection_with_deg(\n",
    "    merged_all_clusters_stats_trueLoops: pd.DataFrame,\n",
    "    intersected_genes_dwn_set: Set[str],\n",
    "    intersected_genes_up_set: Set[str],\n",
    "    gene_column: str = \"gene_name_anno\"\n",
    ") -> pd.DataFrame:\n",
    "    \n",
    "    if gene_column not in merged_all_clusters_stats_trueLoops.columns:\n",
    "        raise ValueError(f\"The specified gene column '{gene_column}' does not exist in the DataFrame.\")\n",
    "\n",
    "    status_genes: Dict[Any, str] = {}\n",
    "    up_down_genes_for_cluster: Dict[Any, Dict[str, list]] = {}\n",
    "\n",
    "    deduplicated_df = merged_all_clusters_stats_trueLoops[[gene_column, \"cluster\"]].drop_duplicates()\n",
    "\n",
    "    for cluster, df in deduplicated_df.groupby('cluster'):\n",
    "        gene_set = set(df[gene_column])\n",
    "        down_genes = gene_set & intersected_genes_dwn_set\n",
    "        up_genes = gene_set & intersected_genes_up_set\n",
    "        \n",
    "        up_down_genes_for_cluster[cluster] = {\n",
    "            \"up\": list(up_genes),\n",
    "            \"down\": list(down_genes)\n",
    "        }\n",
    "\n",
    "        if up_genes and down_genes:\n",
    "            status_genes[cluster] = \"Up and Down genes\"\n",
    "        elif up_genes:\n",
    "            status_genes[cluster] = \"Up genes\"\n",
    "        elif down_genes:\n",
    "            status_genes[cluster] = \"Down genes\"\n",
    "        else:\n",
    "            status_genes[cluster] = \"no changed gene\"\n",
    "    \n",
    "    merged_all_clusters_stats_trueLoops['diff_genes_status'] = merged_all_clusters_stats_trueLoops['cluster'].map(status_genes)\n",
    "    \n",
    "    return merged_all_clusters_stats_trueLoops"
   ]
  },
  {
   "cell_type": "code",
   "execution_count": 30,
   "id": "76ac2492-5217-45e3-b93d-ab1eff225d9b",
   "metadata": {
    "scrolled": true
   },
   "outputs": [
    {
     "data": {
      "text/plain": [
       "(59385, 59385)"
      ]
     },
     "execution_count": 30,
     "metadata": {},
     "output_type": "execute_result"
    }
   ],
   "source": [
    "up_genes_cultures_vs_postmortem = pd.read_pickle(path_to_up_genes_cultures_vs_postmortem+ \"genes_up_postmortem_vs_cultures.pickle\")\n",
    "down_genes_cultures_vs_postmortem = pd.read_pickle(path_to_down_genes_cultures_vs_postmortem+ \"genes_dwn_postmortem_vs_cultures.pickle\")\n",
    "up_genes_cultures_vs_postmortem_set = set(up_genes_cultures_vs_postmortem[0].tolist())\n",
    "down_genes_cultures_vs_postmortem_set = set(down_genes_cultures_vs_postmortem[0].tolist())\n",
    "\n",
    "\n",
    "gene_annotation = pd.read_pickle(f'{path_to_gene_coordinates}/gene_annotation_gencodeV38Basic.pickle')\n",
    "gene_annotation.rename(columns = {'Chromosome':'chrom','Start':'start', 'End':'end'}, inplace=True)\n",
    "gene_annotation = gene_annotation[['chrom', 'start', 'end','gene_name', 'gene_id', 'Strand',  'gene_type']]\n",
    "chrom_sizes_path = f'{chrom_size_path}/chrom.sizes'\n",
    "tss = pbt.from_dataframe(gene_annotation).flank(g=chrom_sizes_path, s=True, l=1, r=0)\n",
    "tss = pd.read_table(tss.fn, header = None, names=gene_annotation.columns.tolist())\n",
    "tss.to_pickle(f'{path_to_gene_coordinates}/tss_gene_annotation_gencodeV38Basic_all.pickle')\n",
    "tss.gene_name.nunique(), gene_annotation.gene_name.nunique()\n"
   ]
  },
  {
   "cell_type": "markdown",
   "id": "d3384688-0bcf-4ace-83b7-01b2fbd6e60c",
   "metadata": {},
   "source": [
    "## 2.6. Intersection with gene promoters"
   ]
  },
  {
   "cell_type": "code",
   "execution_count": 31,
   "id": "25c76784-ac6a-4753-a915-731164530a37",
   "metadata": {},
   "outputs": [],
   "source": [
    "def intersection_with_promoters(merged_all_clusters_stats, promoters, slop_factor =15000*1 ):\n",
    "    clusters_allStats_bed = bedpe_to_bed(merged_all_clusters_stats, ann_col ='cluster', slop=slop_factor)\n",
    "    promoters_in_clusters = bf.overlap(promoters, clusters_allStats_bed, how='left', suffixes=('','_promoters'))\n",
    "    promoters_in_clusters = promoters_in_clusters[['gene_name', 'gene_type','cluster_promoters']].rename(columns = {'gene_name':'gene_name_promoter','gene_type':'gene_type_promoter','cluster_promoters':'cluster'})\n",
    "    promoters_in_clusters.drop_duplicates(inplace=True)\n",
    "    merged_all_clusters_stats = merged_all_clusters_stats.merge(promoters_in_clusters, how='left', on = 'cluster')\n",
    "    return merged_all_clusters_stats"
   ]
  },
  {
   "cell_type": "markdown",
   "id": "f24a560e-6d83-4799-80de-c2951f9fe8c2",
   "metadata": {},
   "source": [
    "## 2.7. Intersection with  H3K27me3"
   ]
  },
  {
   "cell_type": "code",
   "execution_count": 32,
   "id": "f95e1606-ae41-46ab-b3c9-497e41b1596b",
   "metadata": {},
   "outputs": [],
   "source": [
    "def intersection_with_h3k27me3(merged_all_clusters, h3k27me3_encode, h3k27me3_post_mortem):\n",
    "    \n",
    "    merged_all_clusters_bed = bedpe_to_bed_multiple_cols(merged_all_clusters, ann_cols =['cluster'], slope=0)\n",
    "    merged_all_clusters_stats_h3k27me3_encode = get_overlap_with_h3k27me3(merged_all_clusters_bed, h3k27me3_encode, 'has_h3k27me3_peak_encode', factor_slop = 1.5)\n",
    "    merged_all_clusters_stats_h3k27me3_kz = get_overlap_with_h3k27me3(merged_all_clusters_bed, h3k27me3_post_mortem, 'has_h3k27me3_peak_kozlenkov', factor_slop = 1.5)\n",
    "    assert merged_all_clusters_stats_h3k27me3_encode.cluster.nunique() == merged_all_clusters.cluster.nunique()\n",
    "    assert merged_all_clusters_stats_h3k27me3_kz.cluster.nunique() == merged_all_clusters.cluster.nunique()\n",
    "\n",
    "    init_cluster_number = merged_all_clusters.cluster.nunique()\n",
    "    assert  'has_h3k27me3_peak_encode' in merged_all_clusters_stats_h3k27me3_encode.columns.tolist()\n",
    "    assert  'has_h3k27me3_peak_kozlenkov' in merged_all_clusters_stats_h3k27me3_kz.columns.tolist()\n",
    "\n",
    "    \n",
    "    merged_all_clusters = merged_all_clusters.merge(merged_all_clusters_stats_h3k27me3_encode[['cluster', 'has_h3k27me3_peak_encode_anchor', 'has_h3k27me3_peak_encode']].drop_duplicates(), on = ['cluster'], how='left')\n",
    "    merged_all_clusters = merged_all_clusters.merge(merged_all_clusters_stats_h3k27me3_kz[['cluster', 'has_h3k27me3_peak_kozlenkov_anchor', 'has_h3k27me3_peak_kozlenkov']].drop_duplicates(), on = ['cluster'], how='left')\n",
    "    assert  'has_h3k27me3_peak_encode' in merged_all_clusters.columns.tolist()\n",
    "    assert  'has_h3k27me3_peak_kozlenkov' in merged_all_clusters.columns.tolist()\n",
    "\n",
    "    assert  merged_all_clusters.cluster.nunique() == init_cluster_number\n",
    "\n",
    "    merged_all_clusters['h3k27me3_peak_status_kozlenkov'] = merged_all_clusters.has_h3k27me3_peak_kozlenkov.apply(lambda x: \"has h3k27me3 peak\" if x  else 'do not have h3k27me3 peak')\n",
    "    merged_all_clusters['h3k27me3_peak_status_encode'] = merged_all_clusters.has_h3k27me3_peak_encode.apply(lambda x: \"has h3k27me3 peak\" if x  else 'do not have h3k27me3 peak')\n",
    "    return merged_all_clusters\n"
   ]
  },
  {
   "cell_type": "code",
   "execution_count": 33,
   "id": "07f0d0b7-640b-4194-805b-e018dd5c877a",
   "metadata": {},
   "outputs": [
    {
     "name": "stdout",
     "output_type": "stream",
     "text": [
      "Getting peak status...\n"
     ]
    },
    {
     "name": "stderr",
     "output_type": "stream",
     "text": [
      "19697it [00:00, 21015.50it/s]\n"
     ]
    },
    {
     "name": "stdout",
     "output_type": "stream",
     "text": [
      "Done\n",
      "Getting peak status...\n"
     ]
    },
    {
     "name": "stderr",
     "output_type": "stream",
     "text": [
      "19697it [00:00, 22864.31it/s]\n"
     ]
    },
    {
     "name": "stdout",
     "output_type": "stream",
     "text": [
      "Done\n"
     ]
    },
    {
     "name": "stderr",
     "output_type": "stream",
     "text": [
      "100%|███████████████████████████████████████████████████████████████████████████████████████████████████████████████████████████| 19697/19697 [00:01<00:00, 13748.83it/s]\n"
     ]
    },
    {
     "name": "stdout",
     "output_type": "stream",
     "text": [
      "Getting peak status...\n"
     ]
    },
    {
     "name": "stderr",
     "output_type": "stream",
     "text": [
      "19697it [00:00, 21146.94it/s]\n"
     ]
    },
    {
     "name": "stdout",
     "output_type": "stream",
     "text": [
      "Done\n"
     ]
    },
    {
     "data": {
      "text/plain": [
       "19697"
      ]
     },
     "execution_count": 33,
     "metadata": {},
     "output_type": "execute_result"
    }
   ],
   "source": [
    "merged_all_clusters_stats_trueLoops = intersection_with_gene_annotation(merged_all_clusters_stats_trueLoops, genes)\n",
    "merged_all_clusters_stats_trueLoops = intersection_with_h3k27me3(merged_all_clusters_stats_trueLoops, h3k27me3_encode,h3k27me3_post_mortem)\n",
    "merged_all_clusters_stats_trueLoops = intersection_with_human_tfs(merged_all_clusters_stats_trueLoops, tfs)\n",
    "merged_all_clusters_stats_trueLoops, polycombDots_in_clusters = intersection_with_polycomb_dots(merged_all_clusters_stats_trueLoops, pair_sites_bed)\n",
    "merged_all_clusters_stats_trueLoops = intersection_with_deg(merged_all_clusters_stats_trueLoops, down_genes_cultures_vs_postmortem_set, up_genes_cultures_vs_postmortem_set)\n",
    "merged_all_clusters_stats_trueLoops = intersection_with_promoters(merged_all_clusters_stats_trueLoops, promoters)\n",
    "merged_all_clusters_stats_trueLoops.cluster.nunique()"
   ]
  },
  {
   "cell_type": "code",
   "execution_count": 34,
   "id": "ee8e4a80-1afb-4684-aa90-8c696c7329e0",
   "metadata": {},
   "outputs": [],
   "source": [
    "merged_all_clusters_stats_trueLoops.to_pickle(f\"./loops_data/loops_clusters_processed_files/{save_name}_trueLoops_Properties.pickle\")"
   ]
  },
  {
   "cell_type": "markdown",
   "id": "20c3fdcb-3309-4d8e-bc71-caeacf882b20",
   "metadata": {},
   "source": [
    "## 2.7 Intersection for all clusters"
   ]
  },
  {
   "cell_type": "code",
   "execution_count": 35,
   "id": "c96fc613-c4fc-4ccb-a084-02027bc667ca",
   "metadata": {},
   "outputs": [
    {
     "name": "stdout",
     "output_type": "stream",
     "text": [
      "Getting peak status...\n"
     ]
    },
    {
     "name": "stderr",
     "output_type": "stream",
     "text": [
      "22235it [00:01, 20917.95it/s]\n"
     ]
    },
    {
     "name": "stdout",
     "output_type": "stream",
     "text": [
      "Done\n",
      "Getting peak status...\n"
     ]
    },
    {
     "name": "stderr",
     "output_type": "stream",
     "text": [
      "22235it [00:00, 22477.71it/s]\n"
     ]
    },
    {
     "name": "stdout",
     "output_type": "stream",
     "text": [
      "Done\n"
     ]
    },
    {
     "name": "stderr",
     "output_type": "stream",
     "text": [
      "100%|███████████████████████████████████████████████████████████████████████████████████████████████████████████████████████████| 22235/22235 [00:02<00:00, 10920.93it/s]\n"
     ]
    },
    {
     "name": "stdout",
     "output_type": "stream",
     "text": [
      "Getting peak status...\n"
     ]
    },
    {
     "name": "stderr",
     "output_type": "stream",
     "text": [
      "22235it [00:01, 20252.25it/s]\n"
     ]
    },
    {
     "name": "stdout",
     "output_type": "stream",
     "text": [
      "Done\n"
     ]
    },
    {
     "data": {
      "text/plain": [
       "True"
      ]
     },
     "execution_count": 35,
     "metadata": {},
     "output_type": "execute_result"
    }
   ],
   "source": [
    "merged_all_clusters = intersection_with_gene_annotation(merged_all_clusters, genes)\n",
    "merged_all_clusters = intersection_with_h3k27me3(merged_all_clusters, h3k27me3_encode,h3k27me3_post_mortem)\n",
    "merged_all_clusters= intersection_with_human_tfs(merged_all_clusters, tfs)\n",
    "merged_all_clusters, polycombDots_in_clusters = intersection_with_polycomb_dots(merged_all_clusters, pair_sites_bed)\n",
    "merged_all_clusters = intersection_with_deg(merged_all_clusters, down_genes_cultures_vs_postmortem_set, up_genes_cultures_vs_postmortem_set)\n",
    "merged_all_clusters = intersection_with_promoters(merged_all_clusters, promoters)\n",
    "merged_all_clusters.cluster.nunique()\n",
    "all(merged_all_clusters.columns == merged_all_clusters_stats_trueLoops.columns)"
   ]
  },
  {
   "cell_type": "code",
   "execution_count": 36,
   "id": "c887b8c0-e9b9-4b09-bdab-2f3c9f7e3474",
   "metadata": {},
   "outputs": [],
   "source": [
    "merged_all_clusters.to_pickle(f\"./loops_data/loops_clusters_processed_files/{save_name}_merged_all_clusters_Properties.pickle\")"
   ]
  },
  {
   "cell_type": "markdown",
   "id": "a4639957-1f47-4bcb-8a66-91d6a934a236",
   "metadata": {},
   "source": [
    "## 2.8. General info"
   ]
  },
  {
   "cell_type": "code",
   "execution_count": 37,
   "id": "e626eb17-6c05-4e1b-ae76-c29ed60c29d7",
   "metadata": {},
   "outputs": [],
   "source": [
    "def create_group(merged_all_clusters):\n",
    "    samples2groups =  {i:\"iPSC-derived neurons\" if \"iPSC\" in i else \"Post-mortem neurons\" for i in merged_all_clusters.source.unique()}\n",
    "    merged_all_clusters['group'] = merged_all_clusters['source'].map(samples2groups)\n",
    "    return merged_all_clusters\n",
    "\n",
    "def create_length(merged_all_clusters_with_importance):\n",
    "    merged_all_clusters_with_importance['length'] = merged_all_clusters_with_importance['end2'] - merged_all_clusters_with_importance[\"end1\"]\n",
    "    merged_all_clusters_with_importance['length_kb'] = merged_all_clusters_with_importance['length']/1000\n",
    "    return merged_all_clusters_with_importance\n",
    "    \n",
    "merged_all_clusters_stats_trueLoops = create_length(merged_all_clusters_stats_trueLoops)\n",
    "merged_all_clusters_stats_trueLoops = create_group(merged_all_clusters_stats_trueLoops)\n",
    "\n",
    "merged_all_clusters = create_length(merged_all_clusters)\n",
    "merged_all_clusters = create_group(merged_all_clusters)"
   ]
  },
  {
   "cell_type": "markdown",
   "id": "b5c0c4f3-22ee-4d85-b1b4-c4ab53a81a54",
   "metadata": {},
   "source": [
    "## 2.9. Log2FC ratio"
   ]
  },
  {
   "cell_type": "code",
   "execution_count": 52,
   "id": "e38ddf08-f0ab-44dd-9d85-f62f4ad60bac",
   "metadata": {},
   "outputs": [],
   "source": [
    "def create_dataframe_ratios(merged_all_clusters_stats, all_expression_sources = False, gene_column = \"gene_name_anno\"):\n",
    "    groupped = merged_all_clusters_stats[['cluster', 'group', 'intensity_median']].groupby(['cluster', 'group']).median()\n",
    "    log2FC_log2rloops = groupped.reset_index().sort_values(['cluster', 'group'])\n",
    "    \n",
    "\n",
    "    log2FC_log2rloops['ratio'] = log2FC_log2rloops.groupby('cluster')['intensity_median'].transform(lambda x: x.iloc[0] / (x.iloc[1] + np.finfo(float).eps))\n",
    "    log2FC_log2rloops['log2_ratio'] = np.log2(log2FC_log2rloops['ratio'])\n",
    "    log2FC_log2rloops['status'] = log2FC_log2rloops.groupby('cluster')['intensity_median'].transform(lambda x:'remove' if x.iloc[0] == 0 and x.iloc[1]==0  else 'retain')\n",
    "    \n",
    "    log2FC_log2rloops = log2FC_log2rloops.merge(merged_all_clusters_stats[['cluster', gene_column]].drop_duplicates(), on ='cluster', how=\"left\")\n",
    "    log2FC_log2rloops.rename(columns = {gene_column:'gene_name'}, inplace=True)\n",
    "    if all_expression_sources:\n",
    "        log2FC_log2rloops = log2FC_log2rloops.merge(all_expression_genes, on ='gene_name', how=\"left\")\n",
    "    else:\n",
    "        log2FC_log2rloops = log2FC_log2rloops.merge(all_expression_genes_medians, on ='gene_name', how=\"left\")\n",
    "    log2FC_log2rloops = log2FC_log2rloops.merge(merged_all_clusters_stats[['cluster','tf_in_cluster','has_h3k27me3_peak_kozlenkov_anchor', 'has_polycombDot_anchor', 'h3k27me3_peak_status_kozlenkov']].drop_duplicates(), on = 'cluster', how='left')\n",
    "    \n",
    "    \n",
    "    df_filtered2 = log2FC_log2rloops[log2FC_log2rloops.status == 'retain']\n",
    "    df_filtered2.replace([np.inf, -np.inf], np.nan, inplace=True)\n",
    "    df_filtered2.dropna(subset=[\"ratio\"], how=\"all\", inplace=True)\n",
    "    df_filtered2.dropna(subset=[\"log2_ratio\"], how=\"all\", inplace=True)\n",
    "    \n",
    "    df_deduplicated = df_filtered2[['cluster','log2FoldChange', 'log2_ratio']].drop_duplicates().groupby('cluster').median().reset_index()\n",
    "    df_deduplicated.columns = ['cluster','log2FoldChange_median', 'log2_ratio']\n",
    "    df_filtered2 = df_filtered2.merge(df_deduplicated[['cluster', 'log2FoldChange_median']].drop_duplicates(), on = 'cluster', how='left')\n",
    "    \n",
    "    df_filtered2['tf_in_cluster_status'] = df_filtered2.tf_in_cluster.apply(lambda x: \"contains TF\" if x else \"no TFs\")\n",
    "    df_filtered2['has_polycombDot_anchor_status'] = df_filtered2.has_polycombDot_anchor.apply(lambda x: \"contains polycomb dots anchor\" if x else \"no polycomb dots anchors\")\n",
    "    \n",
    "    \n",
    "    return df_filtered2, log2FC_log2rloops\n",
    "\n",
    "def plot_dataframe_ratios(df_filtered2, filter_outliers = True, column = \"h3k27me3_peak_status_kozlenkov\"):\n",
    "    plt.figure(plt.figure(figsize=(7, 9)))\n",
    "    df_plot = df_filtered2[['cluster','log2FoldChange', 'log2_ratio',column]].drop_duplicates()\n",
    "    df_plot = df_plot.dropna()\n",
    "    if filter_outliers:\n",
    "        df_plot = df_plot[(df_plot.log2_ratio>-10) & (df_plot.log2_ratio <10)]\n",
    "    df_plot = df_plot[df_plot.cluster.isin(cluster_loops)]\n",
    "    \n",
    "    custom_palette = {\n",
    "        'do not have h3k27me3 peak': 'lightgrey',       \n",
    "        'has h3k27me3 peak': 'forestgreen'\n",
    "    }\n",
    "    \n",
    "    hue_order = ['do not have h3k27me3 peak', 'has h3k27me3 peak']\n",
    "    \n",
    "    ax = sns.lmplot(data=df_plot, x=\"log2FoldChange\", y=\"log2_ratio\",\n",
    "                    hue=column, \n",
    "                    # hue_order = hue_order,\n",
    "                    # palette=custom_palette,\n",
    "                    height=6,\n",
    "                    scatter_kws={\"s\": 5});\n",
    "    \n",
    "    plt.xlabel('Log2 Fold Change', fontsize=8)\n",
    "    plt.ylabel('Log2 Loop Intensity Ratio', fontsize=8)\n",
    "    plt.title(f'Post-mortem neurons vs iPSC-derived neurons\\n{column}', fontsize=8)\n",
    "    plt.show()\n",
    "\n",
    "def plot_dataframe_ratios_by_source(df_filtered2, column = \"h3k27me3_peak_status_kozlenkov\"):\n",
    "    plt.figure(plt.figure(figsize=(7, 9)))\n",
    "    for source in df_filtered2.source.unique():\n",
    "        df_plot = df_filtered2[df_filtered2.source == source]\n",
    "        df_plot = df_plot[['cluster','log2FoldChange', 'log2_ratio',column]].drop_duplicates()\n",
    "        df_plot = df_plot.dropna()\n",
    "        df_plot = df_plot[(df_plot.log2_ratio>-10) & (df_plot.log2_ratio <10)]\n",
    "        df_plot = df_plot[df_plot.cluster.isin(cluster_loops)]\n",
    "        \n",
    "        custom_palette = {\n",
    "            'do not have h3k27me3 peak': 'lightgrey',       \n",
    "            'has h3k27me3 peak': 'forestgreen'\n",
    "        }\n",
    "        \n",
    "        hue_order = ['do not have h3k27me3 peak', 'has h3k27me3 peak']\n",
    "        \n",
    "        ax = sns.lmplot(data=df_plot, x=\"log2FoldChange\", y=\"log2_ratio\",\n",
    "                        hue=column, \n",
    "                        # hue_order = hue_order,\n",
    "                        # palette=custom_palette,\n",
    "                        height=6,\n",
    "                        scatter_kws={\"s\": 5});\n",
    "        \n",
    "        plt.xlabel('Log2 Fold Change', fontsize=8)\n",
    "        plt.ylabel('Log2 Loop Intensity Ratio', fontsize=8)\n",
    "        plt.title(f'Post-mortem neurons vs iPSC-derived neurons\\n{source} - {column}', fontsize=8)\n",
    "    plt.show()\n",
    "    \n",
    "\n",
    "def plot_dataframe_ratios_withTFs(df_filtered2):\n",
    "    plt.figure(plt.figure(figsize=(7, 9)))\n",
    "    df_plot = df_filtered2[['cluster','log2FoldChange', 'log2_ratio','h3k27me3_peak_status_kozlenkov', 'tf_in_cluster_status']].drop_duplicates()\n",
    "    df_plot = df_plot.dropna()\n",
    "    df_plot = df_plot[(df_plot.log2_ratio>-10) & (df_plot.log2_ratio <10)]\n",
    "    df_plot = df_plot[df_plot.cluster.isin(cluster_loops)]\n",
    "    df_plot['hue'] = df_plot[[\"h3k27me3_peak_status_kozlenkov\", \"tf_in_cluster_status\"]].apply(tuple, axis=1)\n",
    "    \n",
    "    custom_palette = {\n",
    "        ('do not have h3k27me3 peak', 'no TFs'): 'lightgrey',\n",
    "        ('do not have h3k27me3 peak', 'contains TF'): 'lightgrey',\n",
    "        ('has h3k27me3 peak', 'no TFs'): 'forestgreen',\n",
    "        ('has h3k27me3 peak', 'contains TF'): 'lightgrey'\n",
    "    }\n",
    "    \n",
    "    hue_order = [('do not have h3k27me3 peak', 'no TFs'),\n",
    "           ('do not have h3k27me3 peak', 'contains TF'),\n",
    "           ('has h3k27me3 peak', 'no TFs'),\n",
    "           ('has h3k27me3 peak', 'contains TF')]\n",
    "    \n",
    "    ax = sns.lmplot(data=df_plot, x=\"log2FoldChange\", y=\"log2_ratio\",\n",
    "                    hue='hue', \n",
    "                    hue_order = hue_order,\n",
    "                    palette=custom_palette,\n",
    "                    height=6,\n",
    "                    scatter_kws={\"s\": 5});\n",
    "    \n",
    "    plt.xlabel('Log2 Fold Change', fontsize=8)\n",
    "    plt.ylabel('Log2 Loop Intensity Ratio', fontsize=8)\n",
    "    plt.title('Post-mortem neurons vs iPSC-derived neurons', fontsize=8)\n",
    "    plt.show()"
   ]
  },
  {
   "cell_type": "code",
   "execution_count": 56,
   "id": "5a54f01b-03ff-4085-a451-5912b0752198",
   "metadata": {},
   "outputs": [],
   "source": [
    "all_expression_genes = pd.read_pickle(f'{path_to_gene_expression}/all_expression_genes.pickle')\n",
    "all_expression_genes_medians = all_expression_genes.groupby('gene_name').median().reset_index()"
   ]
  },
  {
   "cell_type": "code",
   "execution_count": 138,
   "id": "35eb6358-0b2e-4811-bab5-656de5fd04ec",
   "metadata": {},
   "outputs": [],
   "source": [
    "all_expression_regions = pd.read_pickle(f'{path_to_gene_expression_by_brain_region}/all_expression_regions.pickle')\n",
    "all_expression_regions.columns = ['gene_name_promoter', \"log2FoldChange\"]\n",
    "all_expression_genes_medians_dict = dict(all_expression_regions.values)\n",
    "all_expression_genes_medians_promoters_dict = dict(all_expression_regions.values)\n",
    "merged_all_clusters['log2FoldChange_promoters'] = merged_all_clusters.gene_name_promoter.map(all_expression_genes_medians_dict)\n",
    "merged_all_clusters_stats_trueLoops['log2FoldChange_promoters'] = merged_all_clusters_stats_trueLoops.gene_name_promoter.map(all_expression_genes_medians_dict)"
   ]
  },
  {
   "cell_type": "code",
   "execution_count": 58,
   "id": "bb7ce463-7095-4fd2-b9a4-5190c6c746c4",
   "metadata": {},
   "outputs": [
    {
     "name": "stderr",
     "output_type": "stream",
     "text": [
      "/home/dzagirova/.local/lib/python3.9/site-packages/pandas/core/arraylike.py:402: RuntimeWarning: divide by zero encountered in log2\n",
      "  result = getattr(ufunc, method)(*inputs, **kwargs)\n",
      "/tmp/ipykernel_398285/1355808985.py:20: SettingWithCopyWarning: \n",
      "A value is trying to be set on a copy of a slice from a DataFrame\n",
      "\n",
      "See the caveats in the documentation: https://pandas.pydata.org/pandas-docs/stable/user_guide/indexing.html#returning-a-view-versus-a-copy\n",
      "  df_filtered2.replace([np.inf, -np.inf], np.nan, inplace=True)\n",
      "/tmp/ipykernel_398285/1355808985.py:21: SettingWithCopyWarning: \n",
      "A value is trying to be set on a copy of a slice from a DataFrame\n",
      "\n",
      "See the caveats in the documentation: https://pandas.pydata.org/pandas-docs/stable/user_guide/indexing.html#returning-a-view-versus-a-copy\n",
      "  df_filtered2.dropna(subset=[\"ratio\"], how=\"all\", inplace=True)\n",
      "/tmp/ipykernel_398285/1355808985.py:22: SettingWithCopyWarning: \n",
      "A value is trying to be set on a copy of a slice from a DataFrame\n",
      "\n",
      "See the caveats in the documentation: https://pandas.pydata.org/pandas-docs/stable/user_guide/indexing.html#returning-a-view-versus-a-copy\n",
      "  df_filtered2.dropna(subset=[\"log2_ratio\"], how=\"all\", inplace=True)\n"
     ]
    }
   ],
   "source": [
    "df_plot_gene_whole, log2FC_log2rloops = create_dataframe_ratios(merged_all_clusters, gene_column = \"gene_name_anno\")\n",
    "log2FC_log2rloops = log2FC_log2rloops[['cluster', 'log2_ratio', 'status']].drop_duplicates().reset_index(drop=True)\n",
    "log2FC_log2rloops.columns = ['cluster', 'log2_ratio', 'log2_ratio_status']\n",
    "merged_all_clusters = merged_all_clusters.merge(log2FC_log2rloops, on = 'cluster', how='left')\n"
   ]
  },
  {
   "cell_type": "code",
   "execution_count": 179,
   "id": "ca2adb49-125d-418a-90ca-92f704cbe9bc",
   "metadata": {},
   "outputs": [],
   "source": [
    "all_expression_regions.columns = ['gene_name_anno', \"log2FoldChange\"]\n",
    "all_expression_genes_medians_dict = dict(all_expression_regions.values)\n",
    "merged_all_clusters['log2FoldChange'] = merged_all_clusters.gene_name_anno.map(all_expression_genes_medians_dict)\n",
    "merged_all_clusters_stats_trueLoops['log2FoldChange'] = merged_all_clusters_stats_trueLoops.gene_name_anno.map(all_expression_genes_medians_dict)\n"
   ]
  },
  {
   "cell_type": "markdown",
   "id": "3c787820-d0c5-41b2-b06c-b31cb355e4b5",
   "metadata": {},
   "source": [
    "# 3. Explore results of feature importance"
   ]
  },
  {
   "cell_type": "code",
   "execution_count": 43,
   "id": "c5a05b03-0b40-40c9-8a15-613a5ac7bbcb",
   "metadata": {},
   "outputs": [],
   "source": [
    "def add_feature_importance(merged_all_clusters, loops_featureImportance):\n",
    "    loops_featureImportance_dict = dict(loops_featureImportance.values)\n",
    "    print(merged_all_clusters.cluster.nunique(), merged_all_clusters.shape[0], merged_all_clusters.cluster.nunique() == len(loops_featureImportance.cluster.tolist()),len(loops_featureImportance.cluster.tolist()))\n",
    "    merged_all_clusters['contrib'] = merged_all_clusters.cluster.map(loops_featureImportance_dict)\n",
    "    assert merged_all_clusters[merged_all_clusters.contrib.isna()].shape[0] == 0\n",
    "    return merged_all_clusters\n",
    "        "
   ]
  },
  {
   "cell_type": "code",
   "execution_count": 44,
   "id": "27a86057-ecb6-4279-9c4b-c6cc5d1413b9",
   "metadata": {},
   "outputs": [
    {
     "data": {
      "text/plain": [
       "(set(), set())"
      ]
     },
     "execution_count": 44,
     "metadata": {},
     "output_type": "execute_result"
    }
   ],
   "source": [
    "data_clusters = pd.read_csv(f'./loops_pca_data/{save_name}_clusters_median.tsv', sep = \"\\t\")\n",
    "loops_featureImportance = pd.read_csv(\"./loops_pca_data/loops_clustering_post_mortem_vs_iPSC_derived_clusters_median_featureImportance_pca1_pca2.csv\").drop(columns = [\"Unnamed: 0\"]).rename(columns = {\"name\":\"cluster\"}).sort_values('contrib', ascending= False).reset_index(drop=True).sort_values('contrib')\n",
    "set(loops_featureImportance.cluster.tolist()) - set(data_clusters.columns.tolist()[1:]), set(data_clusters.columns.tolist()[1:]) - set(loops_featureImportance.cluster.tolist())\n"
   ]
  },
  {
   "cell_type": "code",
   "execution_count": 45,
   "id": "fe11df37-b34d-4acc-9ff5-3331c8ec57fc",
   "metadata": {},
   "outputs": [
    {
     "name": "stdout",
     "output_type": "stream",
     "text": [
      "22235 7172292 True 22235\n"
     ]
    }
   ],
   "source": [
    "merged_all_clusters = add_feature_importance(merged_all_clusters, loops_featureImportance)\n"
   ]
  },
  {
   "cell_type": "code",
   "execution_count": 46,
   "id": "5857050e-f639-47c5-be68-6c16c911e817",
   "metadata": {},
   "outputs": [
    {
     "name": "stdout",
     "output_type": "stream",
     "text": [
      "19697 3852240 False 22235\n"
     ]
    }
   ],
   "source": [
    "merged_all_clusters_stats_trueLoops = add_feature_importance(merged_all_clusters_stats_trueLoops, loops_featureImportance)"
   ]
  },
  {
   "cell_type": "markdown",
   "id": "12a9af27-22d9-4924-bac0-e235921de894",
   "metadata": {},
   "source": [
    "## 3.1. Check length"
   ]
  },
  {
   "cell_type": "code",
   "execution_count": 69,
   "id": "56adaddf-d9aa-4c19-a13d-0d8820dc5309",
   "metadata": {},
   "outputs": [],
   "source": [
    "def append_importance_status(merged_all_clusters_with_importance, loops_featureImportance, select_quntile = 0.75):\n",
    "    \n",
    "    top_features = merged_all_clusters_with_importance[merged_all_clusters_with_importance.contrib >= np.quantile(loops_featureImportance.contrib.tolist(), select_quntile)]\n",
    "    important_clusters = set(top_features['cluster'])\n",
    "    merged_all_clusters_with_importance['status'] = merged_all_clusters_with_importance['cluster'].isin(important_clusters)\n",
    "    merged_all_clusters_with_importance['status'] = merged_all_clusters_with_importance['status'].replace({True: 'important_cluster', False: 'not_important'})\n",
    "    \n",
    "    clusters_q = {}\n",
    "    qs = [0, 0.25, 0.50, 0.75, 1]\n",
    "    names = ['Q1', 'Q2', 'Q3', 'Q4']\n",
    "    for q in range(len(qs)-1):\n",
    "        name = names[q]\n",
    "        q_l = qs[q]\n",
    "        q_u = qs[q+1]\n",
    "        print(q_l, q_u)\n",
    "        lower_th = np.quantile(loops_featureImportance.contrib.tolist(), q_l)\n",
    "        upper_th = np.quantile(loops_featureImportance.contrib.tolist(), q_u)\n",
    "        top_features = merged_all_clusters_with_importance.loc[(merged_all_clusters_with_importance.contrib >= lower_th) &(merged_all_clusters_with_importance.contrib < upper_th)]\n",
    "        clusters_q[name] = set(top_features['cluster'])\n",
    "    \n",
    "    clusters_q_reverse = {}\n",
    "    for keys in clusters_q.keys():\n",
    "        novel_keys = clusters_q[keys]\n",
    "        for key_new in novel_keys:\n",
    "            clusters_q_reverse[key_new] = keys\n",
    "    merged_all_clusters_with_importance['importance_status_q'] = merged_all_clusters_with_importance['cluster'].map(clusters_q_reverse)\n",
    "    \n",
    "    return merged_all_clusters_with_importance\n",
    "\n",
    "\n",
    "def append_median_intensity_status(merged_all_clusters_with_importance):\n",
    "    clusters_q = {}\n",
    "    qs = [0, 0.25, 0.50, 0.75, 1]\n",
    "    names = ['Q1', 'Q2', 'Q3', 'Q4']\n",
    "    for q in range(len(qs)-1):\n",
    "        name = names[q]\n",
    "        q_l = qs[q]\n",
    "        q_u = qs[q+1]\n",
    "        print(q_l, q_u)\n",
    "        lower_th = np.quantile(merged_all_clusters_with_importance[['intensity_median', 'cluster']].drop_duplicates().intensity_median.tolist(), q_l)\n",
    "        upper_th = np.quantile(merged_all_clusters_with_importance[['intensity_median', 'cluster']].drop_duplicates().intensity_median.tolist(), q_u)\n",
    "        top_features = merged_all_clusters_with_importance.loc[(merged_all_clusters_with_importance.contrib >= lower_th) &(merged_all_clusters_with_importance.contrib < upper_th)]\n",
    "        clusters_q[name] = set(top_features['cluster'])\n",
    "    \n",
    "    clusters_q_reverse = {}\n",
    "    for keys in clusters_q.keys():\n",
    "        novel_keys = clusters_q[keys]\n",
    "        for key_new in novel_keys:\n",
    "            clusters_q_reverse[key_new] = keys\n",
    "    merged_all_clusters_with_importance['intensity_median_status_q'] = merged_all_clusters_with_importance['cluster'].map(clusters_q_reverse)\n",
    "    return merged_all_clusters_with_importance"
   ]
  },
  {
   "cell_type": "code",
   "execution_count": 70,
   "id": "d4741fde-e352-4f00-ad5e-cecd01c441e2",
   "metadata": {},
   "outputs": [
    {
     "name": "stdout",
     "output_type": "stream",
     "text": [
      "0 0.25\n",
      "0.25 0.5\n",
      "0.5 0.75\n",
      "0.75 1\n"
     ]
    }
   ],
   "source": [
    "merged_all_clusters = append_importance_status(merged_all_clusters, loops_featureImportance)"
   ]
  },
  {
   "cell_type": "code",
   "execution_count": 71,
   "id": "77d45151-f5e4-4aad-9ba4-62d5b1780da9",
   "metadata": {},
   "outputs": [
    {
     "name": "stdout",
     "output_type": "stream",
     "text": [
      "0 0.25\n",
      "0.25 0.5\n",
      "0.5 0.75\n",
      "0.75 1\n"
     ]
    }
   ],
   "source": [
    "merged_all_clusters_stats_trueLoops = append_importance_status(merged_all_clusters_stats_trueLoops, loops_featureImportance)"
   ]
  },
  {
   "cell_type": "code",
   "execution_count": 72,
   "id": "ac26b0d6-abd1-49fc-95e1-88837de9b2a7",
   "metadata": {},
   "outputs": [
    {
     "data": {
      "image/png": "[encoded data removed]",
      "text/plain": [
       "<Figure size 500x230 with 1 Axes>"
      ]
     },
     "metadata": {},
     "output_type": "display_data"
    }
   ],
   "source": [
    "custom_palette = {\n",
    "        'none': 'lightgrey',\n",
    "        'one_anh': 'orange',        \n",
    "        'both': 'purple'\n",
    "    }\n",
    "plt.figure(figsize=(5, 2.3))\n",
    "\n",
    "df = merged_all_clusters\n",
    "df = df[df.is_loop == True]\n",
    "df = df[(df.log2_ratio <= 10) & (df.log2_ratio >= -10)]\n",
    "df = df[[\"intensity_median\", 'log2_ratio', 'importance_status_q', 'has_polycombDot_anchor_status_detailed', 'has_polycombDot_anchor']].drop_duplicates()\n",
    "\n",
    "ax = sns.boxplot(x='importance_status_q', y='log2_ratio',\n",
    "                hue=\"has_polycombDot_anchor_status_detailed\",\n",
    "                data=df,\n",
    "                width=0.6,\n",
    "                dodge=True,\n",
    "                palette=custom_palette,\n",
    "                 showmeans=True,\n",
    "                 boxprops=dict(linewidth=0.4),\n",
    "                 whiskerprops=dict(linewidth=0.4),\n",
    "                 capprops=dict(linewidth=0.4),\n",
    "                 medianprops=dict(linewidth=0.4),\n",
    "                 meanprops={\"marker\": \"o\",\n",
    "                            \"markeredgecolor\": \"lightgrey\",\n",
    "                            \"markerfacecolor\": \"white\",\n",
    "                            \"markersize\": \"3\"},\n",
    "                 showfliers=False,                 \n",
    "                 order=['Q1', \"Q2\", \"Q3\", 'Q4'])\n",
    "\n",
    "ax.axhline(0, color='grey', linewidth=0.4, linestyle='--')\n",
    "ax.legend(bbox_to_anchor=(1.3, 1.05))\n",
    "plt.ylim(-1.8, 3.8)\n",
    "plt.title('Box Plot of Loop Intensities by Status\\n(importance for PC1 and PC2)')\n",
    "plt.xlabel('Loop status (by contribution)')\n",
    "plt.ylabel('Log2 intensity ratio')\n",
    "\n",
    "plt.tight_layout()\n",
    "save_name = \"importance_groups_log2_intensity_ratio_horizontal\"\n",
    "plt.savefig(f\"./loops_visualizations/{save_name}.pdf\", bbox_inches='tight', format=\"pdf\")\n",
    "plt.show()"
   ]
  },
  {
   "cell_type": "code",
   "execution_count": 73,
   "id": "ec86be6c-d0ee-4a75-ab3c-3b83bdc77c42",
   "metadata": {},
   "outputs": [
    {
     "data": {
      "image/png": "[encoded data removed]",
      "text/plain": [
       "<Figure size 500x230 with 1 Axes>"
      ]
     },
     "metadata": {},
     "output_type": "display_data"
    }
   ],
   "source": [
    "plt.figure(figsize=(5, 2.3)) \n",
    "\n",
    "df = merged_all_clusters\n",
    "df = df[df.is_loop == True]\n",
    "df = df[[\"intensity_median\", 'length_kb', 'importance_status_q', 'has_polycombDot_anchor_status_detailed', 'has_polycombDot_anchor']].drop_duplicates()\n",
    "\n",
    "ax = sns.boxplot(x='importance_status_q', y='length_kb',\n",
    "                 hue=\"has_polycombDot_anchor_status_detailed\",\n",
    "                 showfliers=False,\n",
    "                 data=df,\n",
    "                 width = 0.6,\n",
    "                 palette = custom_palette,\n",
    "                 order=['Q1', \"Q2\", \"Q3\", \"Q4\"],\n",
    "                 showmeans=True,\n",
    "                 boxprops=dict(linewidth=0.4),\n",
    "                 whiskerprops=dict(linewidth=0.4),\n",
    "                 capprops=dict(linewidth=0.4),\n",
    "                 medianprops=dict(linewidth=0.4),\n",
    "                 meanprops={\"marker\": \"o\",\n",
    "                            \"markeredgecolor\": \"darkgrey\",\n",
    "                            \"markerfacecolor\": \"white\",\n",
    "                            \"markersize\": \"3\"},\n",
    "                 orient='v')  \n",
    "\n",
    "ax.axvline(x=0, color='lightgrey', linestyle='--')\n",
    "plt.title('Box Plot of Loop Length by Status\\n(importance for PC1 and PC2)')\n",
    "plt.xlabel('Loop status (by contribution)')\n",
    "plt.ylabel('Length, Kb')\n",
    "\n",
    "# Adjust legend position\n",
    "plt.legend(bbox_to_anchor=(1.05, 1), loc='upper left')\n",
    "plt.tight_layout()\n",
    "\n",
    "plt.savefig(f\"./loops_visualizations/{save_name}.pdf\", bbox_inches='tight', format=\"pdf\")\n",
    "plt.show()"
   ]
  },
  {
   "cell_type": "markdown",
   "id": "499a1e12-0780-4623-8d54-7f616c83de85",
   "metadata": {},
   "source": [
    "# 4. Explore Up-Down loops"
   ]
  },
  {
   "cell_type": "markdown",
   "id": "7d7a23d8-82dc-40ed-b299-396cc824f7bc",
   "metadata": {},
   "source": [
    "## 4.1 Identify up- and down- loops"
   ]
  },
  {
   "cell_type": "code",
   "execution_count": 75,
   "id": "4eddb006-a307-4049-9348-85feced22d2c",
   "metadata": {},
   "outputs": [],
   "source": [
    "import math\n",
    "def get_aggregated_list(xs):\n",
    "    xs = list(xs)\n",
    "    return [x for x in xs if x is not None]\n",
    "\n",
    "def get_aggregated_list_unique(xs):\n",
    "    xs = list(xs)\n",
    "    return list(set([x for x in xs if x is not None]))\n",
    "\n",
    "   \n",
    "def get_cluster_data(merged_all_clusters_with_importance, col):\n",
    "    assert merged_all_clusters_with_importance[merged_all_clusters_with_importance[col].isna()].shape[0] == 0\n",
    "    unique_clusters = merged_all_clusters_with_importance['cluster'].unique()\n",
    "    grouped = merged_all_clusters_with_importance.groupby(['cluster', 'group'])\n",
    "    aggregated_data = grouped.agg({col: get_aggregated_list}).reset_index()\n",
    "    assert aggregated_data.shape[0] == len(unique_clusters) * 2, \"Aggregated data shape mismatch\"\n",
    "    cluster_all, t_stat_all, p_value_t_stat_all, mannwhitneyu_stat_all, p_value_mannwhitneyu_stat_all  = [], [], [], [], []    \n",
    "    for cluster in tqdm(unique_clusters):\n",
    "        current_cluster_data = aggregated_data[aggregated_data['cluster'] == cluster]    \n",
    "        contrib_A = current_cluster_data[current_cluster_data['group'] == 'Post-mortem neurons'][col].iloc[0]\n",
    "        contrib_B = current_cluster_data[current_cluster_data['group'] == 'iPSC-derived neurons'][col].iloc[0]\n",
    "        \n",
    "        try:\n",
    "            mannwhitneyu_stat, p_value_mannwhitneyu_stat = mannwhitneyu(contrib_A, contrib_B, nan_policy ='omit') \n",
    "            t_stat, p_value_t_stat = ttest_ind(contrib_A, contrib_B, equal_var=False)  # Welch's t-test\n",
    "        except:\n",
    "            mannwhitneyu_stat, p_value_mannwhitneyu_stat= None, None\n",
    "            t_stat, p_value_t_stat = None, None\n",
    "            \n",
    "        \n",
    "        t_stat_all.append(t_stat)\n",
    "        p_value_t_stat_all.append(p_value_t_stat)\n",
    "        mannwhitneyu_stat_all.append(mannwhitneyu_stat)\n",
    "        p_value_mannwhitneyu_stat_all.append(p_value_mannwhitneyu_stat)\n",
    "        cluster_all.append(cluster)        \n",
    "    \n",
    "    result_df = pd.DataFrame({\n",
    "        'cluster': cluster_all,\n",
    "        't-statistic': t_stat_all,\n",
    "        'p-value_t-statistics': p_value_t_stat_all,\n",
    "        'mannwhitneyu_statistics': mannwhitneyu_stat_all,\n",
    "        'p-value_mannwhitneyu-statistics': p_value_mannwhitneyu_stat_all\n",
    "    })\n",
    "    assert result_df['cluster'].nunique() == len(unique_clusters), \"Unique clusters count mismatch\"\n",
    "    return result_df\n",
    "\n",
    "\n",
    "def cluster_data_corrected(merged_all_clusters_with_importance, col = 'intensity_mean'):\n",
    "    cluster_stats = get_cluster_data(merged_all_clusters_with_importance, col)\n",
    "    merged_all_clusters_no_lu_with_stats = merged_all_clusters_with_importance.merge(cluster_stats, on = \"cluster\")\n",
    "\n",
    "    return merged_all_clusters_no_lu_with_stats\n",
    "\n",
    "def bedpe_to_bed_multiple_cols(df, ann_cols = ['num'], slope=0):\n",
    "    \"\"\"\n",
    "    Extract unique bed regions from bedpe dataframe. Index is ignored.\n",
    "    \"\"\"\n",
    "    df_reg1 = df[['chrom1', 'start1', 'end1'] + ann_cols].copy()\n",
    "    df_reg1['anchor'] = 'left_anh'\n",
    "    df_reg2 = df[['chrom2', 'start2', 'end2']+ann_cols ].copy()\n",
    "    df_reg2['anchor'] = 'right_anh'\n",
    "    df_reg1.columns = df_reg1.columns.str.rstrip('1')\n",
    "    df_reg2.columns = df_reg2.columns.str.rstrip('2')\n",
    "\n",
    "    df_bed = pd.concat([df_reg1, df_reg2], ignore_index=True)\\\n",
    "               .drop_duplicates(ignore_index=True)  \n",
    "    df_bed.start = df_bed.start-slope\n",
    "    df_bed.end = df_bed.end+slope\n",
    "    return df_bed \n",
    "\n",
    "def run_go_diff_loops_2lists(genes, background, add_pathways=True, name= None):\n",
    "    if name:\n",
    "        print(f\"Dataset - {name}\")\n",
    "    print(f\"In gene_list - {len(genes)} genes, in the background - {len(background)}\")\n",
    "    gene_set = ['GO_Biological_Process_2021',\n",
    "                'GO_Cellular_Component_2021',\n",
    "                'GO_Molecular_Function_2021']\n",
    "    if add_pathways:\n",
    "        gene_set+=['MSigDB_Hallmark_2020','KEGG_2021_Human', 'PFOCR_Pathways_2023', \"WikiPathway_2023_Human\"]\n",
    "    enr = gp.enrichr(gene_list=genes,\n",
    "                     background=background,\n",
    "                     gene_sets=gene_set,\n",
    "                     organism='Human',\n",
    "                     outdir=None, \n",
    "                    )\n",
    "    return enr\n",
    "    \n",
    "def run_go_diff_loops(genes_in_important_clusters, genes_in_all_clusters, add_pathways=False, name= None):\n",
    "    if name:\n",
    "        print(f\"Dataset - {name}\")\n",
    "    genes = genes_in_important_clusters[genes_in_important_clusters.gene_type_anno == \"protein_coding\"].gene_name_anno.unique().tolist()\n",
    "    background = genes_in_all_clusters[genes_in_all_clusters.gene_type_anno == \"protein_coding\"].gene_name_anno.unique().tolist()\n",
    "    print(f\"In gene_list - {len(genes)} genes, in the background - {len(background)}\")\n",
    "    gene_set = ['GO_Biological_Process_2021',\n",
    "                'GO_Cellular_Component_2021',\n",
    "                'GO_Molecular_Function_2021']\n",
    "    if add_pathways:\n",
    "        gene_set+=['MSigDB_Hallmark_2020','KEGG_2021_Human', 'PFOCR_Pathways_2023', \"WikiPathway_2023_Human\"]\n",
    "    enr = gp.enrichr(gene_list=genes,\n",
    "                     background=background,\n",
    "                     gene_sets=gene_set,\n",
    "                     organism='Human',\n",
    "                     outdir=None, \n",
    "                    )\n",
    "    return enr\n",
    "\n",
    "def get_dot_plot(enr: pd.DataFrame) -> None:\n",
    "    # Filter results with Adjusted P-value < 0.05\n",
    "    significant_results = enr.results.query('`Adjusted P-value` < 0.05')\n",
    "    \n",
    "    if significant_results.shape[0] > 0:\n",
    "        # Print the significant terms\n",
    "        for i, term in enumerate(significant_results.sort_values('Adjusted P-value').Term.tolist()):\n",
    "            print(f\"{i + 1}. {term}\")        \n",
    "\n",
    "        term_count = significant_results.shape[0]\n",
    "        if term_count <= 4:\n",
    "            height, width = 3, 5\n",
    "        elif 4 < term_count < 9:\n",
    "            height, width = 6, 7\n",
    "        elif 9 <= term_count < 13:\n",
    "            height, width = 9, 10\n",
    "        else:\n",
    "            height, width = 11, 13\n",
    "        \n",
    "        # Generate the dot plot\n",
    "        ax = dotplot(\n",
    "            significant_results,\n",
    "            column=\"Adjusted P-value\",\n",
    "            x='Gene_set',  # Set x-axis for multi-sample/library comparison\n",
    "            size=3,\n",
    "            top_term=15,\n",
    "            figsize=(width, height),\n",
    "            title=\"GO\",\n",
    "            xticklabels_rot=45,  # Rotate x-tick labels\n",
    "            show_ring=True,  # Set to False to remove outer ring\n",
    "            marker='o',\n",
    "        )\n",
    "        plt.show()\n",
    "    else:\n",
    "        print('No enriched terms at Adjusted P-value < 0.05')\n",
    "        \n",
    "\n",
    "def identify_cluster_loops(dat_up_down, column, factor):\n",
    "    data = dat_up_down.groupby(['cluster', 'group']).sum().reset_index()\n",
    "    filtered_clusters = []\n",
    "    for cluster in data.cluster.unique():\n",
    "        df = data[data.cluster ==  cluster]    \n",
    "        if df[df['group'] == column].is_loop.iloc[0] >=factor:\n",
    "            filtered_clusters.append(cluster)\n",
    "    return filtered_clusters\n",
    "\n",
    "def get_genes_slope(bed_important_merged_all_clusters_with_importance_reduced, promoters, slope):\n",
    "    genes_in_important_clusters = bf.overlap(bed_important_merged_all_clusters_with_importance_reduced, promoters, how='left', suffixes=('','_anno'))\n",
    "    print(f\"All genes - {genes_in_important_clusters.gene_name_anno.nunique()}\")\n",
    "    print(f'Protein - codings genes - {genes_in_important_clusters[genes_in_important_clusters.gene_type_anno == \"protein_coding\"].gene_name_anno.nunique()}')\n",
    "    # genes_in_important_clusters = genes_in_important_clusters.groupby(['chrom', 'start', 'end']).agg({'gene_name_anno': to_list}).reset_index()\n",
    "    if slope !=0:\n",
    "        genes_in_important_clusters.start = genes_in_important_clusters.start+slope\n",
    "        genes_in_important_clusters.end = genes_in_important_clusters.end-slope\n",
    "    return genes_in_important_clusters\n",
    "    \n",
    "def get_genes_in_up_down(df_init, promoters, filter_only_loops = False, retain_loops_only = False, filter_only_loops_and_cluster = False,  stats_column = 't-statistic', p_value_column = 'q-value_t-statistics', p_value_cutoff = 0.05, slope=0):\n",
    "    merged_all_clusters_no_lu_with_stats = df_init.copy()\n",
    "    merged_all_clusters_no_lu_with_stats = merged_all_clusters_no_lu_with_stats[[stats_column, 'chrom1', 'start1', 'end1', 'chrom2', 'start2', 'end2', 'is_loop','cluster','source', 'contrib','status', 'length', 'group', 'p-value_mannwhitneyu-statistics','q-value_mannwhitneyu-statistics' ]].drop_duplicates()\n",
    "    if filter_only_loops:\n",
    "        deduplicated_clusters = merged_all_clusters_no_lu_with_stats[[stats_column, 'cluster', 'is_loop']].drop_duplicates()\n",
    "        deduplicated_clusters = deduplicated_clusters[deduplicated_clusters.is_loop == True]\n",
    "        deduplicated_clusters = deduplicated_clusters[stats_column].tolist()\n",
    "\n",
    "    else:\n",
    "        deduplicated_clusters = merged_all_clusters_no_lu_with_stats[[stats_column, 'cluster']].drop_duplicates()\n",
    "        deduplicated_clusters = deduplicated_clusters[stats_column].tolist()        \n",
    "        \n",
    "    if stats_column == 't-statistic':\n",
    "        lower_quantile = -0.0001\n",
    "        upper_quantile = 0.0001\n",
    "    elif stats_column == 'mannwhitneyu_statistics':\n",
    "        lower_quantile = np.median(deduplicated_clusters)\n",
    "        upper_quantile = np.median(deduplicated_clusters)        \n",
    "    else:\n",
    "        return 'invalid column'\n",
    "    \n",
    "    down_post_mortem = merged_all_clusters_no_lu_with_stats.loc[(merged_all_clusters_no_lu_with_stats[stats_column] <lower_quantile )&(merged_all_clusters_no_lu_with_stats[p_value_column] <= p_value_cutoff)]\n",
    "    up_post_mortem = merged_all_clusters_no_lu_with_stats.loc[(merged_all_clusters_no_lu_with_stats[stats_column] > upper_quantile )&(merged_all_clusters_no_lu_with_stats[p_value_column] <= p_value_cutoff)]\n",
    "    \n",
    "    if filter_only_loops_and_cluster:\n",
    "        factor_pm = round(merged_all_clusters_no_lu_with_stats[[\"source\", \"group\"]].drop_duplicates().groupby('group').size()['Post-mortem neurons']*0.4, 0)\n",
    "        factor_ipcs = round(merged_all_clusters_no_lu_with_stats[[\"source\", \"group\"]].drop_duplicates().groupby('group').size()['iPSC-derived neurons']*0.4, 0)\n",
    "\n",
    "        down_filtered_clusters = identify_cluster_loops(down_post_mortem, \"iPSC-derived neurons\",factor_ipcs)\n",
    "        down_post_mortem = down_post_mortem[down_post_mortem.cluster.isin(down_filtered_clusters)]\n",
    "        \n",
    "        up_filtered_clusters = identify_cluster_loops(up_post_mortem,\"Post-mortem neurons\",factor_pm )\n",
    "        up_post_mortem = up_post_mortem[up_post_mortem.cluster.isin(up_filtered_clusters)]       \n",
    "\n",
    "    \n",
    "    if filter_only_loops:\n",
    "        down_post_mortem = down_post_mortem[down_post_mortem.is_loop == True]\n",
    "        up_post_mortem = up_post_mortem[up_post_mortem.is_loop == True]\n",
    "\n",
    "    merged_all_clusters_no_lu_with_stats_loops = merged_all_clusters_no_lu_with_stats.copy()\n",
    "    \n",
    "    if retain_loops_only:\n",
    "        down_post_mortem = down_post_mortem[down_post_mortem.is_loop == True]\n",
    "        up_post_mortem = up_post_mortem[up_post_mortem.is_loop == True]\n",
    "        merged_all_clusters_no_lu_with_stats_loops = merged_all_clusters_no_lu_with_stats_loops[merged_all_clusters_no_lu_with_stats_loops.is_loop == True]\n",
    "    \n",
    "    print(f'There are {down_post_mortem.cluster.nunique()} clusters that are down in Post-mortem')\n",
    "    print(f'There are {up_post_mortem.cluster.nunique()} clusters that are up in Post-mortem')\n",
    "    bed_merged_all_clusters_no_lu_with_stats_loops = bedpe_to_bed_multiple_cols(merged_all_clusters_no_lu_with_stats_loops\n",
    "        , ann_cols =['cluster', 'contrib','status', 'length', 'group', 'mannwhitneyu_statistics','p-value_mannwhitneyu-statistics','q-value_mannwhitneyu-statistics'], slope=slope)\n",
    "    \n",
    "    genes_in_all_clusters_no_lu_with_stats = get_genes_slope(bed_merged_all_clusters_no_lu_with_stats_loops, promoters, slope)\n",
    "    genes_in_up_postmortem_clusters_no_lu_with_stats = get_genes_slope(bed_merged_all_clusters_no_lu_with_stats_loops[bed_merged_all_clusters_no_lu_with_stats_loops.cluster.isin(up_post_mortem.cluster.tolist())], promoters, slope)\n",
    "    genes_in_dwn_postmortem_clusters_no_lu_with_stats = get_genes_slope(bed_merged_all_clusters_no_lu_with_stats_loops[bed_merged_all_clusters_no_lu_with_stats_loops.cluster.isin(down_post_mortem.cluster.tolist())], promoters, slope)\n",
    "    \n",
    "    \n",
    "        \n",
    "    return genes_in_all_clusters_no_lu_with_stats, genes_in_up_postmortem_clusters_no_lu_with_stats, genes_in_dwn_postmortem_clusters_no_lu_with_stats\n",
    "\n",
    "def get_general_gene_intersect(df, additional_columns = ['cluster', 'contrib','status', 'length', 'group', 't-statistic', 'p-value']):    \n",
    "    bed_merged = bedpe_to_bed_multiple_cols(df\n",
    "        , ann_cols =additional_columns)\n",
    "    genes_bed_merged = get_genes(bed_merged, promoters)\n",
    "    return genes_bed_merged\n",
    "\n"
   ]
  },
  {
   "cell_type": "code",
   "execution_count": 107,
   "id": "5adccc02-f1a1-4aa7-8ff6-95faeacb8421",
   "metadata": {},
   "outputs": [
    {
     "name": "stderr",
     "output_type": "stream",
     "text": [
      "  5%|██████▊                                                                                                                       | 1199/22235 [00:09<02:49, 123.76it/s]/home/dzagirova/.local/lib/python3.9/site-packages/scipy/stats/_axis_nan_policy.py:531: RuntimeWarning: Precision loss occurred in moment calculation due to catastrophic cancellation. This occurs when the data are nearly identical. Results may be unreliable.\n",
      "  res = hypotest_fun_out(*samples, **kwds)\n",
      "100%|█████████████████████████████████████████████████████████████████████████████████████████████████████████████████████████████| 22235/22235 [02:46<00:00, 133.74it/s]\n"
     ]
    },
    {
     "data": {
      "text/html": [
       "<div>\n",
       "<style scoped>\n",
       "    .dataframe tbody tr th:only-of-type {\n",
       "        vertical-align: middle;\n",
       "    }\n",
       "\n",
       "    .dataframe tbody tr th {\n",
       "        vertical-align: top;\n",
       "    }\n",
       "\n",
       "    .dataframe thead th {\n",
       "        text-align: right;\n",
       "    }\n",
       "</style>\n",
       "<table border=\"1\" class=\"dataframe\">\n",
       "  <thead>\n",
       "    <tr style=\"text-align: right;\">\n",
       "      <th></th>\n",
       "      <th>cluster</th>\n",
       "      <th>t-statistic</th>\n",
       "      <th>p-value_t-statistics</th>\n",
       "      <th>mannwhitneyu_statistics</th>\n",
       "      <th>p-value_mannwhitneyu-statistics</th>\n",
       "    </tr>\n",
       "  </thead>\n",
       "  <tbody>\n",
       "    <tr>\n",
       "      <th>0</th>\n",
       "      <td>chr1_1656</td>\n",
       "      <td>-2.176989</td>\n",
       "      <td>0.054696</td>\n",
       "      <td>6.0</td>\n",
       "      <td>0.073232</td>\n",
       "    </tr>\n",
       "    <tr>\n",
       "      <th>1</th>\n",
       "      <td>chr3_1689</td>\n",
       "      <td>-0.267101</td>\n",
       "      <td>0.795009</td>\n",
       "      <td>14.0</td>\n",
       "      <td>0.638889</td>\n",
       "    </tr>\n",
       "    <tr>\n",
       "      <th>2</th>\n",
       "      <td>chr15_613</td>\n",
       "      <td>-2.657305</td>\n",
       "      <td>0.028483</td>\n",
       "      <td>5.0</td>\n",
       "      <td>0.047980</td>\n",
       "    </tr>\n",
       "    <tr>\n",
       "      <th>3</th>\n",
       "      <td>chr3_1986</td>\n",
       "      <td>-4.832328</td>\n",
       "      <td>0.001801</td>\n",
       "      <td>0.0</td>\n",
       "      <td>0.002525</td>\n",
       "    </tr>\n",
       "    <tr>\n",
       "      <th>4</th>\n",
       "      <td>chr9_720</td>\n",
       "      <td>-0.017551</td>\n",
       "      <td>0.986467</td>\n",
       "      <td>14.0</td>\n",
       "      <td>0.638889</td>\n",
       "    </tr>\n",
       "  </tbody>\n",
       "</table>\n",
       "</div>"
      ],
      "text/plain": [
       "     cluster  t-statistic  p-value_t-statistics  mannwhitneyu_statistics  \\\n",
       "0  chr1_1656    -2.176989              0.054696                      6.0   \n",
       "1  chr3_1689    -0.267101              0.795009                     14.0   \n",
       "2  chr15_613    -2.657305              0.028483                      5.0   \n",
       "3  chr3_1986    -4.832328              0.001801                      0.0   \n",
       "4   chr9_720    -0.017551              0.986467                     14.0   \n",
       "\n",
       "   p-value_mannwhitneyu-statistics  \n",
       "0                         0.073232  \n",
       "1                         0.638889  \n",
       "2                         0.047980  \n",
       "3                         0.002525  \n",
       "4                         0.638889  "
      ]
     },
     "execution_count": 107,
     "metadata": {},
     "output_type": "execute_result"
    }
   ],
   "source": [
    "merged_all_clusters.intensity_median = merged_all_clusters.intensity_median.fillna(10**-10)\n",
    "cluster_data = get_cluster_data(merged_all_clusters[['cluster', 'group', 'source', 'intensity_median']].drop_duplicates().reset_index(drop=True), col = 'intensity_median')\n",
    "merged_all_clusters['p-value_mannwhitneyu-statistics'] = merged_all_clusters['cluster'].map(dict(cluster_data[['cluster', 'p-value_mannwhitneyu-statistics']].values))\n",
    "merged_all_clusters['mannwhitneyu_statistics'] = merged_all_clusters['cluster'].map(dict(cluster_data[['cluster', 'mannwhitneyu_statistics']].values))\n",
    "cluster_data.head()"
   ]
  },
  {
   "cell_type": "code",
   "execution_count": 108,
   "id": "cff9f7aa-e828-43a5-909c-cf547385d0ba",
   "metadata": {},
   "outputs": [],
   "source": [
    "deduplicated_merged_all_clusters_stats = merged_all_clusters[[\"cluster\",  'p-value_mannwhitneyu-statistics']].drop_duplicates()\n",
    "_, fdr_corrected = fdrcorrection(deduplicated_merged_all_clusters_stats['p-value_mannwhitneyu-statistics'])\n",
    "assert len(fdr_corrected) == len(deduplicated_merged_all_clusters_stats['p-value_mannwhitneyu-statistics'])\n",
    "fdr_corrected_qtest = {i:k for i,k in zip(deduplicated_merged_all_clusters_stats.cluster.tolist(),fdr_corrected )}\n",
    "merged_all_clusters['q-value_mannwhitneyu-statistics'] = merged_all_clusters['cluster'].map(fdr_corrected_qtest)\n"
   ]
  },
  {
   "cell_type": "markdown",
   "id": "56c30e19-7dca-4a42-98c5-f156e646c7ad",
   "metadata": {},
   "source": [
    "## 4.2 Intersect with genes"
   ]
  },
  {
   "cell_type": "code",
   "execution_count": 111,
   "id": "82a746b7-b2f6-4d4b-a138-f7a69d7ad4bd",
   "metadata": {},
   "outputs": [
    {
     "name": "stdout",
     "output_type": "stream",
     "text": [
      "There are 2922 clusters that are down in Post-mortem\n",
      "There are 1063 clusters that are up in Post-mortem\n",
      "All genes - 18493\n",
      "Protein - codings genes - 7682\n",
      "All genes - 1917\n",
      "Protein - codings genes - 839\n",
      "All genes - 3828\n",
      "Protein - codings genes - 1410\n",
      "Dataset - Genes in anchors of loops with higher intensity in post-mortem samples\n",
      "In gene_list - 839 genes, in the background - 7682\n",
      "Dataset - Genes in anchors of loops with higher intensity in cultural samples\n",
      "In gene_list - 1410 genes, in the background - 7682\n"
     ]
    }
   ],
   "source": [
    "genes_in_all_clusters_mu, genes_in_up_postmortem_mu, genes_in_dwn_postmortem_mu = get_genes_in_up_down(merged_all_clusters,  promoters, filter_only_loops_and_cluster = True, retain_loops_only=True, stats_column = 'mannwhitneyu_statistics', p_value_column = 'q-value_mannwhitneyu-statistics', slope = 0)\n",
    "up_enrichment_mu = run_go_diff_loops(genes_in_up_postmortem_mu, genes_in_all_clusters_mu, name = \"Genes in anchors of loops with higher intensity in post-mortem samples\")\n",
    "dwn_enrichment_mu = run_go_diff_loops(genes_in_dwn_postmortem_mu, genes_in_all_clusters_mu,  name = \"Genes in anchors of loops with higher intensity in cultural samples\")\n",
    "\n",
    "down_mu_clusters = set(genes_in_dwn_postmortem_mu.cluster.tolist())\n",
    "up_mu_clusters = set(genes_in_up_postmortem_mu.cluster.tolist())\n",
    "\n",
    "merged_all_clusters['status_by_mu'] = merged_all_clusters.cluster.apply(\n",
    "    lambda x: 'down_in_post_mortem' if x in down_mu_clusters else \n",
    "    ('up_in_post_mortem' if x in up_mu_clusters else 'not_defined')\n",
    ")\n",
    "\n",
    "merged_all_clusters_stats_trueLoops['status_by_mu'] = merged_all_clusters_stats_trueLoops.cluster.apply(\n",
    "    lambda x: 'down_in_post_mortem' if x in down_mu_clusters else \n",
    "    ('up_in_post_mortem' if x in up_mu_clusters else 'not_defined')\n",
    ")\n",
    "\n",
    "genes_in_all_clusters_mu[['gene_name_anno']].dropna().drop_duplicates().to_csv('./loops_data/loops_genes_data/background_genes_in_clusters_DownPostmortem_vs_iPSCderived.csv', index=False)\n",
    "genes_in_up_postmortem_mu[['gene_name_anno']].dropna().drop_duplicates().to_csv('./loops_data/loops_genes_data/genes_in_clusters_UpPostmortem_vs_iPSCderived.csv', index=False)\n",
    "genes_in_dwn_postmortem_mu[['gene_name_anno']].dropna().drop_duplicates().to_csv('./loops_data/loops_genes_data/genes_in_clusters_DownPostmortem_vs_iPSCderived.csv', index=False)\n"
   ]
  },
  {
   "cell_type": "markdown",
   "id": "7e575991-6d71-4ffb-b15d-f6830665a3ac",
   "metadata": {},
   "source": [
    "# 5. Study log2FC ratio"
   ]
  },
  {
   "cell_type": "code",
   "execution_count": 123,
   "id": "5e88e422-1dd7-401a-890a-6266da368217",
   "metadata": {},
   "outputs": [],
   "source": [
    "def plot_dataframe_de_loops_simple(df_filtered2, column, name, xlims = [0.0,4]):    \n",
    "    custom_palette = {\n",
    "        'none': 'lightgrey',\n",
    "        'one_anh': '#fda056',\n",
    "        'both': '#5a3a86'\n",
    "    }\n",
    "    \n",
    "    plt.figure(figsize=(4, 3))\n",
    "    df_plot = df_filtered2[['cluster', 'length_kb', 'status_by_mu','log2_ratio', column]].drop_duplicates()\n",
    "    df_plot = df_plot.dropna()\n",
    "    hue_order = ['both', 'one_anh', 'none']\n",
    "    alphas = {'both': 0.6, 'one_anh': 0.4, 'none': 0.2}\n",
    "    \n",
    "    ax = plt.gca()    \n",
    "    for hue in hue_order[::-1]:\n",
    "        legend = False if hue != 'none' else True\n",
    "        df = df_plot[df_plot[column] == hue]\n",
    "        sns.scatterplot(data=df, x=\"log2_ratio\", y=\"length_kb\",\n",
    "                        hue=column,\n",
    "                        palette=custom_palette,                        \n",
    "                        ax=ax,\n",
    "                        legend=True)\n",
    "                        # alpha=alphas[hue])\n",
    "\n",
    "    plt.title('Scatter Plot of Loop Length vs Log2 Ratio')\n",
    "    plt.xlim(xlims[0], xlims[1])\n",
    "    plt.legend(bbox_to_anchor=(1.3, 1.05))\n",
    "    save_name = f\"log2ratio_length_de_loops_{name}\"\n",
    "    plt.savefig(f\"./loops_visualizations/{save_name}.pdf\", bbox_inches='tight', format=\"pdf\")\n",
    "    \n",
    "    plt.show()\n",
    "\n",
    "def plot_length(df, mode = \"neuronal\", ylim = 5400):    \n",
    "    df = df[['length_kb', 'cluster', 'has_h3k27me3_peak_encode_anchor']].drop_duplicates()\n",
    "    custom_palette = {\n",
    "            'none': 'lightgrey',\n",
    "            'one_anh': '#fda056',\n",
    "            'both': '#5a3a86'\n",
    "        }\n",
    "    modes = df.has_h3k27me3_peak_encode_anchor.unique()\n",
    "    cnt=0\n",
    "    for mode1 in modes:\n",
    "        for mode2 in modes[cnt:]:\n",
    "            if mode1 != mode2:\n",
    "                t_stat, p_value_t_stat = ttest_ind(df[df.has_h3k27me3_peak_encode_anchor == mode1].length_kb.tolist(), df[df.has_h3k27me3_peak_encode_anchor == mode2].length_kb.tolist(), equal_var=False) \n",
    "                print(mode1 , mode2)\n",
    "                print(t_stat, p_value_t_stat )\n",
    "                cnt+=1\n",
    "            \n",
    "    plt.figure(figsize=(3, 2.3)) \n",
    "    ax = sns.boxplot(x='has_h3k27me3_peak_encode_anchor', y='length_kb',\n",
    "                     showfliers=False,\n",
    "                     data=df,\n",
    "                     width = 0.4,\n",
    "                     palette = custom_palette,\n",
    "                     order=['none', \"one_anh\", \"both\"],\n",
    "                     showmeans=True,\n",
    "                     boxprops=dict(linewidth=0.4),\n",
    "                     whiskerprops=dict(linewidth=0.4),\n",
    "                     capprops=dict(linewidth=0.4),\n",
    "                     medianprops=dict(linewidth=0.4),\n",
    "                     meanprops={\"marker\": \"o\",\n",
    "                                \"markeredgecolor\": \"darkgrey\",\n",
    "                                \"markerfacecolor\": \"white\",\n",
    "                                \"markersize\": \"3\"},\n",
    "                     )  \n",
    "    \n",
    "    plt.ylabel('Length, Kb')\n",
    "    plt.ylim(-100, ylim )\n",
    "    save_name = f\"{mode}_loop_length_by_anchor_status\"\n",
    "    plt.savefig(f\"./loops_visualizations/{save_name}.pdf\", bbox_inches='tight', format=\"pdf\")\n",
    "    plt.show\n",
    "\n",
    "\n",
    "def plot_log2ratio(df, mode = \"neuronal\", ylim_min = -1.5, ylim = 5400):    \n",
    "    df = df[['log2_ratio', 'cluster', 'has_h3k27me3_peak_encode_anchor']].drop_duplicates()\n",
    "    custom_palette = {\n",
    "            'none': 'lightgrey',\n",
    "            'one_anh': '#fda056',\n",
    "            'both': '#5a3a86'\n",
    "        }\n",
    "    modes = df.has_h3k27me3_peak_encode_anchor.unique()\n",
    "    cnt=0\n",
    "    for mode1 in modes:\n",
    "        for mode2 in modes[cnt:]:\n",
    "            if mode1 != mode2:\n",
    "                t_stat, p_value_t_stat = ttest_ind(df[df.has_h3k27me3_peak_encode_anchor == mode1].log2_ratio.tolist(), df[df.has_h3k27me3_peak_encode_anchor == mode2].log2_ratio.tolist(), equal_var=False) \n",
    "                print(mode1 , mode2)\n",
    "                print(t_stat, p_value_t_stat )\n",
    "                cnt+=1\n",
    "            \n",
    "    plt.figure(figsize=(3, 2.3)) \n",
    "    ax = sns.boxplot(x='has_h3k27me3_peak_encode_anchor', y='log2_ratio',\n",
    "                     showfliers=False,\n",
    "                     data=df,\n",
    "                     width = 0.4,\n",
    "                     palette = custom_palette,\n",
    "                     order=['none', \"one_anh\", \"both\"],\n",
    "                     showmeans=True,\n",
    "                     boxprops=dict(linewidth=0.4),\n",
    "                     whiskerprops=dict(linewidth=0.4),\n",
    "                     capprops=dict(linewidth=0.4),\n",
    "                     medianprops=dict(linewidth=0.4),\n",
    "                     meanprops={\"marker\": \"o\",\n",
    "                                \"markeredgecolor\": \"darkgrey\",\n",
    "                                \"markerfacecolor\": \"white\",\n",
    "                                \"markersize\": \"3\"},\n",
    "                     )  \n",
    "    plt.ylim(ylim_min, ylim )\n",
    "    save_name = f\"{mode}_loop_log2_ratio_by_anchor_status\"\n",
    "    plt.savefig(f\"./loops_visualizations/{save_name}.pdf\", bbox_inches='tight', format=\"pdf\")\n",
    "    plt.show()"
   ]
  },
  {
   "cell_type": "code",
   "execution_count": 112,
   "id": "d6e370a5-2cbc-449f-9ae9-46975e3c31ed",
   "metadata": {},
   "outputs": [],
   "source": [
    "df = merged_all_clusters.copy()\n",
    "df = df[df.is_loop == True]\n",
    "df = df[df.log2_ratio <= 10]\n",
    "df = df[df.log2_ratio >= -10]\n",
    "loops_cultural = df[df.status_by_mu == \"down_in_post_mortem\"]\n",
    "loops_neuronal = df[df.status_by_mu == \"up_in_post_mortem\"]"
   ]
  },
  {
   "cell_type": "code",
   "execution_count": 114,
   "id": "7e98c290-38e7-4cdb-a5df-1a939b61905e",
   "metadata": {},
   "outputs": [
    {
     "data": {
      "image/png": "[encoded data removed]",
      "text/plain": [
       "<Figure size 400x300 with 1 Axes>"
      ]
     },
     "metadata": {},
     "output_type": "display_data"
    }
   ],
   "source": [
    "plot_dataframe_de_loops_simple(loops_cultural, 'has_h3k27me3_peak_encode_anchor', \"down_in_pm\", [-4.0, 0])"
   ]
  },
  {
   "cell_type": "code",
   "execution_count": 119,
   "id": "335c41ea-a577-4b6e-874b-c74d15a43224",
   "metadata": {},
   "outputs": [
    {
     "data": {
      "image/png": "[encoded data removed]",
      "text/plain": [
       "<Figure size 400x300 with 1 Axes>"
      ]
     },
     "metadata": {},
     "output_type": "display_data"
    }
   ],
   "source": [
    "plot_dataframe_de_loops_simple(loops_neuronal, 'has_h3k27me3_peak_kozlenkov_anchor', \"up_in_pm\", [ 0, 4])"
   ]
  },
  {
   "cell_type": "code",
   "execution_count": 121,
   "id": "f2becfa3-27bc-4999-bc64-593b1c66d80d",
   "metadata": {},
   "outputs": [
    {
     "name": "stdout",
     "output_type": "stream",
     "text": [
      "one_anh none\n",
      "-5.624859500566742 1.9321330665936172e-08\n",
      "one_anh both\n",
      "3.3496613533663 0.0008362424659144679\n",
      "none both\n",
      "6.964163366679715 6.101173313084655e-12\n"
     ]
    },
    {
     "data": {
      "image/png": "[encoded data removed]",
      "text/plain": [
       "<Figure size 300x230 with 1 Axes>"
      ]
     },
     "metadata": {},
     "output_type": "display_data"
    }
   ],
   "source": [
    "plot_length(loops_cultural.copy(), mode = \"cultural\", ylim = 2500)"
   ]
  },
  {
   "cell_type": "code",
   "execution_count": 122,
   "id": "464c4ab7-3cf9-4c85-9845-7a6a9e096cf7",
   "metadata": {},
   "outputs": [
    {
     "name": "stdout",
     "output_type": "stream",
     "text": [
      "one_anh none\n",
      "-0.5096529632348359 0.6103462752983561\n",
      "one_anh both\n",
      "-9.149079084947774 9.926222460458889e-18\n",
      "none both\n",
      "-9.093241328829237 1.576044192221378e-17\n"
     ]
    },
    {
     "data": {
      "image/png": "[encoded data removed]",
      "text/plain": [
       "<Figure size 300x230 with 1 Axes>"
      ]
     },
     "metadata": {},
     "output_type": "display_data"
    }
   ],
   "source": [
    "plot_length(loops_neuronal.copy(), mode = \"neuronal\")"
   ]
  },
  {
   "cell_type": "code",
   "execution_count": 124,
   "id": "fcddb152-4400-4dd0-8003-3570610993a0",
   "metadata": {},
   "outputs": [
    {
     "name": "stdout",
     "output_type": "stream",
     "text": [
      "one_anh none\n",
      "-0.7673042351231593 0.4429842961956455\n",
      "one_anh both\n",
      "1.757074595667218 0.0798343134849358\n",
      "none both\n",
      "2.2337579104560024 0.026263410751636435\n"
     ]
    },
    {
     "data": {
      "image/png": "[encoded data removed]",
      "text/plain": [
       "<Figure size 300x230 with 1 Axes>"
      ]
     },
     "metadata": {},
     "output_type": "display_data"
    }
   ],
   "source": [
    "plot_log2ratio(loops_cultural.copy(), mode = \"cultural\", ylim = 0.15)"
   ]
  },
  {
   "cell_type": "code",
   "execution_count": 125,
   "id": "dc3090b9-94f6-49f4-a075-a83472217559",
   "metadata": {},
   "outputs": [
    {
     "name": "stdout",
     "output_type": "stream",
     "text": [
      "one_anh none\n",
      "1.1973402465329248 0.23167119591773916\n",
      "one_anh both\n",
      "-7.039668791758156 2.0093826151871688e-10\n",
      "none both\n",
      "-7.401204169055615 4.2013802927735185e-11\n"
     ]
    },
    {
     "data": {
      "image/png": "[encoded data removed]",
      "text/plain": [
       "<Figure size 300x230 with 1 Axes>"
      ]
     },
     "metadata": {},
     "output_type": "display_data"
    }
   ],
   "source": [
    "plot_log2ratio(loops_neuronal.copy(), mode = \"neuronal\", ylim_min = 0.0, ylim=3.5)"
   ]
  },
  {
   "cell_type": "markdown",
   "id": "97a0cf23-ad4c-42be-94f8-101bef41a969",
   "metadata": {},
   "source": [
    "# 6. Analysis of TFs"
   ]
  },
  {
   "cell_type": "code",
   "execution_count": 180,
   "id": "9420f767-b04f-4194-8ae3-a98a85b86be3",
   "metadata": {},
   "outputs": [],
   "source": [
    "df = merged_all_clusters.copy()\n",
    "df = df[df.is_loop == True]\n",
    "loops_cultural = df[df.status_by_mu == \"down_in_post_mortem\"]\n",
    "loops_neuronal = df[df.status_by_mu == \"up_in_post_mortem\"]"
   ]
  },
  {
   "cell_type": "code",
   "execution_count": 144,
   "id": "363eaf1b-a835-48f6-b4ec-6ce001438bae",
   "metadata": {},
   "outputs": [],
   "source": [
    "def plot_violin_chart(df):\n",
    "    custom_palette_tfs = {\n",
    "        'no TFs': 'lightgrey',\n",
    "        'contains TF': '#fda056',\n",
    "        'both': '#7e65a1'\n",
    "    }\n",
    "\n",
    "    # Prepare data\n",
    "    df_plot = df.copy()\n",
    "    df_plot = df_plot[[\n",
    "        \"tf_in_cluster_status\", \n",
    "        'log2FoldChange_promoters', \n",
    "        'has_h3k27me3_peak_kozlenkov_anchor', \n",
    "        'has_h3k27me3_peak_encode_anchor'\n",
    "    ]].drop_duplicates()\n",
    "\n",
    "    plt.figure(figsize=(5, 4))\n",
    "    \n",
    "    try:\n",
    "        ax = sns.violinplot(\n",
    "            y='log2FoldChange_promoters', \n",
    "            x='has_h3k27me3_peak_kozlenkov_anchor',\n",
    "            hue=\"tf_in_cluster_status\",\n",
    "            data=df_plot,\n",
    "            palette=custom_palette_tfs,\n",
    "            alpha=1,\n",
    "            width=1,\n",
    "            linewidth=0.4, \n",
    "            split=True,\n",
    "            gap=0.1,\n",
    "            inner=\"box\", \n",
    "            inner_kws={'marker': 'o', 'markersize': 4, 'box_width': 3, 'whis_width': 1},\n",
    "            orient='v'\n",
    "        )\n",
    "\n",
    "        ax.axhline(y=0, color='grey', linestyle='--')        \n",
    "        ax.legend(bbox_to_anchor=(1.05, 1), loc='upper left')\n",
    "        plt.ylabel('Log2FC gene expression')\n",
    "        plt.xlabel('H3K27me3 peak presence')\n",
    "\n",
    "        plt.tight_layout()\n",
    "        save_name = \"de_neuronal_loops_tfs\"\n",
    "        plt.savefig(f\"./loops_visualizations/{save_name}.pdf\", bbox_inches='tight', format=\"pdf\")\n",
    "       \n",
    "        plt.show()\n",
    "\n",
    "    except Exception as e:\n",
    "        # Handle exceptions gracefully\n",
    "        print(f\"An error occurred while plotting: {e}\")"
   ]
  },
  {
   "cell_type": "code",
   "execution_count": 145,
   "id": "c8019344-5986-4147-9b3d-d0d8775f59b5",
   "metadata": {},
   "outputs": [
    {
     "data": {
      "image/png": "[encoded data removed]",
      "text/plain": [
       "<Figure size 500x400 with 1 Axes>"
      ]
     },
     "metadata": {},
     "output_type": "display_data"
    }
   ],
   "source": [
    "plot_violin_chart(loops_neuronal)"
   ]
  },
  {
   "cell_type": "code",
   "execution_count": 146,
   "id": "cb03e6b8-d9b5-495b-a1a4-83401bf6d436",
   "metadata": {},
   "outputs": [],
   "source": [
    "tf_stats = {}\n",
    "for i in loops_neuronal.has_h3k27me3_peak_kozlenkov_anchor.unique():\n",
    "    df = loops_neuronal[loops_neuronal.has_h3k27me3_peak_kozlenkov_anchor == i]\n",
    "    unique_clusters = df.cluster.nunique()\n",
    "    df = df[[\"tf_in_cluster_status\", \"cluster\"]].drop_duplicates().groupby('tf_in_cluster_status').size()\n",
    "\n",
    "    tf_stats[i] = {}\n",
    "    tf_stats[i]['contains TF'] = round(df['contains TF'] /unique_clusters, 1)\n",
    "    tf_stats[i]['no TFs'] =round( df['no TFs']/unique_clusters, 1)"
   ]
  },
  {
   "cell_type": "code",
   "execution_count": 147,
   "id": "f787008e-3e82-48cb-b1ac-e9cc4c27316f",
   "metadata": {},
   "outputs": [],
   "source": [
    "def create_df_from_stats(tf_stats):\n",
    "    df1 = pd.DataFrame(tf_stats).T[['contains TF']]\n",
    "    df1.columns = ['percentage']\n",
    "    df1['type'] = 'contains TF'\n",
    "    df2 = pd.DataFrame(tf_stats).T[['no TFs']]\n",
    "    df2.columns = ['percentage']\n",
    "    df2['type'] = 'no TFs'\n",
    "    df = pd.concat([df1,df2 ])\n",
    "    df['Group'] = 'Up in Post-mortem'\n",
    "    df = df.reset_index()\n",
    "    df.columns = ['Peak', 'Value', \"Type\", \"Group\"]\n",
    "    return df"
   ]
  },
  {
   "cell_type": "code",
   "execution_count": 148,
   "id": "986f0bfc-60ee-4e77-9164-7a9e123b380b",
   "metadata": {},
   "outputs": [
    {
     "data": {
      "image/png": "[encoded data removed]",
      "text/plain": [
       "<Figure size 500x400 with 1 Axes>"
      ]
     },
     "metadata": {},
     "output_type": "display_data"
    }
   ],
   "source": [
    "df = create_df_from_stats(tf_stats)\n",
    "custom_palette = {\n",
    "    'H3K27me3 consensus peak': \"#8971ab\",\n",
    "    'H3K27me3 neuronal peak': \"#034e91\",\n",
    "    'H3K27me3 cultural peak': \"#469433\",\n",
    "    'No H3K27me3 peak': \"lightgrey\"\n",
    "}\n",
    "\n",
    "fig, ax = plt.subplots(figsize=(5,4))\n",
    "sns.barplot(\n",
    "    x='Peak', y='Value', hue='Type', data=df[df['Type'] == 'contains TF'],\n",
    "    palette = custom_palette_tfs, ax=ax,width =0.5,  orient='v', dodge=True,\n",
    ")\n",
    "\n",
    "sns.barplot(\n",
    "    x='Peak', y=df['Value']*-1, hue='Type', data=df[df['Type'] == 'no TFs'],\n",
    "    palette = custom_palette_tfs, ax=ax, width =0.5,  orient='v', dodge=True, \n",
    ")\n",
    "\n",
    "\n",
    "handles, labels = ax.get_legend_handles_labels()\n",
    "ax.legend(handles[:4], labels[:4], title='Peak')\n",
    "ax.set_xlabel('Percentage')\n",
    "ax.set_ylabel('Group')\n",
    "ax.set_title('Percentage of Loops with TFs in Each Group')\n",
    "ax.legend(bbox_to_anchor=(1.05, 1), loc='upper left')\n",
    "ax.axhline(y=0, color='grey', linestyle='--', zorder=10) \n",
    "ax.axhline(y=-0.5, color='grey', linestyle='--', zorder=10) \n",
    "\n",
    "ax.axhline(y=0.5, color='grey', linestyle='--', zorder=10) \n",
    "# Adjust x-axis to show positive values for both up and down\n",
    "ax.set_ylim(-1, 1)\n",
    "ax.set_yticks([-1, -0.75, -0.5, -0.25, 0, 0.25, 0.5, 0.75, 1])\n",
    "ax.set_yticklabels([100, 75, 50, 25, 0, 25, 50, 75, 100])\n",
    "save_name = \"de_loops_tfs_neuronal_percentage\"\n",
    "plt.savefig(f\"./loops_visualizations/{save_name}.pdf\", bbox_inches='tight', format=\"pdf\")\n",
    "\n",
    "plt.show()"
   ]
  },
  {
   "cell_type": "code",
   "execution_count": 161,
   "id": "f988a3ae-ea5a-4587-ae97-5ab1e4498437",
   "metadata": {},
   "outputs": [
    {
     "data": {
      "image/png": "[encoded data removed]",
      "text/plain": [
       "<Figure size 500x400 with 1 Axes>"
      ]
     },
     "metadata": {},
     "output_type": "display_data"
    }
   ],
   "source": [
    "plt.figure(figsize=(5,4))\n",
    "df_plot = loops_cultural.copy()\n",
    "df_plot = df_plot[[\"tf_in_cluster_status\", 'log2FoldChange_promoters', 'has_h3k27me3_peak_kozlenkov_anchor', 'has_h3k27me3_peak_encode_anchor']].drop_duplicates()\n",
    "ax = sns.violinplot(y='log2FoldChange_promoters', x='has_h3k27me3_peak_encode_anchor',\n",
    "                 hue=\"tf_in_cluster_status\",\n",
    "                 data=df_plot,\n",
    "                palette = custom_palette_tfs,\n",
    "                alpha=1,\n",
    "                width = 1,\n",
    "                linewidth=0.4, \n",
    "                split=True,\n",
    "                gap=.1,\n",
    "                 inner=\"box\",\n",
    "                inner_kws=dict(marker = 'o',markersize = \"4\",\n",
    "                                   box_width=4, whis_width=1),\n",
    "                 orient='v')  \n",
    "\n",
    "ax.axhline(y=0, color='grey', linestyle='--')\n",
    "ax.legend(bbox_to_anchor=(1.05, 1), loc='upper left')\n",
    "plt.ylabel('Log2FC gene expression')\n",
    "plt.xlabel('H3K27me3 peak presence')\n",
    "\n",
    "plt.tight_layout()\n",
    "save_name = \"de_cultural_loops_tfs\"\n",
    "plt.savefig(f\"./loops_visualizations/{save_name}.pdf\", bbox_inches='tight', format=\"pdf\")\n",
    "plt.show()"
   ]
  },
  {
   "cell_type": "code",
   "execution_count": 149,
   "id": "4fa6407a-7e43-454e-a217-757efdf366ac",
   "metadata": {},
   "outputs": [
    {
     "data": {
      "text/plain": [
       "{'one_anh': {'contains TF': 0.3, 'no TFs': 0.7},\n",
       " 'none': {'contains TF': 0.1, 'no TFs': 0.9},\n",
       " 'both': {'contains TF': 0.4, 'no TFs': 0.6}}"
      ]
     },
     "execution_count": 149,
     "metadata": {},
     "output_type": "execute_result"
    }
   ],
   "source": [
    "tf_stats = {}\n",
    "for i in loops_cultural.has_h3k27me3_peak_encode_anchor.unique():\n",
    "    df = loops_cultural[loops_cultural.has_h3k27me3_peak_encode_anchor == i]\n",
    "    unique_clusters = df.cluster.nunique()\n",
    "    df = df[[\"tf_in_cluster_status\", \"cluster\"]].drop_duplicates().groupby('tf_in_cluster_status').size()\n",
    "\n",
    "    tf_stats[i] = {}\n",
    "    tf_stats[i]['contains TF'] = round(df['contains TF'] /unique_clusters, 1)\n",
    "    tf_stats[i]['no TFs'] =round( df['no TFs']/unique_clusters, 1)\n",
    "tf_stats"
   ]
  },
  {
   "cell_type": "code",
   "execution_count": 152,
   "id": "46bd1d1b-47ab-4c65-835f-eb73c731b4c0",
   "metadata": {},
   "outputs": [],
   "source": [
    "tf_stats_reorder = {}\n",
    "for key in ['none', 'one_anh', 'both']:\n",
    "    tf_stats_reorder[key] = tf_stats[key]\n",
    "tf_stats = tf_stats_reorder"
   ]
  },
  {
   "cell_type": "code",
   "execution_count": 153,
   "id": "e0de22ee-29c7-40ac-bb3c-33bc0732eb30",
   "metadata": {},
   "outputs": [
    {
     "data": {
      "image/png": "[encoded data removed]",
      "text/plain": [
       "<Figure size 500x400 with 1 Axes>"
      ]
     },
     "metadata": {},
     "output_type": "display_data"
    }
   ],
   "source": [
    "df = create_df_from_stats(tf_stats)\n",
    "\n",
    "custom_palette = {\n",
    "    'H3K27me3 consensus peak': \"#8971ab\",\n",
    "    'H3K27me3 neuronal peak': \"#034e91\",\n",
    "    'H3K27me3 cultural peak': \"#469433\",\n",
    "    'No H3K27me3 peak': \"lightgrey\"\n",
    "}\n",
    "\n",
    "fig, ax = plt.subplots(figsize=(5, 4))\n",
    "sns.barplot(\n",
    "    x='Peak', y='Value', hue='Type', data=df[df['Type'] == 'contains TF'],\n",
    "    palette = custom_palette_tfs, ax=ax,width =0.5,  orient='v', dodge=True,\n",
    ")\n",
    "\n",
    "sns.barplot(\n",
    "    x='Peak', y=df['Value']*-1, hue='Type', data=df[df['Type'] == 'no TFs'],\n",
    "    palette = custom_palette_tfs, ax=ax, width =0.5,  orient='v', dodge=True, \n",
    ")\n",
    "\n",
    "\n",
    "handles, labels = ax.get_legend_handles_labels()\n",
    "ax.legend(handles[:4], labels[:4], title='Peak')\n",
    "\n",
    "# Set labels and title\n",
    "ax.set_xlabel('Percentage')\n",
    "ax.set_ylabel('Group')\n",
    "ax.set_title('Percentage of Loops with TFs in Each Group')\n",
    "ax.legend(bbox_to_anchor=(1.05, 1), loc='upper left')\n",
    "ax.axhline(y=0, color='grey', linestyle='--', zorder=10) \n",
    "ax.axhline(y=-0.5, color='grey', linestyle='--', zorder=10) \n",
    "\n",
    "ax.axhline(y=0.5, color='grey', linestyle='--', zorder=10) \n",
    "\n",
    "# Adjust x-axis to show positive values for both up and down\n",
    "ax.set_ylim(-1, 1)\n",
    "ax.set_yticks([-1, -0.75, -0.5, -0.25, 0, 0.25, 0.5, 0.75, 1])\n",
    "ax.set_yticklabels([100, 75, 50, 25, 0, 25, 50, 75, 100])\n",
    "save_name = \"de_loops_tfs_cultural_percentage\"\n",
    "plt.savefig(f\"./loops_visualizations/{save_name}.pdf\", bbox_inches='tight', format=\"pdf\")\n",
    "\n",
    "plt.show()"
   ]
  },
  {
   "cell_type": "markdown",
   "id": "03275588-5c7a-4936-b334-dd4a2b418a26",
   "metadata": {},
   "source": [
    "# 8. Save datasets and additional data"
   ]
  },
  {
   "cell_type": "code",
   "execution_count": 162,
   "id": "7117c39e-ea46-46de-a2ec-a104c96ccadd",
   "metadata": {},
   "outputs": [],
   "source": [
    "save_name = \"loops_clustering_post_mortem_vs_iPSC_derived\"\n",
    "merged_all_clusters_stats_trueLoops.to_pickle(f\"{path_to_loops_clusters_data}/{save_name}_merged_trueLoops_Properties.pickle\")\n",
    "merged_all_clusters.to_pickle(f\"{path_to_loops_clusters_data}/{save_name}_merged_all_clusters_Properties.pickle\")"
   ]
  },
  {
   "cell_type": "code",
   "execution_count": 176,
   "id": "77300a41-77f5-4a89-b8a8-22f28c105b05",
   "metadata": {},
   "outputs": [],
   "source": [
    "#Genes in loops\n",
    "merged_all_clusters_stats_trueLoops_pcGenes = merged_all_clusters_stats_trueLoops[merged_all_clusters_stats_trueLoops.gene_type_promoter == \"protein_coding\"]\n",
    "merged_all_clusters_stats_trueLoops_pcGenes = merged_all_clusters_stats_trueLoops[merged_all_clusters_stats_trueLoops.gene_type_anno == \"protein_coding\"]\n",
    "cultural_loops = merged_all_clusters_stats_trueLoops_pcGenes[merged_all_clusters_stats_trueLoops_pcGenes.status_by_mu == 'down_in_post_mortem']\n",
    "cultural_loops[['gene_name_anno']].dropna().drop_duplicates()cultural_loops_loaded.to_csv(f'{path_to_loops_clusters_data}/cultural_loops_all.csv', index=False)\n",
    "\n",
    "neuronal_loops = merged_all_clusters_stats_trueLoops_pcGenes[merged_all_clusters_stats_trueLoops_pcGenes.status_by_mu == 'up_in_post_mortem']\n",
    "neuronal_loops[['gene_name_anno']].dropna().drop_duplicates().to_csv(f'{path_to_loops_clusters_data}/neuronal_loops_all.csv', index=False)\n"
   ]
  },
  {
   "cell_type": "code",
   "execution_count": 186,
   "id": "99399757-ee46-43ad-8f59-903f1a11a163",
   "metadata": {},
   "outputs": [],
   "source": [
    "#TFs\n",
    "tfs_down_loops = loops_cultural.loc[(loops_cultural.has_h3k27me3_peak_kozlenkov_anchor.isin([\"none\"])) & (loops_cultural.log2FoldChange <=-0.58) ]\n",
    "tfs_down_loops = tfs_down_loops[tfs_down_loops.gene_name_anno.isin(tfs)]\n",
    "tfs_down_loops.gene_name_anno.unique()\n",
    "tfs_down_polycomb = loops_neuronal.loc[(loops_neuronal.has_h3k27me3_peak_kozlenkov_anchor == \"both\") & (loops_neuronal.log2FoldChange <=-0.58) ]\n",
    "tfs_down_polycomb = tfs_down_polycomb[tfs_down_polycomb.gene_name_anno.isin(tfs)]\n",
    "tfs_down_polycomb.gene_name_anno.nunique()\n",
    "\n",
    "tfs_down_polycomb[['gene_name_anno']].dropna().drop_duplicates().to_csv(f'{path_to_loops_clusters_data}/tfs_down_polycomb.csv', index=False)\n",
    "tfs_down_loops[['gene_name_anno']].dropna().drop_duplicates().to_csv(f'{path_to_loops_clusters_data}/tfs_down_loops.csv', index=False)\n",
    "down_tfs = set(tfs) & set(all_expression_genes_medians[all_expression_genes_medians.log2FoldChange <= -0.58].gene_name.tolist())\n",
    "pd.DataFrame(down_tfs, columns= ['gene_name_anno']).dropna().drop_duplicates().to_csv(f'{path_to_loops_clusters_data}/down_tfs.csv', index=False)\n"
   ]
  }
 ],
 "metadata": {
  "kernelspec": {
   "display_name": "Python 3 (ipykernel)",
   "language": "python",
   "name": "python3"
  },
  "language_info": {
   "codemirror_mode": {
    "name": "ipython",
    "version": 3
   },
   "file_extension": ".py",
   "mimetype": "text/x-python",
   "name": "python",
   "nbconvert_exporter": "python",
   "pygments_lexer": "ipython3",
   "version": "3.9.12"
  }
 },
 "nbformat": 4,
 "nbformat_minor": 5
}
