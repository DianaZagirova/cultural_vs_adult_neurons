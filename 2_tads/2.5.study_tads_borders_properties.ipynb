{
 "cells": [
  {
   "cell_type": "code",
   "execution_count": 115,
   "id": "db24449f-6abc-4d54-bdef-88e5c3d21149",
   "metadata": {},
   "outputs": [
    {
     "data": {
      "text/plain": [
       "True"
      ]
     },
     "execution_count": 115,
     "metadata": {},
     "output_type": "execute_result"
    }
   ],
   "source": [
    "import os\n",
    "from os import listdir\n",
    "from os.path import isfile, join\n",
    "import numpy as np\n",
    "import matplotlib.pyplot as plt\n",
    "import pandas as pd\n",
    "import seaborn as sns\n",
    "from packaging import version \n",
    "import bioframe\n",
    "from pybedtools import BedTool as pbt\n",
    "import bbi\n",
    "from tqdm import tqdm\n",
    "from adjustText import adjust_text\n",
    "import bioframe as bf\n",
    "from os.path import basename\n",
    "from typing import Dict, Any, Set, Optional\n",
    "from scipy.stats import ttest_ind, mannwhitneyu\n",
    "from statsmodels.stats.multitest import fdrcorrection\n",
    "from typing import Dict, List\n",
    "from numpy import inf\n",
    "\n",
    "## gsea\n",
    "import gseapy as gp\n",
    "from gseapy import barplot, dotplot\n",
    "import bioframe as bf\n",
    "\n",
    "\n",
    "from dotenv import load_dotenv\n",
    "assert os.environ['CONDA_DEFAULT_ENV'] == \"cultures_hic\"\n",
    "load_dotenv()"
   ]
  },
  {
   "cell_type": "code",
   "execution_count": 77,
   "id": "1c769998-13de-4425-96a2-f61b01eff631",
   "metadata": {},
   "outputs": [],
   "source": [
    "import logging\n",
    "\n",
    "logging.basicConfig(level=logging.INFO)\n",
    "logger = logging.getLogger(__name__)"
   ]
  },
  {
   "cell_type": "code",
   "execution_count": 17,
   "id": "3e517908-943b-492f-a083-584c446fe836",
   "metadata": {},
   "outputs": [],
   "source": [
    "import matplotlib as mpl\n",
    "\n",
    "mpl.rcParams['font.family'] = 'Helvetica'\n",
    "mpl.rc('lines', linewidth=0.4)\n",
    "mpl.rc('font', family='Helvetica', size=8)\n",
    "mpl.rc('axes', labelsize=8, titlesize=8, linewidth=0.4)\n",
    "mpl.rc('legend', fontsize=8)\n",
    "mpl.rc('xtick', labelsize=6)\n",
    "mpl.rc('xtick.major', width=0.4, size=2)\n",
    "mpl.rc('xtick.minor', width=0.4, size=1)\n",
    "mpl.rc('ytick', labelsize=6)\n",
    "mpl.rc('ytick.major', width=0.4, size=2)\n",
    "mpl.rc('ytick.minor', width=0.4, size=1)"
   ]
  },
  {
   "cell_type": "code",
   "execution_count": 78,
   "id": "04e0c64d-e9ea-4d62-8b51-b718b83359f3",
   "metadata": {},
   "outputs": [],
   "source": [
    "path_to_maps = os.getenv('PATH_TO_MAPS')\n",
    "path_to_tads = os.getenv('PATH_TO_SAVE_TAD_BORDERS')\n",
    "path_to_mapping = os.getenv('PATH_TO_MAIN_MAPS_MAPPING')\n",
    "path_to_reduced_insulation_tables = os.getenv('PATH_TO_REDUCED_IS_TABLES')\n",
    "path_to_save_pca_data = os.getenv('PATH_TO_SAVE_TAD_PCA_DATA')\n",
    "path_to_tads_clusters = os.getenv('PATH_TO_TADS_CLUSTERS')\n",
    "path_to_save_visualizations = os.getenv('PATH_TO_TADS_VISUALIZATIONS')\n",
    "path_to_maps_expected = os.getenv('PATH_TO_EXPECTED_MAPS')\n",
    "path_to_chromatin_annotation = os.getenv('PATH_TO_CHROMATIN_ANNOTATION')\n",
    "path_to_cultural_h3k27me3 = os.getenv('PATH_TO_CULTURAL_H3K27ME3')\n",
    "path_to_postmortal_h3k27me3 = os.getenv('PATH_TO_POSTMORTAL_H3K27ME3')\n",
    "path_to_tfs = os.getenv('PATH_TO_TFS')\n",
    "path_to_polycomb_dots = os.getenv('PATH_TO_POLYCOMB_DOTS')\n",
    "path_to_up_genes_cultures_vs_postmortem = os.getenv('PATH_TO_UP_GENES_CULTURES_VS_POSTMORTEM')\n",
    "path_to_down_genes_cultures_vs_postmortem = os.getenv('PATH_TO_DOWN_GENES_CULTURES_VS_POSTMORTEM')"
   ]
  },
  {
   "cell_type": "code",
   "execution_count": 99,
   "id": "3e3dd30a-d9e8-4b12-b707-13126c2e62dd",
   "metadata": {},
   "outputs": [],
   "source": [
    "palette = {\n",
    "        'iPSC-derived neurons': '#469433',\n",
    "        'Stem-like cells': 'dimgrey',\n",
    "        'Fetal neurons': '#9c2725',\n",
    "        'Post-mortem neurons': '#034e91',\n",
    "        'Post-mortem non-neurons': '#764e3f',\n",
    "        'iPSC-derived glia': '#ffa500',\n",
    "        'Primary neurons': '#77658c'\n",
    "    }"
   ]
  },
  {
   "cell_type": "markdown",
   "id": "a22a07a4-56e3-4852-b9ee-d5d0f6edb8c5",
   "metadata": {},
   "source": [
    "## 1. Intersect TAD borders with other features"
   ]
  },
  {
   "cell_type": "code",
   "execution_count": 135,
   "id": "3af3ec68-1ed1-4464-a498-409db15470a1",
   "metadata": {},
   "outputs": [],
   "source": [
    "def slope_bed(df, slope=0):\n",
    "    \"\"\"\n",
    "    Extract unique bed regions from bedpe dataframe. Index is ignored.\n",
    "    \"\"\"\n",
    "    df_bed = df[['chrom', 'start', 'end', 'cluster']].drop_duplicates()\n",
    "    df_bed.start = df_bed.start-slope\n",
    "    df_bed.end = df_bed.end+slope\n",
    "    return df_bed "
   ]
  },
  {
   "cell_type": "code",
   "execution_count": 136,
   "id": "147cad18-4788-4381-80f8-e88808d712c4",
   "metadata": {},
   "outputs": [],
   "source": [
    "selected_groups_name = \"Post-mortem neurons_vs_iPSC-derived neurons\"\n",
    "tads_borders = pd.read_pickle(f'{path_to_tads_clusters}/{selected_groups_name}_clusters_merged_df.pickle')\n",
    "tads_borders_slopped = slope_bed(tads_borders, slope=1500)\n",
    "assert tads_borders_slopped.cluster.nunique() == tads_borders.cluster.nunique()"
   ]
  },
  {
   "cell_type": "markdown",
   "id": "592cbbfd-988a-4848-98a7-6123000db383",
   "metadata": {},
   "source": [
    "### 1.1 Gene "
   ]
  },
  {
   "cell_type": "code",
   "execution_count": 137,
   "id": "be93ead8-ecd6-4865-835f-51cbe68388e1",
   "metadata": {},
   "outputs": [],
   "source": [
    "### Gene annotation\n",
    "chromatin_annotation = pd.read_pickle(f'{path_to_chromatin_annotation}/chromatin_annotation.feather')\n",
    "promoters = chromatin_annotation[chromatin_annotation.type == \"promoters\"].reset_index(drop=True)\n",
    "genes = chromatin_annotation[chromatin_annotation.type == \"gene\"].reset_index(drop=True)\n",
    "\n",
    "genes_in_clusters = bf.overlap(genes, tads_borders_slopped, how='left', suffixes=('','_anno'))\n",
    "genes_in_clusters = genes_in_clusters[['gene_name', 'gene_type','cluster_anno']].rename(columns = {'cluster_anno':'cluster'})\n",
    "genes_in_clusters.drop_duplicates(inplace=True)\n",
    "tads_borders = tads_borders.merge(genes_in_clusters, how='left', on = 'cluster')\n",
    "tads_borders.rename(columns = {'gene_name':'gene_name_anno', 'gene_type':'gene_type_anno'}, inplace=True)\n",
    "    "
   ]
  },
  {
   "cell_type": "markdown",
   "id": "cea54671-83dc-412d-bc77-eb6e66e9f55c",
   "metadata": {},
   "source": [
    "### 1.2 H3K27me3 "
   ]
  },
  {
   "cell_type": "code",
   "execution_count": 138,
   "id": "7d582b59-ffde-4a0c-9c0a-0bfbb1a13cb4",
   "metadata": {},
   "outputs": [],
   "source": [
    "def get_overlap_with_h3k27me3(\n",
    "    df1: pd.DataFrame, \n",
    "    h3k27me3_encode: pd.DataFrame, \n",
    "    column_new_name: str, \n",
    "    factor_slop: int = 0\n",
    ") -> Dict[Any, bool]:\n",
    "    \"\"\"\n",
    "    Calculate overlap with H3K27me3 and return a dictionary indicating overlap status.\n",
    "\n",
    "    Parameters:\n",
    "    - df1: pd.DataFrame - DataFrame containing genomic regions.\n",
    "    - h3k27me3_encode: pd.DataFrame - DataFrame with H3K27me3 annotations.\n",
    "    - column_new_name: str - Name for the new column indicating overlap.\n",
    "    - factor_slop: int - Factor to adjust the start and end positions.\n",
    "\n",
    "    Returns:\n",
    "    - Dict[Any, bool] - Dictionary with cluster as keys and overlap status as values.\n",
    "    \"\"\"\n",
    "    try:\n",
    "        df1 = df1.drop_duplicates()\n",
    "        df1['start'] = (df1['start'] - 15000 * factor_slop).astype(int)\n",
    "        df1['end'] = (df1['end'] + 15000 * factor_slop).astype(int)\n",
    "        df1_h3k27me3_encode = bf.overlap(df1, h3k27me3_encode, how='left', suffixes=('', '_anno'))\n",
    "        \n",
    "        df1_h3k27me3_encode[f'{column_new_name}_temp'] = df1_h3k27me3_encode['start_anno'].apply(\n",
    "            lambda x: isinstance(x, int)\n",
    "        )\n",
    "        anchor_status_general = dict(\n",
    "            df1_h3k27me3_encode[['cluster', f'{column_new_name}_temp']].drop_duplicates().values\n",
    "        )\n",
    "        unique_clusters = df1['cluster'].nunique()\n",
    "        if len(anchor_status_general) != unique_clusters:\n",
    "            logger.warning(\"Mismatch in unique cluster counts: expected %d, got %d\", unique_clusters, len(anchor_status_general))\n",
    "\n",
    "        return anchor_status_general\n",
    "\n",
    "    except Exception as e:\n",
    "        logger.error(\"An error occurred: %s\", str(e))\n",
    "        raise"
   ]
  },
  {
   "cell_type": "code",
   "execution_count": 139,
   "id": "69e2d2cd-8619-4c5c-a0f1-140adba006be",
   "metadata": {},
   "outputs": [
    {
     "name": "stdout",
     "output_type": "stream",
     "text": [
      "(15290, 10) (15594, 3)\n"
     ]
    }
   ],
   "source": [
    "### H3K27me3\n",
    "### ENCODE h3k27me3 source for iPSC-derived\n",
    "\n",
    "h3k27me3_encode = pd.read_csv(f'{path_to_cultural_h3k27me3}/ChIP-seq.H3K27me3.neurons.peaks.ENCFF104DEP.bed', sep = '\\t', header = None)\n",
    "h3k27me3_encode = h3k27me3_encode[h3k27me3_encode[8]>= 2]\n",
    "h3k27me3_encode.columns = ['chrom', 'start', 'end',  'score', 'score1', 'score2', 'score3', 'score4', 'score5', 'score6']\n",
    "h3k27me3_encode.shape\n",
    "\n",
    "### Kozlenkov h3k27me3 source for post-mortem\n",
    "h3k27me3_post_mortem = pd.read_csv(f'{path_to_postmortal_h3k27me3}/kozlenkov2018_merged_h3k27me3.bed',sep=\"\\t\" ,header=None)\n",
    "h3k27me3_post_mortem.columns = ['chrom', 'start', 'end']\n",
    "print(h3k27me3_encode.shape, h3k27me3_post_mortem.shape)"
   ]
  },
  {
   "cell_type": "code",
   "execution_count": 140,
   "id": "10e7e813-1aeb-42f1-b10a-fbfd226a332a",
   "metadata": {},
   "outputs": [
    {
     "data": {
      "text/plain": [
       "{'/tank/projects/diana_hic/tads/tads_results'}"
      ]
     },
     "execution_count": 140,
     "metadata": {},
     "output_type": "execute_result"
    }
   ],
   "source": [
    "{path_to_polycomb_dots}\n",
    "# /pair_sites_polycomb_dot_anchors.csv"
   ]
  },
  {
   "cell_type": "code",
   "execution_count": 142,
   "id": "81972bb0-7177-4eb2-8942-577e6c3f18f1",
   "metadata": {},
   "outputs": [],
   "source": [
    "merged_all_clusters_stats_h3k27me3_encode = get_overlap_with_h3k27me3(tads_borders, h3k27me3_encode, 'has_h3k27me3_peak_encode', factor_slop = 1.0)\n",
    "tads_borders[ 'has_h3k27me3_peak_encode'] = tads_borders.cluster.map(merged_all_clusters_stats_h3k27me3_encode)"
   ]
  },
  {
   "cell_type": "code",
   "execution_count": 143,
   "id": "d84172bc-d422-4e51-be1b-13d482b86a42",
   "metadata": {},
   "outputs": [],
   "source": [
    "merged_all_clusters_stats_h3k27me3_kz = get_overlap_with_h3k27me3(tads_borders, h3k27me3_post_mortem, 'has_h3k27me3_peak_kozlenkov', factor_slop = 1.0)\n",
    "tads_borders[ 'has_h3k27me3_peak_kozlenkov'] = tads_borders.cluster.map(merged_all_clusters_stats_h3k27me3_kz)"
   ]
  },
  {
   "cell_type": "markdown",
   "id": "43408bf5-439f-4deb-85e4-e0f969bb4bee",
   "metadata": {},
   "source": [
    "### 1.3 TFs"
   ]
  },
  {
   "cell_type": "code",
   "execution_count": 144,
   "id": "66c7de55-dc12-49c4-824a-df1af0d81a58",
   "metadata": {},
   "outputs": [],
   "source": [
    "def intersection_with_human_tfs(merged_all_clusters: pd.DataFrame, tfs: Set[str]) -> pd.DataFrame:\n",
    "    \"\"\"\n",
    "    Annotate clusters with the presence of transcription factors (TFs).\n",
    "\n",
    "    Parameters:\n",
    "    - merged_all_clusters: pd.DataFrame\n",
    "        A DataFrame containing gene clusters with a 'cluster' and 'gene_name_anno' columns.\n",
    "    - tfs: Set[str]\n",
    "        A set of transcription factor names to check against the gene names in each cluster.\n",
    "\n",
    "    Returns:\n",
    "    - pd.DataFrame\n",
    "        The input DataFrame with additional columns indicating the presence of TFs in each cluster.\n",
    "    \"\"\"\n",
    "    required_columns = {'cluster', 'gene_name_anno'}\n",
    "    if not required_columns.issubset(merged_all_clusters.columns):\n",
    "        raise ValueError(f\"Input DataFrame must contain the columns: {required_columns}\")\n",
    "\n",
    "    cluster_to_tfs = {}\n",
    "    df_grouped = merged_all_clusters.groupby(\"cluster\")\n",
    "\n",
    "    for cluster, group in tqdm(df_grouped, desc=\"Processing clusters\"):\n",
    "        has_tf = bool(tfs.intersection(group['gene_name_anno']))\n",
    "        cluster_to_tfs[cluster] = has_tf\n",
    "\n",
    "    merged_all_clusters['tf_in_cluster'] = merged_all_clusters['cluster'].map(cluster_to_tfs)\n",
    "    merged_all_clusters['tf_in_cluster_status'] = merged_all_clusters['tf_in_cluster'].apply(\n",
    "        lambda x: \"contains TF\" if x else \"no TFs\"\n",
    "    )\n",
    "\n",
    "    return merged_all_clusters"
   ]
  },
  {
   "cell_type": "code",
   "execution_count": 145,
   "id": "0fd62b53-bc7b-46b5-80ba-cdb7e5142dbd",
   "metadata": {},
   "outputs": [
    {
     "data": {
      "text/plain": [
       "1639"
      ]
     },
     "execution_count": 145,
     "metadata": {},
     "output_type": "execute_result"
    }
   ],
   "source": [
    "tfs = pd.read_csv(f\"{path_to_tfs}/DatabaseExtract_v_1.01.csv\")\n",
    "tfs = tfs[tfs['Is TF?']==\"Yes\"]\n",
    "tfs = set(tfs['HGNC symbol'].tolist())\n",
    "len(tfs)"
   ]
  },
  {
   "cell_type": "code",
   "execution_count": 146,
   "id": "2c5b03ef-3f8e-45a1-97ef-ee9eb1364f17",
   "metadata": {},
   "outputs": [
    {
     "name": "stderr",
     "output_type": "stream",
     "text": [
      "Processing clusters: 100%|████████████████████████████████████████████████████████████████████████████████████████████████████████| 6796/6796 [00:00<00:00, 13973.08it/s]\n"
     ]
    }
   ],
   "source": [
    "tads_borders = intersection_with_human_tfs(tads_borders, tfs)"
   ]
  },
  {
   "cell_type": "markdown",
   "id": "cf4b515b-b3fd-4e1d-9bb0-fd824de28edf",
   "metadata": {},
   "source": [
    "### 1.4. Intersection with polycomb dots"
   ]
  },
  {
   "cell_type": "code",
   "execution_count": 147,
   "id": "4070f5c5-f086-499a-8c2d-d9a85648006d",
   "metadata": {},
   "outputs": [],
   "source": [
    "def bedpe_to_bed(df: pd.DataFrame, ann_col: str = 'loop_num', slop: Optional[int] = None) -> pd.DataFrame:\n",
    "    \"\"\"\n",
    "    Convert a BEDPE dataframe to a BED dataframe by extracting unique regions.\n",
    "    \n",
    "    Parameters:\n",
    "    - df (pd.DataFrame): Input dataframe with BEDPE format containing columns \n",
    "                         ['chrom1', 'start1', 'end1', 'chrom2', 'start2', 'end2', ann_col].\n",
    "    - ann_col (str): The annotation column name to include in the BED output. Default is 'loop_num'.\n",
    "    - slop (Optional[int]): Number of bases to extend the start and end positions. Default is None.\n",
    "    \n",
    "    Returns:\n",
    "    - pd.DataFrame: A dataframe in BED format with columns ['chrom', 'start', 'end', ann_col, 'anchor'].\n",
    "    \n",
    "    Raises:\n",
    "    - ValueError: If required columns are missing from the input dataframe.\n",
    "    \"\"\"\n",
    "    required_columns = {'chrom1', 'start1', 'end1', 'chrom2', 'start2', 'end2', ann_col}\n",
    "    if not required_columns.issubset(df.columns):\n",
    "        raise ValueError(f\"Input dataframe must contain the following columns: {required_columns}\")\n",
    "\n",
    "    df_reg1 = df[['chrom1', 'start1', 'end1', ann_col]].copy()\n",
    "    df_reg1['anchor'] = 'left_anh'\n",
    "    df_reg2 = df[['chrom2', 'start2', 'end2', ann_col]].copy()\n",
    "    df_reg2['anchor'] = 'right_anh'\n",
    "    \n",
    "    df_reg1.columns = df_reg1.columns.str.replace('1', '')\n",
    "    df_reg2.columns = df_reg2.columns.str.replace('2', '')\n",
    "\n",
    "    df_bed = pd.concat([df_reg1, df_reg2], ignore_index=True).drop_duplicates(ignore_index=True)\n",
    "\n",
    "    if slop is not None:\n",
    "        if not isinstance(slop, int) or slop < 0:\n",
    "            raise ValueError(\"Slop must be a non-negative integer.\")\n",
    "        df_bed['start'] = (df_bed['start'] - slop).clip(lower=0).astype(int)\n",
    "        df_bed['end'] = (df_bed['end'] + slop).astype(int)\n",
    "\n",
    "    return df_bed"
   ]
  },
  {
   "cell_type": "code",
   "execution_count": 148,
   "id": "c130fd0b-a694-4a5d-a084-d9f8a20cdec7",
   "metadata": {},
   "outputs": [],
   "source": [
    "pair_sites =pd.read_csv(f\"{path_to_polycomb_dots}/pair_sites_polycomb_dot_anchors.csv\")\n",
    "pair_sites['num'] = [i for i in range(pair_sites.shape[0])]\n",
    "pair_sites_bed = bedpe_to_bed(pair_sites, ann_col ='num', slop=0)\n",
    "\n",
    "polycombDots_in_clusters = bf.overlap(tads_borders, pair_sites_bed, how='left', suffixes=('','_polycombDots'))\n",
    "    \n",
    "groupped_pol = polycombDots_in_clusters[[\"cluster\", 'chrom_polycombDots']].groupby(\"cluster\")\n",
    "updated = {}\n",
    "for row in groupped_pol:\n",
    "    all_status = row[1].chrom_polycombDots.tolist()\n",
    "    if any(e != None for e in  all_status):\n",
    "        updated[row[0]] = True\n",
    "    else:\n",
    "        updated[row[0]] = False\n",
    "tads_borders[ 'has_polycombDot'] = tads_borders.cluster.map(updated)"
   ]
  },
  {
   "cell_type": "markdown",
   "id": "ba3b984e-e64e-45fd-8165-111ae5fe5946",
   "metadata": {},
   "source": [
    "### 1.5 Intersection with DEG"
   ]
  },
  {
   "cell_type": "code",
   "execution_count": 149,
   "id": "5ccf3217-6445-4d59-911a-2092e6192af3",
   "metadata": {},
   "outputs": [],
   "source": [
    "def intersection_with_deg(merged_all_clusters_stats_trueLoops, intersected_genes_down_set, \n",
    "                          intersected_genes_up_set, gene_column=\"gene_name_anno\"):\n",
    "    \"\"\"\n",
    "    Analyze the intersection of genes in clusters with upregulated and downregulated gene sets.\n",
    "\n",
    "    Parameters:\n",
    "    - merged_all_clusters_stats_trueLoops (pd.DataFrame): DataFrame containing cluster, gene details, and potentially more stats.\n",
    "    - intersected_genes_down_set (set): Set of downregulated genes.\n",
    "    - intersected_genes_up_set (set): Set of upregulated genes.\n",
    "    - gene_column (str): Name of the column in `merged_all_clusters_stats_trueLoops` that contains gene names.\n",
    "\n",
    "    Returns:\n",
    "    - pd.DataFrame: Original DataFrame with an added column 'diff_genes_status' indicating the status of genes in each cluster.\n",
    "    \"\"\"\n",
    "\n",
    "    if not isinstance(intersected_genes_down_set, set) or not isinstance(intersected_genes_up_set, set):\n",
    "        raise TypeError(\"intersected_genes_down_set and intersected_genes_up_set must both be sets.\")\n",
    "\n",
    "    if gene_column not in merged_all_clusters_stats_trueLoops.columns:\n",
    "        raise ValueError(f\"'{gene_column}' is not a valid column in the input DataFrame.\")\n",
    "\n",
    "    status_genes = {}\n",
    "    up_down_genes_for_cluster = {}\n",
    "    \n",
    "    # Remove duplicates based on gene and cluster columns\n",
    "    deduplicated_df = merged_all_clusters_stats_trueLoops.drop_duplicates(subset=[gene_column, \"cluster\"])\n",
    "\n",
    "    # Group by clusters and determine the status of genes within each cluster\n",
    "    for cluster, df in deduplicated_df.groupby('cluster'):\n",
    "        gene_set = set(df[gene_column])\n",
    "        down_genes = gene_set & intersected_genes_down_set\n",
    "        up_genes = gene_set & intersected_genes_up_set\n",
    "        \n",
    "        up_down_genes_for_cluster[cluster] = {\n",
    "            \"up\": list(up_genes),\n",
    "            \"down\": list(down_genes)\n",
    "        }\n",
    "\n",
    "        if up_genes and down_genes:\n",
    "            status_genes[cluster] = \"Up and Down genes\"\n",
    "        elif up_genes:\n",
    "            status_genes[cluster] = \"Up genes\"\n",
    "        elif down_genes:\n",
    "            status_genes[cluster] = \"Down genes\"\n",
    "        else:\n",
    "            status_genes[cluster] = \"No changed gene\"\n",
    "\n",
    "    merged_all_clusters_stats_trueLoops['diff_genes_status'] = merged_all_clusters_stats_trueLoops['cluster'].map(status_genes)\n",
    "\n",
    "    return merged_all_clusters_stats_trueLoops"
   ]
  },
  {
   "cell_type": "code",
   "execution_count": 150,
   "id": "4e0a709e-7cd6-4ae1-87dc-629f2a17e7ca",
   "metadata": {},
   "outputs": [],
   "source": [
    "up_genes_cultures_vs_postmortem = pd.read_pickle(path_to_up_genes_cultures_vs_postmortem+ \"genes_up_postmortem_vs_cultures.pickle\")\n",
    "down_genes_cultures_vs_postmortem = pd.read_pickle(path_to_down_genes_cultures_vs_postmortem+ \"genes_dwn_postmortem_vs_cultures.pickle\")\n",
    "up_genes_cultures_vs_postmortem_set = set(up_genes_cultures_vs_postmortem[0].tolist())\n",
    "down_genes_cultures_vs_postmortem_set = set(down_genes_cultures_vs_postmortem[0].tolist())\n",
    "\n",
    "tads_borders = intersection_with_deg(tads_borders, down_genes_cultures_vs_postmortem_set, up_genes_cultures_vs_postmortem_set)"
   ]
  },
  {
   "cell_type": "markdown",
   "id": "670cc371-406d-42c7-b6ef-2ebf23b1e222",
   "metadata": {},
   "source": [
    "### 1.6 Intersection with gene promoters"
   ]
  },
  {
   "cell_type": "code",
   "execution_count": 151,
   "id": "4a247424-2da8-49b9-9ab4-fa581d4d875a",
   "metadata": {},
   "outputs": [],
   "source": [
    "def intersection_with_deg_promoters(\n",
    "    merged_all_clusters_stats_trueLoops: pd.DataFrame, \n",
    "    intersected_genes_dwn_set: set, \n",
    "    intersected_genes_up_set: set, \n",
    "    gene_column: str = \"gene_name_promoter\"\n",
    ") -> pd.DataFrame:\n",
    "    \"\"\"\n",
    "    Analyzes the intersection of gene promoters with upregulated and downregulated genes\n",
    "    within clusters and returns an updated DataFrame indicating the status of genes.\n",
    "    \n",
    "    Parameters:\n",
    "    - merged_all_clusters_stats_trueLoops: A DataFrame with cluster statistics and gene information.\n",
    "    - intersected_genes_dwn_set: A set of downregulated gene names.\n",
    "    - intersected_genes_up_set: A set of upregulated gene names.\n",
    "    - gene_column: The name of the column in DataFrame that contains gene names. Default is \"gene_name_promoter\".\n",
    "    \n",
    "    Returns:\n",
    "    - Updated DataFrame with an additional column 'diff_genes_status_promoters' indicating gene status.\n",
    "    \"\"\"\n",
    "    \n",
    "    status_genes = {}\n",
    "    up_down_genes_for_cluster = {}\n",
    "    \n",
    "    deduplicated_df = merged_all_clusters_stats_trueLoops[[gene_column, \"cluster\"]].drop_duplicates()\n",
    "    \n",
    "    for cluster, df in deduplicated_df.groupby('cluster'):\n",
    "        gene_set = set(df[gene_column].dropna())  \n",
    "        \n",
    "        up_genes = gene_set & intersected_genes_up_set\n",
    "        down_genes = gene_set & intersected_genes_dwn_set\n",
    "        \n",
    "        up_down_genes_for_cluster[cluster] = {\n",
    "            \"up\": list(up_genes),\n",
    "            \"down\": list(down_genes)\n",
    "        }\n",
    "        \n",
    "        if up_genes and down_genes:\n",
    "            status_genes[cluster] = \"Up and Down genes\"\n",
    "        elif up_genes:\n",
    "            status_genes[cluster] = \"Up genes\"\n",
    "        elif down_genes:\n",
    "            status_genes[cluster] = \"Down genes\"\n",
    "        else:\n",
    "            status_genes[cluster] = \"no changed gene\"\n",
    "    \n",
    "    merged_all_clusters_stats_trueLoops['diff_genes_status_promoters'] = merged_all_clusters_stats_trueLoops['cluster'].map(status_genes)\n",
    "    \n",
    "    return merged_all_clusters_stats_trueLoops\n"
   ]
  },
  {
   "cell_type": "code",
   "execution_count": 152,
   "id": "2ddf5282-fb18-453e-bef6-b61d7d884451",
   "metadata": {},
   "outputs": [],
   "source": [
    "promoters_in_clusters = bf.overlap(promoters, tads_borders, how='left', suffixes=('','_promoters'))\n",
    "promoters_in_clusters = promoters_in_clusters[['gene_name', 'gene_type','cluster_promoters']].rename(columns = {'gene_name':'gene_name_promoter','gene_type':'gene_type_promoter','cluster_promoters':'cluster'})\n",
    "promoters_in_clusters.drop_duplicates(inplace=True)\n",
    "tads_borders = tads_borders.merge(promoters_in_clusters, how='left', on = 'cluster')\n",
    "tads_borders = intersection_with_deg_promoters(tads_borders, down_genes_cultures_vs_postmortem_set, up_genes_cultures_vs_postmortem_set)\n"
   ]
  },
  {
   "cell_type": "markdown",
   "id": "152d27a2-bf62-47df-8784-d9bcea7efed5",
   "metadata": {},
   "source": [
    "# 2. Study up- and down- TAD borders"
   ]
  },
  {
   "cell_type": "code",
   "execution_count": 153,
   "id": "b65bd9ac-ec6d-41c6-a4f9-a1fb25aa951e",
   "metadata": {},
   "outputs": [],
   "source": [
    "logging.basicConfig(level=logging.INFO, format='%(asctime)s - %(levelname)s - %(message)s')"
   ]
  },
  {
   "cell_type": "code",
   "execution_count": 154,
   "id": "6efd63a3-3d84-48d8-a732-b59318d3db91",
   "metadata": {},
   "outputs": [],
   "source": [
    "def perform_mann_whitney_test(data: pd.DataFrame, factors: Dict[str, int]) -> Dict:\n",
    "    \"\"\"\n",
    "    Perform Mann-Whitney U test on clustered data.\n",
    "    \n",
    "    :param data: DataFrame containing the data\n",
    "    :param factors: Dictionary containing 'factor_pm' and 'factor_ipsc'\n",
    "    :return: Dictionary with statistical results for each cluster\n",
    "    \"\"\"\n",
    "    mu_test_results = {}\n",
    "    \n",
    "    for cluster in data.cluster.unique():\n",
    "        logging.debug(f\"Processing cluster: {cluster}\")\n",
    "\n",
    "        cluster_data = data[data.cluster == cluster]\n",
    "        data_ipsc = cluster_data[cluster_data.Group == 'iPSC-derived neurons'].boundary_strength_150000.tolist()\n",
    "        data_pm = cluster_data[cluster_data.Group == 'Post-mortem neurons'].boundary_strength_150000.tolist()\n",
    "        \n",
    "        factor_pm = factors['factor_pm']\n",
    "        factor_ipsc = factors['factor_ipsc']\n",
    "        \n",
    "        data_pm_new = ([0] * max(0, factor_pm - len(data_pm))) + data_pm\n",
    "        data_ipsc_new = ([0] * max(0, factor_ipsc - len(data_ipsc))) + data_ipsc\n",
    "        \n",
    "        if len(data_pm_new) != factor_pm or len(data_ipsc_new) != factor_ipsc:\n",
    "            raise ValueError(f\"Data length mismatch for cluster {cluster}\")\n",
    "        \n",
    "        mu_stat, p_value = mannwhitneyu(data_pm_new, data_ipsc_new, nan_policy='omit')\n",
    "        mu_test_results[cluster] = {'mu_stat': mu_stat, 'p_value': p_value}\n",
    "    \n",
    "    return mu_test_results\n",
    "\n",
    "def calculate_means(data: pd.DataFrame, factors: Dict[str, int]) -> (List[List[float]], List[List[float]]):\n",
    "    \"\"\"\n",
    "    Calculate padded means for iPSC-derived and Post-mortem neurons.\n",
    "    \n",
    "    :param data: DataFrame containing the data\n",
    "    :param factors: Dictionary containing 'factor_pm' and 'factor_ipsc'\n",
    "    :return: Two lists containing means of iPSC-derived and Post-mortem neurons\n",
    "    \"\"\"\n",
    "    tad_mean_ipsc = []\n",
    "    tad_mean_pm = []\n",
    "\n",
    "    for cluster in data.cluster.unique():\n",
    "        logging.debug(f\"Calculating means for cluster: {cluster}\")\n",
    "\n",
    "        cluster_data = data[data.cluster == cluster]\n",
    "        data_ipsc = cluster_data[cluster_data.Group == 'iPSC-derived neurons'].boundary_strength_150000.tolist()\n",
    "        data_pm = cluster_data[cluster_data.Group == 'Post-mortem neurons'].boundary_strength_150000.tolist()\n",
    "        \n",
    "        factor_pm = factors['factor_pm']\n",
    "        factor_ipsc = factors['factor_ipsc']\n",
    "\n",
    "        data_pm_new = ([0] * max(0, factor_pm - len(data_pm))) + data_pm\n",
    "        data_ipsc_new = ([0] * max(0, factor_ipsc - len(data_ipsc))) + data_ipsc\n",
    "        \n",
    "        if len(data_pm_new) != factor_pm or len(data_ipsc_new) != factor_ipsc:\n",
    "            raise ValueError(f\"Data length mismatch for cluster {cluster}\")\n",
    "\n",
    "        tad_mean_ipsc.append(data_ipsc_new)\n",
    "        tad_mean_pm.append(data_pm_new)\n",
    "    \n",
    "    return tad_mean_ipsc, tad_mean_pm\n",
    "\n",
    "def create_plot_dataframe(tad_mean_ipsc: List[List[float]], tad_mean_pm: List[List[float]]) -> pd.DataFrame:\n",
    "    \"\"\"\n",
    "    Create a DataFrame for plotting purposes.\n",
    "    \n",
    "    :param tad_mean_ipsc: Mean values for iPSC-derived neurons\n",
    "    :param tad_mean_pm: Mean values for Post-mortem neurons\n",
    "    :return: DataFrame ready for plotting\n",
    "    \"\"\"\n",
    "    tad_ipsc_median = [np.nanmedian(i) for i in tad_mean_ipsc]\n",
    "    tad_pm_median = [np.nanmedian(i) for i in tad_mean_pm]\n",
    "\n",
    "    df_plot = pd.DataFrame()\n",
    "\n",
    "    for sel_list, name in zip([tad_ipsc_median, tad_pm_median], [\"iPSC-derived neurons\", 'Post-mortem neurons']):\n",
    "        df = pd.DataFrame(sel_list, columns=[\"border_strength\"])\n",
    "        df['source'] = name\n",
    "        df_plot = pd.concat([df_plot, df], ignore_index=True)\n",
    "    \n",
    "    return df_plot\n",
    "\n",
    "def plot_tad_border_strength(df_plot, TAD_MEAN_IPSC_MEAN, TAD_MEAN_PM_MEAN, save_path):\n",
    "    \"\"\"\n",
    "    Plot a boxplot of TAD border strength and calculate Welch's t-test.\n",
    "\n",
    "    Parameters:\n",
    "    - df_plot (pd.DataFrame): DataFrame containing the data to plot. Should have columns 'source' and 'border_strength'.\n",
    "    - TAD_MEAN_IPSC_MEAN (list or np.array): Data for TAD_MEAN_IPSC_MEAN for t-test.\n",
    "    - TAD_MEAN_PM_MEAN (list or np.array): Data for TAD_MEAN_PM_MEAN for t-test.\n",
    "    - save_path (str): Path where the plot will be saved.\n",
    "\n",
    "    Returns:\n",
    "    - None\n",
    "    \"\"\"\n",
    "\n",
    "    plt.figure(figsize=(2, 3))    \n",
    "    hue_order = ['Post-mortem neurons', 'iPSC-derived neurons']    \n",
    "    ax = sns.boxplot(\n",
    "        x='source', y='border_strength', data=df_plot, width=0.4,\n",
    "        showmeans=True, boxprops=dict(linewidth=0.4),\n",
    "        whiskerprops=dict(linewidth=0.4), capprops=dict(linewidth=0.4),\n",
    "        medianprops=dict(linewidth=0.4), palette=palette,\n",
    "        meanprops={\"marker\": \"o\", \"markeredgecolor\": \"white\", \"markerfacecolor\": \"white\", \"markersize\": \"3\"},\n",
    "        showfliers=False\n",
    "    )\n",
    "\n",
    "    plt.legend(bbox_to_anchor=(1.3, 1.05), loc='upper right')\n",
    "    plt.title('TAD Border Strength Boxplot')\n",
    "    plt.xlabel('Source')\n",
    "    plt.ylabel('Border Strength')\n",
    "\n",
    "    plt.savefig(save_path, bbox_inches='tight', format='pdf')\n",
    "    plt.show()\n",
    "\n",
    "    t_stat, p_value = ttest_ind(TAD_MEAN_IPSC_MEAN, TAD_MEAN_PM_MEAN, equal_var=False)\n",
    "    print(f\"t-statistic: {t_stat}\\np-value: {p_value}\")"
   ]
  },
  {
   "cell_type": "code",
   "execution_count": 98,
   "id": "f946bf4e-1261-4f71-a2df-c1332434735d",
   "metadata": {},
   "outputs": [
    {
     "data": {
      "text/html": [
       "<div>\n",
       "<style scoped>\n",
       "    .dataframe tbody tr th:only-of-type {\n",
       "        vertical-align: middle;\n",
       "    }\n",
       "\n",
       "    .dataframe tbody tr th {\n",
       "        vertical-align: top;\n",
       "    }\n",
       "\n",
       "    .dataframe thead th {\n",
       "        text-align: right;\n",
       "    }\n",
       "</style>\n",
       "<table border=\"1\" class=\"dataframe\">\n",
       "  <thead>\n",
       "    <tr style=\"text-align: right;\">\n",
       "      <th></th>\n",
       "      <th>border_strength</th>\n",
       "      <th>source</th>\n",
       "    </tr>\n",
       "  </thead>\n",
       "  <tbody>\n",
       "    <tr>\n",
       "      <th>0</th>\n",
       "      <td>2.154506</td>\n",
       "      <td>iPSC-derived neurons</td>\n",
       "    </tr>\n",
       "    <tr>\n",
       "      <th>1</th>\n",
       "      <td>0.968744</td>\n",
       "      <td>iPSC-derived neurons</td>\n",
       "    </tr>\n",
       "    <tr>\n",
       "      <th>2</th>\n",
       "      <td>0.938826</td>\n",
       "      <td>iPSC-derived neurons</td>\n",
       "    </tr>\n",
       "    <tr>\n",
       "      <th>3</th>\n",
       "      <td>1.029404</td>\n",
       "      <td>iPSC-derived neurons</td>\n",
       "    </tr>\n",
       "    <tr>\n",
       "      <th>4</th>\n",
       "      <td>1.541195</td>\n",
       "      <td>iPSC-derived neurons</td>\n",
       "    </tr>\n",
       "  </tbody>\n",
       "</table>\n",
       "</div>"
      ],
      "text/plain": [
       "   border_strength                source\n",
       "0         2.154506  iPSC-derived neurons\n",
       "1         0.968744  iPSC-derived neurons\n",
       "2         0.938826  iPSC-derived neurons\n",
       "3         1.029404  iPSC-derived neurons\n",
       "4         1.541195  iPSC-derived neurons"
      ]
     },
     "execution_count": 98,
     "metadata": {},
     "output_type": "execute_result"
    }
   ],
   "source": [
    "data_for_test = tads_borders[['chrom', 'start', 'end', 'boundary_strength_150000', 'cluster','Group', 'source']].drop_duplicates()\n",
    "factors = {\n",
    "    'factor_pm': round(tads_borders[[\"source\", \"Group\"]].drop_duplicates().groupby('Group').size()['Post-mortem neurons']*1, 0), \n",
    "    'factor_ipsc': round(tads_borders[[\"source\", \"Group\"]].drop_duplicates().groupby('Group').size()['iPSC-derived neurons']*1, 0)\n",
    "}\n",
    "\n",
    "mu_test_results = perform_mann_whitney_test(data_for_test, factors)\n",
    "\n",
    "tad_mean_ipsc, tad_mean_pm = calculate_means(data_for_test, factors)\n",
    "df_plot = create_plot_dataframe(tad_mean_ipsc, tad_mean_pm)\n",
    "df_plot.head()"
   ]
  },
  {
   "cell_type": "code",
   "execution_count": 105,
   "id": "5b9f2b33-a187-4091-a002-2ab5ffa99971",
   "metadata": {},
   "outputs": [
    {
     "name": "stderr",
     "output_type": "stream",
     "text": [
      "WARNING:matplotlib.legend:No handles with labels found to put in legend.\n"
     ]
    },
    {
     "data": {
      "image/png": "[encoded data removed]",
      "text/plain": [
       "<Figure size 200x300 with 1 Axes>"
      ]
     },
     "metadata": {},
     "output_type": "display_data"
    },
    {
     "name": "stdout",
     "output_type": "stream",
     "text": [
      "t-statistic: 1.9238272106515013\n",
      "p-value: 0.05439717819259376\n"
     ]
    }
   ],
   "source": [
    "save_name = 'tads_border_strength_boxplot'\n",
    "save_path = f\"./tads_visualizations/{save_name}.pdf\"\n",
    "TAD_MEAN_IPSC_MEAN = [np.nanmedian(i) for i in tad_mean_ipsc]\n",
    "TAD_MEAN_PM_MEAN = [np.nanmedian(i) for i in tad_mean_pm]\n",
    "plot_tad_border_strength(df_plot, TAD_MEAN_IPSC_MEAN, TAD_MEAN_PM_MEAN, save_path)"
   ]
  },
  {
   "cell_type": "markdown",
   "id": "bcc740c0-0bd7-4fd1-95a4-01adb7c6a3b6",
   "metadata": {},
   "source": [
    "# 3. Identification of differential TAD borders"
   ]
  },
  {
   "cell_type": "markdown",
   "id": "236164ce-65c1-4196-8928-cc289a3fe7fa",
   "metadata": {},
   "source": [
    "## 3.1 Differential TAD borders"
   ]
  },
  {
   "cell_type": "code",
   "execution_count": 224,
   "id": "45e0995f-a658-4564-83c2-788b3c580f7e",
   "metadata": {},
   "outputs": [],
   "source": [
    "def process_mu_test_results(mu_test_results, tads_borders, p_value_cutoff=0.05):\n",
    "    \"\"\"\n",
    "    Processes Mann-Whitney U test results and updates TADs borders with statistical status.\n",
    "\n",
    "    Parameters:\n",
    "    mu_test_results (dict): Dictionary containing Mann-Whitney U test results.\n",
    "    tads_borders (pd.DataFrame): DataFrame containing TADs borders information.\n",
    "    p_value_cutoff (float, optional): Significance level cutoff for p-values. Default is 0.05.\n",
    "\n",
    "    Returns:\n",
    "    pd.DataFrame: Updated DataFrame with statistical status annotations.\n",
    "    \"\"\"\n",
    "\n",
    "    if not isinstance(mu_test_results, dict):\n",
    "        raise ValueError(\"mu_test_results should be a dictionary.\")\n",
    "    if not isinstance(tads_borders, pd.DataFrame):\n",
    "        raise ValueError(\"tads_borders should be a pandas DataFrame.\")\n",
    "    if not isinstance(p_value_cutoff, (float, int)) or not (0 < p_value_cutoff < 1):\n",
    "        raise ValueError(\"p_value_cutoff should be a float between 0 and 1.\")\n",
    "\n",
    "    mu_test_df = pd.DataFrame(mu_test_results).T\n",
    "\n",
    "    _, fdr_corrected = fdrcorrection(mu_test_df[\"p_value\"])\n",
    "    mu_test_df[\"q-value_mannwhitneyu-statistics\"] = fdr_corrected\n",
    "    mu_test_df.columns = ['mannwhitneyu_statistics', 'p-value_mannwhitneyu-statistics', 'q-value_mannwhitneyu-statistics']\n",
    "\n",
    "    mu_test_df.reset_index(names=['cluster'], inplace=True)\n",
    "\n",
    "    tads_borders = tads_borders.merge(mu_test_df, on='cluster', how='left')\n",
    "\n",
    "    deduplicated_clusters = tads_borders[['mannwhitneyu_statistics']].drop_duplicates().mannwhitneyu_statistics.tolist()\n",
    "    lower_quantile = np.median(deduplicated_clusters)\n",
    "    upper_quantile = np.median(deduplicated_clusters)\n",
    "    \n",
    "    down_post_mortem = tads_borders.loc[\n",
    "        (tads_borders['mannwhitneyu_statistics'] < lower_quantile) &\n",
    "        (tads_borders['q-value_mannwhitneyu-statistics'] <= p_value_cutoff)\n",
    "    ].cluster.tolist()\n",
    "\n",
    "    up_post_mortem = tads_borders.loc[\n",
    "        (tads_borders['mannwhitneyu_statistics'] > upper_quantile) &\n",
    "        (tads_borders['q-value_mannwhitneyu-statistics'] <= p_value_cutoff)\n",
    "    ].cluster.tolist()\n",
    "    tads_borders['status_by_mu'] = tads_borders['cluster'].apply(\n",
    "        lambda x: 'down_in_post_mortem' if x in down_post_mortem else\n",
    "        ('up_in_post_mortem' if x in up_post_mortem else 'not_defined')\n",
    "    )\n",
    "\n",
    "    return tads_borders, up_post_mortem, down_post_mortem\n"
   ]
  },
  {
   "cell_type": "code",
   "execution_count": 225,
   "id": "e5675b3e-e0b2-4a2f-9675-04db59968df6",
   "metadata": {},
   "outputs": [
    {
     "name": "stdout",
     "output_type": "stream",
     "text": [
      "There are 452 clusters that are down in Post-mortem\n",
      "There are 383 clusters that are up in Post-mortem\n"
     ]
    }
   ],
   "source": [
    "tads_borders, up_post_mortem, down_post_mortem = process_mu_test_results(mu_test_results, tads_borders)\n",
    "print(f'There are {len(set(down_post_mortem))} clusters that are down in Post-mortem')\n",
    "print(f'There are {len(set(up_post_mortem))} clusters that are up in Post-mortem')"
   ]
  },
  {
   "cell_type": "code",
   "execution_count": 235,
   "id": "dd1a7b83-619e-44c9-8a1f-0a6f9bb08088",
   "metadata": {},
   "outputs": [],
   "source": [
    "tads_borders[tads_borders.status_combined == 'down_in_post_mortem'][['gene_name_anno']].dropna().drop_duplicates().to_csv('./tads_borders_data/genes_in_down_in_post_mortem_tads_borders.csv', index=False)\n",
    "tads_borders[tads_borders.status_combined == 'up_in_post_mortem'][['gene_name_anno']].dropna().drop_duplicates().to_csv('./tads_borders_data/genes_in_up_in_post_mortem_tads_borders.csv', index=False)\n",
    "tads_borders[['gene_name_anno']].dropna().drop_duplicates().to_csv('./tads_borders_data/genes_in_all_presence_tads_borders.csv', index=False)\n"
   ]
  },
  {
   "cell_type": "markdown",
   "id": "d3ba7fdc-90d6-45e9-9da3-727288e59119",
   "metadata": {},
   "source": [
    "## 3.2 Missing TAD borders"
   ]
  },
  {
   "cell_type": "code",
   "execution_count": 229,
   "id": "74a30556-59e0-452e-b8b8-2976ed5518e4",
   "metadata": {},
   "outputs": [],
   "source": [
    "\n",
    "    \n",
    "def identify_differential_borders(tads_borders):\n",
    "    factor_pm_reduced = round(tads_borders[[\"source\", \"Group\"]].drop_duplicates().groupby('Group').size().get('Post-mortem neurons', 0) * 0.6)\n",
    "    factor_ipcs_reduced = round(tads_borders[[\"source\", \"Group\"]].drop_duplicates().groupby('Group').size().get('iPSC-derived neurons', 0) * 0.6)\n",
    "    \n",
    "    print(factor_ipcs_reduced, factor_pm_reduced)\n",
    "    \n",
    "    down_in_postmortem = []\n",
    "    up_in_postmortem = []\n",
    "    \n",
    "    unique_clusters = tads_borders[[\"Group\", 'source', 'cluster']].drop_duplicates()\n",
    "    cluster_counts = unique_clusters.groupby(['cluster', 'Group']).size().reset_index(name='count')\n",
    "    df_pivot = cluster_counts.pivot(index='cluster', columns='Group', values='count').fillna(0)\n",
    "    \n",
    "    df_pivot['iPSC-derived neurons'] = df_pivot.get('iPSC-derived neurons', 0)\n",
    "    df_pivot['Post-mortem neurons'] = df_pivot.get('Post-mortem neurons', 0)\n",
    "    \n",
    "    for idx, row in tqdm(df_pivot.iterrows(), total=df_pivot.shape[0]):\n",
    "        if row['Post-mortem neurons'] == 0 and row['iPSC-derived neurons'] >= factor_ipcs_reduced:\n",
    "            down_in_postmortem.append(idx)\n",
    "        elif row['iPSC-derived neurons'] == 0 and row['Post-mortem neurons'] >= factor_pm_reduced:\n",
    "            up_in_postmortem.append(idx)\n",
    "    \n",
    "    print(len(down_in_postmortem), len(up_in_postmortem))\n",
    "    def determine_status(cluster):\n",
    "        if cluster in down_in_postmortem:\n",
    "            return 'down_in_post_mortem'\n",
    "        elif cluster in up_in_postmortem:\n",
    "            return 'up_in_post_mortem'\n",
    "        else:\n",
    "            return 'not_defined'\n",
    "    tads_borders['status_by_presence'] = tads_borders['cluster'].apply(determine_status)\n",
    "    \n",
    "    conditions = [\n",
    "        (tads_borders['status_by_presence'] == \"down_in_post_mortem\") | (tads_borders['status_by_mu'] == \"down_in_post_mortem\"),\n",
    "        (tads_borders['status_by_presence'] == \"up_in_post_mortem\") | (tads_borders['status_by_mu'] == \"up_in_post_mortem\")\n",
    "    ]\n",
    "    choices = [\"down_in_post_mortem\", \"up_in_post_mortem\"]\n",
    "    tads_borders['status_combined'] = pd.Series(pd.np.select(conditions, choices, default=\"not_defined\"))\n",
    "    \n",
    "    status_combined_list = tads_borders['status_combined'].tolist()\n",
    "    tads_borders['status_combined'] = status_combined_list\n",
    "    return tads_borders"
   ]
  },
  {
   "cell_type": "code",
   "execution_count": 230,
   "id": "bb99b230-087b-4f22-8c94-084fd9411ecf",
   "metadata": {},
   "outputs": [
    {
     "name": "stdout",
     "output_type": "stream",
     "text": [
      "4 3\n"
     ]
    },
    {
     "name": "stderr",
     "output_type": "stream",
     "text": [
      "100%|█████████████████████████████████████████████████████████████████████████████████████████████████████████████████████████████| 6796/6796 [00:00<00:00, 15224.18it/s]\n"
     ]
    },
    {
     "name": "stdout",
     "output_type": "stream",
     "text": [
      "555 294\n"
     ]
    },
    {
     "name": "stderr",
     "output_type": "stream",
     "text": [
      "/tmp/ipykernel_1868967/1585351521.py:38: FutureWarning: The pandas.np module is deprecated and will be removed from pandas in a future version. Import numpy directly instead.\n",
      "  tads_borders['status_combined'] = pd.Series(pd.np.select(conditions, choices, default=\"not_defined\"))\n"
     ]
    }
   ],
   "source": [
    "tads_borders = identify_differential_borders(tads_borders)"
   ]
  },
  {
   "cell_type": "code",
   "execution_count": 231,
   "id": "c0b5fdbf-b214-428c-94c0-9d92ded52db0",
   "metadata": {},
   "outputs": [
    {
     "data": {
      "text/plain": [
       "status_combined\n",
       "down_in_post_mortem     905\n",
       "not_defined            5305\n",
       "up_in_post_mortem       586\n",
       "dtype: int64"
      ]
     },
     "execution_count": 231,
     "metadata": {},
     "output_type": "execute_result"
    }
   ],
   "source": [
    "tads_borders[['status_combined', 'cluster']].drop_duplicates().groupby('status_combined').size()"
   ]
  },
  {
   "cell_type": "markdown",
   "id": "7863dbf2-b314-4939-a70c-1c97a447b7cc",
   "metadata": {},
   "source": [
    "# 4. Intensity ratio"
   ]
  },
  {
   "cell_type": "code",
   "execution_count": 179,
   "id": "9316cbaa-be4d-484c-86de-dbe65f96c6b7",
   "metadata": {},
   "outputs": [],
   "source": [
    "def process_tads_borders(tads_borders, save_path):\n",
    "    grouped = tads_borders[['cluster', 'Group', 'boundary_strength_150000']].groupby(['cluster', 'Group']).median()\n",
    "    \n",
    "    log2FC_log2rloops = grouped.reset_index().sort_values(['cluster', 'Group'])    \n",
    "    additional_data = []\n",
    "    for cluster, group_data in log2FC_log2rloops.groupby('cluster'):\n",
    "        present_groups = group_data['Group'].values\n",
    "        for group in ['iPSC-derived neurons', \"Post-mortem neurons\"]:\n",
    "            if group not in present_groups:\n",
    "                additional_data.append({\"cluster\": cluster, \"Group\": group, \"boundary_strength_150000\": np.finfo(float).eps})\n",
    "    \n",
    "\n",
    "    additional_data_df = pd.DataFrame(additional_data)\n",
    "    log2FC_log2rloops = pd.concat([log2FC_log2rloops, additional_data_df]).sort_values(['cluster', 'Group'])\n",
    "\n",
    "    log2FC_log2rloops['ratio'] = log2FC_log2rloops.groupby('cluster')['boundary_strength_150000'].transform(\n",
    "        lambda x: x.iloc[0] / (x.iloc[1] + np.finfo(float).eps)\n",
    "    )\n",
    "    log2FC_log2rloops['log2_ratio'] = np.log2(log2FC_log2rloops['ratio'])\n",
    "\n",
    "    log2FC_log2rloops['status'] = log2FC_log2rloops.groupby('cluster')['boundary_strength_150000'].transform(\n",
    "        lambda x: 'remove' if x.iloc[0] == 0 and x.iloc[1] == 0 else 'retain'\n",
    "    )    \n",
    "\n",
    "    df_filtered2 = log2FC_log2rloops[log2FC_log2rloops['status'] == 'retain'].copy()\n",
    "    df_filtered2.replace([np.inf, -np.inf], np.nan, inplace=True)\n",
    "    df_filtered2.dropna(subset=[\"ratio\", \"log2_ratio\"], how=\"any\", inplace=True)\n",
    "\n",
    "    ratios_df_log2ratio = np.array(df_filtered2['log2_ratio'].tolist())\n",
    "    # ratios_df_log2ratio = np.clip(ratios_df_log2ratio, -3, 3)\n",
    "    ratios_df_log2ratio[ratios_df_log2ratio == -inf] = 0\n",
    "    ratios_df_log2ratio = [i for i in ratios_df_log2ratio if -3 <= i <= 3]\n",
    "\n",
    "\n",
    "\n",
    "    plot_tads_borders(ratios_df_log2ratio, save_path)\n",
    "\n",
    "def plot_tads_borders(ratios_df_log2ratio, save_path):\n",
    "    plt.figure(figsize=(4, 2))  \n",
    "    \n",
    "    data_before_0 = [i for i in ratios_df_log2ratio if i < 0]\n",
    "    data_after_0 = [i for i in ratios_df_log2ratio if i >= 0]\n",
    "\n",
    "    color_before_0 = '#469433'  # Lighter shade of 'iPSC-derived neurons'\n",
    "    color_after_0 = '#034e91'   # Lighter shade of 'Post-mortem neurons'\n",
    "\n",
    "    plt.hist(data_before_0, bins=125, color=color_before_0, edgecolor=color_before_0, alpha=0.3, label='iPSC-derived neurons')\n",
    "    plt.hist(data_after_0, bins=125, color=color_after_0, edgecolor=color_after_0, alpha=0.3, label='Post-mortem neurons')\n",
    "    plt.axvline(x=0, color='blue', linestyle='--', linewidth=0.4)\n",
    "\n",
    "    plt.xlabel('Log2 loop intensity ratio\\n(Post-mortem neurons / iPSC-derived neurons)')\n",
    "    plt.ylabel('Frequency')\n",
    "    plt.xlim(-3, 3)\n",
    "    plt.legend()\n",
    "    plt.savefig(f\"{save_path}\", bbox_inches='tight', format = \"pdf\")\n",
    "\n",
    "    plt.show()\n",
    "\n"
   ]
  },
  {
   "cell_type": "code",
   "execution_count": 180,
   "id": "a60a1c5a-c524-44bb-aef7-5bf0d5b4d28e",
   "metadata": {},
   "outputs": [
    {
     "data": {
      "image/png": "[encoded data removed]",
      "text/plain": [
       "<Figure size 400x200 with 1 Axes>"
      ]
     },
     "metadata": {},
     "output_type": "display_data"
    }
   ],
   "source": [
    "save_name = 'tads_border_histogram_ratio'\n",
    "save_path = f\"./tads_visualizations/{save_name}.pdf\"\n",
    "process_tads_borders(tads_borders, save_path)"
   ]
  },
  {
   "cell_type": "markdown",
   "id": "b5f16f32-3b2a-4df8-ad9b-c4580627e6d4",
   "metadata": {},
   "source": [
    "# 5. Spread of TAD borders strengths"
   ]
  },
  {
   "cell_type": "markdown",
   "id": "3accaaeb-54e7-4b01-8c54-7cdcd3099d11",
   "metadata": {},
   "source": [
    "## 5.1 Spread of all TAD borders strengths"
   ]
  },
  {
   "cell_type": "code",
   "execution_count": 190,
   "id": "3dcd0013-8c54-410f-83aa-d70c7ffa00f5",
   "metadata": {},
   "outputs": [],
   "source": [
    "logging.basicConfig(level=logging.INFO, format='%(asctime)s - %(levelname)s - %(message)s')\n",
    "\n",
    "def calculate_spread(data: pd.DataFrame, factors: Dict, save_path: str) -> pd.DataFrame:\n",
    "    \"\"\"\n",
    "    Calculate the spread of boundary strengths for different neuron groups.\n",
    "\n",
    "    Args:\n",
    "        data (pd.DataFrame): DataFrame containing the neuron data with columns ['chrom', 'start', 'end',\n",
    "                         'boundary_strength_150000', 'source', 'Group', 'cluster'].\n",
    "        factor_pm (int): Padding factor for Post-mortem neurons.\n",
    "        factor_ipsc (int): Padding factor for iPSC-derived neurons.\n",
    "\n",
    "    Returns:\n",
    "        pd.DataFrame: DataFrame containing the spread of boundary strengths for each cluster.\n",
    "    \"\"\"\n",
    "    try:\n",
    "        factor_pm = factors['factor_pm']\n",
    "        factor_ipsc = factors['factor_ipsc']\n",
    "        postmortem_spread, ipsc_spread = [], []\n",
    "\n",
    "        data = data.drop_duplicates(subset=['chrom', 'start', 'end', 'boundary_strength_150000', 'source', 'Group', 'cluster'])\n",
    "\n",
    "        for cluster in data['cluster'].unique():\n",
    "            data_cluster = data[data['cluster'] == cluster]\n",
    "            \n",
    "            data_ipsc = data_cluster[data_cluster['Group'] == 'iPSC-derived neurons']['boundary_strength_150000'].tolist()\n",
    "            data_pm = data_cluster[data_cluster['Group'] == 'Post-mortem neurons']['boundary_strength_150000'].tolist()\n",
    "            \n",
    "            data_pm_new = [0] * max(0, factor_pm - len(data_pm)) + data_pm\n",
    "            data_ipsc_new = [0] * max(0, factor_ipsc - len(data_ipsc)) + data_ipsc\n",
    "            \n",
    "            if len(data_pm_new) != factor_pm or len(data_ipsc_new) != factor_ipsc:\n",
    "                logging.warning(f\"Cluster {cluster}: Length mismatch after padding.\")\n",
    "            \n",
    "            postmortem_spread.append(np.std(data_pm_new))\n",
    "            ipsc_spread.append(np.std(data_ipsc_new))\n",
    "\n",
    "        spread_df = pd.DataFrame({\n",
    "            'Post-mortem neurons': postmortem_spread,\n",
    "            'iPSC-derived neurons': ipsc_spread,\n",
    "            'cluster': data['cluster'].unique()\n",
    "        }).reset_index()\n",
    "\n",
    "        melted_df = spread_df.melt(\n",
    "            id_vars=['index', 'cluster'],\n",
    "            value_vars=['Post-mortem neurons', 'iPSC-derived neurons'],\n",
    "            var_name='sample_type',\n",
    "            value_name='spread'\n",
    "        )\n",
    "\n",
    "        logging.info(\"Spread calculation completed successfully.\")\n",
    "        plot_std(melted_df, save_path)\n",
    "\n",
    "    except Exception as e:\n",
    "        logging.error(f\"An error occurred during spread calculation: {e}\")\n",
    "        raise\n",
    "\n",
    "def plot_std(melted_df, save_path):\n",
    "    plt.figure(figsize=(2, 3))\n",
    "    order = ['Post-mortem neurons', 'iPSC-derived neurons'] \n",
    "    \n",
    "    ax = sns.boxplot(x='sample_type', y='spread', width=0.4, data=melted_df,\n",
    "                     showmeans=True,\n",
    "                     hue = 'sample_type',\n",
    "                     order = order,\n",
    "                     boxprops=dict(linewidth=0.4),\n",
    "                     whiskerprops=dict(linewidth=0.4),\n",
    "                     capprops=dict(linewidth=0.4),\n",
    "                     medianprops=dict(linewidth=0.4),\n",
    "                     palette = palette,\n",
    "                     meanprops={\"marker\": \"o\",\n",
    "                                \"markeredgecolor\": \"white\",\n",
    "                                \"markerfacecolor\": \"white\",\n",
    "                                \"markersize\": \"3\"},\n",
    "                     showfliers=False)\n",
    "    plt.title('Spread of TAD Border Strength Values')\n",
    "    plt.xlabel('Group')\n",
    "    plt.ylabel('Spread (Standard Deviation)')\n",
    "    plt.legend(bbox_to_anchor=(1.3, 1.05))\n",
    "    plt.savefig(save_path, bbox_inches='tight', format = \"pdf\")\n",
    "    plt.show()"
   ]
  },
  {
   "cell_type": "code",
   "execution_count": 191,
   "id": "605b6654-13e7-4516-be14-5a5ac6ea1081",
   "metadata": {},
   "outputs": [
    {
     "name": "stderr",
     "output_type": "stream",
     "text": [
      "INFO:root:Spread calculation completed successfully.\n"
     ]
    },
    {
     "data": {
      "image/png": "[encoded data removed]",
      "text/plain": [
       "<Figure size 200x300 with 1 Axes>"
      ]
     },
     "metadata": {},
     "output_type": "display_data"
    }
   ],
   "source": [
    "save_name = 'spread_of_tad_borders_strengthes'\n",
    "save_path = f\"./tads_visualizations/{save_name}.pdf\"\n",
    "calculate_spread(data_for_test, factors, save_path)"
   ]
  },
  {
   "cell_type": "markdown",
   "id": "8bf4cf1e-b061-4c50-bb3a-383eca6e2fd1",
   "metadata": {},
   "source": [
    "## 5.2 Spread of the selected TAD borders strengths"
   ]
  },
  {
   "cell_type": "code",
   "execution_count": 212,
   "id": "b52be9df-261a-4bc7-b5e3-e650f886a08c",
   "metadata": {},
   "outputs": [],
   "source": [
    "def generate_tad_borders_plot(tads_borders, factors, palette, save_dir='./tads_visualizations/', save_name='CSMD2_spread_tad_borders_strength'):\n",
    "    \"\"\"\n",
    "    Generates and saves a plot of TAD border strengths for iPSC-derived and post-mortem neurons.\n",
    "    \n",
    "    :param tads_borders: DataFrame containing TAD border information.\n",
    "    :param factors: Dictionary with factors for padding lists.\n",
    "    :param palette: Color palette for plotting.\n",
    "    :param save_dir: Directory to save the plot.\n",
    "    :param save_name: Name of the file to save the plot.\n",
    "    \"\"\"\n",
    "    \n",
    "    try:\n",
    "        postmortem_data = tads_borders[tads_borders['Group'] == 'Post-mortem neurons']\n",
    "        ipsc_data = tads_borders[tads_borders['Group'] == 'iPSC-derived neurons']\n",
    "\n",
    "        postmortem_spread = postmortem_data.groupby('cluster')['boundary_strength_150000'].std()\n",
    "        ipsc_spread = ipsc_data.groupby('cluster')['boundary_strength_150000'].std()\n",
    "\n",
    "        postmortem_data_CSMD2 = postmortem_data[postmortem_data.gene_name_promoter == \"CSMD2\"][['source', 'boundary_strength_150000']].drop_duplicates().boundary_strength_150000.tolist()\n",
    "        ipsc_data_CSMD2 = ipsc_data[ipsc_data.gene_name_promoter == \"CSMD2\"][['source', 'boundary_strength_150000']].drop_duplicates().boundary_strength_150000.tolist()\n",
    "\n",
    "      \n",
    "        ipsc_data_CSMD2.extend([0] * (factors.get(\"factor_ipsc\", 0) - len(ipsc_data_CSMD2)))\n",
    "        postmortem_data_CSMD2.extend([0] * (factors.get(\"factor_pm\", 0) - len(postmortem_data_CSMD2)))\n",
    "\n",
    "        \n",
    "        df_plot = pd.DataFrame()\n",
    "        for sel_list, name in zip([ipsc_data_CSMD2, postmortem_data_CSMD2], [\"iPSC-derived neurons\", 'Post-mortem neurons']):\n",
    "            df = pd.DataFrame(sel_list, columns=[\"border_strength\"])\n",
    "            df['source'] = name\n",
    "            df_plot = pd.concat([df_plot, df])\n",
    "        plt.figure(figsize=(2, 3))\n",
    "        ax = sns.boxplot(data=df_plot, x=\"source\", y=\"border_strength\",\n",
    "                         hue='source', whiskerprops=dict(linewidth=0.4),\n",
    "                         capprops=dict(linewidth=0.4), medianprops=dict(linewidth=0.4),\n",
    "                         palette=palette, width=0.3,\n",
    "                         boxprops={'alpha': 0.4})\n",
    "        sns.stripplot(data=df_plot, x=\"source\", y=\"border_strength\",\n",
    "                      hue='source', palette=palette, dodge=True, ax=ax)\n",
    "        handles, labels = ax.get_legend_handles_labels()\n",
    "        plt.legend(bbox_to_anchor=(1.3, 1.05))\n",
    "\n",
    "        plt.savefig(f\"{save_dir}{save_name}.pdf\", bbox_inches='tight', format=\"pdf\")\n",
    "        plt.show()\n",
    "        \n",
    "    except Exception as e:\n",
    "        print(f\"An error occurred: {e}\")\n"
   ]
  },
  {
   "cell_type": "code",
   "execution_count": 213,
   "id": "0ce529f3-d608-457b-aec9-6dffa3a36331",
   "metadata": {},
   "outputs": [
    {
     "data": {
      "image/png": "[encoded data removed]",
      "text/plain": [
       "<Figure size 200x300 with 1 Axes>"
      ]
     },
     "metadata": {},
     "output_type": "display_data"
    }
   ],
   "source": [
    "generate_tad_borders_plot(tads_borders, factors, palette)"
   ]
  },
  {
   "cell_type": "markdown",
   "id": "1d4a9dad-8dff-484f-b7cd-c1bbaf6b3711",
   "metadata": {},
   "source": [
    "# 6. Save resulted dataframe"
   ]
  },
  {
   "cell_type": "code",
   "execution_count": 233,
   "id": "86567111-06fa-4089-86c1-abbf50a7d29e",
   "metadata": {},
   "outputs": [],
   "source": [
    "save_name = \"post_mortem_vs_iPSC_derived\"\n",
    "tads_borders.to_pickle(f\"./tads_borders_data/{save_name}_tads_borders_properties.pickle\")"
   ]
  },
  {
   "cell_type": "code",
   "execution_count": null,
   "id": "51ea7681-4705-43ec-8f39-39c83cae04f8",
   "metadata": {},
   "outputs": [],
   "source": []
  }
 ],
 "metadata": {
  "kernelspec": {
   "display_name": "Python 3 (ipykernel)",
   "language": "python",
   "name": "python3"
  },
  "language_info": {
   "codemirror_mode": {
    "name": "ipython",
    "version": 3
   },
   "file_extension": ".py",
   "mimetype": "text/x-python",
   "name": "python",
   "nbconvert_exporter": "python",
   "pygments_lexer": "ipython3",
   "version": "3.9.12"
  }
 },
 "nbformat": 4,
 "nbformat_minor": 5
}
